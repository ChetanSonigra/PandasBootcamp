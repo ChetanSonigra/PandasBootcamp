{
 "cells": [
  {
   "cell_type": "markdown",
   "id": "f9669d8c",
   "metadata": {},
   "source": [
    "### This notebook covers:\n",
    "* datetime foundation in python and numpy\n",
    "* pandas TimeStamp and DatetimeIndex\n",
    "* up and down sampling with resample() and asfreq()\n",
    "* interpolation and aggregation\n",
    "* rolling windows and moving averages"
   ]
  },
  {
   "cell_type": "markdown",
   "id": "0829c3c1",
   "metadata": {},
   "source": [
    "### Revision:\n",
    "* Introduction to date, time and datetime class of datetime module\n",
    "* Parsing string to get date object:\n",
    "    - datetime.strptime(string, format)\n",
    "    - dateutil.parser.parse(string)\n",
    "* Getting a string from date:\n",
    "    - dt.strftime(format)\n",
    "* Performant datetime with numpy:\n",
    "    - np.datetime64('2020-03-21')\n",
    "    - np.datetime64('2020-03-21', 'D') + 10\n",
    "    - np.busday_offset(dates, offsets=-10, roll='backward')\n",
    "* Pandas Timestamp:\n",
    "    - pd.Timestamp('2020-03-21')\n",
    "    - pd.Timestamp('4/7/2023')\n",
    "    - pd.to_datetime('4/7/2023', dayfirst=True)\n",
    "    - pdt.quarter, pdt.days_in_month, pdt.month, pdt.day_name()\n",
    "* pd.read_csv(url, parse_dates=True)  - for identifying dates column as date object\n",
    "* Indexing: \n",
    "    - oil.loc['2019-07':'2019-08-15']\n",
    "    - oil.loc['2019-09']\n",
    "    - oil.loc['2020-04-21']\n",
    "* DateTimeIndex attributes:\n",
    "    - index.isocalendar().week\n",
    "    - index.month, index.quarter, index.day\n",
    "    - index.day_name()\n",
    "    - index.is_leap_year\n",
    "* Creating date ranges:\n",
    "    - pd.date_range(start='5/21/2020', end='6/21/2020')\n",
    "    - pd.date_range(start='5/21/2020', periods=10, freq='2W')\n",
    "* DateOffset and Timedelta:\n",
    "    - pdt + pd.DateOffset(days=3, minutes=30, nanoseconds=2200)\n",
    "    - pdt - pd.Timedelta(days=3, minutes=30)\n",
    "    - DateOffset is calendar aware about Daylight saving time\n",
    "* resampling() and interpolate():\n",
    "    - Downsampling: from more date points to less data points\n",
    "        - df.resample('M').agg(['mean','std'])\n",
    "        - df.resample('Y').mean()\n",
    "    - Upsampling: from less data points to more data points\n",
    "        - df.resample('8H').mean().interpolate(method='linear')\n",
    "* asfreq():\n",
    "    - df.asfreq('10D', method='ffill')\n",
    "    - df.asfreq('M', fill_value=12)\n",
    "* rolling():\n",
    "    - df.rolling(50, win_type='blackman')"
   ]
  },
  {
   "cell_type": "code",
   "execution_count": 97,
   "id": "7dfae774",
   "metadata": {},
   "outputs": [
    {
     "data": {
      "text/plain": [
       "'1.4.2'"
      ]
     },
     "execution_count": 97,
     "metadata": {},
     "output_type": "execute_result"
    }
   ],
   "source": [
    "import pandas as pd\n",
    "import numpy as np\n",
    "pd.__version__"
   ]
  },
  {
   "cell_type": "markdown",
   "id": "643c5e84",
   "metadata": {},
   "source": [
    "### Python datetime module"
   ]
  },
  {
   "cell_type": "code",
   "execution_count": 98,
   "id": "c07a9e20",
   "metadata": {},
   "outputs": [],
   "source": [
    "# agenda:\n",
    "# - what and why of datetime module\n",
    "# - date class\n",
    "# - time class\n",
    "# - datetime class"
   ]
  },
  {
   "cell_type": "code",
   "execution_count": 99,
   "id": "e48cb31d",
   "metadata": {},
   "outputs": [],
   "source": [
    "from datetime import date, time, datetime"
   ]
  },
  {
   "cell_type": "code",
   "execution_count": 100,
   "id": "c190eb5f",
   "metadata": {},
   "outputs": [],
   "source": [
    "a_date = date(2019, 2, 24)"
   ]
  },
  {
   "cell_type": "code",
   "execution_count": 101,
   "id": "39acf6af",
   "metadata": {},
   "outputs": [
    {
     "data": {
      "text/plain": [
       "datetime.date(2019, 2, 24)"
      ]
     },
     "execution_count": 101,
     "metadata": {},
     "output_type": "execute_result"
    }
   ],
   "source": [
    "a_date"
   ]
  },
  {
   "cell_type": "code",
   "execution_count": 102,
   "id": "15950a67",
   "metadata": {},
   "outputs": [],
   "source": [
    "# to easily manipulate dates, date/time/datetime objects are used instead of string."
   ]
  },
  {
   "cell_type": "code",
   "execution_count": 103,
   "id": "c1f3c522",
   "metadata": {},
   "outputs": [
    {
     "data": {
      "text/plain": [
       "(24, 2, 2019)"
      ]
     },
     "execution_count": 103,
     "metadata": {},
     "output_type": "execute_result"
    }
   ],
   "source": [
    "a_date.day, a_date.month, a_date.year"
   ]
  },
  {
   "cell_type": "code",
   "execution_count": 104,
   "id": "674ad4f4",
   "metadata": {},
   "outputs": [],
   "source": [
    "a_time = time(15, 30)"
   ]
  },
  {
   "cell_type": "code",
   "execution_count": 105,
   "id": "b8331318",
   "metadata": {},
   "outputs": [
    {
     "data": {
      "text/plain": [
       "datetime.time(15, 30)"
      ]
     },
     "execution_count": 105,
     "metadata": {},
     "output_type": "execute_result"
    }
   ],
   "source": [
    "a_time"
   ]
  },
  {
   "cell_type": "code",
   "execution_count": 106,
   "id": "13b819ee",
   "metadata": {},
   "outputs": [
    {
     "data": {
      "text/plain": [
       "(15, 0, 30, 0)"
      ]
     },
     "execution_count": 106,
     "metadata": {},
     "output_type": "execute_result"
    }
   ],
   "source": [
    "a_time.hour, a_time.second, a_time.minute, a_time.microsecond"
   ]
  },
  {
   "cell_type": "code",
   "execution_count": 107,
   "id": "ccae26d4",
   "metadata": {},
   "outputs": [],
   "source": [
    "a_datetime = datetime(2024, 10, 20, 15, 20, 30)"
   ]
  },
  {
   "cell_type": "code",
   "execution_count": 108,
   "id": "25b8973b",
   "metadata": {},
   "outputs": [
    {
     "data": {
      "text/plain": [
       "datetime.datetime(2024, 10, 20, 15, 20, 30)"
      ]
     },
     "execution_count": 108,
     "metadata": {},
     "output_type": "execute_result"
    }
   ],
   "source": [
    "a_datetime"
   ]
  },
  {
   "cell_type": "code",
   "execution_count": 109,
   "id": "693fdc7a",
   "metadata": {},
   "outputs": [
    {
     "data": {
      "text/plain": [
       "(20, 10, 2024, 15, 20, 30)"
      ]
     },
     "execution_count": 109,
     "metadata": {},
     "output_type": "execute_result"
    }
   ],
   "source": [
    "a_datetime.day, a_datetime.month, a_datetime.year, a_datetime.hour, a_datetime.minute, a_datetime.second"
   ]
  },
  {
   "cell_type": "code",
   "execution_count": 110,
   "id": "321ec21b",
   "metadata": {},
   "outputs": [
    {
     "data": {
      "text/plain": [
       "datetime.datetime(2024, 8, 26, 3, 30, 8, 587824)"
      ]
     },
     "execution_count": 110,
     "metadata": {},
     "output_type": "execute_result"
    }
   ],
   "source": [
    "datetime.now()"
   ]
  },
  {
   "cell_type": "code",
   "execution_count": 111,
   "id": "697f119a",
   "metadata": {},
   "outputs": [
    {
     "data": {
      "text/plain": [
       "datetime.date(2024, 8, 26)"
      ]
     },
     "execution_count": 111,
     "metadata": {},
     "output_type": "execute_result"
    }
   ],
   "source": [
    "date.today()"
   ]
  },
  {
   "cell_type": "code",
   "execution_count": 112,
   "id": "9d8dc7d7",
   "metadata": {},
   "outputs": [
    {
     "name": "stdout",
     "output_type": "stream",
     "text": [
      "2024-10-20 15:20:30\n"
     ]
    }
   ],
   "source": [
    "print(a_datetime)"
   ]
  },
  {
   "cell_type": "markdown",
   "id": "d04d252b",
   "metadata": {},
   "source": [
    "### Parsing dates from text"
   ]
  },
  {
   "cell_type": "code",
   "execution_count": 113,
   "id": "0ce9f8e4",
   "metadata": {},
   "outputs": [],
   "source": [
    "# strptime --> string parse time"
   ]
  },
  {
   "cell_type": "code",
   "execution_count": 114,
   "id": "651b4624",
   "metadata": {},
   "outputs": [],
   "source": [
    "dt_n = datetime.strptime('2019-31-10', '%Y-%d-%m')"
   ]
  },
  {
   "cell_type": "code",
   "execution_count": 115,
   "id": "edca1bb5",
   "metadata": {},
   "outputs": [
    {
     "data": {
      "text/plain": [
       "datetime.datetime(2019, 10, 31, 0, 0)"
      ]
     },
     "execution_count": 115,
     "metadata": {},
     "output_type": "execute_result"
    }
   ],
   "source": [
    "dt_n"
   ]
  },
  {
   "cell_type": "code",
   "execution_count": 116,
   "id": "02999abd",
   "metadata": {},
   "outputs": [
    {
     "data": {
      "text/plain": [
       "'2019-10-31T00:00:00'"
      ]
     },
     "execution_count": 116,
     "metadata": {},
     "output_type": "execute_result"
    }
   ],
   "source": [
    "dt_n.isoformat()"
   ]
  },
  {
   "cell_type": "code",
   "execution_count": 117,
   "id": "c8f011b8",
   "metadata": {},
   "outputs": [
    {
     "data": {
      "text/plain": [
       "datetime.datetime(2090, 1, 20, 16, 0)"
      ]
     },
     "execution_count": 117,
     "metadata": {},
     "output_type": "execute_result"
    }
   ],
   "source": [
    "# january 20 2090 4pm\n",
    "datetime.strptime('January 20 2090 4pm', '%B %d %Y %I%p')"
   ]
  },
  {
   "cell_type": "markdown",
   "id": "be67ffc8",
   "metadata": {},
   "source": [
    "### dateutil"
   ]
  },
  {
   "cell_type": "code",
   "execution_count": 118,
   "id": "1742a743",
   "metadata": {},
   "outputs": [
    {
     "name": "stdout",
     "output_type": "stream",
     "text": [
      "Name: python-dateutil\n",
      "Version: 2.8.2\n",
      "Summary: Extensions to the standard Python datetime module\n",
      "Home-page: https://github.com/dateutil/dateutil\n",
      "Author: Gustavo Niemeyer\n",
      "Author-email: gustavo@niemeyer.net\n",
      "License: Dual License\n",
      "Location: c:\\users\\sonig\\anaconda3\\lib\\site-packages\n",
      "Requires: six\n",
      "Required-by: pandas, matplotlib, jupyter-client, datashape, conda-repo-cli, botocore, arrow, anaconda-client\n"
     ]
    }
   ],
   "source": [
    "!pip show python-dateutil"
   ]
  },
  {
   "cell_type": "code",
   "execution_count": 119,
   "id": "8e9ae5a3",
   "metadata": {},
   "outputs": [],
   "source": [
    "from dateutil import parser"
   ]
  },
  {
   "cell_type": "code",
   "execution_count": 120,
   "id": "4ee218d6",
   "metadata": {},
   "outputs": [
    {
     "data": {
      "text/plain": [
       "datetime.datetime(2019, 1, 21, 0, 0)"
      ]
     },
     "execution_count": 120,
     "metadata": {},
     "output_type": "execute_result"
    }
   ],
   "source": [
    "parser.parse('Jan 21st 2019')"
   ]
  },
  {
   "cell_type": "code",
   "execution_count": 121,
   "id": "b93e5080",
   "metadata": {},
   "outputs": [
    {
     "data": {
      "text/plain": [
       "datetime.datetime(2058, 4, 17, 16, 20, 17)"
      ]
     },
     "execution_count": 121,
     "metadata": {},
     "output_type": "execute_result"
    }
   ],
   "source": [
    "parser.parse('17 April, 2058 4pm 20 minutes 17')"
   ]
  },
  {
   "cell_type": "markdown",
   "id": "1b258cdf",
   "metadata": {},
   "source": [
    "### From datetime to String"
   ]
  },
  {
   "cell_type": "code",
   "execution_count": 122,
   "id": "cdc878d1",
   "metadata": {},
   "outputs": [],
   "source": [
    "# strftime"
   ]
  },
  {
   "cell_type": "code",
   "execution_count": 123,
   "id": "b1169fb4",
   "metadata": {},
   "outputs": [
    {
     "data": {
      "text/plain": [
       "datetime.datetime(2024, 8, 26, 3, 30, 13, 876818)"
      ]
     },
     "execution_count": 123,
     "metadata": {},
     "output_type": "execute_result"
    }
   ],
   "source": [
    "dt = datetime.now()\n",
    "dt"
   ]
  },
  {
   "cell_type": "code",
   "execution_count": 124,
   "id": "85f3c0fb",
   "metadata": {},
   "outputs": [
    {
     "data": {
      "text/plain": [
       "'2024'"
      ]
     },
     "execution_count": 124,
     "metadata": {},
     "output_type": "execute_result"
    }
   ],
   "source": [
    "dt.strftime('%Y')"
   ]
  },
  {
   "cell_type": "code",
   "execution_count": 125,
   "id": "13421153",
   "metadata": {},
   "outputs": [
    {
     "data": {
      "text/plain": [
       "'Year: 2024; Month: 08; Day: 26'"
      ]
     },
     "execution_count": 125,
     "metadata": {},
     "output_type": "execute_result"
    }
   ],
   "source": [
    "dt.strftime('Year: %Y; Month: %m; Day: %d')"
   ]
  },
  {
   "cell_type": "code",
   "execution_count": 126,
   "id": "99ea6fad",
   "metadata": {},
   "outputs": [
    {
     "data": {
      "text/plain": [
       "'Mon Aug 26 03:30:13 2024'"
      ]
     },
     "execution_count": 126,
     "metadata": {},
     "output_type": "execute_result"
    }
   ],
   "source": [
    "dt.strftime('%c')"
   ]
  },
  {
   "cell_type": "code",
   "execution_count": 127,
   "id": "fc5d2d04",
   "metadata": {},
   "outputs": [
    {
     "data": {
      "text/plain": [
       "'My date is Mon Aug 26 03:30:13 2024'"
      ]
     },
     "execution_count": 127,
     "metadata": {},
     "output_type": "execute_result"
    }
   ],
   "source": [
    "'My date is {:%c}'.format(dt)"
   ]
  },
  {
   "cell_type": "markdown",
   "id": "1f1b30f1",
   "metadata": {},
   "source": [
    "### Performant datetime with numpy"
   ]
  },
  {
   "cell_type": "code",
   "execution_count": 128,
   "id": "eb698145",
   "metadata": {},
   "outputs": [
    {
     "data": {
      "text/plain": [
       "numpy.datetime64('2020-02-13')"
      ]
     },
     "execution_count": 128,
     "metadata": {},
     "output_type": "execute_result"
    }
   ],
   "source": [
    "np.datetime64('2020-02-13')"
   ]
  },
  {
   "cell_type": "code",
   "execution_count": 129,
   "id": "f2281d18",
   "metadata": {},
   "outputs": [
    {
     "data": {
      "text/plain": [
       "numpy.datetime64('2020-02-23')"
      ]
     },
     "execution_count": 129,
     "metadata": {},
     "output_type": "execute_result"
    }
   ],
   "source": [
    "n = np.datetime64('2020-02-13')\n",
    "n+10   # adds to date"
   ]
  },
  {
   "cell_type": "code",
   "execution_count": 130,
   "id": "52af096b",
   "metadata": {},
   "outputs": [
    {
     "data": {
      "text/plain": [
       "numpy.datetime64('2024-08-26T03:30:14.017778')"
      ]
     },
     "execution_count": 130,
     "metadata": {},
     "output_type": "execute_result"
    }
   ],
   "source": [
    "b = np.datetime64(datetime.now())\n",
    "b+10"
   ]
  },
  {
   "cell_type": "code",
   "execution_count": 131,
   "id": "20ea631e",
   "metadata": {},
   "outputs": [
    {
     "data": {
      "text/plain": [
       "numpy.datetime64('2024-08-26T03:30:14.017788')"
      ]
     },
     "execution_count": 131,
     "metadata": {},
     "output_type": "execute_result"
    }
   ],
   "source": [
    "b+20   # adds to microsecond"
   ]
  },
  {
   "cell_type": "code",
   "execution_count": 132,
   "id": "77c3c6e1",
   "metadata": {},
   "outputs": [
    {
     "data": {
      "text/plain": [
       "numpy.datetime64('2024-09-05')"
      ]
     },
     "execution_count": 132,
     "metadata": {},
     "output_type": "execute_result"
    }
   ],
   "source": [
    "np.datetime64(b,'D') + 10"
   ]
  },
  {
   "cell_type": "code",
   "execution_count": 133,
   "id": "d6009d33",
   "metadata": {},
   "outputs": [],
   "source": [
    "# Efficient vectorized operations on collection of dates"
   ]
  },
  {
   "cell_type": "code",
   "execution_count": 134,
   "id": "1b6956d4",
   "metadata": {},
   "outputs": [],
   "source": [
    "dates = np.array(['2024-02-25',\n",
    "         '2024-04-30',\n",
    "         '2024-06-15'],dtype=np.datetime64)"
   ]
  },
  {
   "cell_type": "code",
   "execution_count": 135,
   "id": "3fdf03ff",
   "metadata": {},
   "outputs": [
    {
     "data": {
      "text/plain": [
       "array(['2024-02-25', '2024-04-30', '2024-06-15'], dtype='datetime64[D]')"
      ]
     },
     "execution_count": 135,
     "metadata": {},
     "output_type": "execute_result"
    }
   ],
   "source": [
    "dates"
   ]
  },
  {
   "cell_type": "code",
   "execution_count": 136,
   "id": "88bb15c1",
   "metadata": {},
   "outputs": [
    {
     "data": {
      "text/plain": [
       "array(['2024-02-15', '2024-04-20', '2024-06-05'], dtype='datetime64[D]')"
      ]
     },
     "execution_count": 136,
     "metadata": {},
     "output_type": "execute_result"
    }
   ],
   "source": [
    "dates-10"
   ]
  },
  {
   "cell_type": "code",
   "execution_count": 137,
   "id": "38a90cb0",
   "metadata": {},
   "outputs": [
    {
     "data": {
      "text/plain": [
       "array(['2024-02-09', '2024-04-16', '2024-05-31'], dtype='datetime64[D]')"
      ]
     },
     "execution_count": 137,
     "metadata": {},
     "output_type": "execute_result"
    }
   ],
   "source": [
    "np.busday_offset(dates, offsets=-10, roll='backward')  # if final date falls on weekend, you want to show backward/forward date"
   ]
  },
  {
   "cell_type": "markdown",
   "id": "bf0e0041",
   "metadata": {},
   "source": [
    "### The pandas TimeStamp"
   ]
  },
  {
   "cell_type": "code",
   "execution_count": 138,
   "id": "20d291a8",
   "metadata": {},
   "outputs": [],
   "source": [
    "# pandas timestamp = python datetime + np datetime64"
   ]
  },
  {
   "cell_type": "code",
   "execution_count": 139,
   "id": "a1dcfc85",
   "metadata": {},
   "outputs": [
    {
     "data": {
      "text/plain": [
       "Timestamp('1776-07-04 00:00:00')"
      ]
     },
     "execution_count": 139,
     "metadata": {},
     "output_type": "execute_result"
    }
   ],
   "source": [
    "pd.Timestamp('4th July, 1776')"
   ]
  },
  {
   "cell_type": "code",
   "execution_count": 140,
   "id": "7af46117",
   "metadata": {},
   "outputs": [
    {
     "data": {
      "text/plain": [
       "Timestamp('2021-03-31 00:00:00')"
      ]
     },
     "execution_count": 140,
     "metadata": {},
     "output_type": "execute_result"
    }
   ],
   "source": [
    "pd.Timestamp('03-31-2021')"
   ]
  },
  {
   "cell_type": "code",
   "execution_count": 141,
   "id": "e204801b",
   "metadata": {},
   "outputs": [
    {
     "data": {
      "text/plain": [
       "Timestamp('2020-04-21 00:00:00')"
      ]
     },
     "execution_count": 141,
     "metadata": {},
     "output_type": "execute_result"
    }
   ],
   "source": [
    "pd.Timestamp('21/4/2020')"
   ]
  },
  {
   "cell_type": "code",
   "execution_count": 142,
   "id": "f26768ef",
   "metadata": {},
   "outputs": [
    {
     "data": {
      "text/plain": [
       "(Timestamp('2020-07-04 00:00:00'), Timestamp('2020-04-07 00:00:00'))"
      ]
     },
     "execution_count": 142,
     "metadata": {},
     "output_type": "execute_result"
    }
   ],
   "source": [
    "pd.to_datetime('4/7/2020', dayfirst=True), pd.Timestamp('4/7/2020')"
   ]
  },
  {
   "cell_type": "code",
   "execution_count": 143,
   "id": "83355f59",
   "metadata": {},
   "outputs": [
    {
     "data": {
      "text/plain": [
       "'Saturday'"
      ]
     },
     "execution_count": 143,
     "metadata": {},
     "output_type": "execute_result"
    }
   ],
   "source": [
    "pdt = pd.to_datetime('4/7/2020', dayfirst=True)\n",
    "pdt.day_name()"
   ]
  },
  {
   "cell_type": "code",
   "execution_count": 144,
   "id": "aeeea083",
   "metadata": {},
   "outputs": [
    {
     "data": {
      "text/plain": [
       "31"
      ]
     },
     "execution_count": 144,
     "metadata": {},
     "output_type": "execute_result"
    }
   ],
   "source": [
    "pdt.days_in_month"
   ]
  },
  {
   "cell_type": "code",
   "execution_count": 145,
   "id": "7d71449e",
   "metadata": {},
   "outputs": [
    {
     "data": {
      "text/plain": [
       "3"
      ]
     },
     "execution_count": 145,
     "metadata": {},
     "output_type": "execute_result"
    }
   ],
   "source": [
    "pdt.quarter"
   ]
  },
  {
   "cell_type": "markdown",
   "id": "cdb9b609",
   "metadata": {},
   "source": [
    "### Our Dataset: Brent prices"
   ]
  },
  {
   "cell_type": "code",
   "execution_count": 146,
   "id": "e849fef7",
   "metadata": {},
   "outputs": [],
   "source": [
    "oil_url = 'https://andybek.com/pandas-oil'"
   ]
  },
  {
   "cell_type": "code",
   "execution_count": 147,
   "id": "cbc630cc",
   "metadata": {},
   "outputs": [],
   "source": [
    "oil = pd.read_csv(oil_url)"
   ]
  },
  {
   "cell_type": "code",
   "execution_count": 148,
   "id": "e86fce83",
   "metadata": {},
   "outputs": [
    {
     "data": {
      "text/html": [
       "<div>\n",
       "<style scoped>\n",
       "    .dataframe tbody tr th:only-of-type {\n",
       "        vertical-align: middle;\n",
       "    }\n",
       "\n",
       "    .dataframe tbody tr th {\n",
       "        vertical-align: top;\n",
       "    }\n",
       "\n",
       "    .dataframe thead th {\n",
       "        text-align: right;\n",
       "    }\n",
       "</style>\n",
       "<table border=\"1\" class=\"dataframe\">\n",
       "  <thead>\n",
       "    <tr style=\"text-align: right;\">\n",
       "      <th></th>\n",
       "      <th>Date</th>\n",
       "      <th>Price</th>\n",
       "    </tr>\n",
       "  </thead>\n",
       "  <tbody>\n",
       "    <tr>\n",
       "      <th>0</th>\n",
       "      <td>04-Jan-00</td>\n",
       "      <td>23.95</td>\n",
       "    </tr>\n",
       "    <tr>\n",
       "      <th>1</th>\n",
       "      <td>05-Jan-00</td>\n",
       "      <td>23.72</td>\n",
       "    </tr>\n",
       "    <tr>\n",
       "      <th>2</th>\n",
       "      <td>06-Jan-00</td>\n",
       "      <td>23.55</td>\n",
       "    </tr>\n",
       "    <tr>\n",
       "      <th>3</th>\n",
       "      <td>07-Jan-00</td>\n",
       "      <td>23.35</td>\n",
       "    </tr>\n",
       "    <tr>\n",
       "      <th>4</th>\n",
       "      <td>10-Jan-00</td>\n",
       "      <td>22.77</td>\n",
       "    </tr>\n",
       "    <tr>\n",
       "      <th>...</th>\n",
       "      <td>...</td>\n",
       "      <td>...</td>\n",
       "    </tr>\n",
       "    <tr>\n",
       "      <th>5011</th>\n",
       "      <td>24-Sep-19</td>\n",
       "      <td>64.13</td>\n",
       "    </tr>\n",
       "    <tr>\n",
       "      <th>5012</th>\n",
       "      <td>25-Sep-19</td>\n",
       "      <td>62.41</td>\n",
       "    </tr>\n",
       "    <tr>\n",
       "      <th>5013</th>\n",
       "      <td>26-Sep-19</td>\n",
       "      <td>62.08</td>\n",
       "    </tr>\n",
       "    <tr>\n",
       "      <th>5014</th>\n",
       "      <td>27-Sep-19</td>\n",
       "      <td>62.48</td>\n",
       "    </tr>\n",
       "    <tr>\n",
       "      <th>5015</th>\n",
       "      <td>30-Sep-19</td>\n",
       "      <td>60.99</td>\n",
       "    </tr>\n",
       "  </tbody>\n",
       "</table>\n",
       "<p>5016 rows × 2 columns</p>\n",
       "</div>"
      ],
      "text/plain": [
       "           Date  Price\n",
       "0     04-Jan-00  23.95\n",
       "1     05-Jan-00  23.72\n",
       "2     06-Jan-00  23.55\n",
       "3     07-Jan-00  23.35\n",
       "4     10-Jan-00  22.77\n",
       "...         ...    ...\n",
       "5011  24-Sep-19  64.13\n",
       "5012  25-Sep-19  62.41\n",
       "5013  26-Sep-19  62.08\n",
       "5014  27-Sep-19  62.48\n",
       "5015  30-Sep-19  60.99\n",
       "\n",
       "[5016 rows x 2 columns]"
      ]
     },
     "execution_count": 148,
     "metadata": {},
     "output_type": "execute_result"
    }
   ],
   "source": [
    "oil"
   ]
  },
  {
   "cell_type": "code",
   "execution_count": 149,
   "id": "b653dabc",
   "metadata": {},
   "outputs": [
    {
     "name": "stdout",
     "output_type": "stream",
     "text": [
      "<class 'pandas.core.frame.DataFrame'>\n",
      "RangeIndex: 5016 entries, 0 to 5015\n",
      "Data columns (total 2 columns):\n",
      " #   Column  Non-Null Count  Dtype  \n",
      "---  ------  --------------  -----  \n",
      " 0   Date    5016 non-null   object \n",
      " 1   Price   5016 non-null   float64\n",
      "dtypes: float64(1), object(1)\n",
      "memory usage: 362.6 KB\n"
     ]
    }
   ],
   "source": [
    "oil.info(memory_usage='deep')"
   ]
  },
  {
   "cell_type": "code",
   "execution_count": 150,
   "id": "0198e6e7",
   "metadata": {},
   "outputs": [],
   "source": [
    "oil.Date = oil.Date.astype(np.datetime64)"
   ]
  },
  {
   "cell_type": "code",
   "execution_count": 151,
   "id": "d6e40174",
   "metadata": {},
   "outputs": [
    {
     "name": "stdout",
     "output_type": "stream",
     "text": [
      "<class 'pandas.core.frame.DataFrame'>\n",
      "RangeIndex: 5016 entries, 0 to 5015\n",
      "Data columns (total 2 columns):\n",
      " #   Column  Non-Null Count  Dtype         \n",
      "---  ------  --------------  -----         \n",
      " 0   Date    5016 non-null   datetime64[ns]\n",
      " 1   Price   5016 non-null   float64       \n",
      "dtypes: datetime64[ns](1), float64(1)\n",
      "memory usage: 78.5 KB\n"
     ]
    }
   ],
   "source": [
    "oil.info(memory_usage='deep')"
   ]
  },
  {
   "cell_type": "code",
   "execution_count": 152,
   "id": "7329ca2e",
   "metadata": {},
   "outputs": [
    {
     "data": {
      "text/html": [
       "<div>\n",
       "<style scoped>\n",
       "    .dataframe tbody tr th:only-of-type {\n",
       "        vertical-align: middle;\n",
       "    }\n",
       "\n",
       "    .dataframe tbody tr th {\n",
       "        vertical-align: top;\n",
       "    }\n",
       "\n",
       "    .dataframe thead th {\n",
       "        text-align: right;\n",
       "    }\n",
       "</style>\n",
       "<table border=\"1\" class=\"dataframe\">\n",
       "  <thead>\n",
       "    <tr style=\"text-align: right;\">\n",
       "      <th></th>\n",
       "      <th>Price</th>\n",
       "    </tr>\n",
       "    <tr>\n",
       "      <th>Date</th>\n",
       "      <th></th>\n",
       "    </tr>\n",
       "  </thead>\n",
       "  <tbody>\n",
       "    <tr>\n",
       "      <th>2000-01-04</th>\n",
       "      <td>23.95</td>\n",
       "    </tr>\n",
       "    <tr>\n",
       "      <th>2000-01-05</th>\n",
       "      <td>23.72</td>\n",
       "    </tr>\n",
       "    <tr>\n",
       "      <th>2000-01-06</th>\n",
       "      <td>23.55</td>\n",
       "    </tr>\n",
       "    <tr>\n",
       "      <th>2000-01-07</th>\n",
       "      <td>23.35</td>\n",
       "    </tr>\n",
       "    <tr>\n",
       "      <th>2000-01-10</th>\n",
       "      <td>22.77</td>\n",
       "    </tr>\n",
       "    <tr>\n",
       "      <th>...</th>\n",
       "      <td>...</td>\n",
       "    </tr>\n",
       "    <tr>\n",
       "      <th>2019-09-24</th>\n",
       "      <td>64.13</td>\n",
       "    </tr>\n",
       "    <tr>\n",
       "      <th>2019-09-25</th>\n",
       "      <td>62.41</td>\n",
       "    </tr>\n",
       "    <tr>\n",
       "      <th>2019-09-26</th>\n",
       "      <td>62.08</td>\n",
       "    </tr>\n",
       "    <tr>\n",
       "      <th>2019-09-27</th>\n",
       "      <td>62.48</td>\n",
       "    </tr>\n",
       "    <tr>\n",
       "      <th>2019-09-30</th>\n",
       "      <td>60.99</td>\n",
       "    </tr>\n",
       "  </tbody>\n",
       "</table>\n",
       "<p>5016 rows × 1 columns</p>\n",
       "</div>"
      ],
      "text/plain": [
       "            Price\n",
       "Date             \n",
       "2000-01-04  23.95\n",
       "2000-01-05  23.72\n",
       "2000-01-06  23.55\n",
       "2000-01-07  23.35\n",
       "2000-01-10  22.77\n",
       "...           ...\n",
       "2019-09-24  64.13\n",
       "2019-09-25  62.41\n",
       "2019-09-26  62.08\n",
       "2019-09-27  62.48\n",
       "2019-09-30  60.99\n",
       "\n",
       "[5016 rows x 1 columns]"
      ]
     },
     "execution_count": 152,
     "metadata": {},
     "output_type": "execute_result"
    }
   ],
   "source": [
    "oil.set_index('Date', inplace=True)\n",
    "oil"
   ]
  },
  {
   "cell_type": "code",
   "execution_count": 153,
   "id": "2a9e2db9",
   "metadata": {},
   "outputs": [
    {
     "data": {
      "text/plain": [
       "DatetimeIndex(['2000-01-04', '2000-01-05', '2000-01-06', '2000-01-07',\n",
       "               '2000-01-10', '2000-01-11', '2000-01-12', '2000-01-13',\n",
       "               '2000-01-14', '2000-01-17',\n",
       "               ...\n",
       "               '2019-09-17', '2019-09-18', '2019-09-19', '2019-09-20',\n",
       "               '2019-09-23', '2019-09-24', '2019-09-25', '2019-09-26',\n",
       "               '2019-09-27', '2019-09-30'],\n",
       "              dtype='datetime64[ns]', name='Date', length=5016, freq=None)"
      ]
     },
     "execution_count": 153,
     "metadata": {},
     "output_type": "execute_result"
    }
   ],
   "source": [
    "oil.index"
   ]
  },
  {
   "cell_type": "code",
   "execution_count": 154,
   "id": "3f1ca49c",
   "metadata": {},
   "outputs": [
    {
     "data": {
      "text/plain": [
       "DatetimeIndex(['2000-02-21', '2000-03-31'], dtype='datetime64[ns]', freq=None)"
      ]
     },
     "execution_count": 154,
     "metadata": {},
     "output_type": "execute_result"
    }
   ],
   "source": [
    "pd.to_datetime(['2000-02-21','2000-03-31'])"
   ]
  },
  {
   "cell_type": "markdown",
   "id": "d1ad8c23",
   "metadata": {},
   "source": [
    "### read_csv() with parse_dates"
   ]
  },
  {
   "cell_type": "code",
   "execution_count": 318,
   "id": "441ecbfa",
   "metadata": {},
   "outputs": [
    {
     "data": {
      "text/plain": [
       "DatetimeIndex(['2000-01-04', '2000-01-05', '2000-01-06', '2000-01-07',\n",
       "               '2000-01-10', '2000-01-11', '2000-01-12', '2000-01-13',\n",
       "               '2000-01-14', '2000-01-17',\n",
       "               ...\n",
       "               '2019-09-17', '2019-09-18', '2019-09-19', '2019-09-20',\n",
       "               '2019-09-23', '2019-09-24', '2019-09-25', '2019-09-26',\n",
       "               '2019-09-27', '2019-09-30'],\n",
       "              dtype='datetime64[ns]', name='Date', length=5016, freq=None)"
      ]
     },
     "execution_count": 318,
     "metadata": {},
     "output_type": "execute_result"
    }
   ],
   "source": [
    "pd.read_csv(oil_url, index_col=0, parse_dates=True).index"
   ]
  },
  {
   "cell_type": "code",
   "execution_count": 156,
   "id": "aa75ebae",
   "metadata": {},
   "outputs": [
    {
     "name": "stdout",
     "output_type": "stream",
     "text": [
      "<class 'pandas.core.frame.DataFrame'>\n",
      "DatetimeIndex: 5016 entries, 2000-01-04 to 2019-09-30\n",
      "Data columns (total 1 columns):\n",
      " #   Column  Non-Null Count  Dtype  \n",
      "---  ------  --------------  -----  \n",
      " 0   Price   5016 non-null   float64\n",
      "dtypes: float64(1)\n",
      "memory usage: 78.4 KB\n"
     ]
    }
   ],
   "source": [
    "pd.read_csv(oil_url, index_col=0, parse_dates=True).info(memory_usage='deep')"
   ]
  },
  {
   "cell_type": "code",
   "execution_count": 157,
   "id": "3c9f824c",
   "metadata": {},
   "outputs": [],
   "source": [
    "# if poor data quality, this may not be best option"
   ]
  },
  {
   "cell_type": "markdown",
   "id": "a67ed959",
   "metadata": {},
   "source": [
    "### Indexing dates"
   ]
  },
  {
   "cell_type": "code",
   "execution_count": 158,
   "id": "06bf36f2",
   "metadata": {},
   "outputs": [
    {
     "data": {
      "text/plain": [
       "Price    55.25\n",
       "Name: 2017-01-31 00:00:00, dtype: float64"
      ]
     },
     "execution_count": 158,
     "metadata": {},
     "output_type": "execute_result"
    }
   ],
   "source": [
    "oil.loc['2017-01-31']"
   ]
  },
  {
   "cell_type": "code",
   "execution_count": 159,
   "id": "527a1fdd",
   "metadata": {},
   "outputs": [
    {
     "data": {
      "text/html": [
       "<div>\n",
       "<style scoped>\n",
       "    .dataframe tbody tr th:only-of-type {\n",
       "        vertical-align: middle;\n",
       "    }\n",
       "\n",
       "    .dataframe tbody tr th {\n",
       "        vertical-align: top;\n",
       "    }\n",
       "\n",
       "    .dataframe thead th {\n",
       "        text-align: right;\n",
       "    }\n",
       "</style>\n",
       "<table border=\"1\" class=\"dataframe\">\n",
       "  <thead>\n",
       "    <tr style=\"text-align: right;\">\n",
       "      <th></th>\n",
       "      <th>Price</th>\n",
       "    </tr>\n",
       "    <tr>\n",
       "      <th>Date</th>\n",
       "      <th></th>\n",
       "    </tr>\n",
       "  </thead>\n",
       "  <tbody>\n",
       "    <tr>\n",
       "      <th>2017-01-25</th>\n",
       "      <td>54.34</td>\n",
       "    </tr>\n",
       "    <tr>\n",
       "      <th>2017-01-26</th>\n",
       "      <td>55.89</td>\n",
       "    </tr>\n",
       "    <tr>\n",
       "      <th>2017-01-27</th>\n",
       "      <td>54.80</td>\n",
       "    </tr>\n",
       "    <tr>\n",
       "      <th>2017-01-30</th>\n",
       "      <td>54.77</td>\n",
       "    </tr>\n",
       "    <tr>\n",
       "      <th>2017-01-31</th>\n",
       "      <td>55.25</td>\n",
       "    </tr>\n",
       "  </tbody>\n",
       "</table>\n",
       "</div>"
      ],
      "text/plain": [
       "            Price\n",
       "Date             \n",
       "2017-01-25  54.34\n",
       "2017-01-26  55.89\n",
       "2017-01-27  54.80\n",
       "2017-01-30  54.77\n",
       "2017-01-31  55.25"
      ]
     },
     "execution_count": 159,
     "metadata": {},
     "output_type": "execute_result"
    }
   ],
   "source": [
    "oil.loc['2017-01-25':'2017-01-31']"
   ]
  },
  {
   "cell_type": "code",
   "execution_count": 160,
   "id": "e9bda6c4",
   "metadata": {},
   "outputs": [
    {
     "data": {
      "text/html": [
       "<div>\n",
       "<style scoped>\n",
       "    .dataframe tbody tr th:only-of-type {\n",
       "        vertical-align: middle;\n",
       "    }\n",
       "\n",
       "    .dataframe tbody tr th {\n",
       "        vertical-align: top;\n",
       "    }\n",
       "\n",
       "    .dataframe thead th {\n",
       "        text-align: right;\n",
       "    }\n",
       "</style>\n",
       "<table border=\"1\" class=\"dataframe\">\n",
       "  <thead>\n",
       "    <tr style=\"text-align: right;\">\n",
       "      <th></th>\n",
       "      <th>Price</th>\n",
       "    </tr>\n",
       "    <tr>\n",
       "      <th>Date</th>\n",
       "      <th></th>\n",
       "    </tr>\n",
       "  </thead>\n",
       "  <tbody>\n",
       "    <tr>\n",
       "      <th>2017-01-03</th>\n",
       "      <td>55.05</td>\n",
       "    </tr>\n",
       "    <tr>\n",
       "      <th>2017-01-04</th>\n",
       "      <td>54.57</td>\n",
       "    </tr>\n",
       "    <tr>\n",
       "      <th>2017-01-05</th>\n",
       "      <td>54.99</td>\n",
       "    </tr>\n",
       "    <tr>\n",
       "      <th>2017-01-06</th>\n",
       "      <td>55.90</td>\n",
       "    </tr>\n",
       "    <tr>\n",
       "      <th>2017-01-09</th>\n",
       "      <td>54.39</td>\n",
       "    </tr>\n",
       "    <tr>\n",
       "      <th>2017-01-10</th>\n",
       "      <td>53.20</td>\n",
       "    </tr>\n",
       "    <tr>\n",
       "      <th>2017-01-11</th>\n",
       "      <td>53.61</td>\n",
       "    </tr>\n",
       "    <tr>\n",
       "      <th>2017-01-12</th>\n",
       "      <td>54.51</td>\n",
       "    </tr>\n",
       "    <tr>\n",
       "      <th>2017-01-13</th>\n",
       "      <td>54.37</td>\n",
       "    </tr>\n",
       "    <tr>\n",
       "      <th>2017-01-16</th>\n",
       "      <td>54.30</td>\n",
       "    </tr>\n",
       "    <tr>\n",
       "      <th>2017-01-17</th>\n",
       "      <td>54.68</td>\n",
       "    </tr>\n",
       "    <tr>\n",
       "      <th>2017-01-18</th>\n",
       "      <td>53.77</td>\n",
       "    </tr>\n",
       "    <tr>\n",
       "      <th>2017-01-19</th>\n",
       "      <td>53.18</td>\n",
       "    </tr>\n",
       "    <tr>\n",
       "      <th>2017-01-20</th>\n",
       "      <td>55.04</td>\n",
       "    </tr>\n",
       "    <tr>\n",
       "      <th>2017-01-23</th>\n",
       "      <td>54.80</td>\n",
       "    </tr>\n",
       "    <tr>\n",
       "      <th>2017-01-24</th>\n",
       "      <td>54.70</td>\n",
       "    </tr>\n",
       "    <tr>\n",
       "      <th>2017-01-25</th>\n",
       "      <td>54.34</td>\n",
       "    </tr>\n",
       "    <tr>\n",
       "      <th>2017-01-26</th>\n",
       "      <td>55.89</td>\n",
       "    </tr>\n",
       "    <tr>\n",
       "      <th>2017-01-27</th>\n",
       "      <td>54.80</td>\n",
       "    </tr>\n",
       "    <tr>\n",
       "      <th>2017-01-30</th>\n",
       "      <td>54.77</td>\n",
       "    </tr>\n",
       "    <tr>\n",
       "      <th>2017-01-31</th>\n",
       "      <td>55.25</td>\n",
       "    </tr>\n",
       "  </tbody>\n",
       "</table>\n",
       "</div>"
      ],
      "text/plain": [
       "            Price\n",
       "Date             \n",
       "2017-01-03  55.05\n",
       "2017-01-04  54.57\n",
       "2017-01-05  54.99\n",
       "2017-01-06  55.90\n",
       "2017-01-09  54.39\n",
       "2017-01-10  53.20\n",
       "2017-01-11  53.61\n",
       "2017-01-12  54.51\n",
       "2017-01-13  54.37\n",
       "2017-01-16  54.30\n",
       "2017-01-17  54.68\n",
       "2017-01-18  53.77\n",
       "2017-01-19  53.18\n",
       "2017-01-20  55.04\n",
       "2017-01-23  54.80\n",
       "2017-01-24  54.70\n",
       "2017-01-25  54.34\n",
       "2017-01-26  55.89\n",
       "2017-01-27  54.80\n",
       "2017-01-30  54.77\n",
       "2017-01-31  55.25"
      ]
     },
     "execution_count": 160,
     "metadata": {},
     "output_type": "execute_result"
    }
   ],
   "source": [
    "oil.loc['2017-01']  # oil.loc['2017-01-01':'2017-01-31']"
   ]
  },
  {
   "cell_type": "code",
   "execution_count": 161,
   "id": "8da559c1",
   "metadata": {},
   "outputs": [
    {
     "data": {
      "text/html": [
       "<div>\n",
       "<style scoped>\n",
       "    .dataframe tbody tr th:only-of-type {\n",
       "        vertical-align: middle;\n",
       "    }\n",
       "\n",
       "    .dataframe tbody tr th {\n",
       "        vertical-align: top;\n",
       "    }\n",
       "\n",
       "    .dataframe thead th {\n",
       "        text-align: right;\n",
       "    }\n",
       "</style>\n",
       "<table border=\"1\" class=\"dataframe\">\n",
       "  <thead>\n",
       "    <tr style=\"text-align: right;\">\n",
       "      <th></th>\n",
       "      <th>Price</th>\n",
       "    </tr>\n",
       "    <tr>\n",
       "      <th>Date</th>\n",
       "      <th></th>\n",
       "    </tr>\n",
       "  </thead>\n",
       "  <tbody>\n",
       "    <tr>\n",
       "      <th>2019-07-01</th>\n",
       "      <td>65.10</td>\n",
       "    </tr>\n",
       "    <tr>\n",
       "      <th>2019-07-02</th>\n",
       "      <td>62.72</td>\n",
       "    </tr>\n",
       "    <tr>\n",
       "      <th>2019-07-03</th>\n",
       "      <td>63.53</td>\n",
       "    </tr>\n",
       "    <tr>\n",
       "      <th>2019-07-04</th>\n",
       "      <td>63.62</td>\n",
       "    </tr>\n",
       "    <tr>\n",
       "      <th>2019-07-05</th>\n",
       "      <td>64.23</td>\n",
       "    </tr>\n",
       "    <tr>\n",
       "      <th>2019-07-08</th>\n",
       "      <td>64.89</td>\n",
       "    </tr>\n",
       "    <tr>\n",
       "      <th>2019-07-09</th>\n",
       "      <td>64.30</td>\n",
       "    </tr>\n",
       "    <tr>\n",
       "      <th>2019-07-10</th>\n",
       "      <td>66.41</td>\n",
       "    </tr>\n",
       "    <tr>\n",
       "      <th>2019-07-11</th>\n",
       "      <td>67.64</td>\n",
       "    </tr>\n",
       "    <tr>\n",
       "      <th>2019-07-12</th>\n",
       "      <td>66.65</td>\n",
       "    </tr>\n",
       "    <tr>\n",
       "      <th>2019-07-15</th>\n",
       "      <td>66.86</td>\n",
       "    </tr>\n",
       "    <tr>\n",
       "      <th>2019-07-16</th>\n",
       "      <td>65.87</td>\n",
       "    </tr>\n",
       "    <tr>\n",
       "      <th>2019-07-17</th>\n",
       "      <td>63.67</td>\n",
       "    </tr>\n",
       "    <tr>\n",
       "      <th>2019-07-18</th>\n",
       "      <td>60.70</td>\n",
       "    </tr>\n",
       "    <tr>\n",
       "      <th>2019-07-19</th>\n",
       "      <td>61.04</td>\n",
       "    </tr>\n",
       "    <tr>\n",
       "      <th>2019-07-22</th>\n",
       "      <td>61.96</td>\n",
       "    </tr>\n",
       "    <tr>\n",
       "      <th>2019-07-23</th>\n",
       "      <td>62.28</td>\n",
       "    </tr>\n",
       "    <tr>\n",
       "      <th>2019-07-24</th>\n",
       "      <td>63.83</td>\n",
       "    </tr>\n",
       "    <tr>\n",
       "      <th>2019-07-25</th>\n",
       "      <td>63.47</td>\n",
       "    </tr>\n",
       "    <tr>\n",
       "      <th>2019-07-26</th>\n",
       "      <td>62.46</td>\n",
       "    </tr>\n",
       "    <tr>\n",
       "      <th>2019-07-29</th>\n",
       "      <td>62.29</td>\n",
       "    </tr>\n",
       "    <tr>\n",
       "      <th>2019-07-30</th>\n",
       "      <td>62.55</td>\n",
       "    </tr>\n",
       "    <tr>\n",
       "      <th>2019-07-31</th>\n",
       "      <td>64.07</td>\n",
       "    </tr>\n",
       "    <tr>\n",
       "      <th>2019-08-01</th>\n",
       "      <td>62.90</td>\n",
       "    </tr>\n",
       "    <tr>\n",
       "      <th>2019-08-02</th>\n",
       "      <td>61.12</td>\n",
       "    </tr>\n",
       "    <tr>\n",
       "      <th>2019-08-05</th>\n",
       "      <td>59.32</td>\n",
       "    </tr>\n",
       "    <tr>\n",
       "      <th>2019-08-06</th>\n",
       "      <td>58.63</td>\n",
       "    </tr>\n",
       "    <tr>\n",
       "      <th>2019-08-07</th>\n",
       "      <td>55.03</td>\n",
       "    </tr>\n",
       "    <tr>\n",
       "      <th>2019-08-08</th>\n",
       "      <td>56.29</td>\n",
       "    </tr>\n",
       "    <tr>\n",
       "      <th>2019-08-09</th>\n",
       "      <td>57.37</td>\n",
       "    </tr>\n",
       "    <tr>\n",
       "      <th>2019-08-12</th>\n",
       "      <td>57.13</td>\n",
       "    </tr>\n",
       "    <tr>\n",
       "      <th>2019-08-13</th>\n",
       "      <td>59.90</td>\n",
       "    </tr>\n",
       "    <tr>\n",
       "      <th>2019-08-14</th>\n",
       "      <td>57.86</td>\n",
       "    </tr>\n",
       "    <tr>\n",
       "      <th>2019-08-15</th>\n",
       "      <td>57.37</td>\n",
       "    </tr>\n",
       "  </tbody>\n",
       "</table>\n",
       "</div>"
      ],
      "text/plain": [
       "            Price\n",
       "Date             \n",
       "2019-07-01  65.10\n",
       "2019-07-02  62.72\n",
       "2019-07-03  63.53\n",
       "2019-07-04  63.62\n",
       "2019-07-05  64.23\n",
       "2019-07-08  64.89\n",
       "2019-07-09  64.30\n",
       "2019-07-10  66.41\n",
       "2019-07-11  67.64\n",
       "2019-07-12  66.65\n",
       "2019-07-15  66.86\n",
       "2019-07-16  65.87\n",
       "2019-07-17  63.67\n",
       "2019-07-18  60.70\n",
       "2019-07-19  61.04\n",
       "2019-07-22  61.96\n",
       "2019-07-23  62.28\n",
       "2019-07-24  63.83\n",
       "2019-07-25  63.47\n",
       "2019-07-26  62.46\n",
       "2019-07-29  62.29\n",
       "2019-07-30  62.55\n",
       "2019-07-31  64.07\n",
       "2019-08-01  62.90\n",
       "2019-08-02  61.12\n",
       "2019-08-05  59.32\n",
       "2019-08-06  58.63\n",
       "2019-08-07  55.03\n",
       "2019-08-08  56.29\n",
       "2019-08-09  57.37\n",
       "2019-08-12  57.13\n",
       "2019-08-13  59.90\n",
       "2019-08-14  57.86\n",
       "2019-08-15  57.37"
      ]
     },
     "execution_count": 161,
     "metadata": {},
     "output_type": "execute_result"
    }
   ],
   "source": [
    "# july 2019 to mid august 2019\n",
    "oil.loc['2019-07':'2019-08-15']"
   ]
  },
  {
   "cell_type": "markdown",
   "id": "d92da578",
   "metadata": {},
   "source": [
    "### Challenge 1"
   ]
  },
  {
   "cell_type": "code",
   "execution_count": 162,
   "id": "d7e4c73b",
   "metadata": {},
   "outputs": [
    {
     "data": {
      "text/html": [
       "<div>\n",
       "<style scoped>\n",
       "    .dataframe tbody tr th:only-of-type {\n",
       "        vertical-align: middle;\n",
       "    }\n",
       "\n",
       "    .dataframe tbody tr th {\n",
       "        vertical-align: top;\n",
       "    }\n",
       "\n",
       "    .dataframe thead th {\n",
       "        text-align: right;\n",
       "    }\n",
       "</style>\n",
       "<table border=\"1\" class=\"dataframe\">\n",
       "  <thead>\n",
       "    <tr style=\"text-align: right;\">\n",
       "      <th></th>\n",
       "      <th>Price</th>\n",
       "    </tr>\n",
       "    <tr>\n",
       "      <th>Date</th>\n",
       "      <th></th>\n",
       "    </tr>\n",
       "  </thead>\n",
       "  <tbody>\n",
       "    <tr>\n",
       "      <th>2015-12-01</th>\n",
       "      <td>42.97</td>\n",
       "    </tr>\n",
       "    <tr>\n",
       "      <th>2015-12-02</th>\n",
       "      <td>41.92</td>\n",
       "    </tr>\n",
       "    <tr>\n",
       "      <th>2015-12-03</th>\n",
       "      <td>42.00</td>\n",
       "    </tr>\n",
       "    <tr>\n",
       "      <th>2015-12-04</th>\n",
       "      <td>41.44</td>\n",
       "    </tr>\n",
       "    <tr>\n",
       "      <th>2015-12-07</th>\n",
       "      <td>39.69</td>\n",
       "    </tr>\n",
       "    <tr>\n",
       "      <th>...</th>\n",
       "      <td>...</td>\n",
       "    </tr>\n",
       "    <tr>\n",
       "      <th>2016-03-24</th>\n",
       "      <td>38.33</td>\n",
       "    </tr>\n",
       "    <tr>\n",
       "      <th>2016-03-28</th>\n",
       "      <td>38.33</td>\n",
       "    </tr>\n",
       "    <tr>\n",
       "      <th>2016-03-29</th>\n",
       "      <td>36.75</td>\n",
       "    </tr>\n",
       "    <tr>\n",
       "      <th>2016-03-30</th>\n",
       "      <td>36.75</td>\n",
       "    </tr>\n",
       "    <tr>\n",
       "      <th>2016-03-31</th>\n",
       "      <td>36.75</td>\n",
       "    </tr>\n",
       "  </tbody>\n",
       "</table>\n",
       "<p>84 rows × 1 columns</p>\n",
       "</div>"
      ],
      "text/plain": [
       "            Price\n",
       "Date             \n",
       "2015-12-01  42.97\n",
       "2015-12-02  41.92\n",
       "2015-12-03  42.00\n",
       "2015-12-04  41.44\n",
       "2015-12-07  39.69\n",
       "...           ...\n",
       "2016-03-24  38.33\n",
       "2016-03-28  38.33\n",
       "2016-03-29  36.75\n",
       "2016-03-30  36.75\n",
       "2016-03-31  36.75\n",
       "\n",
       "[84 rows x 1 columns]"
      ]
     },
     "execution_count": 162,
     "metadata": {},
     "output_type": "execute_result"
    }
   ],
   "source": [
    "# 1. form oil df, create a shorter df which container dates from 1 dec 2015 to 31 march 2016\n",
    "oil.loc['2015-12-01':'2016-03-31']"
   ]
  },
  {
   "cell_type": "code",
   "execution_count": 163,
   "id": "de1c5efa",
   "metadata": {},
   "outputs": [
    {
     "data": {
      "text/plain": [
       "Price    3.990123\n",
       "dtype: float64"
      ]
     },
     "execution_count": 163,
     "metadata": {},
     "output_type": "execute_result"
    }
   ],
   "source": [
    "# 2. Repeat the above, but this time using partial string indexing instead of specifying full dates. \n",
    "# What was the standard deviation of prices during this period?\n",
    "oil.loc['2015-12':'2016-3'].std()\n",
    "oil.loc['dec 2015':'march 2016'].std()"
   ]
  },
  {
   "cell_type": "code",
   "execution_count": 164,
   "id": "4de24965",
   "metadata": {},
   "outputs": [
    {
     "data": {
      "text/plain": [
       "(Price    65.3175\n",
       " dtype: float64,\n",
       " Price    50.65\n",
       " dtype: float64)"
      ]
     },
     "execution_count": 164,
     "metadata": {},
     "output_type": "execute_result"
    }
   ],
   "source": [
    "# 3. was the mean price from feb 2018 greater/lesser than median price form march 2017?\n",
    "oil.loc['2018-02'].mean(), oil.loc['2017-03'].median()"
   ]
  },
  {
   "cell_type": "markdown",
   "id": "2d3440d7",
   "metadata": {},
   "source": [
    "### DateTimeIndex Attribute Accessors"
   ]
  },
  {
   "cell_type": "code",
   "execution_count": 165,
   "id": "51a0ea2d",
   "metadata": {},
   "outputs": [
    {
     "data": {
      "text/plain": [
       "DatetimeIndex(['2000-01-04', '2000-01-05', '2000-01-06', '2000-01-07',\n",
       "               '2000-01-10', '2000-01-11', '2000-01-12', '2000-01-13',\n",
       "               '2000-01-14', '2000-01-17',\n",
       "               ...\n",
       "               '2019-09-17', '2019-09-18', '2019-09-19', '2019-09-20',\n",
       "               '2019-09-23', '2019-09-24', '2019-09-25', '2019-09-26',\n",
       "               '2019-09-27', '2019-09-30'],\n",
       "              dtype='datetime64[ns]', name='Date', length=5016, freq=None)"
      ]
     },
     "execution_count": 165,
     "metadata": {},
     "output_type": "execute_result"
    }
   ],
   "source": [
    "oil.index"
   ]
  },
  {
   "cell_type": "code",
   "execution_count": 166,
   "id": "6a1b8429",
   "metadata": {},
   "outputs": [
    {
     "data": {
      "text/plain": [
       "Int64Index([1, 1, 1, 1, 1, 1, 1, 1, 1, 1,\n",
       "            ...\n",
       "            3, 3, 3, 3, 3, 3, 3, 3, 3, 3],\n",
       "           dtype='int64', name='Date', length=5016)"
      ]
     },
     "execution_count": 166,
     "metadata": {},
     "output_type": "execute_result"
    }
   ],
   "source": [
    "oil.index.quarter"
   ]
  },
  {
   "cell_type": "code",
   "execution_count": 167,
   "id": "16586b58",
   "metadata": {},
   "outputs": [
    {
     "data": {
      "text/plain": [
       "Int64Index([1, 1, 1, 1, 1, 1, 1, 1, 1, 1,\n",
       "            ...\n",
       "            9, 9, 9, 9, 9, 9, 9, 9, 9, 9],\n",
       "           dtype='int64', name='Date', length=5016)"
      ]
     },
     "execution_count": 167,
     "metadata": {},
     "output_type": "execute_result"
    }
   ],
   "source": [
    "oil.index.month"
   ]
  },
  {
   "cell_type": "code",
   "execution_count": 168,
   "id": "7b0b97ef",
   "metadata": {},
   "outputs": [
    {
     "data": {
      "text/plain": [
       "Date\n",
       "2000-01-04     1\n",
       "2000-01-05     1\n",
       "2000-01-06     1\n",
       "2000-01-07     1\n",
       "2000-01-10     2\n",
       "              ..\n",
       "2019-09-24    39\n",
       "2019-09-25    39\n",
       "2019-09-26    39\n",
       "2019-09-27    39\n",
       "2019-09-30    40\n",
       "Name: week, Length: 5016, dtype: UInt32"
      ]
     },
     "execution_count": 168,
     "metadata": {},
     "output_type": "execute_result"
    }
   ],
   "source": [
    "oil.index.isocalendar().week"
   ]
  },
  {
   "cell_type": "code",
   "execution_count": 169,
   "id": "e4181887",
   "metadata": {},
   "outputs": [
    {
     "name": "stderr",
     "output_type": "stream",
     "text": [
      "C:\\Users\\sonig\\AppData\\Local\\Temp\\ipykernel_18160\\2081146448.py:1: FutureWarning: weekofyear and week have been deprecated, please use DatetimeIndex.isocalendar().week instead, which returns a Series. To exactly reproduce the behavior of week and weekofyear and return an Index, you may call pd.Int64Index(idx.isocalendar().week)\n",
      "  oil.index.weekofyear\n"
     ]
    },
    {
     "data": {
      "text/plain": [
       "Int64Index([ 1,  1,  1,  1,  2,  2,  2,  2,  2,  3,\n",
       "            ...\n",
       "            38, 38, 38, 38, 39, 39, 39, 39, 39, 40],\n",
       "           dtype='int64', name='Date', length=5016)"
      ]
     },
     "execution_count": 169,
     "metadata": {},
     "output_type": "execute_result"
    }
   ],
   "source": [
    "oil.index.weekofyear"
   ]
  },
  {
   "cell_type": "code",
   "execution_count": 170,
   "id": "851a3cdb",
   "metadata": {},
   "outputs": [
    {
     "data": {
      "text/plain": [
       "Int64Index([ 4,  5,  6,  7, 10, 11, 12, 13, 14, 17,\n",
       "            ...\n",
       "            17, 18, 19, 20, 23, 24, 25, 26, 27, 30],\n",
       "           dtype='int64', name='Date', length=5016)"
      ]
     },
     "execution_count": 170,
     "metadata": {},
     "output_type": "execute_result"
    }
   ],
   "source": [
    "oil.index.day"
   ]
  },
  {
   "cell_type": "code",
   "execution_count": 171,
   "id": "dd03a91a",
   "metadata": {},
   "outputs": [
    {
     "data": {
      "text/plain": [
       "Index(['Tuesday', 'Wednesday', 'Thursday', 'Friday', 'Monday', 'Tuesday',\n",
       "       'Wednesday', 'Thursday', 'Friday', 'Monday',\n",
       "       ...\n",
       "       'Tuesday', 'Wednesday', 'Thursday', 'Friday', 'Monday', 'Tuesday',\n",
       "       'Wednesday', 'Thursday', 'Friday', 'Monday'],\n",
       "      dtype='object', name='Date', length=5016)"
      ]
     },
     "execution_count": 171,
     "metadata": {},
     "output_type": "execute_result"
    }
   ],
   "source": [
    "oil.index.day_name()"
   ]
  },
  {
   "cell_type": "code",
   "execution_count": 172,
   "id": "4aa3549d",
   "metadata": {},
   "outputs": [],
   "source": [
    "# Q. what day has registed lowest oil price, on average in past 19 year?"
   ]
  },
  {
   "cell_type": "code",
   "execution_count": 173,
   "id": "3d22715c",
   "metadata": {},
   "outputs": [],
   "source": [
    "oil['Dayname'] = oil.index.day_name()"
   ]
  },
  {
   "cell_type": "code",
   "execution_count": 174,
   "id": "3af57e26",
   "metadata": {},
   "outputs": [
    {
     "data": {
      "text/html": [
       "<div>\n",
       "<style scoped>\n",
       "    .dataframe tbody tr th:only-of-type {\n",
       "        vertical-align: middle;\n",
       "    }\n",
       "\n",
       "    .dataframe tbody tr th {\n",
       "        vertical-align: top;\n",
       "    }\n",
       "\n",
       "    .dataframe thead th {\n",
       "        text-align: right;\n",
       "    }\n",
       "</style>\n",
       "<table border=\"1\" class=\"dataframe\">\n",
       "  <thead>\n",
       "    <tr style=\"text-align: right;\">\n",
       "      <th></th>\n",
       "      <th>Price</th>\n",
       "      <th>Dayname</th>\n",
       "    </tr>\n",
       "    <tr>\n",
       "      <th>Date</th>\n",
       "      <th></th>\n",
       "      <th></th>\n",
       "    </tr>\n",
       "  </thead>\n",
       "  <tbody>\n",
       "    <tr>\n",
       "      <th>2000-01-04</th>\n",
       "      <td>23.95</td>\n",
       "      <td>Tuesday</td>\n",
       "    </tr>\n",
       "    <tr>\n",
       "      <th>2000-01-05</th>\n",
       "      <td>23.72</td>\n",
       "      <td>Wednesday</td>\n",
       "    </tr>\n",
       "    <tr>\n",
       "      <th>2000-01-06</th>\n",
       "      <td>23.55</td>\n",
       "      <td>Thursday</td>\n",
       "    </tr>\n",
       "    <tr>\n",
       "      <th>2000-01-07</th>\n",
       "      <td>23.35</td>\n",
       "      <td>Friday</td>\n",
       "    </tr>\n",
       "    <tr>\n",
       "      <th>2000-01-10</th>\n",
       "      <td>22.77</td>\n",
       "      <td>Monday</td>\n",
       "    </tr>\n",
       "    <tr>\n",
       "      <th>...</th>\n",
       "      <td>...</td>\n",
       "      <td>...</td>\n",
       "    </tr>\n",
       "    <tr>\n",
       "      <th>2019-09-24</th>\n",
       "      <td>64.13</td>\n",
       "      <td>Tuesday</td>\n",
       "    </tr>\n",
       "    <tr>\n",
       "      <th>2019-09-25</th>\n",
       "      <td>62.41</td>\n",
       "      <td>Wednesday</td>\n",
       "    </tr>\n",
       "    <tr>\n",
       "      <th>2019-09-26</th>\n",
       "      <td>62.08</td>\n",
       "      <td>Thursday</td>\n",
       "    </tr>\n",
       "    <tr>\n",
       "      <th>2019-09-27</th>\n",
       "      <td>62.48</td>\n",
       "      <td>Friday</td>\n",
       "    </tr>\n",
       "    <tr>\n",
       "      <th>2019-09-30</th>\n",
       "      <td>60.99</td>\n",
       "      <td>Monday</td>\n",
       "    </tr>\n",
       "  </tbody>\n",
       "</table>\n",
       "<p>5016 rows × 2 columns</p>\n",
       "</div>"
      ],
      "text/plain": [
       "            Price    Dayname\n",
       "Date                        \n",
       "2000-01-04  23.95    Tuesday\n",
       "2000-01-05  23.72  Wednesday\n",
       "2000-01-06  23.55   Thursday\n",
       "2000-01-07  23.35     Friday\n",
       "2000-01-10  22.77     Monday\n",
       "...           ...        ...\n",
       "2019-09-24  64.13    Tuesday\n",
       "2019-09-25  62.41  Wednesday\n",
       "2019-09-26  62.08   Thursday\n",
       "2019-09-27  62.48     Friday\n",
       "2019-09-30  60.99     Monday\n",
       "\n",
       "[5016 rows x 2 columns]"
      ]
     },
     "execution_count": 174,
     "metadata": {},
     "output_type": "execute_result"
    }
   ],
   "source": [
    "oil"
   ]
  },
  {
   "cell_type": "code",
   "execution_count": 175,
   "id": "aa5cdcd0",
   "metadata": {},
   "outputs": [
    {
     "data": {
      "text/html": [
       "<div>\n",
       "<style scoped>\n",
       "    .dataframe tbody tr th:only-of-type {\n",
       "        vertical-align: middle;\n",
       "    }\n",
       "\n",
       "    .dataframe tbody tr th {\n",
       "        vertical-align: top;\n",
       "    }\n",
       "\n",
       "    .dataframe thead th {\n",
       "        text-align: right;\n",
       "    }\n",
       "</style>\n",
       "<table border=\"1\" class=\"dataframe\">\n",
       "  <thead>\n",
       "    <tr style=\"text-align: right;\">\n",
       "      <th></th>\n",
       "      <th>Price</th>\n",
       "    </tr>\n",
       "    <tr>\n",
       "      <th>Dayname</th>\n",
       "      <th></th>\n",
       "    </tr>\n",
       "  </thead>\n",
       "  <tbody>\n",
       "    <tr>\n",
       "      <th>Thursday</th>\n",
       "      <td>64.581943</td>\n",
       "    </tr>\n",
       "    <tr>\n",
       "      <th>Wednesday</th>\n",
       "      <td>64.495593</td>\n",
       "    </tr>\n",
       "    <tr>\n",
       "      <th>Tuesday</th>\n",
       "      <td>64.493895</td>\n",
       "    </tr>\n",
       "    <tr>\n",
       "      <th>Friday</th>\n",
       "      <td>64.317988</td>\n",
       "    </tr>\n",
       "    <tr>\n",
       "      <th>Monday</th>\n",
       "      <td>63.875348</td>\n",
       "    </tr>\n",
       "  </tbody>\n",
       "</table>\n",
       "</div>"
      ],
      "text/plain": [
       "               Price\n",
       "Dayname             \n",
       "Thursday   64.581943\n",
       "Wednesday  64.495593\n",
       "Tuesday    64.493895\n",
       "Friday     64.317988\n",
       "Monday     63.875348"
      ]
     },
     "execution_count": 175,
     "metadata": {},
     "output_type": "execute_result"
    }
   ],
   "source": [
    "oil.groupby('Dayname').mean().sort_values(by='Price', ascending=False)"
   ]
  },
  {
   "cell_type": "code",
   "execution_count": 176,
   "id": "7047f68c",
   "metadata": {},
   "outputs": [],
   "source": [
    "oil.drop(columns='Dayname', inplace=True)"
   ]
  },
  {
   "cell_type": "code",
   "execution_count": 177,
   "id": "e7080b0b",
   "metadata": {},
   "outputs": [
    {
     "data": {
      "text/html": [
       "<div>\n",
       "<style scoped>\n",
       "    .dataframe tbody tr th:only-of-type {\n",
       "        vertical-align: middle;\n",
       "    }\n",
       "\n",
       "    .dataframe tbody tr th {\n",
       "        vertical-align: top;\n",
       "    }\n",
       "\n",
       "    .dataframe thead th {\n",
       "        text-align: right;\n",
       "    }\n",
       "</style>\n",
       "<table border=\"1\" class=\"dataframe\">\n",
       "  <thead>\n",
       "    <tr style=\"text-align: right;\">\n",
       "      <th></th>\n",
       "      <th>Price</th>\n",
       "    </tr>\n",
       "    <tr>\n",
       "      <th>Date</th>\n",
       "      <th></th>\n",
       "    </tr>\n",
       "  </thead>\n",
       "  <tbody>\n",
       "    <tr>\n",
       "      <th>2000-01-04</th>\n",
       "      <td>23.95</td>\n",
       "    </tr>\n",
       "    <tr>\n",
       "      <th>2000-01-05</th>\n",
       "      <td>23.72</td>\n",
       "    </tr>\n",
       "    <tr>\n",
       "      <th>2000-01-06</th>\n",
       "      <td>23.55</td>\n",
       "    </tr>\n",
       "    <tr>\n",
       "      <th>2000-01-07</th>\n",
       "      <td>23.35</td>\n",
       "    </tr>\n",
       "    <tr>\n",
       "      <th>2000-01-10</th>\n",
       "      <td>22.77</td>\n",
       "    </tr>\n",
       "    <tr>\n",
       "      <th>...</th>\n",
       "      <td>...</td>\n",
       "    </tr>\n",
       "    <tr>\n",
       "      <th>2019-09-24</th>\n",
       "      <td>64.13</td>\n",
       "    </tr>\n",
       "    <tr>\n",
       "      <th>2019-09-25</th>\n",
       "      <td>62.41</td>\n",
       "    </tr>\n",
       "    <tr>\n",
       "      <th>2019-09-26</th>\n",
       "      <td>62.08</td>\n",
       "    </tr>\n",
       "    <tr>\n",
       "      <th>2019-09-27</th>\n",
       "      <td>62.48</td>\n",
       "    </tr>\n",
       "    <tr>\n",
       "      <th>2019-09-30</th>\n",
       "      <td>60.99</td>\n",
       "    </tr>\n",
       "  </tbody>\n",
       "</table>\n",
       "<p>5016 rows × 1 columns</p>\n",
       "</div>"
      ],
      "text/plain": [
       "            Price\n",
       "Date             \n",
       "2000-01-04  23.95\n",
       "2000-01-05  23.72\n",
       "2000-01-06  23.55\n",
       "2000-01-07  23.35\n",
       "2000-01-10  22.77\n",
       "...           ...\n",
       "2019-09-24  64.13\n",
       "2019-09-25  62.41\n",
       "2019-09-26  62.08\n",
       "2019-09-27  62.48\n",
       "2019-09-30  60.99\n",
       "\n",
       "[5016 rows x 1 columns]"
      ]
     },
     "execution_count": 177,
     "metadata": {},
     "output_type": "execute_result"
    }
   ],
   "source": [
    "oil"
   ]
  },
  {
   "cell_type": "code",
   "execution_count": 178,
   "id": "ff6c7ba4",
   "metadata": {},
   "outputs": [],
   "source": [
    "# bool mask with datetimeindex attribute"
   ]
  },
  {
   "cell_type": "code",
   "execution_count": 179,
   "id": "13797e4b",
   "metadata": {},
   "outputs": [
    {
     "data": {
      "text/plain": [
       "Price    60.696634\n",
       "dtype: float64"
      ]
     },
     "execution_count": 179,
     "metadata": {},
     "output_type": "execute_result"
    }
   ],
   "source": [
    "# Q. find the average price in all leap year feb.\n",
    "\n",
    "def is_leap(y):\n",
    "    if y%4==0:\n",
    "        if y%100==0:\n",
    "            if y%400==0:\n",
    "                return True\n",
    "            return False\n",
    "        return True\n",
    "    return False\n",
    "    \n",
    "mask = [is_leap(x) for x in oil.index.year]\n",
    "oil.loc[mask & (oil.index.month==2)].mean()"
   ]
  },
  {
   "cell_type": "code",
   "execution_count": 180,
   "id": "95bd9420",
   "metadata": {},
   "outputs": [
    {
     "data": {
      "text/plain": [
       "Price    60.696634\n",
       "dtype: float64"
      ]
     },
     "execution_count": 180,
     "metadata": {},
     "output_type": "execute_result"
    }
   ],
   "source": [
    "oil.loc[(oil.index.is_leap_year==True) & (oil.index.month==2)].mean()"
   ]
  },
  {
   "cell_type": "markdown",
   "id": "f3428e33",
   "metadata": {},
   "source": [
    "### Creating Date Ranges"
   ]
  },
  {
   "cell_type": "code",
   "execution_count": 181,
   "id": "0a24acd4",
   "metadata": {},
   "outputs": [
    {
     "data": {
      "text/plain": [
       "DatetimeIndex(['2000-01-04', '2000-01-05', '2000-01-06', '2000-01-07',\n",
       "               '2000-01-10', '2000-01-11', '2000-01-12', '2000-01-13',\n",
       "               '2000-01-14', '2000-01-17',\n",
       "               ...\n",
       "               '2019-09-17', '2019-09-18', '2019-09-19', '2019-09-20',\n",
       "               '2019-09-23', '2019-09-24', '2019-09-25', '2019-09-26',\n",
       "               '2019-09-27', '2019-09-30'],\n",
       "              dtype='datetime64[ns]', name='Date', length=5016, freq=None)"
      ]
     },
     "execution_count": 181,
     "metadata": {},
     "output_type": "execute_result"
    }
   ],
   "source": [
    "oil.index"
   ]
  },
  {
   "cell_type": "code",
   "execution_count": 182,
   "id": "63f0daa9",
   "metadata": {},
   "outputs": [
    {
     "data": {
      "text/plain": [
       "DatetimeIndex(['2020-01-18', '2020-01-19', '2020-01-20', '2020-01-21',\n",
       "               '2020-01-22', '2020-01-23', '2020-01-24', '2020-01-25',\n",
       "               '2020-01-26', '2020-01-27',\n",
       "               ...\n",
       "               '2020-06-11', '2020-06-12', '2020-06-13', '2020-06-14',\n",
       "               '2020-06-15', '2020-06-16', '2020-06-17', '2020-06-18',\n",
       "               '2020-06-19', '2020-06-20'],\n",
       "              dtype='datetime64[ns]', length=155, freq='D')"
      ]
     },
     "execution_count": 182,
     "metadata": {},
     "output_type": "execute_result"
    }
   ],
   "source": [
    "pd.date_range(start='18 Jan 2020', end='20 june 2020')"
   ]
  },
  {
   "cell_type": "code",
   "execution_count": 183,
   "id": "5e8bbced",
   "metadata": {},
   "outputs": [
    {
     "data": {
      "text/plain": [
       "DatetimeIndex(['2020-05-21', '2020-05-22', '2020-05-23', '2020-05-24',\n",
       "               '2020-05-25', '2020-05-26', '2020-05-27', '2020-05-28',\n",
       "               '2020-05-29', '2020-05-30'],\n",
       "              dtype='datetime64[ns]', freq='D')"
      ]
     },
     "execution_count": 183,
     "metadata": {},
     "output_type": "execute_result"
    }
   ],
   "source": [
    "pd.date_range(start='5/21/2020', periods=10)"
   ]
  },
  {
   "cell_type": "code",
   "execution_count": 184,
   "id": "b29ac747",
   "metadata": {},
   "outputs": [
    {
     "data": {
      "text/plain": [
       "DatetimeIndex(['2020-05-31', '2020-06-30', '2020-07-31', '2020-08-31',\n",
       "               '2020-09-30', '2020-10-31', '2020-11-30', '2020-12-31',\n",
       "               '2021-01-31', '2021-02-28'],\n",
       "              dtype='datetime64[ns]', freq='M')"
      ]
     },
     "execution_count": 184,
     "metadata": {},
     "output_type": "execute_result"
    }
   ],
   "source": [
    "pd.date_range(start='5/21/2020', periods=10, freq='M')"
   ]
  },
  {
   "cell_type": "code",
   "execution_count": 185,
   "id": "fac24192",
   "metadata": {},
   "outputs": [
    {
     "data": {
      "text/plain": [
       "DatetimeIndex(['2020-05-24', '2020-06-07', '2020-06-21', '2020-07-05',\n",
       "               '2020-07-19', '2020-08-02', '2020-08-16', '2020-08-30',\n",
       "               '2020-09-13', '2020-09-27'],\n",
       "              dtype='datetime64[ns]', freq='2W-SUN')"
      ]
     },
     "execution_count": 185,
     "metadata": {},
     "output_type": "execute_result"
    }
   ],
   "source": [
    "pd.date_range(start='5/21/2020', periods=10, freq='2W')"
   ]
  },
  {
   "cell_type": "code",
   "execution_count": 186,
   "id": "60757a33",
   "metadata": {},
   "outputs": [],
   "source": [
    "dti = pd.date_range(start='5/21/2020', periods=20, freq='M')"
   ]
  },
  {
   "cell_type": "code",
   "execution_count": 187,
   "id": "3855db28",
   "metadata": {},
   "outputs": [
    {
     "data": {
      "text/html": [
       "<div>\n",
       "<style scoped>\n",
       "    .dataframe tbody tr th:only-of-type {\n",
       "        vertical-align: middle;\n",
       "    }\n",
       "\n",
       "    .dataframe tbody tr th {\n",
       "        vertical-align: top;\n",
       "    }\n",
       "\n",
       "    .dataframe thead th {\n",
       "        text-align: right;\n",
       "    }\n",
       "</style>\n",
       "<table border=\"1\" class=\"dataframe\">\n",
       "  <thead>\n",
       "    <tr style=\"text-align: right;\">\n",
       "      <th></th>\n",
       "      <th>a</th>\n",
       "      <th>b</th>\n",
       "      <th>c</th>\n",
       "      <th>d</th>\n",
       "    </tr>\n",
       "  </thead>\n",
       "  <tbody>\n",
       "    <tr>\n",
       "      <th>2020-05-31</th>\n",
       "      <td>0</td>\n",
       "      <td>14</td>\n",
       "      <td>5</td>\n",
       "      <td>64</td>\n",
       "    </tr>\n",
       "    <tr>\n",
       "      <th>2020-06-30</th>\n",
       "      <td>24</td>\n",
       "      <td>40</td>\n",
       "      <td>49</td>\n",
       "      <td>24</td>\n",
       "    </tr>\n",
       "    <tr>\n",
       "      <th>2020-07-31</th>\n",
       "      <td>85</td>\n",
       "      <td>89</td>\n",
       "      <td>6</td>\n",
       "      <td>3</td>\n",
       "    </tr>\n",
       "    <tr>\n",
       "      <th>2020-08-31</th>\n",
       "      <td>63</td>\n",
       "      <td>89</td>\n",
       "      <td>27</td>\n",
       "      <td>96</td>\n",
       "    </tr>\n",
       "    <tr>\n",
       "      <th>2020-09-30</th>\n",
       "      <td>52</td>\n",
       "      <td>24</td>\n",
       "      <td>87</td>\n",
       "      <td>23</td>\n",
       "    </tr>\n",
       "    <tr>\n",
       "      <th>2020-10-31</th>\n",
       "      <td>9</td>\n",
       "      <td>81</td>\n",
       "      <td>34</td>\n",
       "      <td>64</td>\n",
       "    </tr>\n",
       "    <tr>\n",
       "      <th>2020-11-30</th>\n",
       "      <td>3</td>\n",
       "      <td>99</td>\n",
       "      <td>95</td>\n",
       "      <td>14</td>\n",
       "    </tr>\n",
       "    <tr>\n",
       "      <th>2020-12-31</th>\n",
       "      <td>4</td>\n",
       "      <td>21</td>\n",
       "      <td>75</td>\n",
       "      <td>82</td>\n",
       "    </tr>\n",
       "    <tr>\n",
       "      <th>2021-01-31</th>\n",
       "      <td>59</td>\n",
       "      <td>11</td>\n",
       "      <td>46</td>\n",
       "      <td>12</td>\n",
       "    </tr>\n",
       "    <tr>\n",
       "      <th>2021-02-28</th>\n",
       "      <td>83</td>\n",
       "      <td>34</td>\n",
       "      <td>86</td>\n",
       "      <td>38</td>\n",
       "    </tr>\n",
       "    <tr>\n",
       "      <th>2021-03-31</th>\n",
       "      <td>99</td>\n",
       "      <td>62</td>\n",
       "      <td>59</td>\n",
       "      <td>7</td>\n",
       "    </tr>\n",
       "    <tr>\n",
       "      <th>2021-04-30</th>\n",
       "      <td>15</td>\n",
       "      <td>55</td>\n",
       "      <td>80</td>\n",
       "      <td>64</td>\n",
       "    </tr>\n",
       "    <tr>\n",
       "      <th>2021-05-31</th>\n",
       "      <td>11</td>\n",
       "      <td>43</td>\n",
       "      <td>98</td>\n",
       "      <td>97</td>\n",
       "    </tr>\n",
       "    <tr>\n",
       "      <th>2021-06-30</th>\n",
       "      <td>85</td>\n",
       "      <td>59</td>\n",
       "      <td>88</td>\n",
       "      <td>71</td>\n",
       "    </tr>\n",
       "    <tr>\n",
       "      <th>2021-07-31</th>\n",
       "      <td>9</td>\n",
       "      <td>26</td>\n",
       "      <td>18</td>\n",
       "      <td>83</td>\n",
       "    </tr>\n",
       "    <tr>\n",
       "      <th>2021-08-31</th>\n",
       "      <td>11</td>\n",
       "      <td>64</td>\n",
       "      <td>9</td>\n",
       "      <td>30</td>\n",
       "    </tr>\n",
       "    <tr>\n",
       "      <th>2021-09-30</th>\n",
       "      <td>14</td>\n",
       "      <td>10</td>\n",
       "      <td>55</td>\n",
       "      <td>66</td>\n",
       "    </tr>\n",
       "    <tr>\n",
       "      <th>2021-10-31</th>\n",
       "      <td>42</td>\n",
       "      <td>31</td>\n",
       "      <td>23</td>\n",
       "      <td>87</td>\n",
       "    </tr>\n",
       "    <tr>\n",
       "      <th>2021-11-30</th>\n",
       "      <td>93</td>\n",
       "      <td>13</td>\n",
       "      <td>15</td>\n",
       "      <td>1</td>\n",
       "    </tr>\n",
       "    <tr>\n",
       "      <th>2021-12-31</th>\n",
       "      <td>72</td>\n",
       "      <td>30</td>\n",
       "      <td>91</td>\n",
       "      <td>35</td>\n",
       "    </tr>\n",
       "  </tbody>\n",
       "</table>\n",
       "</div>"
      ],
      "text/plain": [
       "             a   b   c   d\n",
       "2020-05-31   0  14   5  64\n",
       "2020-06-30  24  40  49  24\n",
       "2020-07-31  85  89   6   3\n",
       "2020-08-31  63  89  27  96\n",
       "2020-09-30  52  24  87  23\n",
       "2020-10-31   9  81  34  64\n",
       "2020-11-30   3  99  95  14\n",
       "2020-12-31   4  21  75  82\n",
       "2021-01-31  59  11  46  12\n",
       "2021-02-28  83  34  86  38\n",
       "2021-03-31  99  62  59   7\n",
       "2021-04-30  15  55  80  64\n",
       "2021-05-31  11  43  98  97\n",
       "2021-06-30  85  59  88  71\n",
       "2021-07-31   9  26  18  83\n",
       "2021-08-31  11  64   9  30\n",
       "2021-09-30  14  10  55  66\n",
       "2021-10-31  42  31  23  87\n",
       "2021-11-30  93  13  15   1\n",
       "2021-12-31  72  30  91  35"
      ]
     },
     "execution_count": 187,
     "metadata": {},
     "output_type": "execute_result"
    }
   ],
   "source": [
    "pd.DataFrame(index=dti, data=np.random.randint(100, size=(20,4)), columns=list('abcd'))"
   ]
  },
  {
   "cell_type": "markdown",
   "id": "5cebfee6",
   "metadata": {},
   "source": [
    "### Shifting dates with pd.DateOffset"
   ]
  },
  {
   "cell_type": "code",
   "execution_count": 188,
   "id": "9f86f2a2",
   "metadata": {},
   "outputs": [],
   "source": [
    "dob = pd.Timestamp('2020-03-09')"
   ]
  },
  {
   "cell_type": "code",
   "execution_count": 189,
   "id": "df03add1",
   "metadata": {},
   "outputs": [
    {
     "data": {
      "text/plain": [
       "Timestamp('2020-03-09 00:00:00')"
      ]
     },
     "execution_count": 189,
     "metadata": {},
     "output_type": "execute_result"
    }
   ],
   "source": [
    "dob"
   ]
  },
  {
   "cell_type": "code",
   "execution_count": 190,
   "id": "fed6e5be",
   "metadata": {},
   "outputs": [
    {
     "ename": "TypeError",
     "evalue": "Addition/subtraction of integers and integer-arrays with Timestamp is no longer supported.  Instead of adding/subtracting `n`, use `n * obj.freq`",
     "output_type": "error",
     "traceback": [
      "\u001b[1;31m---------------------------------------------------------------------------\u001b[0m",
      "\u001b[1;31mTypeError\u001b[0m                                 Traceback (most recent call last)",
      "Input \u001b[1;32mIn [190]\u001b[0m, in \u001b[0;36m<cell line: 1>\u001b[1;34m()\u001b[0m\n\u001b[1;32m----> 1\u001b[0m \u001b[43mdob\u001b[49m\u001b[43m \u001b[49m\u001b[38;5;241;43m-\u001b[39;49m\u001b[43m \u001b[49m\u001b[38;5;241;43m10\u001b[39;49m\n",
      "File \u001b[1;32m~\\anaconda3\\lib\\site-packages\\pandas\\_libs\\tslibs\\timestamps.pyx:318\u001b[0m, in \u001b[0;36mpandas._libs.tslibs.timestamps._Timestamp.__sub__\u001b[1;34m()\u001b[0m\n",
      "File \u001b[1;32m~\\anaconda3\\lib\\site-packages\\pandas\\_libs\\tslibs\\timestamps.pyx:296\u001b[0m, in \u001b[0;36mpandas._libs.tslibs.timestamps._Timestamp.__add__\u001b[1;34m()\u001b[0m\n",
      "\u001b[1;31mTypeError\u001b[0m: Addition/subtraction of integers and integer-arrays with Timestamp is no longer supported.  Instead of adding/subtracting `n`, use `n * obj.freq`"
     ]
    }
   ],
   "source": [
    "dob - 10"
   ]
  },
  {
   "cell_type": "code",
   "execution_count": 191,
   "id": "3fb5d9c1",
   "metadata": {},
   "outputs": [
    {
     "data": {
      "text/plain": [
       "<DateOffset: days=10>"
      ]
     },
     "execution_count": 191,
     "metadata": {},
     "output_type": "execute_result"
    }
   ],
   "source": [
    "pd.DateOffset(days=10)"
   ]
  },
  {
   "cell_type": "code",
   "execution_count": 192,
   "id": "8f235332",
   "metadata": {},
   "outputs": [
    {
     "data": {
      "text/plain": [
       "Timestamp('2020-02-28 00:00:00')"
      ]
     },
     "execution_count": 192,
     "metadata": {},
     "output_type": "execute_result"
    }
   ],
   "source": [
    "dob - pd.DateOffset(days=10)"
   ]
  },
  {
   "cell_type": "code",
   "execution_count": 193,
   "id": "616c7d2c",
   "metadata": {},
   "outputs": [
    {
     "data": {
      "text/plain": [
       "<DateOffset: days=10, minutes=30, nanoseconds=10>"
      ]
     },
     "execution_count": 193,
     "metadata": {},
     "output_type": "execute_result"
    }
   ],
   "source": [
    "pd.DateOffset(days=10, minutes=30, nanoseconds=10)"
   ]
  },
  {
   "cell_type": "code",
   "execution_count": 196,
   "id": "3a86e258",
   "metadata": {},
   "outputs": [
    {
     "data": {
      "text/plain": [
       "<DateOffset: years=4>"
      ]
     },
     "execution_count": 196,
     "metadata": {},
     "output_type": "execute_result"
    }
   ],
   "source": [
    "pd.DateOffset(years=4)"
   ]
  },
  {
   "cell_type": "code",
   "execution_count": 197,
   "id": "8fe86166",
   "metadata": {},
   "outputs": [
    {
     "data": {
      "text/plain": [
       "Timestamp('2024-03-09 00:00:00')"
      ]
     },
     "execution_count": 197,
     "metadata": {},
     "output_type": "execute_result"
    }
   ],
   "source": [
    "dob +pd.DateOffset(years=4)  "
   ]
  },
  {
   "cell_type": "code",
   "execution_count": 198,
   "id": "00ade527",
   "metadata": {},
   "outputs": [
    {
     "data": {
      "text/html": [
       "<div>\n",
       "<style scoped>\n",
       "    .dataframe tbody tr th:only-of-type {\n",
       "        vertical-align: middle;\n",
       "    }\n",
       "\n",
       "    .dataframe tbody tr th {\n",
       "        vertical-align: top;\n",
       "    }\n",
       "\n",
       "    .dataframe thead th {\n",
       "        text-align: right;\n",
       "    }\n",
       "</style>\n",
       "<table border=\"1\" class=\"dataframe\">\n",
       "  <thead>\n",
       "    <tr style=\"text-align: right;\">\n",
       "      <th></th>\n",
       "      <th>Price</th>\n",
       "    </tr>\n",
       "    <tr>\n",
       "      <th>Date</th>\n",
       "      <th></th>\n",
       "    </tr>\n",
       "  </thead>\n",
       "  <tbody>\n",
       "    <tr>\n",
       "      <th>2000-01-04 18:00:00</th>\n",
       "      <td>23.95</td>\n",
       "    </tr>\n",
       "    <tr>\n",
       "      <th>2000-01-05 18:00:00</th>\n",
       "      <td>23.72</td>\n",
       "    </tr>\n",
       "    <tr>\n",
       "      <th>2000-01-06 18:00:00</th>\n",
       "      <td>23.55</td>\n",
       "    </tr>\n",
       "    <tr>\n",
       "      <th>2000-01-07 18:00:00</th>\n",
       "      <td>23.35</td>\n",
       "    </tr>\n",
       "    <tr>\n",
       "      <th>2000-01-10 18:00:00</th>\n",
       "      <td>22.77</td>\n",
       "    </tr>\n",
       "    <tr>\n",
       "      <th>...</th>\n",
       "      <td>...</td>\n",
       "    </tr>\n",
       "    <tr>\n",
       "      <th>2019-09-24 18:00:00</th>\n",
       "      <td>64.13</td>\n",
       "    </tr>\n",
       "    <tr>\n",
       "      <th>2019-09-25 18:00:00</th>\n",
       "      <td>62.41</td>\n",
       "    </tr>\n",
       "    <tr>\n",
       "      <th>2019-09-26 18:00:00</th>\n",
       "      <td>62.08</td>\n",
       "    </tr>\n",
       "    <tr>\n",
       "      <th>2019-09-27 18:00:00</th>\n",
       "      <td>62.48</td>\n",
       "    </tr>\n",
       "    <tr>\n",
       "      <th>2019-09-30 18:00:00</th>\n",
       "      <td>60.99</td>\n",
       "    </tr>\n",
       "  </tbody>\n",
       "</table>\n",
       "<p>5016 rows × 1 columns</p>\n",
       "</div>"
      ],
      "text/plain": [
       "                     Price\n",
       "Date                      \n",
       "2000-01-04 18:00:00  23.95\n",
       "2000-01-05 18:00:00  23.72\n",
       "2000-01-06 18:00:00  23.55\n",
       "2000-01-07 18:00:00  23.35\n",
       "2000-01-10 18:00:00  22.77\n",
       "...                    ...\n",
       "2019-09-24 18:00:00  64.13\n",
       "2019-09-25 18:00:00  62.41\n",
       "2019-09-26 18:00:00  62.08\n",
       "2019-09-27 18:00:00  62.48\n",
       "2019-09-30 18:00:00  60.99\n",
       "\n",
       "[5016 rows x 1 columns]"
      ]
     },
     "execution_count": 198,
     "metadata": {},
     "output_type": "execute_result"
    }
   ],
   "source": [
    "oil.index = oil.index + pd.DateOffset(hours=18)\n",
    "oil"
   ]
  },
  {
   "cell_type": "markdown",
   "id": "c26bbb0b",
   "metadata": {},
   "source": [
    "### Timedeltas and Absolute Time"
   ]
  },
  {
   "cell_type": "code",
   "execution_count": 199,
   "id": "6b8a2808",
   "metadata": {},
   "outputs": [],
   "source": [
    "# Timedelta Class"
   ]
  },
  {
   "cell_type": "code",
   "execution_count": 200,
   "id": "535c6162",
   "metadata": {},
   "outputs": [
    {
     "data": {
      "text/plain": [
       "Timedelta('3 days 20:00:00')"
      ]
     },
     "execution_count": 200,
     "metadata": {},
     "output_type": "execute_result"
    }
   ],
   "source": [
    "pd.Timedelta(days=3, hours=20)"
   ]
  },
  {
   "cell_type": "code",
   "execution_count": 201,
   "id": "eb44f8c5",
   "metadata": {},
   "outputs": [
    {
     "data": {
      "text/plain": [
       "<DateOffset: days=3, hours=20>"
      ]
     },
     "execution_count": 201,
     "metadata": {},
     "output_type": "execute_result"
    }
   ],
   "source": [
    "pd.DateOffset(days=3, hours=20)"
   ]
  },
  {
   "cell_type": "code",
   "execution_count": 204,
   "id": "18a32438",
   "metadata": {},
   "outputs": [
    {
     "data": {
      "text/plain": [
       "Timestamp('2000-01-04 18:00:00')"
      ]
     },
     "execution_count": 204,
     "metadata": {},
     "output_type": "execute_result"
    }
   ],
   "source": [
    "ts = oil.iloc[0].name\n",
    "ts"
   ]
  },
  {
   "cell_type": "code",
   "execution_count": 205,
   "id": "2e2de616",
   "metadata": {},
   "outputs": [
    {
     "data": {
      "text/plain": [
       "Timestamp('2000-01-08 00:00:00')"
      ]
     },
     "execution_count": 205,
     "metadata": {},
     "output_type": "execute_result"
    }
   ],
   "source": [
    "ts + pd.Timedelta(days=3, hours=6)"
   ]
  },
  {
   "cell_type": "code",
   "execution_count": 206,
   "id": "96da2c0f",
   "metadata": {},
   "outputs": [
    {
     "data": {
      "text/plain": [
       "Timestamp('2000-01-08 00:00:00')"
      ]
     },
     "execution_count": 206,
     "metadata": {},
     "output_type": "execute_result"
    }
   ],
   "source": [
    "ts + pd.DateOffset(days=3, hours=6)"
   ]
  },
  {
   "cell_type": "code",
   "execution_count": 208,
   "id": "3aaae6f1",
   "metadata": {},
   "outputs": [],
   "source": [
    "# dateoffset - calendar aware (day could be 23-25 hours) # based on Daylight saving\n",
    "# timedelta - day = 24 hours"
   ]
  },
  {
   "cell_type": "code",
   "execution_count": 209,
   "id": "baa8cb59",
   "metadata": {},
   "outputs": [],
   "source": [
    "dat = pd.Timestamp('14 march 2021', tz='US/Eastern')"
   ]
  },
  {
   "cell_type": "code",
   "execution_count": 210,
   "id": "47385e18",
   "metadata": {},
   "outputs": [
    {
     "data": {
      "text/plain": [
       "Timestamp('2021-03-14 00:00:00-0500', tz='US/Eastern')"
      ]
     },
     "execution_count": 210,
     "metadata": {},
     "output_type": "execute_result"
    }
   ],
   "source": [
    "dat"
   ]
  },
  {
   "cell_type": "code",
   "execution_count": 211,
   "id": "503e084a",
   "metadata": {},
   "outputs": [
    {
     "data": {
      "text/plain": [
       "Timestamp('2021-03-15 00:00:00-0400', tz='US/Eastern')"
      ]
     },
     "execution_count": 211,
     "metadata": {},
     "output_type": "execute_result"
    }
   ],
   "source": [
    "dat + pd.DateOffset(days=1)"
   ]
  },
  {
   "cell_type": "code",
   "execution_count": 212,
   "id": "12616d7d",
   "metadata": {},
   "outputs": [
    {
     "data": {
      "text/plain": [
       "Timestamp('2021-03-15 01:00:00-0400', tz='US/Eastern')"
      ]
     },
     "execution_count": 212,
     "metadata": {},
     "output_type": "execute_result"
    }
   ],
   "source": [
    "dat + pd.Timedelta(days=1)"
   ]
  },
  {
   "cell_type": "markdown",
   "id": "7e2c5e40",
   "metadata": {},
   "source": [
    "### Resampling Timeseries"
   ]
  },
  {
   "cell_type": "code",
   "execution_count": 213,
   "id": "865acc01",
   "metadata": {},
   "outputs": [
    {
     "data": {
      "text/plain": [
       "<pandas.core.resample.DatetimeIndexResampler object at 0x000001B9553EB160>"
      ]
     },
     "execution_count": 213,
     "metadata": {},
     "output_type": "execute_result"
    }
   ],
   "source": [
    "oil.resample('M')"
   ]
  },
  {
   "cell_type": "code",
   "execution_count": 214,
   "id": "410535d9",
   "metadata": {},
   "outputs": [],
   "source": [
    "# D -> M\n",
    "# Many data points -> fewer and far between"
   ]
  },
  {
   "cell_type": "code",
   "execution_count": 223,
   "id": "b9e533c9",
   "metadata": {},
   "outputs": [
    {
     "data": {
      "text/html": [
       "<div>\n",
       "<style scoped>\n",
       "    .dataframe tbody tr th:only-of-type {\n",
       "        vertical-align: middle;\n",
       "    }\n",
       "\n",
       "    .dataframe tbody tr th {\n",
       "        vertical-align: top;\n",
       "    }\n",
       "\n",
       "    .dataframe thead th {\n",
       "        text-align: right;\n",
       "    }\n",
       "</style>\n",
       "<table border=\"1\" class=\"dataframe\">\n",
       "  <thead>\n",
       "    <tr style=\"text-align: right;\">\n",
       "      <th></th>\n",
       "      <th>Price</th>\n",
       "    </tr>\n",
       "    <tr>\n",
       "      <th>Date</th>\n",
       "      <th></th>\n",
       "    </tr>\n",
       "  </thead>\n",
       "  <tbody>\n",
       "    <tr>\n",
       "      <th>2000-01-31</th>\n",
       "      <td>26.080</td>\n",
       "    </tr>\n",
       "    <tr>\n",
       "      <th>2000-02-29</th>\n",
       "      <td>27.610</td>\n",
       "    </tr>\n",
       "    <tr>\n",
       "      <th>2000-03-31</th>\n",
       "      <td>27.970</td>\n",
       "    </tr>\n",
       "    <tr>\n",
       "      <th>2000-04-30</th>\n",
       "      <td>22.900</td>\n",
       "    </tr>\n",
       "    <tr>\n",
       "      <th>2000-05-31</th>\n",
       "      <td>28.260</td>\n",
       "    </tr>\n",
       "    <tr>\n",
       "      <th>...</th>\n",
       "      <td>...</td>\n",
       "    </tr>\n",
       "    <tr>\n",
       "      <th>2019-05-31</th>\n",
       "      <td>71.785</td>\n",
       "    </tr>\n",
       "    <tr>\n",
       "      <th>2019-06-30</th>\n",
       "      <td>63.560</td>\n",
       "    </tr>\n",
       "    <tr>\n",
       "      <th>2019-07-31</th>\n",
       "      <td>63.670</td>\n",
       "    </tr>\n",
       "    <tr>\n",
       "      <th>2019-08-31</th>\n",
       "      <td>59.015</td>\n",
       "    </tr>\n",
       "    <tr>\n",
       "      <th>2019-09-30</th>\n",
       "      <td>62.700</td>\n",
       "    </tr>\n",
       "  </tbody>\n",
       "</table>\n",
       "<p>237 rows × 1 columns</p>\n",
       "</div>"
      ],
      "text/plain": [
       "             Price\n",
       "Date              \n",
       "2000-01-31  26.080\n",
       "2000-02-29  27.610\n",
       "2000-03-31  27.970\n",
       "2000-04-30  22.900\n",
       "2000-05-31  28.260\n",
       "...            ...\n",
       "2019-05-31  71.785\n",
       "2019-06-30  63.560\n",
       "2019-07-31  63.670\n",
       "2019-08-31  59.015\n",
       "2019-09-30  62.700\n",
       "\n",
       "[237 rows x 1 columns]"
      ]
     },
     "execution_count": 223,
     "metadata": {},
     "output_type": "execute_result"
    }
   ],
   "source": [
    "oil.resample('M').median()  # down sampling"
   ]
  },
  {
   "cell_type": "code",
   "execution_count": 218,
   "id": "39feba6b",
   "metadata": {},
   "outputs": [
    {
     "data": {
      "text/plain": [
       "<AxesSubplot:xlabel='Date'>"
      ]
     },
     "execution_count": 218,
     "metadata": {},
     "output_type": "execute_result"
    },
    {
     "data": {
      "image/png": "[encoded data removed]",
      "text/plain": [
       "<Figure size 432x288 with 1 Axes>"
      ]
     },
     "metadata": {},
     "output_type": "display_data"
    }
   ],
   "source": [
    "oil.resample('M').median().plot()"
   ]
  },
  {
   "cell_type": "code",
   "execution_count": 217,
   "id": "872e06e5",
   "metadata": {},
   "outputs": [],
   "source": [
    "import seaborn as sns\n",
    "sns.set()"
   ]
  },
  {
   "cell_type": "code",
   "execution_count": 219,
   "id": "99c1875d",
   "metadata": {},
   "outputs": [
    {
     "data": {
      "text/plain": [
       "<AxesSubplot:xlabel='Date'>"
      ]
     },
     "execution_count": 219,
     "metadata": {},
     "output_type": "execute_result"
    },
    {
     "data": {
      "image/png": "[encoded data removed]",
      "text/plain": [
       "<Figure size 432x288 with 1 Axes>"
      ]
     },
     "metadata": {},
     "output_type": "display_data"
    }
   ],
   "source": [
    "oil.resample('M').mean().plot()"
   ]
  },
  {
   "cell_type": "code",
   "execution_count": 220,
   "id": "32548a5b",
   "metadata": {},
   "outputs": [
    {
     "data": {
      "text/plain": [
       "<AxesSubplot:xlabel='Date'>"
      ]
     },
     "execution_count": 220,
     "metadata": {},
     "output_type": "execute_result"
    },
    {
     "data": {
      "image/png": "[encoded data removed]",
      "text/plain": [
       "<Figure size 432x288 with 1 Axes>"
      ]
     },
     "metadata": {},
     "output_type": "display_data"
    }
   ],
   "source": [
    "oil.resample('Y').mean().plot()"
   ]
  },
  {
   "cell_type": "code",
   "execution_count": 221,
   "id": "c0020b93",
   "metadata": {},
   "outputs": [
    {
     "data": {
      "text/plain": [
       "20"
      ]
     },
     "execution_count": 221,
     "metadata": {},
     "output_type": "execute_result"
    }
   ],
   "source": [
    "oil.resample('Y').mean().size"
   ]
  },
  {
   "cell_type": "code",
   "execution_count": 222,
   "id": "48a52566",
   "metadata": {},
   "outputs": [
    {
     "data": {
      "text/plain": [
       "<AxesSubplot:xlabel='Date'>"
      ]
     },
     "execution_count": 222,
     "metadata": {},
     "output_type": "execute_result"
    },
    {
     "data": {
      "image/png": "[encoded data removed]",
      "text/plain": [
       "<Figure size 432x288 with 1 Axes>"
      ]
     },
     "metadata": {},
     "output_type": "display_data"
    }
   ],
   "source": [
    "oil.resample('10D').mean().plot()"
   ]
  },
  {
   "cell_type": "markdown",
   "id": "521b3ee1",
   "metadata": {},
   "source": [
    "### Upsampling and Interpolation"
   ]
  },
  {
   "cell_type": "code",
   "execution_count": 225,
   "id": "290996be",
   "metadata": {},
   "outputs": [],
   "source": [
    "# upsampling: 'D' -> 'H'\n",
    "# few -> many observations"
   ]
  },
  {
   "cell_type": "code",
   "execution_count": 255,
   "id": "61b13b35",
   "metadata": {},
   "outputs": [
    {
     "data": {
      "text/html": [
       "<div>\n",
       "<style scoped>\n",
       "    .dataframe tbody tr th:only-of-type {\n",
       "        vertical-align: middle;\n",
       "    }\n",
       "\n",
       "    .dataframe tbody tr th {\n",
       "        vertical-align: top;\n",
       "    }\n",
       "\n",
       "    .dataframe thead th {\n",
       "        text-align: right;\n",
       "    }\n",
       "</style>\n",
       "<table border=\"1\" class=\"dataframe\">\n",
       "  <thead>\n",
       "    <tr style=\"text-align: right;\">\n",
       "      <th></th>\n",
       "      <th>Price</th>\n",
       "    </tr>\n",
       "    <tr>\n",
       "      <th>Date</th>\n",
       "      <th></th>\n",
       "    </tr>\n",
       "  </thead>\n",
       "  <tbody>\n",
       "    <tr>\n",
       "      <th>2000-01-04 16:00:00</th>\n",
       "      <td>23.95</td>\n",
       "    </tr>\n",
       "    <tr>\n",
       "      <th>2000-01-05 00:00:00</th>\n",
       "      <td>NaN</td>\n",
       "    </tr>\n",
       "    <tr>\n",
       "      <th>2000-01-05 08:00:00</th>\n",
       "      <td>NaN</td>\n",
       "    </tr>\n",
       "    <tr>\n",
       "      <th>2000-01-05 16:00:00</th>\n",
       "      <td>23.72</td>\n",
       "    </tr>\n",
       "    <tr>\n",
       "      <th>2000-01-06 00:00:00</th>\n",
       "      <td>NaN</td>\n",
       "    </tr>\n",
       "    <tr>\n",
       "      <th>...</th>\n",
       "      <td>...</td>\n",
       "    </tr>\n",
       "    <tr>\n",
       "      <th>2019-09-29 08:00:00</th>\n",
       "      <td>NaN</td>\n",
       "    </tr>\n",
       "    <tr>\n",
       "      <th>2019-09-29 16:00:00</th>\n",
       "      <td>NaN</td>\n",
       "    </tr>\n",
       "    <tr>\n",
       "      <th>2019-09-30 00:00:00</th>\n",
       "      <td>NaN</td>\n",
       "    </tr>\n",
       "    <tr>\n",
       "      <th>2019-09-30 08:00:00</th>\n",
       "      <td>NaN</td>\n",
       "    </tr>\n",
       "    <tr>\n",
       "      <th>2019-09-30 16:00:00</th>\n",
       "      <td>60.99</td>\n",
       "    </tr>\n",
       "  </tbody>\n",
       "</table>\n",
       "<p>21628 rows × 1 columns</p>\n",
       "</div>"
      ],
      "text/plain": [
       "                     Price\n",
       "Date                      \n",
       "2000-01-04 16:00:00  23.95\n",
       "2000-01-05 00:00:00    NaN\n",
       "2000-01-05 08:00:00    NaN\n",
       "2000-01-05 16:00:00  23.72\n",
       "2000-01-06 00:00:00    NaN\n",
       "...                    ...\n",
       "2019-09-29 08:00:00    NaN\n",
       "2019-09-29 16:00:00    NaN\n",
       "2019-09-30 00:00:00    NaN\n",
       "2019-09-30 08:00:00    NaN\n",
       "2019-09-30 16:00:00  60.99\n",
       "\n",
       "[21628 rows x 1 columns]"
      ]
     },
     "execution_count": 255,
     "metadata": {},
     "output_type": "execute_result"
    }
   ],
   "source": [
    "oil.resample('8H').mean()"
   ]
  },
  {
   "cell_type": "code",
   "execution_count": 253,
   "id": "8dde6e92",
   "metadata": {},
   "outputs": [
    {
     "data": {
      "text/plain": [
       "<pandas.core.resample.DatetimeIndexResampler object at 0x000001B957606340>"
      ]
     },
     "execution_count": 253,
     "metadata": {},
     "output_type": "execute_result"
    }
   ],
   "source": [
    "oil.resample('8H')"
   ]
  },
  {
   "cell_type": "code",
   "execution_count": 227,
   "id": "9ac74e85",
   "metadata": {},
   "outputs": [],
   "source": [
    "# linear interpolation"
   ]
  },
  {
   "cell_type": "code",
   "execution_count": 229,
   "id": "3ed4010b",
   "metadata": {},
   "outputs": [
    {
     "data": {
      "text/plain": [
       "0.07666666666666681"
      ]
     },
     "execution_count": 229,
     "metadata": {},
     "output_type": "execute_result"
    }
   ],
   "source": [
    "# 23.72 NaN NaN 23.95\n",
    "diff = (23.95-23.72)/3\n",
    "diff"
   ]
  },
  {
   "cell_type": "code",
   "execution_count": 262,
   "id": "99188545",
   "metadata": {},
   "outputs": [
    {
     "name": "stdout",
     "output_type": "stream",
     "text": [
      "23.796666666666667 23.873333333333335\n"
     ]
    }
   ],
   "source": [
    "N1 = 23.72 + diff\n",
    "N2 = N1 + diff\n",
    "N2 + diff\n",
    "print(N1,N2)"
   ]
  },
  {
   "cell_type": "code",
   "execution_count": 261,
   "id": "30029b63",
   "metadata": {},
   "outputs": [
    {
     "data": {
      "text/html": [
       "<div>\n",
       "<style scoped>\n",
       "    .dataframe tbody tr th:only-of-type {\n",
       "        vertical-align: middle;\n",
       "    }\n",
       "\n",
       "    .dataframe tbody tr th {\n",
       "        vertical-align: top;\n",
       "    }\n",
       "\n",
       "    .dataframe thead th {\n",
       "        text-align: right;\n",
       "    }\n",
       "</style>\n",
       "<table border=\"1\" class=\"dataframe\">\n",
       "  <thead>\n",
       "    <tr style=\"text-align: right;\">\n",
       "      <th></th>\n",
       "      <th>Price</th>\n",
       "    </tr>\n",
       "    <tr>\n",
       "      <th>Date</th>\n",
       "      <th></th>\n",
       "    </tr>\n",
       "  </thead>\n",
       "  <tbody>\n",
       "    <tr>\n",
       "      <th>2000-01-04 16:00:00</th>\n",
       "      <td>23.950000</td>\n",
       "    </tr>\n",
       "    <tr>\n",
       "      <th>2000-01-05 00:00:00</th>\n",
       "      <td>23.873333</td>\n",
       "    </tr>\n",
       "    <tr>\n",
       "      <th>2000-01-05 08:00:00</th>\n",
       "      <td>23.796667</td>\n",
       "    </tr>\n",
       "    <tr>\n",
       "      <th>2000-01-05 16:00:00</th>\n",
       "      <td>23.720000</td>\n",
       "    </tr>\n",
       "    <tr>\n",
       "      <th>2000-01-06 00:00:00</th>\n",
       "      <td>23.663333</td>\n",
       "    </tr>\n",
       "    <tr>\n",
       "      <th>...</th>\n",
       "      <td>...</td>\n",
       "    </tr>\n",
       "    <tr>\n",
       "      <th>2019-09-29 08:00:00</th>\n",
       "      <td>61.652222</td>\n",
       "    </tr>\n",
       "    <tr>\n",
       "      <th>2019-09-29 16:00:00</th>\n",
       "      <td>61.486667</td>\n",
       "    </tr>\n",
       "    <tr>\n",
       "      <th>2019-09-30 00:00:00</th>\n",
       "      <td>61.321111</td>\n",
       "    </tr>\n",
       "    <tr>\n",
       "      <th>2019-09-30 08:00:00</th>\n",
       "      <td>61.155556</td>\n",
       "    </tr>\n",
       "    <tr>\n",
       "      <th>2019-09-30 16:00:00</th>\n",
       "      <td>60.990000</td>\n",
       "    </tr>\n",
       "  </tbody>\n",
       "</table>\n",
       "<p>21628 rows × 1 columns</p>\n",
       "</div>"
      ],
      "text/plain": [
       "                         Price\n",
       "Date                          \n",
       "2000-01-04 16:00:00  23.950000\n",
       "2000-01-05 00:00:00  23.873333\n",
       "2000-01-05 08:00:00  23.796667\n",
       "2000-01-05 16:00:00  23.720000\n",
       "2000-01-06 00:00:00  23.663333\n",
       "...                        ...\n",
       "2019-09-29 08:00:00  61.652222\n",
       "2019-09-29 16:00:00  61.486667\n",
       "2019-09-30 00:00:00  61.321111\n",
       "2019-09-30 08:00:00  61.155556\n",
       "2019-09-30 16:00:00  60.990000\n",
       "\n",
       "[21628 rows x 1 columns]"
      ]
     },
     "execution_count": 261,
     "metadata": {},
     "output_type": "execute_result"
    }
   ],
   "source": [
    "oil.resample(\"8H\").mean().interpolate(method=\"linear\")"
   ]
  },
  {
   "cell_type": "code",
   "execution_count": 263,
   "id": "58fbfb34",
   "metadata": {},
   "outputs": [
    {
     "data": {
      "text/html": [
       "<div>\n",
       "<style scoped>\n",
       "    .dataframe tbody tr th:only-of-type {\n",
       "        vertical-align: middle;\n",
       "    }\n",
       "\n",
       "    .dataframe tbody tr th {\n",
       "        vertical-align: top;\n",
       "    }\n",
       "\n",
       "    .dataframe thead th {\n",
       "        text-align: right;\n",
       "    }\n",
       "</style>\n",
       "<table border=\"1\" class=\"dataframe\">\n",
       "  <thead>\n",
       "    <tr style=\"text-align: right;\">\n",
       "      <th></th>\n",
       "      <th>Price</th>\n",
       "    </tr>\n",
       "    <tr>\n",
       "      <th>Date</th>\n",
       "      <th></th>\n",
       "    </tr>\n",
       "  </thead>\n",
       "  <tbody>\n",
       "    <tr>\n",
       "      <th>2000-01-04 16:00:00</th>\n",
       "      <td>23.950000</td>\n",
       "    </tr>\n",
       "    <tr>\n",
       "      <th>2000-01-05 00:00:00</th>\n",
       "      <td>23.013531</td>\n",
       "    </tr>\n",
       "    <tr>\n",
       "      <th>2000-01-05 08:00:00</th>\n",
       "      <td>23.117453</td>\n",
       "    </tr>\n",
       "    <tr>\n",
       "      <th>2000-01-05 16:00:00</th>\n",
       "      <td>23.720000</td>\n",
       "    </tr>\n",
       "    <tr>\n",
       "      <th>2000-01-06 00:00:00</th>\n",
       "      <td>23.319619</td>\n",
       "    </tr>\n",
       "    <tr>\n",
       "      <th>...</th>\n",
       "      <td>...</td>\n",
       "    </tr>\n",
       "    <tr>\n",
       "      <th>2019-09-29 08:00:00</th>\n",
       "      <td>61.240570</td>\n",
       "    </tr>\n",
       "    <tr>\n",
       "      <th>2019-09-29 16:00:00</th>\n",
       "      <td>61.195778</td>\n",
       "    </tr>\n",
       "    <tr>\n",
       "      <th>2019-09-30 00:00:00</th>\n",
       "      <td>61.176797</td>\n",
       "    </tr>\n",
       "    <tr>\n",
       "      <th>2019-09-30 08:00:00</th>\n",
       "      <td>61.185408</td>\n",
       "    </tr>\n",
       "    <tr>\n",
       "      <th>2019-09-30 16:00:00</th>\n",
       "      <td>60.990000</td>\n",
       "    </tr>\n",
       "  </tbody>\n",
       "</table>\n",
       "<p>21628 rows × 1 columns</p>\n",
       "</div>"
      ],
      "text/plain": [
       "                         Price\n",
       "Date                          \n",
       "2000-01-04 16:00:00  23.950000\n",
       "2000-01-05 00:00:00  23.013531\n",
       "2000-01-05 08:00:00  23.117453\n",
       "2000-01-05 16:00:00  23.720000\n",
       "2000-01-06 00:00:00  23.319619\n",
       "...                        ...\n",
       "2019-09-29 08:00:00  61.240570\n",
       "2019-09-29 16:00:00  61.195778\n",
       "2019-09-30 00:00:00  61.176797\n",
       "2019-09-30 08:00:00  61.185408\n",
       "2019-09-30 16:00:00  60.990000\n",
       "\n",
       "[21628 rows x 1 columns]"
      ]
     },
     "execution_count": 263,
     "metadata": {},
     "output_type": "execute_result"
    }
   ],
   "source": [
    "oil.resample('8H').mean().interpolate(method='spline', order=3)"
   ]
  },
  {
   "cell_type": "code",
   "execution_count": 274,
   "id": "d3c0b563",
   "metadata": {},
   "outputs": [
    {
     "data": {
      "text/html": [
       "<div>\n",
       "<style scoped>\n",
       "    .dataframe tbody tr th:only-of-type {\n",
       "        vertical-align: middle;\n",
       "    }\n",
       "\n",
       "    .dataframe tbody tr th {\n",
       "        vertical-align: top;\n",
       "    }\n",
       "\n",
       "    .dataframe thead th {\n",
       "        text-align: right;\n",
       "    }\n",
       "</style>\n",
       "<table border=\"1\" class=\"dataframe\">\n",
       "  <thead>\n",
       "    <tr style=\"text-align: right;\">\n",
       "      <th></th>\n",
       "      <th>Price</th>\n",
       "    </tr>\n",
       "    <tr>\n",
       "      <th>Date</th>\n",
       "      <th></th>\n",
       "    </tr>\n",
       "  </thead>\n",
       "  <tbody>\n",
       "    <tr>\n",
       "      <th>2000-01-04 16:00:00</th>\n",
       "      <td>23.950000</td>\n",
       "    </tr>\n",
       "    <tr>\n",
       "      <th>2000-01-05 00:00:00</th>\n",
       "      <td>23.865926</td>\n",
       "    </tr>\n",
       "    <tr>\n",
       "      <th>2000-01-05 08:00:00</th>\n",
       "      <td>23.788519</td>\n",
       "    </tr>\n",
       "    <tr>\n",
       "      <th>2000-01-05 16:00:00</th>\n",
       "      <td>23.720000</td>\n",
       "    </tr>\n",
       "    <tr>\n",
       "      <th>2000-01-06 00:00:00</th>\n",
       "      <td>23.662370</td>\n",
       "    </tr>\n",
       "    <tr>\n",
       "      <th>...</th>\n",
       "      <td>...</td>\n",
       "    </tr>\n",
       "    <tr>\n",
       "      <th>2019-09-29 08:00:00</th>\n",
       "      <td>61.999444</td>\n",
       "    </tr>\n",
       "    <tr>\n",
       "      <th>2019-09-29 16:00:00</th>\n",
       "      <td>61.795764</td>\n",
       "    </tr>\n",
       "    <tr>\n",
       "      <th>2019-09-30 00:00:00</th>\n",
       "      <td>61.558873</td>\n",
       "    </tr>\n",
       "    <tr>\n",
       "      <th>2019-09-30 08:00:00</th>\n",
       "      <td>61.289907</td>\n",
       "    </tr>\n",
       "    <tr>\n",
       "      <th>2019-09-30 16:00:00</th>\n",
       "      <td>60.990000</td>\n",
       "    </tr>\n",
       "  </tbody>\n",
       "</table>\n",
       "<p>21628 rows × 1 columns</p>\n",
       "</div>"
      ],
      "text/plain": [
       "                         Price\n",
       "Date                          \n",
       "2000-01-04 16:00:00  23.950000\n",
       "2000-01-05 00:00:00  23.865926\n",
       "2000-01-05 08:00:00  23.788519\n",
       "2000-01-05 16:00:00  23.720000\n",
       "2000-01-06 00:00:00  23.662370\n",
       "...                        ...\n",
       "2019-09-29 08:00:00  61.999444\n",
       "2019-09-29 16:00:00  61.795764\n",
       "2019-09-30 00:00:00  61.558873\n",
       "2019-09-30 08:00:00  61.289907\n",
       "2019-09-30 16:00:00  60.990000\n",
       "\n",
       "[21628 rows x 1 columns]"
      ]
     },
     "execution_count": 274,
     "metadata": {},
     "output_type": "execute_result"
    }
   ],
   "source": [
    "oil.resample('8H').mean().interpolate(method='akima')"
   ]
  },
  {
   "cell_type": "markdown",
   "id": "86b0ef01",
   "metadata": {},
   "source": [
    "### asfreq()"
   ]
  },
  {
   "cell_type": "code",
   "execution_count": 275,
   "id": "45e9eacd",
   "metadata": {},
   "outputs": [
    {
     "data": {
      "text/html": [
       "<div>\n",
       "<style scoped>\n",
       "    .dataframe tbody tr th:only-of-type {\n",
       "        vertical-align: middle;\n",
       "    }\n",
       "\n",
       "    .dataframe tbody tr th {\n",
       "        vertical-align: top;\n",
       "    }\n",
       "\n",
       "    .dataframe thead th {\n",
       "        text-align: right;\n",
       "    }\n",
       "</style>\n",
       "<table border=\"1\" class=\"dataframe\">\n",
       "  <thead>\n",
       "    <tr style=\"text-align: right;\">\n",
       "      <th></th>\n",
       "      <th>Price</th>\n",
       "    </tr>\n",
       "    <tr>\n",
       "      <th>Date</th>\n",
       "      <th></th>\n",
       "    </tr>\n",
       "  </thead>\n",
       "  <tbody>\n",
       "    <tr>\n",
       "      <th>2000-01-04 18:00:00</th>\n",
       "      <td>23.95</td>\n",
       "    </tr>\n",
       "    <tr>\n",
       "      <th>2000-01-14 18:00:00</th>\n",
       "      <td>25.50</td>\n",
       "    </tr>\n",
       "    <tr>\n",
       "      <th>2000-01-24 18:00:00</th>\n",
       "      <td>27.02</td>\n",
       "    </tr>\n",
       "    <tr>\n",
       "      <th>2000-02-03 18:00:00</th>\n",
       "      <td>27.60</td>\n",
       "    </tr>\n",
       "    <tr>\n",
       "      <th>2000-02-13 18:00:00</th>\n",
       "      <td>NaN</td>\n",
       "    </tr>\n",
       "    <tr>\n",
       "      <th>...</th>\n",
       "      <td>...</td>\n",
       "    </tr>\n",
       "    <tr>\n",
       "      <th>2019-08-12 18:00:00</th>\n",
       "      <td>57.13</td>\n",
       "    </tr>\n",
       "    <tr>\n",
       "      <th>2019-08-22 18:00:00</th>\n",
       "      <td>59.81</td>\n",
       "    </tr>\n",
       "    <tr>\n",
       "      <th>2019-09-01 18:00:00</th>\n",
       "      <td>NaN</td>\n",
       "    </tr>\n",
       "    <tr>\n",
       "      <th>2019-09-11 18:00:00</th>\n",
       "      <td>63.02</td>\n",
       "    </tr>\n",
       "    <tr>\n",
       "      <th>2019-09-21 18:00:00</th>\n",
       "      <td>NaN</td>\n",
       "    </tr>\n",
       "  </tbody>\n",
       "</table>\n",
       "<p>721 rows × 1 columns</p>\n",
       "</div>"
      ],
      "text/plain": [
       "                     Price\n",
       "Date                      \n",
       "2000-01-04 18:00:00  23.95\n",
       "2000-01-14 18:00:00  25.50\n",
       "2000-01-24 18:00:00  27.02\n",
       "2000-02-03 18:00:00  27.60\n",
       "2000-02-13 18:00:00    NaN\n",
       "...                    ...\n",
       "2019-08-12 18:00:00  57.13\n",
       "2019-08-22 18:00:00  59.81\n",
       "2019-09-01 18:00:00    NaN\n",
       "2019-09-11 18:00:00  63.02\n",
       "2019-09-21 18:00:00    NaN\n",
       "\n",
       "[721 rows x 1 columns]"
      ]
     },
     "execution_count": 275,
     "metadata": {},
     "output_type": "execute_result"
    }
   ],
   "source": [
    "oil.asfreq('10D')"
   ]
  },
  {
   "cell_type": "code",
   "execution_count": 277,
   "id": "6e08bcbe",
   "metadata": {},
   "outputs": [
    {
     "data": {
      "text/plain": [
       "(True, False)"
      ]
     },
     "execution_count": 277,
     "metadata": {},
     "output_type": "execute_result"
    }
   ],
   "source": [
    "'2019-09-21' in oil.index, '2020-02-21' in oil.index"
   ]
  },
  {
   "cell_type": "code",
   "execution_count": 278,
   "id": "4df1d9ce",
   "metadata": {},
   "outputs": [
    {
     "data": {
      "text/plain": [
       "'Monday'"
      ]
     },
     "execution_count": 278,
     "metadata": {},
     "output_type": "execute_result"
    }
   ],
   "source": [
    "pd.Timestamp('2020-09-21').day_name()"
   ]
  },
  {
   "cell_type": "code",
   "execution_count": 280,
   "id": "f4a5b45b",
   "metadata": {},
   "outputs": [
    {
     "data": {
      "text/html": [
       "<div>\n",
       "<style scoped>\n",
       "    .dataframe tbody tr th:only-of-type {\n",
       "        vertical-align: middle;\n",
       "    }\n",
       "\n",
       "    .dataframe tbody tr th {\n",
       "        vertical-align: top;\n",
       "    }\n",
       "\n",
       "    .dataframe thead th {\n",
       "        text-align: right;\n",
       "    }\n",
       "</style>\n",
       "<table border=\"1\" class=\"dataframe\">\n",
       "  <thead>\n",
       "    <tr style=\"text-align: right;\">\n",
       "      <th></th>\n",
       "      <th>Price</th>\n",
       "    </tr>\n",
       "    <tr>\n",
       "      <th>Date</th>\n",
       "      <th></th>\n",
       "    </tr>\n",
       "  </thead>\n",
       "  <tbody>\n",
       "    <tr>\n",
       "      <th>2000-01-04 18:00:00</th>\n",
       "      <td>23.95</td>\n",
       "    </tr>\n",
       "    <tr>\n",
       "      <th>2000-01-14 18:00:00</th>\n",
       "      <td>25.50</td>\n",
       "    </tr>\n",
       "    <tr>\n",
       "      <th>2000-01-24 18:00:00</th>\n",
       "      <td>27.02</td>\n",
       "    </tr>\n",
       "    <tr>\n",
       "      <th>2000-02-03 18:00:00</th>\n",
       "      <td>27.60</td>\n",
       "    </tr>\n",
       "    <tr>\n",
       "      <th>2000-02-13 18:00:00</th>\n",
       "      <td>27.82</td>\n",
       "    </tr>\n",
       "    <tr>\n",
       "      <th>...</th>\n",
       "      <td>...</td>\n",
       "    </tr>\n",
       "    <tr>\n",
       "      <th>2019-08-12 18:00:00</th>\n",
       "      <td>57.13</td>\n",
       "    </tr>\n",
       "    <tr>\n",
       "      <th>2019-08-22 18:00:00</th>\n",
       "      <td>59.81</td>\n",
       "    </tr>\n",
       "    <tr>\n",
       "      <th>2019-09-01 18:00:00</th>\n",
       "      <td>61.04</td>\n",
       "    </tr>\n",
       "    <tr>\n",
       "      <th>2019-09-11 18:00:00</th>\n",
       "      <td>63.02</td>\n",
       "    </tr>\n",
       "    <tr>\n",
       "      <th>2019-09-21 18:00:00</th>\n",
       "      <td>65.23</td>\n",
       "    </tr>\n",
       "  </tbody>\n",
       "</table>\n",
       "<p>721 rows × 1 columns</p>\n",
       "</div>"
      ],
      "text/plain": [
       "                     Price\n",
       "Date                      \n",
       "2000-01-04 18:00:00  23.95\n",
       "2000-01-14 18:00:00  25.50\n",
       "2000-01-24 18:00:00  27.02\n",
       "2000-02-03 18:00:00  27.60\n",
       "2000-02-13 18:00:00  27.82\n",
       "...                    ...\n",
       "2019-08-12 18:00:00  57.13\n",
       "2019-08-22 18:00:00  59.81\n",
       "2019-09-01 18:00:00  61.04\n",
       "2019-09-11 18:00:00  63.02\n",
       "2019-09-21 18:00:00  65.23\n",
       "\n",
       "[721 rows x 1 columns]"
      ]
     },
     "execution_count": 280,
     "metadata": {},
     "output_type": "execute_result"
    }
   ],
   "source": [
    "oil.asfreq('10D', method='ffill') # bfill"
   ]
  },
  {
   "cell_type": "code",
   "execution_count": 281,
   "id": "e4ce365d",
   "metadata": {},
   "outputs": [
    {
     "data": {
      "text/html": [
       "<div>\n",
       "<style scoped>\n",
       "    .dataframe tbody tr th:only-of-type {\n",
       "        vertical-align: middle;\n",
       "    }\n",
       "\n",
       "    .dataframe tbody tr th {\n",
       "        vertical-align: top;\n",
       "    }\n",
       "\n",
       "    .dataframe thead th {\n",
       "        text-align: right;\n",
       "    }\n",
       "</style>\n",
       "<table border=\"1\" class=\"dataframe\">\n",
       "  <thead>\n",
       "    <tr style=\"text-align: right;\">\n",
       "      <th></th>\n",
       "      <th>Price</th>\n",
       "    </tr>\n",
       "    <tr>\n",
       "      <th>Date</th>\n",
       "      <th></th>\n",
       "    </tr>\n",
       "  </thead>\n",
       "  <tbody>\n",
       "    <tr>\n",
       "      <th>2000-01-04 18:00:00</th>\n",
       "      <td>23.95</td>\n",
       "    </tr>\n",
       "    <tr>\n",
       "      <th>2000-01-14 18:00:00</th>\n",
       "      <td>25.50</td>\n",
       "    </tr>\n",
       "    <tr>\n",
       "      <th>2000-01-24 18:00:00</th>\n",
       "      <td>27.02</td>\n",
       "    </tr>\n",
       "    <tr>\n",
       "      <th>2000-02-03 18:00:00</th>\n",
       "      <td>27.60</td>\n",
       "    </tr>\n",
       "    <tr>\n",
       "      <th>2000-02-13 18:00:00</th>\n",
       "      <td>12.00</td>\n",
       "    </tr>\n",
       "    <tr>\n",
       "      <th>...</th>\n",
       "      <td>...</td>\n",
       "    </tr>\n",
       "    <tr>\n",
       "      <th>2019-08-12 18:00:00</th>\n",
       "      <td>57.13</td>\n",
       "    </tr>\n",
       "    <tr>\n",
       "      <th>2019-08-22 18:00:00</th>\n",
       "      <td>59.81</td>\n",
       "    </tr>\n",
       "    <tr>\n",
       "      <th>2019-09-01 18:00:00</th>\n",
       "      <td>12.00</td>\n",
       "    </tr>\n",
       "    <tr>\n",
       "      <th>2019-09-11 18:00:00</th>\n",
       "      <td>63.02</td>\n",
       "    </tr>\n",
       "    <tr>\n",
       "      <th>2019-09-21 18:00:00</th>\n",
       "      <td>12.00</td>\n",
       "    </tr>\n",
       "  </tbody>\n",
       "</table>\n",
       "<p>721 rows × 1 columns</p>\n",
       "</div>"
      ],
      "text/plain": [
       "                     Price\n",
       "Date                      \n",
       "2000-01-04 18:00:00  23.95\n",
       "2000-01-14 18:00:00  25.50\n",
       "2000-01-24 18:00:00  27.02\n",
       "2000-02-03 18:00:00  27.60\n",
       "2000-02-13 18:00:00  12.00\n",
       "...                    ...\n",
       "2019-08-12 18:00:00  57.13\n",
       "2019-08-22 18:00:00  59.81\n",
       "2019-09-01 18:00:00  12.00\n",
       "2019-09-11 18:00:00  63.02\n",
       "2019-09-21 18:00:00  12.00\n",
       "\n",
       "[721 rows x 1 columns]"
      ]
     },
     "execution_count": 281,
     "metadata": {},
     "output_type": "execute_result"
    }
   ],
   "source": [
    "oil.asfreq('10D', fill_value=12)"
   ]
  },
  {
   "cell_type": "code",
   "execution_count": 282,
   "id": "785f467e",
   "metadata": {},
   "outputs": [
    {
     "data": {
      "text/html": [
       "<div>\n",
       "<style scoped>\n",
       "    .dataframe tbody tr th:only-of-type {\n",
       "        vertical-align: middle;\n",
       "    }\n",
       "\n",
       "    .dataframe tbody tr th {\n",
       "        vertical-align: top;\n",
       "    }\n",
       "\n",
       "    .dataframe thead th {\n",
       "        text-align: right;\n",
       "    }\n",
       "</style>\n",
       "<table border=\"1\" class=\"dataframe\">\n",
       "  <thead>\n",
       "    <tr style=\"text-align: right;\">\n",
       "      <th></th>\n",
       "      <th>Price</th>\n",
       "    </tr>\n",
       "    <tr>\n",
       "      <th>Date</th>\n",
       "      <th></th>\n",
       "    </tr>\n",
       "  </thead>\n",
       "  <tbody>\n",
       "    <tr>\n",
       "      <th>2000-01-31 18:00:00</th>\n",
       "      <td>27.08</td>\n",
       "    </tr>\n",
       "    <tr>\n",
       "      <th>2000-02-29 18:00:00</th>\n",
       "      <td>29.01</td>\n",
       "    </tr>\n",
       "    <tr>\n",
       "      <th>2000-03-31 18:00:00</th>\n",
       "      <td>23.98</td>\n",
       "    </tr>\n",
       "    <tr>\n",
       "      <th>2000-04-30 18:00:00</th>\n",
       "      <td>23.79</td>\n",
       "    </tr>\n",
       "    <tr>\n",
       "      <th>2000-05-31 18:00:00</th>\n",
       "      <td>29.64</td>\n",
       "    </tr>\n",
       "    <tr>\n",
       "      <th>...</th>\n",
       "      <td>...</td>\n",
       "    </tr>\n",
       "    <tr>\n",
       "      <th>2019-05-31 18:00:00</th>\n",
       "      <td>66.78</td>\n",
       "    </tr>\n",
       "    <tr>\n",
       "      <th>2019-06-30 18:00:00</th>\n",
       "      <td>67.52</td>\n",
       "    </tr>\n",
       "    <tr>\n",
       "      <th>2019-07-31 18:00:00</th>\n",
       "      <td>64.07</td>\n",
       "    </tr>\n",
       "    <tr>\n",
       "      <th>2019-08-31 18:00:00</th>\n",
       "      <td>61.04</td>\n",
       "    </tr>\n",
       "    <tr>\n",
       "      <th>2019-09-30 18:00:00</th>\n",
       "      <td>60.99</td>\n",
       "    </tr>\n",
       "  </tbody>\n",
       "</table>\n",
       "<p>237 rows × 1 columns</p>\n",
       "</div>"
      ],
      "text/plain": [
       "                     Price\n",
       "Date                      \n",
       "2000-01-31 18:00:00  27.08\n",
       "2000-02-29 18:00:00  29.01\n",
       "2000-03-31 18:00:00  23.98\n",
       "2000-04-30 18:00:00  23.79\n",
       "2000-05-31 18:00:00  29.64\n",
       "...                    ...\n",
       "2019-05-31 18:00:00  66.78\n",
       "2019-06-30 18:00:00  67.52\n",
       "2019-07-31 18:00:00  64.07\n",
       "2019-08-31 18:00:00  61.04\n",
       "2019-09-30 18:00:00  60.99\n",
       "\n",
       "[237 rows x 1 columns]"
      ]
     },
     "execution_count": 282,
     "metadata": {},
     "output_type": "execute_result"
    }
   ],
   "source": [
    "oil.asfreq('M',method='ffill')"
   ]
  },
  {
   "cell_type": "code",
   "execution_count": 284,
   "id": "71d8a4d5",
   "metadata": {},
   "outputs": [
    {
     "data": {
      "text/html": [
       "<div>\n",
       "<style scoped>\n",
       "    .dataframe tbody tr th:only-of-type {\n",
       "        vertical-align: middle;\n",
       "    }\n",
       "\n",
       "    .dataframe tbody tr th {\n",
       "        vertical-align: top;\n",
       "    }\n",
       "\n",
       "    .dataframe thead th {\n",
       "        text-align: right;\n",
       "    }\n",
       "</style>\n",
       "<table border=\"1\" class=\"dataframe\">\n",
       "  <thead>\n",
       "    <tr style=\"text-align: right;\">\n",
       "      <th></th>\n",
       "      <th>Price</th>\n",
       "    </tr>\n",
       "    <tr>\n",
       "      <th>Date</th>\n",
       "      <th></th>\n",
       "    </tr>\n",
       "  </thead>\n",
       "  <tbody>\n",
       "    <tr>\n",
       "      <th>2000-01-31</th>\n",
       "      <td>26.080</td>\n",
       "    </tr>\n",
       "    <tr>\n",
       "      <th>2000-02-29</th>\n",
       "      <td>27.610</td>\n",
       "    </tr>\n",
       "    <tr>\n",
       "      <th>2000-03-31</th>\n",
       "      <td>27.970</td>\n",
       "    </tr>\n",
       "    <tr>\n",
       "      <th>2000-04-30</th>\n",
       "      <td>22.900</td>\n",
       "    </tr>\n",
       "    <tr>\n",
       "      <th>2000-05-31</th>\n",
       "      <td>28.260</td>\n",
       "    </tr>\n",
       "    <tr>\n",
       "      <th>...</th>\n",
       "      <td>...</td>\n",
       "    </tr>\n",
       "    <tr>\n",
       "      <th>2019-05-31</th>\n",
       "      <td>71.785</td>\n",
       "    </tr>\n",
       "    <tr>\n",
       "      <th>2019-06-30</th>\n",
       "      <td>63.560</td>\n",
       "    </tr>\n",
       "    <tr>\n",
       "      <th>2019-07-31</th>\n",
       "      <td>63.670</td>\n",
       "    </tr>\n",
       "    <tr>\n",
       "      <th>2019-08-31</th>\n",
       "      <td>59.015</td>\n",
       "    </tr>\n",
       "    <tr>\n",
       "      <th>2019-09-30</th>\n",
       "      <td>62.700</td>\n",
       "    </tr>\n",
       "  </tbody>\n",
       "</table>\n",
       "<p>237 rows × 1 columns</p>\n",
       "</div>"
      ],
      "text/plain": [
       "             Price\n",
       "Date              \n",
       "2000-01-31  26.080\n",
       "2000-02-29  27.610\n",
       "2000-03-31  27.970\n",
       "2000-04-30  22.900\n",
       "2000-05-31  28.260\n",
       "...            ...\n",
       "2019-05-31  71.785\n",
       "2019-06-30  63.560\n",
       "2019-07-31  63.670\n",
       "2019-08-31  59.015\n",
       "2019-09-30  62.700\n",
       "\n",
       "[237 rows x 1 columns]"
      ]
     },
     "execution_count": 284,
     "metadata": {},
     "output_type": "execute_result"
    }
   ],
   "source": [
    "oil.resample('M').median()"
   ]
  },
  {
   "cell_type": "code",
   "execution_count": 285,
   "id": "f6a6c2ef",
   "metadata": {},
   "outputs": [],
   "source": [
    "# -> asfreq() - merely selects the specific data from series\n",
    "# -> resample() - gives resampler object on which we can apply aggregation function."
   ]
  },
  {
   "cell_type": "markdown",
   "id": "4b3328af",
   "metadata": {},
   "source": [
    "### Rolling Windows"
   ]
  },
  {
   "cell_type": "code",
   "execution_count": 286,
   "id": "cf988406",
   "metadata": {},
   "outputs": [],
   "source": [
    "# window size = 3\n",
    "# agg function = mean"
   ]
  },
  {
   "cell_type": "code",
   "execution_count": 287,
   "id": "8912632d",
   "metadata": {},
   "outputs": [
    {
     "data": {
      "text/html": [
       "<div>\n",
       "<style scoped>\n",
       "    .dataframe tbody tr th:only-of-type {\n",
       "        vertical-align: middle;\n",
       "    }\n",
       "\n",
       "    .dataframe tbody tr th {\n",
       "        vertical-align: top;\n",
       "    }\n",
       "\n",
       "    .dataframe thead th {\n",
       "        text-align: right;\n",
       "    }\n",
       "</style>\n",
       "<table border=\"1\" class=\"dataframe\">\n",
       "  <thead>\n",
       "    <tr style=\"text-align: right;\">\n",
       "      <th></th>\n",
       "      <th>Price</th>\n",
       "    </tr>\n",
       "    <tr>\n",
       "      <th>Date</th>\n",
       "      <th></th>\n",
       "    </tr>\n",
       "  </thead>\n",
       "  <tbody>\n",
       "    <tr>\n",
       "      <th>2000-01-04 18:00:00</th>\n",
       "      <td>23.95</td>\n",
       "    </tr>\n",
       "    <tr>\n",
       "      <th>2000-01-05 18:00:00</th>\n",
       "      <td>23.72</td>\n",
       "    </tr>\n",
       "    <tr>\n",
       "      <th>2000-01-06 18:00:00</th>\n",
       "      <td>23.55</td>\n",
       "    </tr>\n",
       "    <tr>\n",
       "      <th>2000-01-07 18:00:00</th>\n",
       "      <td>23.35</td>\n",
       "    </tr>\n",
       "    <tr>\n",
       "      <th>2000-01-10 18:00:00</th>\n",
       "      <td>22.77</td>\n",
       "    </tr>\n",
       "    <tr>\n",
       "      <th>...</th>\n",
       "      <td>...</td>\n",
       "    </tr>\n",
       "    <tr>\n",
       "      <th>2019-09-24 18:00:00</th>\n",
       "      <td>64.13</td>\n",
       "    </tr>\n",
       "    <tr>\n",
       "      <th>2019-09-25 18:00:00</th>\n",
       "      <td>62.41</td>\n",
       "    </tr>\n",
       "    <tr>\n",
       "      <th>2019-09-26 18:00:00</th>\n",
       "      <td>62.08</td>\n",
       "    </tr>\n",
       "    <tr>\n",
       "      <th>2019-09-27 18:00:00</th>\n",
       "      <td>62.48</td>\n",
       "    </tr>\n",
       "    <tr>\n",
       "      <th>2019-09-30 18:00:00</th>\n",
       "      <td>60.99</td>\n",
       "    </tr>\n",
       "  </tbody>\n",
       "</table>\n",
       "<p>5016 rows × 1 columns</p>\n",
       "</div>"
      ],
      "text/plain": [
       "                     Price\n",
       "Date                      \n",
       "2000-01-04 18:00:00  23.95\n",
       "2000-01-05 18:00:00  23.72\n",
       "2000-01-06 18:00:00  23.55\n",
       "2000-01-07 18:00:00  23.35\n",
       "2000-01-10 18:00:00  22.77\n",
       "...                    ...\n",
       "2019-09-24 18:00:00  64.13\n",
       "2019-09-25 18:00:00  62.41\n",
       "2019-09-26 18:00:00  62.08\n",
       "2019-09-27 18:00:00  62.48\n",
       "2019-09-30 18:00:00  60.99\n",
       "\n",
       "[5016 rows x 1 columns]"
      ]
     },
     "execution_count": 287,
     "metadata": {},
     "output_type": "execute_result"
    }
   ],
   "source": [
    "oil"
   ]
  },
  {
   "cell_type": "code",
   "execution_count": 289,
   "id": "1c223059",
   "metadata": {},
   "outputs": [
    {
     "data": {
      "text/plain": [
       "Price    23.74\n",
       "dtype: float64"
      ]
     },
     "execution_count": 289,
     "metadata": {},
     "output_type": "execute_result"
    }
   ],
   "source": [
    "(oil.iloc[0] + oil.iloc[1] + oil.iloc[2])/3"
   ]
  },
  {
   "cell_type": "code",
   "execution_count": 290,
   "id": "3e027cfa",
   "metadata": {},
   "outputs": [
    {
     "data": {
      "text/html": [
       "<div>\n",
       "<style scoped>\n",
       "    .dataframe tbody tr th:only-of-type {\n",
       "        vertical-align: middle;\n",
       "    }\n",
       "\n",
       "    .dataframe tbody tr th {\n",
       "        vertical-align: top;\n",
       "    }\n",
       "\n",
       "    .dataframe thead th {\n",
       "        text-align: right;\n",
       "    }\n",
       "</style>\n",
       "<table border=\"1\" class=\"dataframe\">\n",
       "  <thead>\n",
       "    <tr style=\"text-align: right;\">\n",
       "      <th></th>\n",
       "      <th>Price</th>\n",
       "    </tr>\n",
       "    <tr>\n",
       "      <th>Date</th>\n",
       "      <th></th>\n",
       "    </tr>\n",
       "  </thead>\n",
       "  <tbody>\n",
       "    <tr>\n",
       "      <th>2000-01-04 18:00:00</th>\n",
       "      <td>NaN</td>\n",
       "    </tr>\n",
       "    <tr>\n",
       "      <th>2000-01-05 18:00:00</th>\n",
       "      <td>NaN</td>\n",
       "    </tr>\n",
       "    <tr>\n",
       "      <th>2000-01-06 18:00:00</th>\n",
       "      <td>23.740000</td>\n",
       "    </tr>\n",
       "    <tr>\n",
       "      <th>2000-01-07 18:00:00</th>\n",
       "      <td>23.540000</td>\n",
       "    </tr>\n",
       "    <tr>\n",
       "      <th>2000-01-10 18:00:00</th>\n",
       "      <td>23.223333</td>\n",
       "    </tr>\n",
       "    <tr>\n",
       "      <th>...</th>\n",
       "      <td>...</td>\n",
       "    </tr>\n",
       "    <tr>\n",
       "      <th>2019-09-24 18:00:00</th>\n",
       "      <td>64.673333</td>\n",
       "    </tr>\n",
       "    <tr>\n",
       "      <th>2019-09-25 18:00:00</th>\n",
       "      <td>63.733333</td>\n",
       "    </tr>\n",
       "    <tr>\n",
       "      <th>2019-09-26 18:00:00</th>\n",
       "      <td>62.873333</td>\n",
       "    </tr>\n",
       "    <tr>\n",
       "      <th>2019-09-27 18:00:00</th>\n",
       "      <td>62.323333</td>\n",
       "    </tr>\n",
       "    <tr>\n",
       "      <th>2019-09-30 18:00:00</th>\n",
       "      <td>61.850000</td>\n",
       "    </tr>\n",
       "  </tbody>\n",
       "</table>\n",
       "<p>5016 rows × 1 columns</p>\n",
       "</div>"
      ],
      "text/plain": [
       "                         Price\n",
       "Date                          \n",
       "2000-01-04 18:00:00        NaN\n",
       "2000-01-05 18:00:00        NaN\n",
       "2000-01-06 18:00:00  23.740000\n",
       "2000-01-07 18:00:00  23.540000\n",
       "2000-01-10 18:00:00  23.223333\n",
       "...                        ...\n",
       "2019-09-24 18:00:00  64.673333\n",
       "2019-09-25 18:00:00  63.733333\n",
       "2019-09-26 18:00:00  62.873333\n",
       "2019-09-27 18:00:00  62.323333\n",
       "2019-09-30 18:00:00  61.850000\n",
       "\n",
       "[5016 rows x 1 columns]"
      ]
     },
     "execution_count": 290,
     "metadata": {},
     "output_type": "execute_result"
    }
   ],
   "source": [
    "oil.rolling(3).mean()"
   ]
  },
  {
   "cell_type": "code",
   "execution_count": 291,
   "id": "c0549555",
   "metadata": {},
   "outputs": [
    {
     "data": {
      "text/plain": [
       "Rolling [window=3,center=False,axis=0,method=single]"
      ]
     },
     "execution_count": 291,
     "metadata": {},
     "output_type": "execute_result"
    }
   ],
   "source": [
    "oil.rolling(3)"
   ]
  },
  {
   "cell_type": "code",
   "execution_count": 292,
   "id": "0907a2a6",
   "metadata": {},
   "outputs": [],
   "source": [
    "# visulizing moving averages\n",
    "from matplotlib import pyplot as plt"
   ]
  },
  {
   "cell_type": "code",
   "execution_count": 297,
   "id": "cdaaa946",
   "metadata": {},
   "outputs": [
    {
     "data": {
      "text/plain": [
       "Text(0, 0.5, 'Brent Price(USD)')"
      ]
     },
     "execution_count": 297,
     "metadata": {},
     "output_type": "execute_result"
    },
    {
     "data": {
      "image/png": "[encoded data removed]",
      "text/plain": [
       "<Figure size 432x288 with 1 Axes>"
      ]
     },
     "metadata": {},
     "output_type": "display_data"
    }
   ],
   "source": [
    "fig, ax = plt.subplots()\n",
    "ax.plot(oil, marker=',', label='Price')\n",
    "ax.plot(oil.rolling(250, win_type='blackman').mean(), color='red', label='50-Day MA')\n",
    "\n",
    "ax.legend();\n",
    "ax.set_ylabel('Brent Price(USD)')"
   ]
  },
  {
   "cell_type": "markdown",
   "id": "598bb6a1",
   "metadata": {},
   "source": [
    "### Challenge"
   ]
  },
  {
   "cell_type": "code",
   "execution_count": 313,
   "id": "66fd7c82",
   "metadata": {},
   "outputs": [
    {
     "data": {
      "text/html": [
       "<div>\n",
       "<style scoped>\n",
       "    .dataframe tbody tr th:only-of-type {\n",
       "        vertical-align: middle;\n",
       "    }\n",
       "\n",
       "    .dataframe tbody tr th {\n",
       "        vertical-align: top;\n",
       "    }\n",
       "\n",
       "    .dataframe thead th {\n",
       "        text-align: right;\n",
       "    }\n",
       "</style>\n",
       "<table border=\"1\" class=\"dataframe\">\n",
       "  <thead>\n",
       "    <tr style=\"text-align: right;\">\n",
       "      <th></th>\n",
       "      <th>Price</th>\n",
       "      <th>Quarter</th>\n",
       "    </tr>\n",
       "    <tr>\n",
       "      <th>Date</th>\n",
       "      <th></th>\n",
       "      <th></th>\n",
       "    </tr>\n",
       "  </thead>\n",
       "  <tbody>\n",
       "    <tr>\n",
       "      <th>2000-01-04 18:00:00</th>\n",
       "      <td>23.95</td>\n",
       "      <td>1</td>\n",
       "    </tr>\n",
       "    <tr>\n",
       "      <th>2000-01-05 18:00:00</th>\n",
       "      <td>23.72</td>\n",
       "      <td>1</td>\n",
       "    </tr>\n",
       "    <tr>\n",
       "      <th>2000-01-06 18:00:00</th>\n",
       "      <td>23.55</td>\n",
       "      <td>1</td>\n",
       "    </tr>\n",
       "    <tr>\n",
       "      <th>2000-01-07 18:00:00</th>\n",
       "      <td>23.35</td>\n",
       "      <td>1</td>\n",
       "    </tr>\n",
       "    <tr>\n",
       "      <th>2000-01-10 18:00:00</th>\n",
       "      <td>22.77</td>\n",
       "      <td>1</td>\n",
       "    </tr>\n",
       "    <tr>\n",
       "      <th>...</th>\n",
       "      <td>...</td>\n",
       "      <td>...</td>\n",
       "    </tr>\n",
       "    <tr>\n",
       "      <th>2019-09-24 18:00:00</th>\n",
       "      <td>64.13</td>\n",
       "      <td>3</td>\n",
       "    </tr>\n",
       "    <tr>\n",
       "      <th>2019-09-25 18:00:00</th>\n",
       "      <td>62.41</td>\n",
       "      <td>3</td>\n",
       "    </tr>\n",
       "    <tr>\n",
       "      <th>2019-09-26 18:00:00</th>\n",
       "      <td>62.08</td>\n",
       "      <td>3</td>\n",
       "    </tr>\n",
       "    <tr>\n",
       "      <th>2019-09-27 18:00:00</th>\n",
       "      <td>62.48</td>\n",
       "      <td>3</td>\n",
       "    </tr>\n",
       "    <tr>\n",
       "      <th>2019-09-30 18:00:00</th>\n",
       "      <td>60.99</td>\n",
       "      <td>3</td>\n",
       "    </tr>\n",
       "  </tbody>\n",
       "</table>\n",
       "<p>5016 rows × 2 columns</p>\n",
       "</div>"
      ],
      "text/plain": [
       "                     Price  Quarter\n",
       "Date                               \n",
       "2000-01-04 18:00:00  23.95        1\n",
       "2000-01-05 18:00:00  23.72        1\n",
       "2000-01-06 18:00:00  23.55        1\n",
       "2000-01-07 18:00:00  23.35        1\n",
       "2000-01-10 18:00:00  22.77        1\n",
       "...                    ...      ...\n",
       "2019-09-24 18:00:00  64.13        3\n",
       "2019-09-25 18:00:00  62.41        3\n",
       "2019-09-26 18:00:00  62.08        3\n",
       "2019-09-27 18:00:00  62.48        3\n",
       "2019-09-30 18:00:00  60.99        3\n",
       "\n",
       "[5016 rows x 2 columns]"
      ]
     },
     "execution_count": 313,
     "metadata": {},
     "output_type": "execute_result"
    }
   ],
   "source": [
    "# 1. add a new column(called Quarter) to oil df that contains date's respective calendar quarter\n",
    "oil['Quarter'] = oil.index.quarter\n",
    "oil"
   ]
  },
  {
   "cell_type": "code",
   "execution_count": 314,
   "id": "fe6c7a75",
   "metadata": {},
   "outputs": [
    {
     "data": {
      "text/html": [
       "<div>\n",
       "<style scoped>\n",
       "    .dataframe tbody tr th:only-of-type {\n",
       "        vertical-align: middle;\n",
       "    }\n",
       "\n",
       "    .dataframe tbody tr th {\n",
       "        vertical-align: top;\n",
       "    }\n",
       "\n",
       "    .dataframe thead tr th {\n",
       "        text-align: left;\n",
       "    }\n",
       "\n",
       "    .dataframe thead tr:last-of-type th {\n",
       "        text-align: right;\n",
       "    }\n",
       "</style>\n",
       "<table border=\"1\" class=\"dataframe\">\n",
       "  <thead>\n",
       "    <tr>\n",
       "      <th></th>\n",
       "      <th colspan=\"2\" halign=\"left\">Price</th>\n",
       "    </tr>\n",
       "    <tr>\n",
       "      <th></th>\n",
       "      <th>mean</th>\n",
       "      <th>std</th>\n",
       "    </tr>\n",
       "    <tr>\n",
       "      <th>Quarter</th>\n",
       "      <th></th>\n",
       "      <th></th>\n",
       "    </tr>\n",
       "  </thead>\n",
       "  <tbody>\n",
       "    <tr>\n",
       "      <th>1</th>\n",
       "      <td>108.141935</td>\n",
       "      <td>1.280641</td>\n",
       "    </tr>\n",
       "    <tr>\n",
       "      <th>2</th>\n",
       "      <td>109.694063</td>\n",
       "      <td>2.406442</td>\n",
       "    </tr>\n",
       "    <tr>\n",
       "      <th>3</th>\n",
       "      <td>101.899844</td>\n",
       "      <td>4.364868</td>\n",
       "    </tr>\n",
       "    <tr>\n",
       "      <th>4</th>\n",
       "      <td>76.429219</td>\n",
       "      <td>11.410171</td>\n",
       "    </tr>\n",
       "  </tbody>\n",
       "</table>\n",
       "</div>"
      ],
      "text/plain": [
       "              Price           \n",
       "               mean        std\n",
       "Quarter                       \n",
       "1        108.141935   1.280641\n",
       "2        109.694063   2.406442\n",
       "3        101.899844   4.364868\n",
       "4         76.429219  11.410171"
      ]
     },
     "execution_count": 314,
     "metadata": {},
     "output_type": "execute_result"
    }
   ],
   "source": [
    "# 2. calculate average price and std dev for each quarter of the year 2014\n",
    "oil.loc['2014'].groupby('Quarter').agg(['mean', 'std'])"
   ]
  },
  {
   "cell_type": "code",
   "execution_count": 316,
   "id": "66ac9595",
   "metadata": {},
   "outputs": [
    {
     "data": {
      "text/html": [
       "<div>\n",
       "<style scoped>\n",
       "    .dataframe tbody tr th:only-of-type {\n",
       "        vertical-align: middle;\n",
       "    }\n",
       "\n",
       "    .dataframe tbody tr th {\n",
       "        vertical-align: top;\n",
       "    }\n",
       "\n",
       "    .dataframe thead tr th {\n",
       "        text-align: left;\n",
       "    }\n",
       "\n",
       "    .dataframe thead tr:last-of-type th {\n",
       "        text-align: right;\n",
       "    }\n",
       "</style>\n",
       "<table border=\"1\" class=\"dataframe\">\n",
       "  <thead>\n",
       "    <tr>\n",
       "      <th></th>\n",
       "      <th colspan=\"2\" halign=\"left\">Price</th>\n",
       "    </tr>\n",
       "    <tr>\n",
       "      <th></th>\n",
       "      <th>mean</th>\n",
       "      <th>std</th>\n",
       "    </tr>\n",
       "    <tr>\n",
       "      <th>Date</th>\n",
       "      <th></th>\n",
       "      <th></th>\n",
       "    </tr>\n",
       "  </thead>\n",
       "  <tbody>\n",
       "    <tr>\n",
       "      <th>2014-03-31</th>\n",
       "      <td>108.141935</td>\n",
       "      <td>1.280641</td>\n",
       "    </tr>\n",
       "    <tr>\n",
       "      <th>2014-06-30</th>\n",
       "      <td>109.694063</td>\n",
       "      <td>2.406442</td>\n",
       "    </tr>\n",
       "    <tr>\n",
       "      <th>2014-09-30</th>\n",
       "      <td>101.899844</td>\n",
       "      <td>4.364868</td>\n",
       "    </tr>\n",
       "    <tr>\n",
       "      <th>2014-12-31</th>\n",
       "      <td>76.429219</td>\n",
       "      <td>11.410171</td>\n",
       "    </tr>\n",
       "  </tbody>\n",
       "</table>\n",
       "</div>"
      ],
      "text/plain": [
       "                 Price           \n",
       "                  mean        std\n",
       "Date                             \n",
       "2014-03-31  108.141935   1.280641\n",
       "2014-06-30  109.694063   2.406442\n",
       "2014-09-30  101.899844   4.364868\n",
       "2014-12-31   76.429219  11.410171"
      ]
     },
     "execution_count": 316,
     "metadata": {},
     "output_type": "execute_result"
    }
   ],
   "source": [
    "# 3. Reproduce price average and std dev, but this time using resample() and w/o relying on Quarter column\n",
    "oil.drop(columns='Quarter', inplace=True)\n",
    "oil.loc['2014'].resample('Q').agg(['mean','std' ])"
   ]
  },
  {
   "cell_type": "code",
   "execution_count": null,
   "id": "0d516994",
   "metadata": {},
   "outputs": [],
   "source": []
  }
 ],
 "metadata": {
  "kernelspec": {
   "display_name": "Python 3 (ipykernel)",
   "language": "python",
   "name": "python3"
  },
  "language_info": {
   "codemirror_mode": {
    "name": "ipython",
    "version": 3
   },
   "file_extension": ".py",
   "mimetype": "text/x-python",
   "name": "python",
   "nbconvert_exporter": "python",
   "pygments_lexer": "ipython3",
   "version": "3.9.12"
  }
 },
 "nbformat": 4,
 "nbformat_minor": 5
}
