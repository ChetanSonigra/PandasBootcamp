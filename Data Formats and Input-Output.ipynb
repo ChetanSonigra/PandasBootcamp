{
 "cells": [
  {
   "cell_type": "markdown",
   "id": "5204a620",
   "metadata": {},
   "source": [
    "### This Notebook Covers:\n",
    "* Reading & Writing:\n",
    "    - HTML\n",
    "    - JSON\n",
    "    - EXCEL\n",
    "    - PICKLE"
   ]
  },
  {
   "cell_type": "markdown",
   "id": "e03ff489",
   "metadata": {},
   "source": [
    "### Revision:\n",
    "* reading and outputing to different formats:\n",
    "    - pd.read_json(json_url), pd.read_html(html_url), pd.read_excel(xls_url), pd.read_csv(csv_url)\n",
    "    - df.to_json(path_to_store), df.to_html(path_to_store), df.to_csv(path_to_store)\n",
    "    - other formats: parquet, fixed-width-text file, HDF5, feather, ORC, msgpack, SPSS, stata, SAS, \n",
    "      pickle, sql, google big query\n",
    "* Pickling:\n",
    "    - pd.read_pickle(pkl_url), df.to_pickle('path_to_store')"
   ]
  },
  {
   "cell_type": "code",
   "execution_count": 4,
   "id": "c040fd70",
   "metadata": {},
   "outputs": [],
   "source": [
    "import pandas as pd\n",
    "import numpy as np"
   ]
  },
  {
   "cell_type": "markdown",
   "id": "3fd1be19",
   "metadata": {},
   "source": [
    "### Reading JSON"
   ]
  },
  {
   "cell_type": "code",
   "execution_count": 5,
   "id": "7d99aeb3",
   "metadata": {},
   "outputs": [],
   "source": [
    "# JAVASCRIPT OBJECT NOTATION\n",
    "# STANDARDIZED AND LANGUAGE INDEPENDENT"
   ]
  },
  {
   "cell_type": "code",
   "execution_count": 8,
   "id": "94653e4a",
   "metadata": {},
   "outputs": [],
   "source": [
    "json_url = 'https://andybek.com/pandas-folks-json'"
   ]
  },
  {
   "cell_type": "code",
   "execution_count": 9,
   "id": "cf53b243",
   "metadata": {},
   "outputs": [],
   "source": [
    "folks = pd.read_json(json_url)"
   ]
  },
  {
   "cell_type": "code",
   "execution_count": 10,
   "id": "ce8d75b5",
   "metadata": {},
   "outputs": [
    {
     "data": {
      "text/html": [
       "<div>\n",
       "<style scoped>\n",
       "    .dataframe tbody tr th:only-of-type {\n",
       "        vertical-align: middle;\n",
       "    }\n",
       "\n",
       "    .dataframe tbody tr th {\n",
       "        vertical-align: top;\n",
       "    }\n",
       "\n",
       "    .dataframe thead th {\n",
       "        text-align: right;\n",
       "    }\n",
       "</style>\n",
       "<table border=\"1\" class=\"dataframe\">\n",
       "  <thead>\n",
       "    <tr style=\"text-align: right;\">\n",
       "      <th></th>\n",
       "      <th>name</th>\n",
       "      <th>salary</th>\n",
       "      <th>occupation</th>\n",
       "    </tr>\n",
       "  </thead>\n",
       "  <tbody>\n",
       "    <tr>\n",
       "      <th>0</th>\n",
       "      <td>Brian Dogood</td>\n",
       "      <td>64000</td>\n",
       "      <td>Software Technician</td>\n",
       "    </tr>\n",
       "    <tr>\n",
       "      <th>1</th>\n",
       "      <td>Leah Bokeh</td>\n",
       "      <td>73200</td>\n",
       "      <td>Data Scientist</td>\n",
       "    </tr>\n",
       "    <tr>\n",
       "      <th>2</th>\n",
       "      <td>Mark Prescott</td>\n",
       "      <td>76400</td>\n",
       "      <td>Business Consultant</td>\n",
       "    </tr>\n",
       "    <tr>\n",
       "      <th>3</th>\n",
       "      <td>Jurgen Gupta</td>\n",
       "      <td>94300</td>\n",
       "      <td>Aerospace Engineer</td>\n",
       "    </tr>\n",
       "  </tbody>\n",
       "</table>\n",
       "</div>"
      ],
      "text/plain": [
       "            name  salary           occupation\n",
       "0   Brian Dogood   64000  Software Technician\n",
       "1     Leah Bokeh   73200       Data Scientist\n",
       "2  Mark Prescott   76400  Business Consultant\n",
       "3   Jurgen Gupta   94300   Aerospace Engineer"
      ]
     },
     "execution_count": 10,
     "metadata": {},
     "output_type": "execute_result"
    }
   ],
   "source": [
    "folks"
   ]
  },
  {
   "cell_type": "code",
   "execution_count": 11,
   "id": "3453bae7",
   "metadata": {},
   "outputs": [
    {
     "data": {
      "text/plain": [
       "pandas.core.frame.DataFrame"
      ]
     },
     "execution_count": 11,
     "metadata": {},
     "output_type": "execute_result"
    }
   ],
   "source": [
    "type(folks)"
   ]
  },
  {
   "cell_type": "code",
   "execution_count": 12,
   "id": "cc86f2ab",
   "metadata": {},
   "outputs": [
    {
     "name": "stdout",
     "output_type": "stream",
     "text": [
      "<class 'pandas.core.frame.DataFrame'>\n",
      "RangeIndex: 4 entries, 0 to 3\n",
      "Data columns (total 3 columns):\n",
      " #   Column      Non-Null Count  Dtype \n",
      "---  ------      --------------  ----- \n",
      " 0   name        4 non-null      object\n",
      " 1   salary      4 non-null      int64 \n",
      " 2   occupation  4 non-null      object\n",
      "dtypes: int64(1), object(2)\n",
      "memory usage: 224.0+ bytes\n"
     ]
    }
   ],
   "source": [
    "folks.info()"
   ]
  },
  {
   "cell_type": "markdown",
   "id": "b4a8f41c",
   "metadata": {},
   "source": [
    "### Reading HTML"
   ]
  },
  {
   "cell_type": "code",
   "execution_count": 13,
   "id": "16bee066",
   "metadata": {},
   "outputs": [],
   "source": [
    "# STANDARD MARKUP LANGUAGE FOR WEB"
   ]
  },
  {
   "cell_type": "code",
   "execution_count": 15,
   "id": "21482598",
   "metadata": {},
   "outputs": [],
   "source": [
    "# put together a datafram containing europian countries with it's population"
   ]
  },
  {
   "cell_type": "code",
   "execution_count": 18,
   "id": "7acac796",
   "metadata": {},
   "outputs": [],
   "source": [
    "data_url = 'https://en.wikipedia.org/wiki/List_of_European_countries_by_population'"
   ]
  },
  {
   "cell_type": "code",
   "execution_count": 31,
   "id": "db527257",
   "metadata": {},
   "outputs": [],
   "source": [
    "countries = pd.read_html(data_url)"
   ]
  },
  {
   "cell_type": "code",
   "execution_count": 32,
   "id": "54057df3",
   "metadata": {},
   "outputs": [
    {
     "data": {
      "text/plain": [
       "(list, 2)"
      ]
     },
     "execution_count": 32,
     "metadata": {},
     "output_type": "execute_result"
    }
   ],
   "source": [
    "type(countries), len(countries)"
   ]
  },
  {
   "cell_type": "code",
   "execution_count": 33,
   "id": "05561d8a",
   "metadata": {},
   "outputs": [
    {
     "data": {
      "text/plain": [
       "pandas.core.frame.DataFrame"
      ]
     },
     "execution_count": 33,
     "metadata": {},
     "output_type": "execute_result"
    }
   ],
   "source": [
    "type(countries[0])"
   ]
  },
  {
   "cell_type": "code",
   "execution_count": 35,
   "id": "61c90ab5",
   "metadata": {},
   "outputs": [
    {
     "data": {
      "text/html": [
       "<div>\n",
       "<style scoped>\n",
       "    .dataframe tbody tr th:only-of-type {\n",
       "        vertical-align: middle;\n",
       "    }\n",
       "\n",
       "    .dataframe tbody tr th {\n",
       "        vertical-align: top;\n",
       "    }\n",
       "\n",
       "    .dataframe thead th {\n",
       "        text-align: right;\n",
       "    }\n",
       "</style>\n",
       "<table border=\"1\" class=\"dataframe\">\n",
       "  <thead>\n",
       "    <tr style=\"text-align: right;\">\n",
       "      <th></th>\n",
       "      <th>Unnamed: 0</th>\n",
       "      <th>Country / territory</th>\n",
       "      <th>UN estimate(2023)</th>\n",
       "      <th>%change</th>\n",
       "      <th>Officialfigure</th>\n",
       "      <th>Officialdate</th>\n",
       "      <th>Unnamed: 6</th>\n",
       "    </tr>\n",
       "  </thead>\n",
       "  <tbody>\n",
       "    <tr>\n",
       "      <th>0</th>\n",
       "      <td>1 .mw-parser-output .tooltip-dotted{border-bot...</td>\n",
       "      <td>Russia</td>\n",
       "      <td>144444359</td>\n",
       "      <td>−0.2%</td>\n",
       "      <td>146150789</td>\n",
       "      <td>1 Jan 2024[4]</td>\n",
       "      <td>[a]</td>\n",
       "    </tr>\n",
       "    <tr>\n",
       "      <th>1</th>\n",
       "      <td>2 T</td>\n",
       "      <td>Turkey</td>\n",
       "      <td>85816199</td>\n",
       "      <td>0.1%</td>\n",
       "      <td>85372377</td>\n",
       "      <td>31 Dec 2023[5]</td>\n",
       "      <td>NaN</td>\n",
       "    </tr>\n",
       "    <tr>\n",
       "      <th>2</th>\n",
       "      <td>3</td>\n",
       "      <td>Germany</td>\n",
       "      <td>83294633</td>\n",
       "      <td>−0.1%</td>\n",
       "      <td>84607016</td>\n",
       "      <td>30 Sep 2023[6]</td>\n",
       "      <td>NaN</td>\n",
       "    </tr>\n",
       "    <tr>\n",
       "      <th>3</th>\n",
       "      <td>5 T</td>\n",
       "      <td>United Kingdom</td>\n",
       "      <td>67736802</td>\n",
       "      <td>0.3%</td>\n",
       "      <td>67596281</td>\n",
       "      <td>30 Jun 2022[7]</td>\n",
       "      <td>[b]</td>\n",
       "    </tr>\n",
       "    <tr>\n",
       "      <th>4</th>\n",
       "      <td>4 T</td>\n",
       "      <td>France</td>\n",
       "      <td>64756584</td>\n",
       "      <td>0.2%</td>\n",
       "      <td>68410000</td>\n",
       "      <td>1 Apr 2024[8]</td>\n",
       "      <td>[c]</td>\n",
       "    </tr>\n",
       "  </tbody>\n",
       "</table>\n",
       "</div>"
      ],
      "text/plain": [
       "                                          Unnamed: 0 Country / territory  \\\n",
       "0  1 .mw-parser-output .tooltip-dotted{border-bot...              Russia   \n",
       "1                                                2 T              Turkey   \n",
       "2                                                  3             Germany   \n",
       "3                                                5 T      United Kingdom   \n",
       "4                                                4 T              France   \n",
       "\n",
       "   UN estimate(2023) %change  Officialfigure    Officialdate Unnamed: 6  \n",
       "0          144444359   −0.2%       146150789   1 Jan 2024[4]        [a]  \n",
       "1           85816199    0.1%        85372377  31 Dec 2023[5]        NaN  \n",
       "2           83294633   −0.1%        84607016  30 Sep 2023[6]        NaN  \n",
       "3           67736802    0.3%        67596281  30 Jun 2022[7]        [b]  \n",
       "4           64756584    0.2%        68410000   1 Apr 2024[8]        [c]  "
      ]
     },
     "execution_count": 35,
     "metadata": {},
     "output_type": "execute_result"
    }
   ],
   "source": [
    "countries[0].head()"
   ]
  },
  {
   "cell_type": "code",
   "execution_count": 38,
   "id": "72ea7014",
   "metadata": {},
   "outputs": [],
   "source": [
    "countries = countries[0].loc[:,['Country / territory', 'Officialfigure']]"
   ]
  },
  {
   "cell_type": "code",
   "execution_count": 39,
   "id": "1e94a691",
   "metadata": {},
   "outputs": [],
   "source": [
    "countries.rename({'Country / territory':'Country'}, axis=1, inplace=True)"
   ]
  },
  {
   "cell_type": "code",
   "execution_count": 40,
   "id": "7fbd26ab",
   "metadata": {},
   "outputs": [
    {
     "data": {
      "text/html": [
       "<div>\n",
       "<style scoped>\n",
       "    .dataframe tbody tr th:only-of-type {\n",
       "        vertical-align: middle;\n",
       "    }\n",
       "\n",
       "    .dataframe tbody tr th {\n",
       "        vertical-align: top;\n",
       "    }\n",
       "\n",
       "    .dataframe thead th {\n",
       "        text-align: right;\n",
       "    }\n",
       "</style>\n",
       "<table border=\"1\" class=\"dataframe\">\n",
       "  <thead>\n",
       "    <tr style=\"text-align: right;\">\n",
       "      <th></th>\n",
       "      <th>Country</th>\n",
       "      <th>Officialfigure</th>\n",
       "    </tr>\n",
       "  </thead>\n",
       "  <tbody>\n",
       "    <tr>\n",
       "      <th>0</th>\n",
       "      <td>Russia</td>\n",
       "      <td>146150789</td>\n",
       "    </tr>\n",
       "    <tr>\n",
       "      <th>1</th>\n",
       "      <td>Turkey</td>\n",
       "      <td>85372377</td>\n",
       "    </tr>\n",
       "    <tr>\n",
       "      <th>2</th>\n",
       "      <td>Germany</td>\n",
       "      <td>84607016</td>\n",
       "    </tr>\n",
       "    <tr>\n",
       "      <th>3</th>\n",
       "      <td>United Kingdom</td>\n",
       "      <td>67596281</td>\n",
       "    </tr>\n",
       "    <tr>\n",
       "      <th>4</th>\n",
       "      <td>France</td>\n",
       "      <td>68410000</td>\n",
       "    </tr>\n",
       "  </tbody>\n",
       "</table>\n",
       "</div>"
      ],
      "text/plain": [
       "          Country  Officialfigure\n",
       "0          Russia       146150789\n",
       "1          Turkey        85372377\n",
       "2         Germany        84607016\n",
       "3  United Kingdom        67596281\n",
       "4          France        68410000"
      ]
     },
     "execution_count": 40,
     "metadata": {},
     "output_type": "execute_result"
    }
   ],
   "source": [
    "countries.head()"
   ]
  },
  {
   "cell_type": "code",
   "execution_count": 42,
   "id": "6c382c8f",
   "metadata": {},
   "outputs": [
    {
     "data": {
      "text/plain": [
       "<AxesSubplot:xlabel='Country'>"
      ]
     },
     "execution_count": 42,
     "metadata": {},
     "output_type": "execute_result"
    },
    {
     "data": {
      "image/png": "[encoded data removed]",
      "text/plain": [
       "<Figure size 432x288 with 1 Axes>"
      ]
     },
     "metadata": {
      "needs_background": "light"
     },
     "output_type": "display_data"
    }
   ],
   "source": [
    "countries.set_index('Country').iloc[:10].plot(kind='bar')"
   ]
  },
  {
   "cell_type": "markdown",
   "id": "76c56db0",
   "metadata": {},
   "source": [
    "### Reading EXCEL"
   ]
  },
  {
   "cell_type": "markdown",
   "id": "ec294697",
   "metadata": {},
   "source": [
    "* Popular formats:\n",
    "    - .xls - binary format\n",
    "    - .xlsx - xml based available in new versions"
   ]
  },
  {
   "cell_type": "code",
   "execution_count": 44,
   "id": "5a495e2e",
   "metadata": {},
   "outputs": [
    {
     "data": {
      "text/html": [
       "<div>\n",
       "<style scoped>\n",
       "    .dataframe tbody tr th:only-of-type {\n",
       "        vertical-align: middle;\n",
       "    }\n",
       "\n",
       "    .dataframe tbody tr th {\n",
       "        vertical-align: top;\n",
       "    }\n",
       "\n",
       "    .dataframe thead th {\n",
       "        text-align: right;\n",
       "    }\n",
       "</style>\n",
       "<table border=\"1\" class=\"dataframe\">\n",
       "  <thead>\n",
       "    <tr style=\"text-align: right;\">\n",
       "      <th></th>\n",
       "      <th>name</th>\n",
       "      <th>salary</th>\n",
       "      <th>occupation</th>\n",
       "    </tr>\n",
       "  </thead>\n",
       "  <tbody>\n",
       "    <tr>\n",
       "      <th>0</th>\n",
       "      <td>Brian Dogood</td>\n",
       "      <td>64000</td>\n",
       "      <td>Software Technician</td>\n",
       "    </tr>\n",
       "    <tr>\n",
       "      <th>1</th>\n",
       "      <td>Leah Bokeh</td>\n",
       "      <td>73200</td>\n",
       "      <td>Data Scientist</td>\n",
       "    </tr>\n",
       "    <tr>\n",
       "      <th>2</th>\n",
       "      <td>Mark Prescott</td>\n",
       "      <td>76400</td>\n",
       "      <td>Business Consultant</td>\n",
       "    </tr>\n",
       "    <tr>\n",
       "      <th>3</th>\n",
       "      <td>Jurgen Gupta</td>\n",
       "      <td>94300</td>\n",
       "      <td>Aerospace Engineer</td>\n",
       "    </tr>\n",
       "  </tbody>\n",
       "</table>\n",
       "</div>"
      ],
      "text/plain": [
       "            name  salary           occupation\n",
       "0   Brian Dogood   64000  Software Technician\n",
       "1     Leah Bokeh   73200       Data Scientist\n",
       "2  Mark Prescott   76400  Business Consultant\n",
       "3   Jurgen Gupta   94300   Aerospace Engineer"
      ]
     },
     "execution_count": 44,
     "metadata": {},
     "output_type": "execute_result"
    }
   ],
   "source": [
    "pd.read_excel('https://andybek.com/folks.xlsx')"
   ]
  },
  {
   "cell_type": "code",
   "execution_count": 45,
   "id": "d99bbe75",
   "metadata": {},
   "outputs": [
    {
     "data": {
      "text/html": [
       "<div>\n",
       "<style scoped>\n",
       "    .dataframe tbody tr th:only-of-type {\n",
       "        vertical-align: middle;\n",
       "    }\n",
       "\n",
       "    .dataframe tbody tr th {\n",
       "        vertical-align: top;\n",
       "    }\n",
       "\n",
       "    .dataframe thead th {\n",
       "        text-align: right;\n",
       "    }\n",
       "</style>\n",
       "<table border=\"1\" class=\"dataframe\">\n",
       "  <thead>\n",
       "    <tr style=\"text-align: right;\">\n",
       "      <th></th>\n",
       "      <th>name</th>\n",
       "      <th>hobby</th>\n",
       "    </tr>\n",
       "  </thead>\n",
       "  <tbody>\n",
       "    <tr>\n",
       "      <th>0</th>\n",
       "      <td>Brian Dogood</td>\n",
       "      <td>Fishing</td>\n",
       "    </tr>\n",
       "    <tr>\n",
       "      <th>1</th>\n",
       "      <td>Leah Bokeh</td>\n",
       "      <td>Skateboarding</td>\n",
       "    </tr>\n",
       "    <tr>\n",
       "      <th>2</th>\n",
       "      <td>Mark Prescott</td>\n",
       "      <td>Value Investing</td>\n",
       "    </tr>\n",
       "    <tr>\n",
       "      <th>3</th>\n",
       "      <td>Jurgen Gupta</td>\n",
       "      <td>Drawing</td>\n",
       "    </tr>\n",
       "  </tbody>\n",
       "</table>\n",
       "</div>"
      ],
      "text/plain": [
       "            name            hobby\n",
       "0   Brian Dogood          Fishing\n",
       "1     Leah Bokeh    Skateboarding\n",
       "2  Mark Prescott  Value Investing\n",
       "3   Jurgen Gupta          Drawing"
      ]
     },
     "execution_count": 45,
     "metadata": {},
     "output_type": "execute_result"
    }
   ],
   "source": [
    "pd.read_excel('https://andybek.com/folks.xlsx', sheet_name='hobbies')"
   ]
  },
  {
   "cell_type": "code",
   "execution_count": 46,
   "id": "d5570d16",
   "metadata": {},
   "outputs": [
    {
     "data": {
      "text/html": [
       "<div>\n",
       "<style scoped>\n",
       "    .dataframe tbody tr th:only-of-type {\n",
       "        vertical-align: middle;\n",
       "    }\n",
       "\n",
       "    .dataframe tbody tr th {\n",
       "        vertical-align: top;\n",
       "    }\n",
       "\n",
       "    .dataframe thead th {\n",
       "        text-align: right;\n",
       "    }\n",
       "</style>\n",
       "<table border=\"1\" class=\"dataframe\">\n",
       "  <thead>\n",
       "    <tr style=\"text-align: right;\">\n",
       "      <th></th>\n",
       "      <th>name</th>\n",
       "      <th>hobby</th>\n",
       "    </tr>\n",
       "  </thead>\n",
       "  <tbody>\n",
       "    <tr>\n",
       "      <th>0</th>\n",
       "      <td>Brian Dogood</td>\n",
       "      <td>Fishing</td>\n",
       "    </tr>\n",
       "    <tr>\n",
       "      <th>1</th>\n",
       "      <td>Leah Bokeh</td>\n",
       "      <td>Skateboarding</td>\n",
       "    </tr>\n",
       "    <tr>\n",
       "      <th>2</th>\n",
       "      <td>Mark Prescott</td>\n",
       "      <td>Value Investing</td>\n",
       "    </tr>\n",
       "    <tr>\n",
       "      <th>3</th>\n",
       "      <td>Jurgen Gupta</td>\n",
       "      <td>Drawing</td>\n",
       "    </tr>\n",
       "  </tbody>\n",
       "</table>\n",
       "</div>"
      ],
      "text/plain": [
       "            name            hobby\n",
       "0   Brian Dogood          Fishing\n",
       "1     Leah Bokeh    Skateboarding\n",
       "2  Mark Prescott  Value Investing\n",
       "3   Jurgen Gupta          Drawing"
      ]
     },
     "execution_count": 46,
     "metadata": {},
     "output_type": "execute_result"
    }
   ],
   "source": [
    "pd.read_excel('https://andybek.com/folks.xlsx',1)"
   ]
  },
  {
   "cell_type": "code",
   "execution_count": 47,
   "id": "6144343d",
   "metadata": {},
   "outputs": [],
   "source": [
    "# Under the hood pandas uses many other packages/libraries. e.g. xlrd, openpyxl"
   ]
  },
  {
   "cell_type": "code",
   "execution_count": null,
   "id": "2de21b9d",
   "metadata": {},
   "outputs": [],
   "source": [
    "!pip show xlrd"
   ]
  },
  {
   "cell_type": "code",
   "execution_count": null,
   "id": "ed3d54e0",
   "metadata": {},
   "outputs": [],
   "source": [
    "!pip show openpyxl"
   ]
  },
  {
   "cell_type": "markdown",
   "id": "b078d3d7",
   "metadata": {},
   "source": [
    "### Creating Output: to_* family of methods"
   ]
  },
  {
   "cell_type": "code",
   "execution_count": 50,
   "id": "8b6fad43",
   "metadata": {},
   "outputs": [],
   "source": [
    "hobbies = pd.read_excel('https://andybek.com/folks.xlsx', 1)"
   ]
  },
  {
   "cell_type": "code",
   "execution_count": 51,
   "id": "c186848a",
   "metadata": {},
   "outputs": [
    {
     "data": {
      "text/html": [
       "<div>\n",
       "<style scoped>\n",
       "    .dataframe tbody tr th:only-of-type {\n",
       "        vertical-align: middle;\n",
       "    }\n",
       "\n",
       "    .dataframe tbody tr th {\n",
       "        vertical-align: top;\n",
       "    }\n",
       "\n",
       "    .dataframe thead th {\n",
       "        text-align: right;\n",
       "    }\n",
       "</style>\n",
       "<table border=\"1\" class=\"dataframe\">\n",
       "  <thead>\n",
       "    <tr style=\"text-align: right;\">\n",
       "      <th></th>\n",
       "      <th>name</th>\n",
       "      <th>hobby</th>\n",
       "    </tr>\n",
       "  </thead>\n",
       "  <tbody>\n",
       "    <tr>\n",
       "      <th>0</th>\n",
       "      <td>Brian Dogood</td>\n",
       "      <td>Fishing</td>\n",
       "    </tr>\n",
       "    <tr>\n",
       "      <th>1</th>\n",
       "      <td>Leah Bokeh</td>\n",
       "      <td>Skateboarding</td>\n",
       "    </tr>\n",
       "    <tr>\n",
       "      <th>2</th>\n",
       "      <td>Mark Prescott</td>\n",
       "      <td>Value Investing</td>\n",
       "    </tr>\n",
       "    <tr>\n",
       "      <th>3</th>\n",
       "      <td>Jurgen Gupta</td>\n",
       "      <td>Drawing</td>\n",
       "    </tr>\n",
       "  </tbody>\n",
       "</table>\n",
       "</div>"
      ],
      "text/plain": [
       "            name            hobby\n",
       "0   Brian Dogood          Fishing\n",
       "1     Leah Bokeh    Skateboarding\n",
       "2  Mark Prescott  Value Investing\n",
       "3   Jurgen Gupta          Drawing"
      ]
     },
     "execution_count": 51,
     "metadata": {},
     "output_type": "execute_result"
    }
   ],
   "source": [
    "hobbies"
   ]
  },
  {
   "cell_type": "code",
   "execution_count": 52,
   "id": "c6cb9f3b",
   "metadata": {},
   "outputs": [],
   "source": [
    "# Tasks:\n",
    "# - add a new person to the hobbies df\n",
    "# - save resulting df to csv"
   ]
  },
  {
   "cell_type": "code",
   "execution_count": 53,
   "id": "927ee0c7",
   "metadata": {},
   "outputs": [],
   "source": [
    "hobbies.loc[4] = ['Zoltna Zachery', 'Archery']"
   ]
  },
  {
   "cell_type": "code",
   "execution_count": 56,
   "id": "e074b6dc",
   "metadata": {},
   "outputs": [],
   "source": [
    "hobbies['Age'] = np.random.uniform(22,40,5)"
   ]
  },
  {
   "cell_type": "code",
   "execution_count": 57,
   "id": "f8a22231",
   "metadata": {},
   "outputs": [
    {
     "data": {
      "text/html": [
       "<div>\n",
       "<style scoped>\n",
       "    .dataframe tbody tr th:only-of-type {\n",
       "        vertical-align: middle;\n",
       "    }\n",
       "\n",
       "    .dataframe tbody tr th {\n",
       "        vertical-align: top;\n",
       "    }\n",
       "\n",
       "    .dataframe thead th {\n",
       "        text-align: right;\n",
       "    }\n",
       "</style>\n",
       "<table border=\"1\" class=\"dataframe\">\n",
       "  <thead>\n",
       "    <tr style=\"text-align: right;\">\n",
       "      <th></th>\n",
       "      <th>name</th>\n",
       "      <th>hobby</th>\n",
       "      <th>Age</th>\n",
       "    </tr>\n",
       "  </thead>\n",
       "  <tbody>\n",
       "    <tr>\n",
       "      <th>0</th>\n",
       "      <td>Brian Dogood</td>\n",
       "      <td>Fishing</td>\n",
       "      <td>33.761164</td>\n",
       "    </tr>\n",
       "    <tr>\n",
       "      <th>1</th>\n",
       "      <td>Leah Bokeh</td>\n",
       "      <td>Skateboarding</td>\n",
       "      <td>30.029132</td>\n",
       "    </tr>\n",
       "    <tr>\n",
       "      <th>2</th>\n",
       "      <td>Mark Prescott</td>\n",
       "      <td>Value Investing</td>\n",
       "      <td>24.004577</td>\n",
       "    </tr>\n",
       "    <tr>\n",
       "      <th>3</th>\n",
       "      <td>Jurgen Gupta</td>\n",
       "      <td>Drawing</td>\n",
       "      <td>23.213315</td>\n",
       "    </tr>\n",
       "    <tr>\n",
       "      <th>4</th>\n",
       "      <td>Zoltna Zachery</td>\n",
       "      <td>Archery</td>\n",
       "      <td>36.224184</td>\n",
       "    </tr>\n",
       "  </tbody>\n",
       "</table>\n",
       "</div>"
      ],
      "text/plain": [
       "             name            hobby        Age\n",
       "0    Brian Dogood          Fishing  33.761164\n",
       "1      Leah Bokeh    Skateboarding  30.029132\n",
       "2   Mark Prescott  Value Investing  24.004577\n",
       "3    Jurgen Gupta          Drawing  23.213315\n",
       "4  Zoltna Zachery          Archery  36.224184"
      ]
     },
     "execution_count": 57,
     "metadata": {},
     "output_type": "execute_result"
    }
   ],
   "source": [
    "hobbies"
   ]
  },
  {
   "cell_type": "code",
   "execution_count": 58,
   "id": "3ead3e69",
   "metadata": {},
   "outputs": [
    {
     "data": {
      "text/plain": [
       "',name,hobby,Age\\r\\n0,Brian Dogood,Fishing,33.761163883833326\\r\\n1,Leah Bokeh,Skateboarding,30.02913218187675\\r\\n2,Mark Prescott,Value Investing,24.004576845736405\\r\\n3,Jurgen Gupta,Drawing,23.21331475973713\\r\\n4,Zoltna Zachery,Archery,36.22418393348411\\r\\n'"
      ]
     },
     "execution_count": 58,
     "metadata": {},
     "output_type": "execute_result"
    }
   ],
   "source": [
    "hobbies.to_csv()"
   ]
  },
  {
   "cell_type": "code",
   "execution_count": 68,
   "id": "1cd95797",
   "metadata": {},
   "outputs": [],
   "source": [
    "hobbies.to_csv('hobbies.csv', index=False) # index=False to not save index in csv file."
   ]
  },
  {
   "cell_type": "code",
   "execution_count": null,
   "id": "b9d896ed",
   "metadata": {},
   "outputs": [],
   "source": [
    "!dir"
   ]
  },
  {
   "cell_type": "code",
   "execution_count": 70,
   "id": "9012faff",
   "metadata": {},
   "outputs": [
    {
     "data": {
      "text/html": [
       "<div>\n",
       "<style scoped>\n",
       "    .dataframe tbody tr th:only-of-type {\n",
       "        vertical-align: middle;\n",
       "    }\n",
       "\n",
       "    .dataframe tbody tr th {\n",
       "        vertical-align: top;\n",
       "    }\n",
       "\n",
       "    .dataframe thead th {\n",
       "        text-align: right;\n",
       "    }\n",
       "</style>\n",
       "<table border=\"1\" class=\"dataframe\">\n",
       "  <thead>\n",
       "    <tr style=\"text-align: right;\">\n",
       "      <th></th>\n",
       "      <th>name</th>\n",
       "      <th>hobby</th>\n",
       "      <th>Age</th>\n",
       "    </tr>\n",
       "  </thead>\n",
       "  <tbody>\n",
       "    <tr>\n",
       "      <th>0</th>\n",
       "      <td>Brian Dogood</td>\n",
       "      <td>Fishing</td>\n",
       "      <td>33.761164</td>\n",
       "    </tr>\n",
       "    <tr>\n",
       "      <th>1</th>\n",
       "      <td>Leah Bokeh</td>\n",
       "      <td>Skateboarding</td>\n",
       "      <td>30.029132</td>\n",
       "    </tr>\n",
       "    <tr>\n",
       "      <th>2</th>\n",
       "      <td>Mark Prescott</td>\n",
       "      <td>Value Investing</td>\n",
       "      <td>24.004577</td>\n",
       "    </tr>\n",
       "    <tr>\n",
       "      <th>3</th>\n",
       "      <td>Jurgen Gupta</td>\n",
       "      <td>Drawing</td>\n",
       "      <td>23.213315</td>\n",
       "    </tr>\n",
       "    <tr>\n",
       "      <th>4</th>\n",
       "      <td>Zoltna Zachery</td>\n",
       "      <td>Archery</td>\n",
       "      <td>36.224184</td>\n",
       "    </tr>\n",
       "  </tbody>\n",
       "</table>\n",
       "</div>"
      ],
      "text/plain": [
       "             name            hobby        Age\n",
       "0    Brian Dogood          Fishing  33.761164\n",
       "1      Leah Bokeh    Skateboarding  30.029132\n",
       "2   Mark Prescott  Value Investing  24.004577\n",
       "3    Jurgen Gupta          Drawing  23.213315\n",
       "4  Zoltna Zachery          Archery  36.224184"
      ]
     },
     "execution_count": 70,
     "metadata": {},
     "output_type": "execute_result"
    }
   ],
   "source": [
    "pd.read_csv('hobbies.csv')"
   ]
  },
  {
   "cell_type": "code",
   "execution_count": 71,
   "id": "342ca327",
   "metadata": {},
   "outputs": [
    {
     "data": {
      "text/plain": [
       "'{\"name\":{\"0\":\"Brian Dogood\",\"1\":\"Leah Bokeh\",\"2\":\"Mark Prescott\",\"3\":\"Jurgen Gupta\",\"4\":\"Zoltna Zachery\"},\"hobby\":{\"0\":\"Fishing\",\"1\":\"Skateboarding\",\"2\":\"Value Investing\",\"3\":\"Drawing\",\"4\":\"Archery\"},\"Age\":{\"0\":33.7611638838,\"1\":30.0291321819,\"2\":24.0045768457,\"3\":23.2133147597,\"4\":36.2241839335}}'"
      ]
     },
     "execution_count": 71,
     "metadata": {},
     "output_type": "execute_result"
    }
   ],
   "source": [
    "hobbies.to_json()"
   ]
  },
  {
   "cell_type": "code",
   "execution_count": 72,
   "id": "43b8ad41",
   "metadata": {},
   "outputs": [],
   "source": [
    "hobbies.to_json('hobbies.json')"
   ]
  },
  {
   "cell_type": "code",
   "execution_count": null,
   "id": "b4df48a8",
   "metadata": {},
   "outputs": [],
   "source": [
    "!dir"
   ]
  },
  {
   "cell_type": "code",
   "execution_count": 74,
   "id": "8cfadba3",
   "metadata": {},
   "outputs": [],
   "source": [
    "hobbies.to_html('hobbies.html')"
   ]
  },
  {
   "cell_type": "code",
   "execution_count": null,
   "id": "9294d6dd",
   "metadata": {},
   "outputs": [],
   "source": [
    "!dir"
   ]
  },
  {
   "cell_type": "markdown",
   "id": "01ded0de",
   "metadata": {},
   "source": [
    "### Introduction to Pickling/serialization"
   ]
  },
  {
   "cell_type": "code",
   "execution_count": 90,
   "id": "b1a9933d",
   "metadata": {},
   "outputs": [],
   "source": [
    "# serialization: process of converting an object into a stream of bytes, \n",
    "# to be stored or transmitted over a network\n",
    "# pickling: python std library module responsible for seria=lization\n",
    "# also known as marshalling or flattening in other programming languages"
   ]
  },
  {
   "cell_type": "code",
   "execution_count": 80,
   "id": "a811a5b6",
   "metadata": {},
   "outputs": [],
   "source": [
    "import pickle"
   ]
  },
  {
   "cell_type": "code",
   "execution_count": 81,
   "id": "04cc3f2e",
   "metadata": {},
   "outputs": [],
   "source": [
    "googl = {'ticker': 'GOOGL', 'shares': 10, 'book_cost': 1540.23}"
   ]
  },
  {
   "cell_type": "code",
   "execution_count": 82,
   "id": "d7ed6b35",
   "metadata": {},
   "outputs": [],
   "source": [
    "pickle_output = open('my_stock', 'wb')"
   ]
  },
  {
   "cell_type": "code",
   "execution_count": 83,
   "id": "7f9e5eca",
   "metadata": {},
   "outputs": [],
   "source": [
    "pickle.dump(googl, pickle_output)"
   ]
  },
  {
   "cell_type": "code",
   "execution_count": 84,
   "id": "8807f8a2",
   "metadata": {},
   "outputs": [],
   "source": [
    "pickle_output.close()"
   ]
  },
  {
   "cell_type": "code",
   "execution_count": null,
   "id": "d2c87006",
   "metadata": {},
   "outputs": [],
   "source": [
    "!dir"
   ]
  },
  {
   "cell_type": "code",
   "execution_count": 86,
   "id": "c101c718",
   "metadata": {},
   "outputs": [],
   "source": [
    "pickle_input = open('my_stock', 'rb')"
   ]
  },
  {
   "cell_type": "code",
   "execution_count": 87,
   "id": "415b3a74",
   "metadata": {},
   "outputs": [],
   "source": [
    "stock_dict = pickle.load(pickle_input)"
   ]
  },
  {
   "cell_type": "code",
   "execution_count": 88,
   "id": "68912eda",
   "metadata": {},
   "outputs": [
    {
     "data": {
      "text/plain": [
       "{'ticker': 'GOOGL', 'shares': 10, 'book_cost': 1540.23}"
      ]
     },
     "execution_count": 88,
     "metadata": {},
     "output_type": "execute_result"
    }
   ],
   "source": [
    "stock_dict"
   ]
  },
  {
   "cell_type": "code",
   "execution_count": 89,
   "id": "d667f846",
   "metadata": {},
   "outputs": [
    {
     "name": "stderr",
     "output_type": "stream",
     "text": [
      "'hexdump' is not recognized as an internal or external command,\n",
      "operable program or batch file.\n"
     ]
    }
   ],
   "source": [
    "!hexdump my_stock"
   ]
  },
  {
   "cell_type": "markdown",
   "id": "432ebce2",
   "metadata": {},
   "source": [
    "### Pickling in Pandas"
   ]
  },
  {
   "cell_type": "code",
   "execution_count": 91,
   "id": "963abf39",
   "metadata": {},
   "outputs": [],
   "source": [
    "p_url = 'https://andybek.com/portfolio'"
   ]
  },
  {
   "cell_type": "code",
   "execution_count": 93,
   "id": "345ee7f7",
   "metadata": {},
   "outputs": [
    {
     "data": {
      "text/html": [
       "<div>\n",
       "<style scoped>\n",
       "    .dataframe tbody tr th:only-of-type {\n",
       "        vertical-align: middle;\n",
       "    }\n",
       "\n",
       "    .dataframe tbody tr th {\n",
       "        vertical-align: top;\n",
       "    }\n",
       "\n",
       "    .dataframe thead th {\n",
       "        text-align: right;\n",
       "    }\n",
       "</style>\n",
       "<table border=\"1\" class=\"dataframe\">\n",
       "  <thead>\n",
       "    <tr style=\"text-align: right;\">\n",
       "      <th></th>\n",
       "      <th>ticker</th>\n",
       "      <th>shares</th>\n",
       "      <th>book_cost</th>\n",
       "    </tr>\n",
       "  </thead>\n",
       "  <tbody>\n",
       "    <tr>\n",
       "      <th>0</th>\n",
       "      <td>AAPL</td>\n",
       "      <td>150</td>\n",
       "      <td>123.23</td>\n",
       "    </tr>\n",
       "    <tr>\n",
       "      <th>1</th>\n",
       "      <td>GOOGL</td>\n",
       "      <td>10</td>\n",
       "      <td>1100.00</td>\n",
       "    </tr>\n",
       "    <tr>\n",
       "      <th>2</th>\n",
       "      <td>AMGN</td>\n",
       "      <td>230</td>\n",
       "      <td>227.23</td>\n",
       "    </tr>\n",
       "    <tr>\n",
       "      <th>3</th>\n",
       "      <td>VET</td>\n",
       "      <td>200</td>\n",
       "      <td>14.24</td>\n",
       "    </tr>\n",
       "    <tr>\n",
       "      <th>4</th>\n",
       "      <td>TSLA</td>\n",
       "      <td>100</td>\n",
       "      <td>260.00</td>\n",
       "    </tr>\n",
       "    <tr>\n",
       "      <th>5</th>\n",
       "      <td>DX</td>\n",
       "      <td>40</td>\n",
       "      <td>20.01</td>\n",
       "    </tr>\n",
       "  </tbody>\n",
       "</table>\n",
       "</div>"
      ],
      "text/plain": [
       "  ticker  shares  book_cost\n",
       "0   AAPL     150     123.23\n",
       "1  GOOGL      10    1100.00\n",
       "2   AMGN     230     227.23\n",
       "3    VET     200      14.24\n",
       "4   TSLA     100     260.00\n",
       "5     DX      40      20.01"
      ]
     },
     "execution_count": 93,
     "metadata": {},
     "output_type": "execute_result"
    }
   ],
   "source": [
    "folio = pd.read_pickle(p_url)\n",
    "folio"
   ]
  },
  {
   "cell_type": "code",
   "execution_count": 94,
   "id": "f2f796ae",
   "metadata": {},
   "outputs": [],
   "source": [
    "folio.to_pickle('folio')"
   ]
  },
  {
   "cell_type": "code",
   "execution_count": null,
   "id": "8e9e4ba5",
   "metadata": {},
   "outputs": [],
   "source": [
    "!dir"
   ]
  },
  {
   "cell_type": "code",
   "execution_count": 96,
   "id": "9ac9c974",
   "metadata": {},
   "outputs": [
    {
     "data": {
      "text/html": [
       "<div>\n",
       "<style scoped>\n",
       "    .dataframe tbody tr th:only-of-type {\n",
       "        vertical-align: middle;\n",
       "    }\n",
       "\n",
       "    .dataframe tbody tr th {\n",
       "        vertical-align: top;\n",
       "    }\n",
       "\n",
       "    .dataframe thead th {\n",
       "        text-align: right;\n",
       "    }\n",
       "</style>\n",
       "<table border=\"1\" class=\"dataframe\">\n",
       "  <thead>\n",
       "    <tr style=\"text-align: right;\">\n",
       "      <th></th>\n",
       "      <th>ticker</th>\n",
       "      <th>shares</th>\n",
       "      <th>book_cost</th>\n",
       "    </tr>\n",
       "  </thead>\n",
       "  <tbody>\n",
       "    <tr>\n",
       "      <th>0</th>\n",
       "      <td>AAPL</td>\n",
       "      <td>150</td>\n",
       "      <td>123.23</td>\n",
       "    </tr>\n",
       "    <tr>\n",
       "      <th>1</th>\n",
       "      <td>GOOGL</td>\n",
       "      <td>10</td>\n",
       "      <td>1100.00</td>\n",
       "    </tr>\n",
       "    <tr>\n",
       "      <th>2</th>\n",
       "      <td>AMGN</td>\n",
       "      <td>230</td>\n",
       "      <td>227.23</td>\n",
       "    </tr>\n",
       "    <tr>\n",
       "      <th>3</th>\n",
       "      <td>VET</td>\n",
       "      <td>200</td>\n",
       "      <td>14.24</td>\n",
       "    </tr>\n",
       "    <tr>\n",
       "      <th>4</th>\n",
       "      <td>TSLA</td>\n",
       "      <td>100</td>\n",
       "      <td>260.00</td>\n",
       "    </tr>\n",
       "    <tr>\n",
       "      <th>5</th>\n",
       "      <td>DX</td>\n",
       "      <td>40</td>\n",
       "      <td>20.01</td>\n",
       "    </tr>\n",
       "  </tbody>\n",
       "</table>\n",
       "</div>"
      ],
      "text/plain": [
       "  ticker  shares  book_cost\n",
       "0   AAPL     150     123.23\n",
       "1  GOOGL      10    1100.00\n",
       "2   AMGN     230     227.23\n",
       "3    VET     200      14.24\n",
       "4   TSLA     100     260.00\n",
       "5     DX      40      20.01"
      ]
     },
     "execution_count": 96,
     "metadata": {},
     "output_type": "execute_result"
    }
   ],
   "source": [
    "pd.read_pickle('folio')"
   ]
  },
  {
   "cell_type": "markdown",
   "id": "f5323dfd",
   "metadata": {},
   "source": [
    "### The Many Other Formats"
   ]
  },
  {
   "cell_type": "code",
   "execution_count": 97,
   "id": "200147e5",
   "metadata": {},
   "outputs": [],
   "source": [
    "# parquet, fixed-width-text file, HDF5, feather, ORC, msgpack, \n",
    "# SPSS, stata, SAS, \n",
    "# pickle, sql, google big query"
   ]
  },
  {
   "cell_type": "markdown",
   "id": "30bd9373",
   "metadata": {},
   "source": [
    "### Challenge"
   ]
  },
  {
   "cell_type": "code",
   "execution_count": 109,
   "id": "a3369b9e",
   "metadata": {},
   "outputs": [
    {
     "data": {
      "text/html": [
       "<div>\n",
       "<style scoped>\n",
       "    .dataframe tbody tr th:only-of-type {\n",
       "        vertical-align: middle;\n",
       "    }\n",
       "\n",
       "    .dataframe tbody tr th {\n",
       "        vertical-align: top;\n",
       "    }\n",
       "\n",
       "    .dataframe thead th {\n",
       "        text-align: right;\n",
       "    }\n",
       "</style>\n",
       "<table border=\"1\" class=\"dataframe\">\n",
       "  <thead>\n",
       "    <tr style=\"text-align: right;\">\n",
       "      <th></th>\n",
       "      <th>TraderID</th>\n",
       "      <th>Instrument</th>\n",
       "      <th>Amount</th>\n",
       "      <th>Trader Location</th>\n",
       "    </tr>\n",
       "  </thead>\n",
       "  <tbody>\n",
       "    <tr>\n",
       "      <th>0</th>\n",
       "      <td>MCBIRN</td>\n",
       "      <td>02079K107</td>\n",
       "      <td>150000</td>\n",
       "      <td>EU</td>\n",
       "    </tr>\n",
       "    <tr>\n",
       "      <th>1</th>\n",
       "      <td>WISEA</td>\n",
       "      <td>1350Z74U5</td>\n",
       "      <td>6400000</td>\n",
       "      <td>EU</td>\n",
       "    </tr>\n",
       "    <tr>\n",
       "      <th>2</th>\n",
       "      <td>IACOP</td>\n",
       "      <td>GB00B3KJDQ49</td>\n",
       "      <td>2430000</td>\n",
       "      <td>US</td>\n",
       "    </tr>\n",
       "  </tbody>\n",
       "</table>\n",
       "</div>"
      ],
      "text/plain": [
       "  TraderID    Instrument   Amount Trader Location\n",
       "0   MCBIRN     02079K107   150000              EU\n",
       "1    WISEA     1350Z74U5  6400000              EU\n",
       "2    IACOP  GB00B3KJDQ49  2430000              US"
      ]
     },
     "execution_count": 109,
     "metadata": {},
     "output_type": "execute_result"
    }
   ],
   "source": [
    "# 1. 'https://andybek.com/traders' - you will find page listing trader\n",
    "# positioins and some attributes. Using pandas, read this table directly\n",
    "# into a pandas df. Assign the df to variable positions.\n",
    "positions = pd.read_html('https://andybek.com/traders')\n",
    "positions=positions[0]\n",
    "positions"
   ]
  },
  {
   "cell_type": "code",
   "execution_count": 110,
   "id": "6ce68832",
   "metadata": {},
   "outputs": [
    {
     "data": {
      "text/html": [
       "<div>\n",
       "<style scoped>\n",
       "    .dataframe tbody tr th:only-of-type {\n",
       "        vertical-align: middle;\n",
       "    }\n",
       "\n",
       "    .dataframe tbody tr th {\n",
       "        vertical-align: top;\n",
       "    }\n",
       "\n",
       "    .dataframe thead th {\n",
       "        text-align: right;\n",
       "    }\n",
       "</style>\n",
       "<table border=\"1\" class=\"dataframe\">\n",
       "  <thead>\n",
       "    <tr style=\"text-align: right;\">\n",
       "      <th></th>\n",
       "      <th>names</th>\n",
       "      <th>alias</th>\n",
       "      <th>seniority</th>\n",
       "    </tr>\n",
       "  </thead>\n",
       "  <tbody>\n",
       "    <tr>\n",
       "      <th>0</th>\n",
       "      <td>Shylah McBirney</td>\n",
       "      <td>MCBIRN</td>\n",
       "      <td>Executive</td>\n",
       "    </tr>\n",
       "    <tr>\n",
       "      <th>1</th>\n",
       "      <td>Allen Wise</td>\n",
       "      <td>WISEA</td>\n",
       "      <td>Executive</td>\n",
       "    </tr>\n",
       "    <tr>\n",
       "      <th>2</th>\n",
       "      <td>Iacopo Brivio</td>\n",
       "      <td>IACOP</td>\n",
       "      <td>Junior</td>\n",
       "    </tr>\n",
       "    <tr>\n",
       "      <th>3</th>\n",
       "      <td>Allison Carter</td>\n",
       "      <td>CARTERA</td>\n",
       "      <td>Mid-level</td>\n",
       "    </tr>\n",
       "  </tbody>\n",
       "</table>\n",
       "</div>"
      ],
      "text/plain": [
       "             names    alias  seniority\n",
       "0  Shylah McBirney   MCBIRN  Executive\n",
       "1       Allen Wise    WISEA  Executive\n",
       "2    Iacopo Brivio    IACOP     Junior\n",
       "3   Allison Carter  CARTERA  Mid-level"
      ]
     },
     "execution_count": 110,
     "metadata": {},
     "output_type": "execute_result"
    }
   ],
   "source": [
    "# 2. 'https://andybek.com//pandas-traders-names' we have more info on traders.\n",
    "# what is format of the data? read it into df as traders\n",
    "# json\n",
    "traders = pd.read_json('https://andybek.com/pandas-traders-names')\n",
    "traders"
   ]
  },
  {
   "cell_type": "code",
   "execution_count": 117,
   "id": "21e387e4",
   "metadata": {},
   "outputs": [
    {
     "data": {
      "text/html": [
       "<div>\n",
       "<style scoped>\n",
       "    .dataframe tbody tr th:only-of-type {\n",
       "        vertical-align: middle;\n",
       "    }\n",
       "\n",
       "    .dataframe tbody tr th {\n",
       "        vertical-align: top;\n",
       "    }\n",
       "\n",
       "    .dataframe thead th {\n",
       "        text-align: right;\n",
       "    }\n",
       "</style>\n",
       "<table border=\"1\" class=\"dataframe\">\n",
       "  <thead>\n",
       "    <tr style=\"text-align: right;\">\n",
       "      <th></th>\n",
       "      <th>TraderID</th>\n",
       "      <th>Instrument</th>\n",
       "      <th>Amount</th>\n",
       "      <th>Trader Location</th>\n",
       "      <th>names</th>\n",
       "      <th>seniority</th>\n",
       "    </tr>\n",
       "  </thead>\n",
       "  <tbody>\n",
       "    <tr>\n",
       "      <th>0</th>\n",
       "      <td>MCBIRN</td>\n",
       "      <td>02079K107</td>\n",
       "      <td>150000</td>\n",
       "      <td>EU</td>\n",
       "      <td>Shylah McBirney</td>\n",
       "      <td>Executive</td>\n",
       "    </tr>\n",
       "    <tr>\n",
       "      <th>1</th>\n",
       "      <td>WISEA</td>\n",
       "      <td>1350Z74U5</td>\n",
       "      <td>6400000</td>\n",
       "      <td>EU</td>\n",
       "      <td>Allen Wise</td>\n",
       "      <td>Executive</td>\n",
       "    </tr>\n",
       "    <tr>\n",
       "      <th>2</th>\n",
       "      <td>IACOP</td>\n",
       "      <td>GB00B3KJDQ49</td>\n",
       "      <td>2430000</td>\n",
       "      <td>US</td>\n",
       "      <td>Iacopo Brivio</td>\n",
       "      <td>Junior</td>\n",
       "    </tr>\n",
       "  </tbody>\n",
       "</table>\n",
       "</div>"
      ],
      "text/plain": [
       "  TraderID    Instrument   Amount Trader Location            names  seniority\n",
       "0   MCBIRN     02079K107   150000              EU  Shylah McBirney  Executive\n",
       "1    WISEA     1350Z74U5  6400000              EU       Allen Wise  Executive\n",
       "2    IACOP  GB00B3KJDQ49  2430000              US    Iacopo Brivio     Junior"
      ]
     },
     "execution_count": 117,
     "metadata": {},
     "output_type": "execute_result"
    }
   ],
   "source": [
    "# 3. combine 2 df from step 1 and 2 into a df that combines positions\n",
    "# with the full name and senority of each trader\n",
    "pd.merge(positions, traders, left_on='TraderID', right_on='alias').drop('alias',axis=1)"
   ]
  },
  {
   "cell_type": "code",
   "execution_count": 118,
   "id": "74421ea9",
   "metadata": {},
   "outputs": [],
   "source": [
    "# 4. save the merged df from step 3 into pickle file called pickled_positions\n",
    "# as well as csv file called positions.csv\n",
    "# confirm that files have been saved locally.\n",
    "merged_df = pd.merge(positions, traders, left_on='TraderID', right_on='alias').drop('alias',axis=1)\n"
   ]
  },
  {
   "cell_type": "code",
   "execution_count": 119,
   "id": "f66c4448",
   "metadata": {},
   "outputs": [],
   "source": [
    "merged_df.to_pickle('pickled_positions')\n",
    "merged_df.to_csv('positions.csv')"
   ]
  },
  {
   "cell_type": "code",
   "execution_count": null,
   "id": "198568ae",
   "metadata": {},
   "outputs": [],
   "source": [
    "!dir"
   ]
  },
  {
   "cell_type": "code",
   "execution_count": null,
   "id": "15e31f05",
   "metadata": {},
   "outputs": [],
   "source": []
  }
 ],
 "metadata": {
  "kernelspec": {
   "display_name": "Python 3 (ipykernel)",
   "language": "python",
   "name": "python3"
  },
  "language_info": {
   "codemirror_mode": {
    "name": "ipython",
    "version": 3
   },
   "file_extension": ".py",
   "mimetype": "text/x-python",
   "name": "python",
   "nbconvert_exporter": "python",
   "pygments_lexer": "ipython3",
   "version": "3.9.12"
  }
 },
 "nbformat": 4,
 "nbformat_minor": 5
}
