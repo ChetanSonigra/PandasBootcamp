{
 "cells": [
  {
   "cell_type": "code",
   "execution_count": 1,
   "id": "b672458d",
   "metadata": {},
   "outputs": [
    {
     "name": "stdout",
     "output_type": "stream",
     "text": [
      "Welcome to Pandas Bootcamp!\n"
     ]
    }
   ],
   "source": [
    "print('Welcome to Pandas Bootcamp!')"
   ]
  },
  {
   "cell_type": "code",
   "execution_count": 2,
   "id": "0c7069cf",
   "metadata": {},
   "outputs": [],
   "source": [
    "import pandas as pd"
   ]
  },
  {
   "cell_type": "markdown",
   "id": "6304b7c4",
   "metadata": {},
   "source": [
    "This is our first notebook. We are practicing dynamics and shortcuts.\n",
    "### In this Bootcamp, we will cover:\n",
    "* Pandas basics\n",
    "* Data Manipulation\n",
    "* Advanced pandas techniques\n",
    "* And much more!"
   ]
  },
  {
   "cell_type": "code",
   "execution_count": 3,
   "id": "af7452bd",
   "metadata": {},
   "outputs": [],
   "source": [
    "# Use google colab for practice if you want:\n",
    "# zero configuration\n",
    "# free access to GPU\n",
    "# Easy sharing"
   ]
  },
  {
   "cell_type": "code",
   "execution_count": 4,
   "id": "3a49f2f6",
   "metadata": {},
   "outputs": [
    {
     "data": {
      "text/plain": [
       "'1.4.2'"
      ]
     },
     "execution_count": 4,
     "metadata": {},
     "output_type": "execute_result"
    }
   ],
   "source": [
    "pd.__version__"
   ]
  },
  {
   "cell_type": "code",
   "execution_count": 5,
   "id": "43f1d505",
   "metadata": {},
   "outputs": [],
   "source": [
    "import numpy as np"
   ]
  },
  {
   "cell_type": "code",
   "execution_count": 6,
   "id": "c18de291",
   "metadata": {},
   "outputs": [
    {
     "name": "stdout",
     "output_type": "stream",
     "text": [
      "<class 'list'>\n"
     ]
    }
   ],
   "source": [
    "a_py = [1,2,3,4]\n",
    "print(type(a_py))"
   ]
  },
  {
   "cell_type": "code",
   "execution_count": 8,
   "id": "01d7f995",
   "metadata": {},
   "outputs": [
    {
     "name": "stdout",
     "output_type": "stream",
     "text": [
      "<class 'numpy.ndarray'>\n"
     ]
    }
   ],
   "source": [
    "b_py = np.array([1,2,3,4])\n",
    "print(type(b_py))"
   ]
  },
  {
   "cell_type": "markdown",
   "id": "03885c35",
   "metadata": {},
   "source": [
    "### Why Numpy? \n",
    "1. Very quick operations\n",
    "2. Much better performance and smaller memory footprint. because numpy stores data in contiguous block of memory.\n",
    "##### above performance is a result of a trade off: numpy array contains only one data type."
   ]
  },
  {
   "cell_type": "code",
   "execution_count": 12,
   "id": "8d8704f4",
   "metadata": {},
   "outputs": [
    {
     "name": "stdout",
     "output_type": "stream",
     "text": [
      "[10, 20, 30, 40]\n",
      "[10, 20, 30, 40]\n",
      "[10 20 30 40]\n"
     ]
    },
    {
     "data": {
      "text/plain": [
       "dtype('int32')"
      ]
     },
     "execution_count": 12,
     "metadata": {},
     "output_type": "execute_result"
    }
   ],
   "source": [
    "# multiply array by 10\n",
    "print([i*10 for i in a_py])\n",
    "print(list(map(lambda x: x*10, a_py)))\n",
    "print(b_py*10)\n",
    "b_py.dtype"
   ]
  },
  {
   "cell_type": "code",
   "execution_count": 13,
   "id": "6710c2d5",
   "metadata": {},
   "outputs": [
    {
     "name": "stdout",
     "output_type": "stream",
     "text": [
      "float64\n",
      "[1.  2.3 3. ]\n"
     ]
    }
   ],
   "source": [
    "# Implicit upcasting\n",
    "c = np.array([1, 2.3, 3])\n",
    "print(c.dtype)\n",
    "print(c)"
   ]
  },
  {
   "cell_type": "code",
   "execution_count": null,
   "id": "34f5ed99",
   "metadata": {},
   "outputs": [],
   "source": []
  }
 ],
 "metadata": {
  "kernelspec": {
   "display_name": "Python 3 (ipykernel)",
   "language": "python",
   "name": "python3"
  },
  "language_info": {
   "codemirror_mode": {
    "name": "ipython",
    "version": 3
   },
   "file_extension": ".py",
   "mimetype": "text/x-python",
   "name": "python",
   "nbconvert_exporter": "python",
   "pygments_lexer": "ipython3",
   "version": "3.9.12"
  }
 },
 "nbformat": 4,
 "nbformat_minor": 5
}
