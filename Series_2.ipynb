{
 "cells": [
  {
   "cell_type": "markdown",
   "id": "36689f60",
   "metadata": {},
   "source": [
    "### This notebook covers:\n",
    "* Series Structure, item count, NaNs\n",
    "* Descriptive Statistics\n",
    "* Series Arithmatics\n",
    "* Sorting Series\n",
    "* Filtering and Custom Transformation"
   ]
  },
  {
   "cell_type": "markdown",
   "id": "d78951b0",
   "metadata": {},
   "source": [
    "### Revision:\n",
    "* pd.read_csv(url, use_cols=[], index_col='col').sqeeze()\n",
    "* Series Attributes:\n",
    "    - s.size, s.shape, s.index, s.values\n",
    "* Unique and Monotonicity:\n",
    "    - s.is_unique,s.nunique(dropna=True), s.is_monotonic, s.is_monotonic_increasing, s.is_monotonic_decreasing\n",
    "* Count:\n",
    "    - s.count() = gives non na counts\n",
    "* Accessing and Counting NAs:\n",
    "    - s.hasnas,\n",
    "    - s.isnull() = s.isna() = gives boolean mask series based on NA values\n",
    "    - s.notnull() = s.notna() = gives boolean mask series based on not NA values.\n",
    "    - s.size = s.isnull().sum() + s.count()\n",
    "    - np.isnan = universal function, difference between sequential operation and vectorized operation on array\n",
    "* Filling and Dropping NAs:\n",
    "    - s.dropna(inplace=False), s.fillna(value, inplace=False)\n",
    "* Descriptive Statistics:\n",
    "    - s.mean(), s.std(), s.var(), s.median(), s.mode(), s.quantile(0.5), s.quantile(0.3), s.min(), s.max()\n",
    "    - s.describe(include=float, exclude=object, percentiles=[0.20, 0.70])\n",
    "    - s.hist() = to draw histogram\n",
    "    - positive skewed = mean is significantly higher compared to meadian.\n",
    "* value_counts, idxmax, idxmin:\n",
    "    - s.value_counts(sort=True, ascending=True, dropna=True, normalize=False )  # normalize will give relative percentage.\n",
    "    - s.idxmin(), s.idxmax() # only gives one first value\n",
    "* Sorting:\n",
    "    - s.sort_values(ascending=True, na_position='last',\n",
    "                                kind='quicksort',   #  mergesort, heapsort\n",
    "                                    inplace=False)\n",
    "    - s.sort_index(ascending=True, na_position='last', inplace=False)\n",
    "* s.nlargest(n), s.nsmallest(n)\n",
    "* Series Arithmatic:\n",
    "    - s+2, (s-10)*3\n",
    "    - s+s2 or s.add(s2, fill_value=0),\n",
    "    - s-s2 or s.subtract(s2, fill_value=0),\n",
    "    - s*s2 or s.multiply(s2, fill_value=1),\n",
    "    - s/s2 or s.divide(s2, fill_value=1)\n",
    "* Cummulative arithmatic:\n",
    "    - cumsum(skipna=True) = cummulative sum\n",
    "    - cumprod(skipna=True) = cummulative product\n",
    "    - cummin(skipna=True) = cummulative minimum\n",
    "* Pairwise differences with diff(): s.diff(periods=1)\n",
    "* Series Iteration:\n",
    "    - for i in s:\n",
    "        print(i) # gives value\n",
    "    - for i in s.index:\n",
    "        print(i) # gives index\n",
    "    - for i in s.items():\n",
    "        print(i) # gives tuple(index, value)\n",
    "* Filtering with filter, where, and mask:\n",
    "    - s.filter(regex='V'), s.filter(like='stan'), s.filter()\n",
    "    - s[s>200], s.loc[s>200]\n",
    "    - s.where(lambda x: x>200, other=NaN) # will give NaN where x<=200\n",
    "    - s.mask(lambda x: x>200) # will give NaN where x>200\n",
    "* Transforming with update(), apply(), map():\n",
    "    - s['a'] = 34, s.update(pd.Series(data=[23, 45], index=['a', 'b']))\n",
    "    - s.apply(lambda x: x**2), s.apply(np.square), s.apply(multiply_by_n, args=(a, b, c, ...))\n",
    "    - s.map(dict/function,na_action='ignore'/None) # to substitute a values from dict/function\n",
    "* z score = (x-mean)/stddev = relatively large/small."
   ]
  },
  {
   "cell_type": "markdown",
   "id": "57392c5f",
   "metadata": {},
   "source": [
    "### Reading data from csv"
   ]
  },
  {
   "cell_type": "code",
   "execution_count": 2,
   "id": "eb19b427",
   "metadata": {},
   "outputs": [
    {
     "data": {
      "text/html": [
       "<div>\n",
       "<style scoped>\n",
       "    .dataframe tbody tr th:only-of-type {\n",
       "        vertical-align: middle;\n",
       "    }\n",
       "\n",
       "    .dataframe tbody tr th {\n",
       "        vertical-align: top;\n",
       "    }\n",
       "\n",
       "    .dataframe thead th {\n",
       "        text-align: right;\n",
       "    }\n",
       "</style>\n",
       "<table border=\"1\" class=\"dataframe\">\n",
       "  <thead>\n",
       "    <tr style=\"text-align: right;\">\n",
       "      <th></th>\n",
       "      <th>country</th>\n",
       "      <th>beer_servings</th>\n",
       "      <th>spirit_servings</th>\n",
       "      <th>wine_servings</th>\n",
       "      <th>total_litres_of_pure_alcohol</th>\n",
       "    </tr>\n",
       "  </thead>\n",
       "  <tbody>\n",
       "    <tr>\n",
       "      <th>0</th>\n",
       "      <td>Afghanistan</td>\n",
       "      <td>NaN</td>\n",
       "      <td>NaN</td>\n",
       "      <td>NaN</td>\n",
       "      <td>NaN</td>\n",
       "    </tr>\n",
       "    <tr>\n",
       "      <th>1</th>\n",
       "      <td>Albania</td>\n",
       "      <td>89.0</td>\n",
       "      <td>132.0</td>\n",
       "      <td>54.0</td>\n",
       "      <td>4.9</td>\n",
       "    </tr>\n",
       "    <tr>\n",
       "      <th>2</th>\n",
       "      <td>Algeria</td>\n",
       "      <td>25.0</td>\n",
       "      <td>NaN</td>\n",
       "      <td>14.0</td>\n",
       "      <td>0.7</td>\n",
       "    </tr>\n",
       "    <tr>\n",
       "      <th>3</th>\n",
       "      <td>Andorra</td>\n",
       "      <td>245.0</td>\n",
       "      <td>138.0</td>\n",
       "      <td>312.0</td>\n",
       "      <td>12.4</td>\n",
       "    </tr>\n",
       "    <tr>\n",
       "      <th>4</th>\n",
       "      <td>Angola</td>\n",
       "      <td>217.0</td>\n",
       "      <td>57.0</td>\n",
       "      <td>45.0</td>\n",
       "      <td>5.9</td>\n",
       "    </tr>\n",
       "    <tr>\n",
       "      <th>...</th>\n",
       "      <td>...</td>\n",
       "      <td>...</td>\n",
       "      <td>...</td>\n",
       "      <td>...</td>\n",
       "      <td>...</td>\n",
       "    </tr>\n",
       "    <tr>\n",
       "      <th>188</th>\n",
       "      <td>Venezuela</td>\n",
       "      <td>333.0</td>\n",
       "      <td>1.0</td>\n",
       "      <td>3.0</td>\n",
       "      <td>7.7</td>\n",
       "    </tr>\n",
       "    <tr>\n",
       "      <th>189</th>\n",
       "      <td>Vietnam</td>\n",
       "      <td>111.0</td>\n",
       "      <td>2.0</td>\n",
       "      <td>1.0</td>\n",
       "      <td>2.0</td>\n",
       "    </tr>\n",
       "    <tr>\n",
       "      <th>190</th>\n",
       "      <td>Yemen</td>\n",
       "      <td>6.0</td>\n",
       "      <td>NaN</td>\n",
       "      <td>NaN</td>\n",
       "      <td>0.1</td>\n",
       "    </tr>\n",
       "    <tr>\n",
       "      <th>191</th>\n",
       "      <td>Zambia</td>\n",
       "      <td>32.0</td>\n",
       "      <td>19.0</td>\n",
       "      <td>4.0</td>\n",
       "      <td>2.5</td>\n",
       "    </tr>\n",
       "    <tr>\n",
       "      <th>192</th>\n",
       "      <td>Zimbabwe</td>\n",
       "      <td>64.0</td>\n",
       "      <td>18.0</td>\n",
       "      <td>4.0</td>\n",
       "      <td>4.7</td>\n",
       "    </tr>\n",
       "  </tbody>\n",
       "</table>\n",
       "<p>193 rows × 5 columns</p>\n",
       "</div>"
      ],
      "text/plain": [
       "         country  beer_servings  spirit_servings  wine_servings  \\\n",
       "0    Afghanistan            NaN              NaN            NaN   \n",
       "1        Albania           89.0            132.0           54.0   \n",
       "2        Algeria           25.0              NaN           14.0   \n",
       "3        Andorra          245.0            138.0          312.0   \n",
       "4         Angola          217.0             57.0           45.0   \n",
       "..           ...            ...              ...            ...   \n",
       "188    Venezuela          333.0              1.0            3.0   \n",
       "189      Vietnam          111.0              2.0            1.0   \n",
       "190        Yemen            6.0              NaN            NaN   \n",
       "191       Zambia           32.0             19.0            4.0   \n",
       "192     Zimbabwe           64.0             18.0            4.0   \n",
       "\n",
       "     total_litres_of_pure_alcohol  \n",
       "0                             NaN  \n",
       "1                             4.9  \n",
       "2                             0.7  \n",
       "3                            12.4  \n",
       "4                             5.9  \n",
       "..                            ...  \n",
       "188                           7.7  \n",
       "189                           2.0  \n",
       "190                           0.1  \n",
       "191                           2.5  \n",
       "192                           4.7  \n",
       "\n",
       "[193 rows x 5 columns]"
      ]
     },
     "execution_count": 2,
     "metadata": {},
     "output_type": "execute_result"
    }
   ],
   "source": [
    "import pandas as pd\n",
    "pd.read_csv('https://andybek.com/pandas-drinks')"
   ]
  },
  {
   "cell_type": "code",
   "execution_count": 3,
   "id": "6808a7bb",
   "metadata": {},
   "outputs": [
    {
     "data": {
      "text/html": [
       "<div>\n",
       "<style scoped>\n",
       "    .dataframe tbody tr th:only-of-type {\n",
       "        vertical-align: middle;\n",
       "    }\n",
       "\n",
       "    .dataframe tbody tr th {\n",
       "        vertical-align: top;\n",
       "    }\n",
       "\n",
       "    .dataframe thead th {\n",
       "        text-align: right;\n",
       "    }\n",
       "</style>\n",
       "<table border=\"1\" class=\"dataframe\">\n",
       "  <thead>\n",
       "    <tr style=\"text-align: right;\">\n",
       "      <th></th>\n",
       "      <th>country</th>\n",
       "      <th>wine_servings</th>\n",
       "    </tr>\n",
       "  </thead>\n",
       "  <tbody>\n",
       "    <tr>\n",
       "      <th>0</th>\n",
       "      <td>Afghanistan</td>\n",
       "      <td>NaN</td>\n",
       "    </tr>\n",
       "    <tr>\n",
       "      <th>1</th>\n",
       "      <td>Albania</td>\n",
       "      <td>54.0</td>\n",
       "    </tr>\n",
       "    <tr>\n",
       "      <th>2</th>\n",
       "      <td>Algeria</td>\n",
       "      <td>14.0</td>\n",
       "    </tr>\n",
       "    <tr>\n",
       "      <th>3</th>\n",
       "      <td>Andorra</td>\n",
       "      <td>312.0</td>\n",
       "    </tr>\n",
       "    <tr>\n",
       "      <th>4</th>\n",
       "      <td>Angola</td>\n",
       "      <td>45.0</td>\n",
       "    </tr>\n",
       "    <tr>\n",
       "      <th>...</th>\n",
       "      <td>...</td>\n",
       "      <td>...</td>\n",
       "    </tr>\n",
       "    <tr>\n",
       "      <th>188</th>\n",
       "      <td>Venezuela</td>\n",
       "      <td>3.0</td>\n",
       "    </tr>\n",
       "    <tr>\n",
       "      <th>189</th>\n",
       "      <td>Vietnam</td>\n",
       "      <td>1.0</td>\n",
       "    </tr>\n",
       "    <tr>\n",
       "      <th>190</th>\n",
       "      <td>Yemen</td>\n",
       "      <td>NaN</td>\n",
       "    </tr>\n",
       "    <tr>\n",
       "      <th>191</th>\n",
       "      <td>Zambia</td>\n",
       "      <td>4.0</td>\n",
       "    </tr>\n",
       "    <tr>\n",
       "      <th>192</th>\n",
       "      <td>Zimbabwe</td>\n",
       "      <td>4.0</td>\n",
       "    </tr>\n",
       "  </tbody>\n",
       "</table>\n",
       "<p>193 rows × 2 columns</p>\n",
       "</div>"
      ],
      "text/plain": [
       "         country  wine_servings\n",
       "0    Afghanistan            NaN\n",
       "1        Albania           54.0\n",
       "2        Algeria           14.0\n",
       "3        Andorra          312.0\n",
       "4         Angola           45.0\n",
       "..           ...            ...\n",
       "188    Venezuela            3.0\n",
       "189      Vietnam            1.0\n",
       "190        Yemen            NaN\n",
       "191       Zambia            4.0\n",
       "192     Zimbabwe            4.0\n",
       "\n",
       "[193 rows x 2 columns]"
      ]
     },
     "execution_count": 3,
     "metadata": {},
     "output_type": "execute_result"
    }
   ],
   "source": [
    "pd.read_csv('https://andybek.com/pandas-drinks', usecols=['country','wine_servings'])"
   ]
  },
  {
   "cell_type": "code",
   "execution_count": 4,
   "id": "7613a5ea",
   "metadata": {},
   "outputs": [
    {
     "name": "stdout",
     "output_type": "stream",
     "text": [
      "<class 'pandas.core.series.Series'>\n"
     ]
    },
    {
     "data": {
      "text/plain": [
       "country\n",
       "Afghanistan      NaN\n",
       "Albania         54.0\n",
       "Algeria         14.0\n",
       "Andorra        312.0\n",
       "Angola          45.0\n",
       "Name: wine_servings, dtype: float64"
      ]
     },
     "execution_count": 4,
     "metadata": {},
     "output_type": "execute_result"
    }
   ],
   "source": [
    "alcohol = pd.read_csv('https://andybek.com/pandas-drinks', usecols=['country','wine_servings'], index_col='country').squeeze()\n",
    "\n",
    "# squeeze() will return series if only one column is there, else dataframe.\n",
    "\n",
    "print(type(alcohol))\n",
    "alcohol.head()"
   ]
  },
  {
   "cell_type": "markdown",
   "id": "ace7315d",
   "metadata": {},
   "source": [
    "### Series size, shape and len()"
   ]
  },
  {
   "cell_type": "code",
   "execution_count": 5,
   "id": "8f90bdd5",
   "metadata": {},
   "outputs": [
    {
     "name": "stdout",
     "output_type": "stream",
     "text": [
      "Index(['Afghanistan', 'Albania', 'Algeria', 'Andorra', 'Angola',\n",
      "       'Antigua & Barbuda', 'Argentina', 'Armenia', 'Australia', 'Austria',\n",
      "       ...\n",
      "       'Tanzania', 'USA', 'Uruguay', 'Uzbekistan', 'Vanuatu', 'Venezuela',\n",
      "       'Vietnam', 'Yemen', 'Zambia', 'Zimbabwe'],\n",
      "      dtype='object', name='country', length=193)\n",
      "[ nan  54.  14. 312.  45.  45. 221.  11. 212. 191.   5.  51.   7.  nan\n",
      "  36.  42. 212.   8.  13.  nan   8.   8.  35.  16.   1.  94.   7.  nan\n",
      "   7.  16.   1.   4.   1.   1.   1. 172.   8.   3.   1.   9.  74.  11.\n",
      " 254.   5. 113. 134.  nan   1. 278.   3.  26.   9.   3.   1.   2. 233.\n",
      "  nan  59.  nan   1.  97.  37.  59.   1. 149. 175.   1. 218.  28.   2.\n",
      "   2.  21.   1.   1.   2. 185.  78.  nan  nan  nan  nan 165.   9. 237.\n",
      "   9.  16.   1.  12.   2.   1.  nan   6. 123.  62.  31.  nan   2.  nan\n",
      "  56. 271.   4.   1.  nan  nan   1.  12.  nan  nan  18.   5.  18.  nan\n",
      "   8. 128.   1.   5.  nan   1.   8.  nan  19. 175.   1.   1.   2.   7.\n",
      " 129.   1.  nan  23.  18.   1.  74.  21.   1.  56. 339.   7.   9.  18.\n",
      " 167.  73.  nan  32.  71.  11.  24.  nan  14.  nan   7. 127.  51.   2.\n",
      "  11. 116. 276.   1.  nan  81. 112.  nan  nan   7.   2. 186.  28.  16.\n",
      "  nan   1.  86.   4.  19.   5.   7.   2.   7.  32.   9.  nan  45.   5.\n",
      " 195.   1.  84.  22.   8.  11.   3.   1.  nan   4.   4.]\n",
      "193 193 193\n"
     ]
    }
   ],
   "source": [
    "print(alcohol.index, alcohol.values,sep='\\n')\n",
    "print(alcohol.index.size, alcohol.values.size, alcohol.size)"
   ]
  },
  {
   "cell_type": "code",
   "execution_count": 6,
   "id": "ba5d3cd4",
   "metadata": {},
   "outputs": [
    {
     "data": {
      "text/plain": [
       "(193,)"
      ]
     },
     "execution_count": 6,
     "metadata": {},
     "output_type": "execute_result"
    }
   ],
   "source": [
    "alcohol.shape"
   ]
  },
  {
   "cell_type": "code",
   "execution_count": 7,
   "id": "58ea2727",
   "metadata": {},
   "outputs": [
    {
     "data": {
      "text/plain": [
       "193"
      ]
     },
     "execution_count": 7,
     "metadata": {},
     "output_type": "execute_result"
    }
   ],
   "source": [
    "len(alcohol)"
   ]
  },
  {
   "cell_type": "markdown",
   "id": "45ef41c1",
   "metadata": {},
   "source": [
    "### Unique values and Series monotonicity"
   ]
  },
  {
   "cell_type": "code",
   "execution_count": 8,
   "id": "020ef4e7",
   "metadata": {},
   "outputs": [
    {
     "name": "stdout",
     "output_type": "stream",
     "text": [
      "False\n",
      "True\n",
      "71\n",
      "72\n"
     ]
    }
   ],
   "source": [
    "print(alcohol.is_unique)\n",
    "print(alcohol.head().is_unique)\n",
    "print(alcohol.nunique())\n",
    "print(alcohol.nunique(dropna=False))"
   ]
  },
  {
   "cell_type": "code",
   "execution_count": 9,
   "id": "d035bf07",
   "metadata": {},
   "outputs": [
    {
     "data": {
      "text/plain": [
       "True"
      ]
     },
     "execution_count": 9,
     "metadata": {},
     "output_type": "execute_result"
    }
   ],
   "source": [
    "pd.Series([1,2,3,3,3,6,34,55]).is_monotonic"
   ]
  },
  {
   "cell_type": "code",
   "execution_count": 10,
   "id": "d70b4d1b",
   "metadata": {},
   "outputs": [
    {
     "data": {
      "text/plain": [
       "False"
      ]
     },
     "execution_count": 10,
     "metadata": {},
     "output_type": "execute_result"
    }
   ],
   "source": [
    "pd.Series([1,2,3,3,3,6,34,55,6]).is_monotonic"
   ]
  },
  {
   "cell_type": "code",
   "execution_count": 11,
   "id": "87f7358f",
   "metadata": {},
   "outputs": [
    {
     "name": "stdout",
     "output_type": "stream",
     "text": [
      "False\n",
      "True\n"
     ]
    }
   ],
   "source": [
    "print(pd.Series(reversed([1,2,3,3,3,6,34,55])).is_monotonic_increasing)\n",
    "print(pd.Series(reversed([1,2,3,3,3,6,34,55])).is_monotonic_decreasing)"
   ]
  },
  {
   "cell_type": "markdown",
   "id": "01859705",
   "metadata": {},
   "source": [
    "### Count"
   ]
  },
  {
   "cell_type": "code",
   "execution_count": 12,
   "id": "028e03b9",
   "metadata": {},
   "outputs": [
    {
     "data": {
      "text/plain": [
       "(162, 193, True)"
      ]
     },
     "execution_count": 12,
     "metadata": {},
     "output_type": "execute_result"
    }
   ],
   "source": [
    "alcohol.count(), alcohol.size, alcohol.hasnans\n",
    "# count returns only non NA/NULL data counts"
   ]
  },
  {
   "cell_type": "markdown",
   "id": "817f8189",
   "metadata": {},
   "source": [
    "### Accessing and Counting NAs"
   ]
  },
  {
   "cell_type": "code",
   "execution_count": 13,
   "id": "2ad2f201",
   "metadata": {},
   "outputs": [
    {
     "data": {
      "text/plain": [
       "(country\n",
       " Afghanistan     True\n",
       " Albania        False\n",
       " Algeria        False\n",
       " Andorra        False\n",
       " Angola         False\n",
       "                ...  \n",
       " Venezuela      False\n",
       " Vietnam        False\n",
       " Yemen           True\n",
       " Zambia         False\n",
       " Zimbabwe       False\n",
       " Name: wine_servings, Length: 193, dtype: bool,\n",
       " pandas.core.series.Series)"
      ]
     },
     "execution_count": 13,
     "metadata": {},
     "output_type": "execute_result"
    }
   ],
   "source": [
    "alcohol.isnull(), type(alcohol.isnull())"
   ]
  },
  {
   "cell_type": "code",
   "execution_count": 14,
   "id": "0fe6b8e2",
   "metadata": {},
   "outputs": [
    {
     "data": {
      "text/plain": [
       "country\n",
       "Afghanistan        NaN\n",
       "Bangladesh         NaN\n",
       "Bhutan             NaN\n",
       "Burundi            NaN\n",
       "North Korea        NaN\n",
       "Eritrea            NaN\n",
       "Ethiopia           NaN\n",
       "India              NaN\n",
       "Indonesia          NaN\n",
       "Iran               NaN\n",
       "Iraq               NaN\n",
       "Kuwait             NaN\n",
       "Lesotho            NaN\n",
       "Libya              NaN\n",
       "Malaysia           NaN\n",
       "Maldives           NaN\n",
       "Marshall Islands   NaN\n",
       "Mauritania         NaN\n",
       "Monaco             NaN\n",
       "Myanmar            NaN\n",
       "Nepal              NaN\n",
       "Pakistan           NaN\n",
       "Rwanda             NaN\n",
       "San Marino         NaN\n",
       "Saudi Arabia       NaN\n",
       "Somalia            NaN\n",
       "Sri Lanka          NaN\n",
       "Sudan              NaN\n",
       "Tajikistan         NaN\n",
       "Uganda             NaN\n",
       "Yemen              NaN\n",
       "Name: wine_servings, dtype: float64"
      ]
     },
     "execution_count": 14,
     "metadata": {},
     "output_type": "execute_result"
    }
   ],
   "source": [
    "alcohol[alcohol.isnull()]"
   ]
  },
  {
   "cell_type": "code",
   "execution_count": 15,
   "id": "5830b1a7",
   "metadata": {},
   "outputs": [
    {
     "data": {
      "text/plain": [
       "Index(['Afghanistan', 'Bangladesh', 'Bhutan', 'Burundi', 'North Korea',\n",
       "       'Eritrea', 'Ethiopia', 'India', 'Indonesia', 'Iran', 'Iraq', 'Kuwait',\n",
       "       'Lesotho', 'Libya', 'Malaysia', 'Maldives', 'Marshall Islands',\n",
       "       'Mauritania', 'Monaco', 'Myanmar', 'Nepal', 'Pakistan', 'Rwanda',\n",
       "       'San Marino', 'Saudi Arabia', 'Somalia', 'Sri Lanka', 'Sudan',\n",
       "       'Tajikistan', 'Uganda', 'Yemen'],\n",
       "      dtype='object', name='country')"
      ]
     },
     "execution_count": 15,
     "metadata": {},
     "output_type": "execute_result"
    }
   ],
   "source": [
    "alcohol[alcohol.isnull()].index"
   ]
  },
  {
   "cell_type": "code",
   "execution_count": 16,
   "id": "22a9dc64",
   "metadata": {},
   "outputs": [
    {
     "data": {
      "text/plain": [
       "(31, 31)"
      ]
     },
     "execution_count": 16,
     "metadata": {},
     "output_type": "execute_result"
    }
   ],
   "source": [
    "len(alcohol[alcohol.isnull()].index), alcohol.isnull().sum()"
   ]
  },
  {
   "cell_type": "code",
   "execution_count": 17,
   "id": "651435e0",
   "metadata": {},
   "outputs": [
    {
     "data": {
      "text/plain": [
       "True"
      ]
     },
     "execution_count": 17,
     "metadata": {},
     "output_type": "execute_result"
    }
   ],
   "source": [
    "all_ = alcohol.size\n",
    "nonnulls = alcohol.count()\n",
    "nulls = alcohol.isnull().sum()  \n",
    "all_ == nonnulls + nulls"
   ]
  },
  {
   "cell_type": "code",
   "execution_count": 18,
   "id": "e78c5949",
   "metadata": {},
   "outputs": [],
   "source": [
    "# isna() and isnull() is alias."
   ]
  },
  {
   "cell_type": "code",
   "execution_count": 19,
   "id": "5ae6d8dc",
   "metadata": {},
   "outputs": [],
   "source": [
    "import numpy as np\n",
    "# sequencial = running operations on array one by one\n",
    "# vectorized = running operations on entire array  --> used in numpy\n",
    "# ufunc --> universal function"
   ]
  },
  {
   "cell_type": "code",
   "execution_count": 20,
   "id": "07b9a3f5",
   "metadata": {},
   "outputs": [
    {
     "data": {
      "text/plain": [
       "<ufunc 'isnan'>"
      ]
     },
     "execution_count": 20,
     "metadata": {},
     "output_type": "execute_result"
    }
   ],
   "source": [
    "np.isnan"
   ]
  },
  {
   "cell_type": "code",
   "execution_count": 21,
   "id": "e5577a6f",
   "metadata": {},
   "outputs": [
    {
     "data": {
      "text/plain": [
       "0    False\n",
       "1    False\n",
       "2     True\n",
       "3    False\n",
       "dtype: bool"
      ]
     },
     "execution_count": 21,
     "metadata": {},
     "output_type": "execute_result"
    }
   ],
   "source": [
    "ser = pd.Series(data=[True,False, None, 2],dtype='float')\n",
    "np.isnan(ser)"
   ]
  },
  {
   "cell_type": "code",
   "execution_count": 22,
   "id": "0cfc226f",
   "metadata": {},
   "outputs": [
    {
     "data": {
      "text/plain": [
       "31"
      ]
     },
     "execution_count": 22,
     "metadata": {},
     "output_type": "execute_result"
    }
   ],
   "source": [
    "alcohol[np.isnan].size"
   ]
  },
  {
   "cell_type": "code",
   "execution_count": 23,
   "id": "dd4deb58",
   "metadata": {},
   "outputs": [
    {
     "data": {
      "text/plain": [
       "country\n",
       "Albania               54.0\n",
       "Algeria               14.0\n",
       "Andorra              312.0\n",
       "Angola                45.0\n",
       "Antigua & Barbuda     45.0\n",
       "                     ...  \n",
       "Vanuatu               11.0\n",
       "Venezuela              3.0\n",
       "Vietnam                1.0\n",
       "Zambia                 4.0\n",
       "Zimbabwe               4.0\n",
       "Name: wine_servings, Length: 162, dtype: float64"
      ]
     },
     "execution_count": 23,
     "metadata": {},
     "output_type": "execute_result"
    }
   ],
   "source": [
    "# notnulll / notna\n",
    "alcohol.loc[alcohol.notnull()]"
   ]
  },
  {
   "cell_type": "code",
   "execution_count": 24,
   "id": "32b4f579",
   "metadata": {},
   "outputs": [
    {
     "data": {
      "text/plain": [
       "(162, 162)"
      ]
     },
     "execution_count": 24,
     "metadata": {},
     "output_type": "execute_result"
    }
   ],
   "source": [
    "alcohol.notnull().sum(), alcohol.notna().sum()"
   ]
  },
  {
   "cell_type": "code",
   "execution_count": 25,
   "id": "81899565",
   "metadata": {},
   "outputs": [
    {
     "data": {
      "text/plain": [
       "(11, 10)"
      ]
     },
     "execution_count": 25,
     "metadata": {},
     "output_type": "execute_result"
    }
   ],
   "source": [
    "True + 10, False + 10 # bool type is subclass of int"
   ]
  },
  {
   "cell_type": "code",
   "execution_count": 26,
   "id": "aaa1a43e",
   "metadata": {},
   "outputs": [
    {
     "data": {
      "text/plain": [
       "(bool, int, object)"
      ]
     },
     "execution_count": 26,
     "metadata": {},
     "output_type": "execute_result"
    }
   ],
   "source": [
    "bool.__mro__"
   ]
  },
  {
   "cell_type": "code",
   "execution_count": 27,
   "id": "724ba3a3",
   "metadata": {},
   "outputs": [],
   "source": [
    "wine_servings = alcohol[alcohol.notnull()]"
   ]
  },
  {
   "cell_type": "code",
   "execution_count": 28,
   "id": "8863d0de",
   "metadata": {},
   "outputs": [
    {
     "name": "stdout",
     "output_type": "stream",
     "text": [
      "8221.0\n"
     ]
    }
   ],
   "source": [
    "print(wine_servings.sum())   # total wine consumed"
   ]
  },
  {
   "cell_type": "code",
   "execution_count": 29,
   "id": "bcf5e1b2",
   "metadata": {},
   "outputs": [
    {
     "name": "stdout",
     "output_type": "stream",
     "text": [
      "country\n",
      "Albania              54.0\n",
      "Algeria              14.0\n",
      "Angola               45.0\n",
      "Antigua & Barbuda    45.0\n",
      "Armenia              11.0\n",
      "                     ... \n",
      "Vanuatu              11.0\n",
      "Venezuela             3.0\n",
      "Vietnam               1.0\n",
      "Zambia                4.0\n",
      "Zimbabwe              4.0\n",
      "Name: wine_servings, Length: 132, dtype: float64\n",
      "132\n"
     ]
    }
   ],
   "source": [
    "print(wine_servings.loc[[True if wine_servings[i]<100 else False for i in range(wine_servings.size)]])\n",
    "print(wine_servings[wine_servings<100].size)"
   ]
  },
  {
   "cell_type": "markdown",
   "id": "61652b33",
   "metadata": {},
   "source": [
    "### Dropping and Filling NAs"
   ]
  },
  {
   "cell_type": "code",
   "execution_count": 30,
   "id": "52169e22",
   "metadata": {},
   "outputs": [
    {
     "data": {
      "text/plain": [
       "country\n",
       "Albania               54.0\n",
       "Algeria               14.0\n",
       "Andorra              312.0\n",
       "Angola                45.0\n",
       "Antigua & Barbuda     45.0\n",
       "                     ...  \n",
       "Vanuatu               11.0\n",
       "Venezuela              3.0\n",
       "Vietnam                1.0\n",
       "Zambia                 4.0\n",
       "Zimbabwe               4.0\n",
       "Name: wine_servings, Length: 162, dtype: float64"
      ]
     },
     "execution_count": 30,
     "metadata": {},
     "output_type": "execute_result"
    }
   ],
   "source": [
    "alcohol.dropna()  # doesn't change original series. alcohol.dropna(inplace=True)"
   ]
  },
  {
   "cell_type": "code",
   "execution_count": 31,
   "id": "ec5a361b",
   "metadata": {},
   "outputs": [
    {
     "data": {
      "text/plain": [
       "country\n",
       "Afghanistan    100.0\n",
       "Albania         54.0\n",
       "Algeria         14.0\n",
       "Andorra        312.0\n",
       "Angola          45.0\n",
       "               ...  \n",
       "Venezuela        3.0\n",
       "Vietnam          1.0\n",
       "Yemen          100.0\n",
       "Zambia           4.0\n",
       "Zimbabwe         4.0\n",
       "Name: wine_servings, Length: 193, dtype: float64"
      ]
     },
     "execution_count": 31,
     "metadata": {},
     "output_type": "execute_result"
    }
   ],
   "source": [
    "alcohol.fillna(100, inplace=False)"
   ]
  },
  {
   "cell_type": "markdown",
   "id": "9028a9c1",
   "metadata": {},
   "source": [
    "### Descriptive Statistics"
   ]
  },
  {
   "cell_type": "code",
   "execution_count": 32,
   "id": "abbc65aa",
   "metadata": {},
   "outputs": [
    {
     "name": "stdout",
     "output_type": "stream",
     "text": [
      "8221.0\n",
      "50.74691358024691\n",
      "11.5\n",
      "11.5\n",
      "5.0\n"
     ]
    }
   ],
   "source": [
    "# na will be excluded in calculation\n",
    "print(alcohol.sum())\n",
    "print(alcohol.mean())\n",
    "print(alcohol.median())\n",
    "print(alcohol.quantile(0.5))\n",
    "print(alcohol.quantile(0.3))"
   ]
  },
  {
   "cell_type": "code",
   "execution_count": 33,
   "id": "56e93433",
   "metadata": {},
   "outputs": [],
   "source": [
    "# positive skew and negetive skew\n",
    "# positive skew = mean is significantly higher than median"
   ]
  },
  {
   "cell_type": "code",
   "execution_count": 34,
   "id": "c965a090",
   "metadata": {},
   "outputs": [
    {
     "data": {
      "text/plain": [
       "<AxesSubplot:>"
      ]
     },
     "execution_count": 34,
     "metadata": {},
     "output_type": "execute_result"
    },
    {
     "data": {
      "image/png": "[encoded data removed]",
      "text/plain": [
       "<Figure size 432x288 with 1 Axes>"
      ]
     },
     "metadata": {
      "needs_background": "light"
     },
     "output_type": "display_data"
    }
   ],
   "source": [
    "alcohol.hist()"
   ]
  },
  {
   "cell_type": "code",
   "execution_count": 35,
   "id": "c048077b",
   "metadata": {},
   "outputs": [
    {
     "data": {
      "text/plain": [
       "58.25"
      ]
     },
     "execution_count": 35,
     "metadata": {},
     "output_type": "execute_result"
    }
   ],
   "source": [
    "# IQR = Interquartile Range\n",
    "iqr = alcohol.quantile(.75) - alcohol.quantile(.25)\n",
    "iqr"
   ]
  },
  {
   "cell_type": "code",
   "execution_count": 36,
   "id": "c89bcde1",
   "metadata": {},
   "outputs": [
    {
     "data": {
      "text/plain": [
       "(1.0, 339.0)"
      ]
     },
     "execution_count": 36,
     "metadata": {},
     "output_type": "execute_result"
    }
   ],
   "source": [
    "alcohol.min(), alcohol.max()"
   ]
  },
  {
   "cell_type": "code",
   "execution_count": 37,
   "id": "71224eb6",
   "metadata": {},
   "outputs": [
    {
     "data": {
      "text/plain": [
       "(76.13491716376173, 5796.52561153286)"
      ]
     },
     "execution_count": 37,
     "metadata": {},
     "output_type": "execute_result"
    }
   ],
   "source": [
    "alcohol.std(), alcohol.var()"
   ]
  },
  {
   "cell_type": "code",
   "execution_count": 38,
   "id": "71c65e33",
   "metadata": {},
   "outputs": [
    {
     "data": {
      "text/plain": [
       "count    162.000000\n",
       "mean      50.746914\n",
       "std       76.134917\n",
       "min        1.000000\n",
       "25%        3.000000\n",
       "50%       11.500000\n",
       "75%       61.250000\n",
       "max      339.000000\n",
       "Name: wine_servings, dtype: float64"
      ]
     },
     "execution_count": 38,
     "metadata": {},
     "output_type": "execute_result"
    }
   ],
   "source": [
    "alcohol.describe()"
   ]
  },
  {
   "cell_type": "code",
   "execution_count": 39,
   "id": "b37badb5",
   "metadata": {},
   "outputs": [
    {
     "data": {
      "text/plain": [
       "count    162.000000\n",
       "mean      50.746914\n",
       "std       76.134917\n",
       "min        1.000000\n",
       "19%        2.000000\n",
       "50%       11.500000\n",
       "79%       81.570000\n",
       "max      339.000000\n",
       "Name: wine_servings, dtype: float64"
      ]
     },
     "execution_count": 39,
     "metadata": {},
     "output_type": "execute_result"
    }
   ],
   "source": [
    "alcohol.describe(percentiles=[.79,.19])"
   ]
  },
  {
   "cell_type": "code",
   "execution_count": 40,
   "id": "e887fec2",
   "metadata": {},
   "outputs": [
    {
     "data": {
      "text/plain": [
       "count    162.000000\n",
       "mean      50.746914\n",
       "std       76.134917\n",
       "min        1.000000\n",
       "25%        3.000000\n",
       "50%       11.500000\n",
       "75%       61.250000\n",
       "max      339.000000\n",
       "Name: wine_servings, dtype: float64"
      ]
     },
     "execution_count": 40,
     "metadata": {},
     "output_type": "execute_result"
    }
   ],
   "source": [
    "alcohol.describe(include=float, exclude=object)"
   ]
  },
  {
   "cell_type": "markdown",
   "id": "a8d8e019",
   "metadata": {},
   "source": [
    "### Mode and value_counts"
   ]
  },
  {
   "cell_type": "code",
   "execution_count": 41,
   "id": "b87a3365",
   "metadata": {},
   "outputs": [
    {
     "data": {
      "text/plain": [
       "0    1.0\n",
       "Name: wine_servings, dtype: float64"
      ]
     },
     "execution_count": 41,
     "metadata": {},
     "output_type": "execute_result"
    }
   ],
   "source": [
    "alcohol.mode()"
   ]
  },
  {
   "cell_type": "code",
   "execution_count": 42,
   "id": "75908f6d",
   "metadata": {},
   "outputs": [
    {
     "data": {
      "text/plain": [
       "28"
      ]
     },
     "execution_count": 42,
     "metadata": {},
     "output_type": "execute_result"
    }
   ],
   "source": [
    "alcohol[alcohol==1].size"
   ]
  },
  {
   "cell_type": "code",
   "execution_count": 49,
   "id": "947d0408",
   "metadata": {},
   "outputs": [
    {
     "data": {
      "text/plain": [
       "1.0      28\n",
       "2.0      10\n",
       "7.0       9\n",
       "8.0       7\n",
       "5.0       6\n",
       "         ..\n",
       "218.0     1\n",
       "185.0     1\n",
       "78.0      1\n",
       "165.0     1\n",
       "22.0      1\n",
       "Name: wine_servings, Length: 71, dtype: int64"
      ]
     },
     "execution_count": 49,
     "metadata": {},
     "output_type": "execute_result"
    }
   ],
   "source": [
    "alcohol.value_counts(\n",
    "    sort=True,\n",
    "    ascending=False,\n",
    "    dropna=True,\n",
    "    normalize=False    # True gives relative percentage\n",
    ")"
   ]
  },
  {
   "cell_type": "markdown",
   "id": "5b1cc942",
   "metadata": {},
   "source": [
    "### idxmax() and idxmin()"
   ]
  },
  {
   "cell_type": "code",
   "execution_count": 47,
   "id": "b49bf7db",
   "metadata": {},
   "outputs": [
    {
     "data": {
      "text/plain": [
       "('Portugal', 'Brunei')"
      ]
     },
     "execution_count": 47,
     "metadata": {},
     "output_type": "execute_result"
    }
   ],
   "source": [
    "alcohol.idxmax(), alcohol.idxmin()   # only first label is returned"
   ]
  },
  {
   "cell_type": "code",
   "execution_count": 48,
   "id": "9d8e35be",
   "metadata": {},
   "outputs": [
    {
     "data": {
      "text/plain": [
       "'Portugal'"
      ]
     },
     "execution_count": 48,
     "metadata": {},
     "output_type": "execute_result"
    }
   ],
   "source": [
    "alcohol[alcohol == alcohol.max()].index[0]"
   ]
  },
  {
   "cell_type": "markdown",
   "id": "cc345a07",
   "metadata": {},
   "source": [
    "### Sorting"
   ]
  },
  {
   "cell_type": "code",
   "execution_count": 105,
   "id": "3f8e1156",
   "metadata": {},
   "outputs": [
    {
     "data": {
      "text/plain": [
       "country\n",
       "Portugal      339.0\n",
       "Andorra       312.0\n",
       "Denmark       278.0\n",
       "Slovenia      276.0\n",
       "Luxembourg    271.0\n",
       "              ...  \n",
       "Sri Lanka       NaN\n",
       "Sudan           NaN\n",
       "Tajikistan      NaN\n",
       "Uganda          NaN\n",
       "Yemen           NaN\n",
       "Name: wine_servings, Length: 193, dtype: float64"
      ]
     },
     "execution_count": 105,
     "metadata": {},
     "output_type": "execute_result"
    }
   ],
   "source": [
    "alcohol.sort_values(\n",
    "    ascending=False,\n",
    "    na_position='last',\n",
    "    kind='quicksort',   #  mergesort, heapsort\n",
    "    inplace=False\n",
    ")"
   ]
  },
  {
   "cell_type": "code",
   "execution_count": 113,
   "id": "880a37f4",
   "metadata": {},
   "outputs": [
    {
     "data": {
      "text/plain": [
       "country\n",
       "Afghanistan      NaN\n",
       "Albania         54.0\n",
       "Algeria         14.0\n",
       "Andorra        312.0\n",
       "Angola          45.0\n",
       "               ...  \n",
       "Venezuela        3.0\n",
       "Vietnam          1.0\n",
       "Yemen            NaN\n",
       "Zambia           4.0\n",
       "Zimbabwe         4.0\n",
       "Name: wine_servings, Length: 193, dtype: float64"
      ]
     },
     "execution_count": 113,
     "metadata": {},
     "output_type": "execute_result"
    }
   ],
   "source": [
    "alcohol.sort_index(ascending=True, na_position='first', inplace=False)"
   ]
  },
  {
   "cell_type": "markdown",
   "id": "b32ff9bd",
   "metadata": {},
   "source": [
    "### nlargest() and nsmallest()"
   ]
  },
  {
   "cell_type": "code",
   "execution_count": 106,
   "id": "6e426346",
   "metadata": {},
   "outputs": [
    {
     "data": {
      "text/plain": [
       "country\n",
       "Portugal      339.0\n",
       "Andorra       312.0\n",
       "Denmark       278.0\n",
       "Slovenia      276.0\n",
       "Luxembourg    271.0\n",
       "Croatia       254.0\n",
       "Italy         237.0\n",
       "Name: wine_servings, dtype: float64"
      ]
     },
     "execution_count": 106,
     "metadata": {},
     "output_type": "execute_result"
    }
   ],
   "source": [
    "alcohol.sort_values(\n",
    "    ascending=False\n",
    ")[:7]"
   ]
  },
  {
   "cell_type": "code",
   "execution_count": 107,
   "id": "6d81ee68",
   "metadata": {},
   "outputs": [
    {
     "data": {
      "text/plain": [
       "country\n",
       "Portugal      339.0\n",
       "Andorra       312.0\n",
       "Denmark       278.0\n",
       "Slovenia      276.0\n",
       "Luxembourg    271.0\n",
       "Croatia       254.0\n",
       "Italy         237.0\n",
       "Name: wine_servings, dtype: float64"
      ]
     },
     "execution_count": 107,
     "metadata": {},
     "output_type": "execute_result"
    }
   ],
   "source": [
    "alcohol.nlargest(7)"
   ]
  },
  {
   "cell_type": "code",
   "execution_count": 108,
   "id": "f720038d",
   "metadata": {},
   "outputs": [
    {
     "data": {
      "text/plain": [
       "country\n",
       "Brunei                      1.0\n",
       "Cambodia                    1.0\n",
       "Canada                      1.0\n",
       "Central African Republic    1.0\n",
       "Chad                        1.0\n",
       "Comoros                     1.0\n",
       "DR Congo                    1.0\n",
       "Name: wine_servings, dtype: float64"
      ]
     },
     "execution_count": 108,
     "metadata": {},
     "output_type": "execute_result"
    }
   ],
   "source": [
    "alcohol.nsmallest(7)"
   ]
  },
  {
   "cell_type": "code",
   "execution_count": 115,
   "id": "16985207",
   "metadata": {},
   "outputs": [
    {
     "name": "stdout",
     "output_type": "stream",
     "text": [
      "country\n",
      "Bahamas                51.0\n",
      "Seychelles             51.0\n",
      "Albania                54.0\n",
      "Lithuania              56.0\n",
      "Poland                 56.0\n",
      "Estonia                59.0\n",
      "Gabon                  59.0\n",
      "Latvia                 62.0\n",
      "St. Lucia              71.0\n",
      "Russian Federation     73.0\n",
      "Cook Islands           74.0\n",
      "Paraguay               74.0\n",
      "Iceland                78.0\n",
      "South Africa           81.0\n",
      "USA                    84.0\n",
      "Macedonia              86.0\n",
      "Bulgaria               94.0\n",
      "Finland                97.0\n",
      "Spain                 112.0\n",
      "Cyprus                113.0\n",
      "Name: wine_servings, dtype: float64\n",
      "74.25 73.5 19.07292100831631\n"
     ]
    }
   ],
   "source": [
    "# Challenge:\n",
    "#1 - get all countries and their values which are >50.\n",
    "fifty_plus = alcohol[alcohol>50]\n",
    "#2 - smallest 20 from fifty_plus\n",
    "sample = fifty_plus.nsmallest(20)\n",
    "print(sample)\n",
    "#3 - find mean, median and std deviation from sample\n",
    "print(sample.mean(), sample.median(), sample.std())"
   ]
  },
  {
   "cell_type": "markdown",
   "id": "f8cbe393",
   "metadata": {},
   "source": [
    "### Series Arithmatic and fill value"
   ]
  },
  {
   "cell_type": "code",
   "execution_count": 116,
   "id": "a7726229",
   "metadata": {},
   "outputs": [
    {
     "data": {
      "text/plain": [
       "country\n",
       "Afghanistan      NaN\n",
       "Albania         56.0\n",
       "Algeria         16.0\n",
       "Andorra        314.0\n",
       "Angola          47.0\n",
       "               ...  \n",
       "Venezuela        5.0\n",
       "Vietnam          3.0\n",
       "Yemen            NaN\n",
       "Zambia           6.0\n",
       "Zimbabwe         6.0\n",
       "Name: wine_servings, Length: 193, dtype: float64"
      ]
     },
     "execution_count": 116,
     "metadata": {},
     "output_type": "execute_result"
    }
   ],
   "source": [
    "alcohol + 2"
   ]
  },
  {
   "cell_type": "code",
   "execution_count": 117,
   "id": "c14ffe01",
   "metadata": {},
   "outputs": [
    {
     "data": {
      "text/plain": [
       "country\n",
       "Afghanistan      NaN\n",
       "Albania         88.0\n",
       "Algeria          8.0\n",
       "Andorra        604.0\n",
       "Angola          70.0\n",
       "               ...  \n",
       "Venezuela      -14.0\n",
       "Vietnam        -18.0\n",
       "Yemen            NaN\n",
       "Zambia         -12.0\n",
       "Zimbabwe       -12.0\n",
       "Name: wine_servings, Length: 193, dtype: float64"
      ]
     },
     "execution_count": 117,
     "metadata": {},
     "output_type": "execute_result"
    }
   ],
   "source": [
    "(alcohol - 10)*2"
   ]
  },
  {
   "cell_type": "code",
   "execution_count": 118,
   "id": "67d61a49",
   "metadata": {},
   "outputs": [
    {
     "data": {
      "text/plain": [
       "Afghanistan      NaN\n",
       "Albania        114.0\n",
       "Algeria          NaN\n",
       "Andorra          NaN\n",
       "Angola           NaN\n",
       "               ...  \n",
       "Venezuela        NaN\n",
       "Vietnam          NaN\n",
       "Yemen            NaN\n",
       "Zambia           NaN\n",
       "Zimbabwe         NaN\n",
       "Length: 193, dtype: float64"
      ]
     },
     "execution_count": 118,
     "metadata": {},
     "output_type": "execute_result"
    }
   ],
   "source": [
    "more_drinks = pd.Series({'Albania': 60})\n",
    "alcohol + more_drinks"
   ]
  },
  {
   "cell_type": "code",
   "execution_count": 120,
   "id": "c383af74",
   "metadata": {},
   "outputs": [
    {
     "data": {
      "text/plain": [
       "Afghanistan      NaN\n",
       "Albania        114.0\n",
       "Algeria         14.0\n",
       "Andorra        312.0\n",
       "Angola          45.0\n",
       "               ...  \n",
       "Venezuela        3.0\n",
       "Vietnam          1.0\n",
       "Yemen            NaN\n",
       "Zambia           4.0\n",
       "Zimbabwe         4.0\n",
       "Length: 193, dtype: float64"
      ]
     },
     "execution_count": 120,
     "metadata": {},
     "output_type": "execute_result"
    }
   ],
   "source": [
    "alcohol.add(more_drinks, fill_value=0)"
   ]
  },
  {
   "cell_type": "code",
   "execution_count": 121,
   "id": "6ee29fda",
   "metadata": {},
   "outputs": [
    {
     "data": {
      "text/plain": [
       "Afghanistan    NaN\n",
       "Albania       -6.0\n",
       "Algeria        NaN\n",
       "Andorra        NaN\n",
       "Angola         NaN\n",
       "              ... \n",
       "Venezuela      NaN\n",
       "Vietnam        NaN\n",
       "Yemen          NaN\n",
       "Zambia         NaN\n",
       "Zimbabwe       NaN\n",
       "Length: 193, dtype: float64"
      ]
     },
     "execution_count": 121,
     "metadata": {},
     "output_type": "execute_result"
    }
   ],
   "source": [
    "alcohol - more_drinks"
   ]
  },
  {
   "cell_type": "code",
   "execution_count": 124,
   "id": "e9533d55",
   "metadata": {},
   "outputs": [
    {
     "data": {
      "text/plain": [
       "Afghanistan      NaN\n",
       "Albania         -6.0\n",
       "Algeria         14.0\n",
       "Andorra        312.0\n",
       "Angola          45.0\n",
       "               ...  \n",
       "Venezuela        3.0\n",
       "Vietnam          1.0\n",
       "Yemen            NaN\n",
       "Zambia           4.0\n",
       "Zimbabwe         4.0\n",
       "Length: 193, dtype: float64"
      ]
     },
     "execution_count": 124,
     "metadata": {},
     "output_type": "execute_result"
    }
   ],
   "source": [
    "alcohol.subtract(more_drinks,fill_value=0)"
   ]
  },
  {
   "cell_type": "code",
   "execution_count": 127,
   "id": "9f60630c",
   "metadata": {},
   "outputs": [
    {
     "name": "stdout",
     "output_type": "stream",
     "text": [
      "Afghanistan       NaN\n",
      "Albania        3240.0\n",
      "Algeria           NaN\n",
      "Andorra           NaN\n",
      "Angola            NaN\n",
      "                ...  \n",
      "Venezuela         NaN\n",
      "Vietnam           NaN\n",
      "Yemen             NaN\n",
      "Zambia            NaN\n",
      "Zimbabwe          NaN\n",
      "Length: 193, dtype: float64\n",
      "Afghanistan       NaN\n",
      "Albania        3240.0\n",
      "Algeria          14.0\n",
      "Andorra         312.0\n",
      "Angola           45.0\n",
      "                ...  \n",
      "Venezuela         3.0\n",
      "Vietnam           1.0\n",
      "Yemen             NaN\n",
      "Zambia            4.0\n",
      "Zimbabwe          4.0\n",
      "Length: 193, dtype: float64\n"
     ]
    }
   ],
   "source": [
    "print(alcohol*more_drinks)\n",
    "print(alcohol.multiply(more_drinks, fill_value=1))"
   ]
  },
  {
   "cell_type": "code",
   "execution_count": 128,
   "id": "749d7d4c",
   "metadata": {},
   "outputs": [
    {
     "name": "stdout",
     "output_type": "stream",
     "text": [
      "Afghanistan    NaN\n",
      "Albania        0.9\n",
      "Algeria        NaN\n",
      "Andorra        NaN\n",
      "Angola         NaN\n",
      "              ... \n",
      "Venezuela      NaN\n",
      "Vietnam        NaN\n",
      "Yemen          NaN\n",
      "Zambia         NaN\n",
      "Zimbabwe       NaN\n",
      "Length: 193, dtype: float64\n",
      "Afghanistan      NaN\n",
      "Albania          0.9\n",
      "Algeria         14.0\n",
      "Andorra        312.0\n",
      "Angola          45.0\n",
      "               ...  \n",
      "Venezuela        3.0\n",
      "Vietnam          1.0\n",
      "Yemen            NaN\n",
      "Zambia           4.0\n",
      "Zimbabwe         4.0\n",
      "Length: 193, dtype: float64\n"
     ]
    }
   ],
   "source": [
    "print(alcohol/more_drinks)\n",
    "print(alcohol.divide(more_drinks,fill_value=1))"
   ]
  },
  {
   "cell_type": "markdown",
   "id": "e573ffd4",
   "metadata": {},
   "source": [
    "### Cummulative sum"
   ]
  },
  {
   "cell_type": "code",
   "execution_count": 50,
   "id": "f99f24a5",
   "metadata": {},
   "outputs": [
    {
     "data": {
      "text/plain": [
       "country\n",
       "Afghanistan       NaN\n",
       "Albania          54.0\n",
       "Algeria          68.0\n",
       "Andorra         380.0\n",
       "Angola          425.0\n",
       "                ...  \n",
       "Venezuela      8212.0\n",
       "Vietnam        8213.0\n",
       "Yemen             NaN\n",
       "Zambia         8217.0\n",
       "Zimbabwe       8221.0\n",
       "Name: wine_servings, Length: 193, dtype: float64"
      ]
     },
     "execution_count": 50,
     "metadata": {},
     "output_type": "execute_result"
    }
   ],
   "source": [
    "alcohol.cumsum(skipna=True)"
   ]
  },
  {
   "cell_type": "code",
   "execution_count": 131,
   "id": "212dfee9",
   "metadata": {},
   "outputs": [
    {
     "data": {
      "text/plain": [
       "3.427611505218281e+183"
      ]
     },
     "execution_count": 131,
     "metadata": {},
     "output_type": "execute_result"
    }
   ],
   "source": [
    "alcohol.prod()  # product of all servings"
   ]
  },
  {
   "cell_type": "code",
   "execution_count": 132,
   "id": "74aa85fb",
   "metadata": {},
   "outputs": [
    {
     "data": {
      "text/plain": [
       "country\n",
       "Afghanistan              NaN\n",
       "Albania         5.400000e+01\n",
       "Algeria         7.560000e+02\n",
       "Andorra         2.358720e+05\n",
       "Angola          1.061424e+07\n",
       "                   ...      \n",
       "Venezuela      2.142257e+182\n",
       "Vietnam        2.142257e+182\n",
       "Yemen                    NaN\n",
       "Zambia         8.569029e+182\n",
       "Zimbabwe       3.427612e+183\n",
       "Name: wine_servings, Length: 193, dtype: float64"
      ]
     },
     "execution_count": 132,
     "metadata": {},
     "output_type": "execute_result"
    }
   ],
   "source": [
    "alcohol.cumprod()"
   ]
  },
  {
   "cell_type": "code",
   "execution_count": 133,
   "id": "3233046d",
   "metadata": {},
   "outputs": [
    {
     "data": {
      "text/plain": [
       "country\n",
       "Afghanistan     NaN\n",
       "Albania        54.0\n",
       "Algeria        14.0\n",
       "Andorra        14.0\n",
       "Angola         14.0\n",
       "               ... \n",
       "Venezuela       1.0\n",
       "Vietnam         1.0\n",
       "Yemen           NaN\n",
       "Zambia          1.0\n",
       "Zimbabwe        1.0\n",
       "Name: wine_servings, Length: 193, dtype: float64"
      ]
     },
     "execution_count": 133,
     "metadata": {},
     "output_type": "execute_result"
    }
   ],
   "source": [
    "alcohol.cummin()"
   ]
  },
  {
   "cell_type": "code",
   "execution_count": 134,
   "id": "a0b0dc9a",
   "metadata": {},
   "outputs": [
    {
     "data": {
      "text/plain": [
       "country\n",
       "Afghanistan     NaN\n",
       "Albania        54.0\n",
       "Algeria        14.0\n",
       "Andorra        14.0\n",
       "Angola         14.0\n",
       "               ... \n",
       "Venezuela       1.0\n",
       "Vietnam         1.0\n",
       "Yemen           NaN\n",
       "Zambia          1.0\n",
       "Zimbabwe        1.0\n",
       "Name: wine_servings, Length: 193, dtype: float64"
      ]
     },
     "execution_count": 134,
     "metadata": {},
     "output_type": "execute_result"
    }
   ],
   "source": [
    "alcohol.cummin()"
   ]
  },
  {
   "cell_type": "markdown",
   "id": "6538c168",
   "metadata": {},
   "source": [
    "### Pairwise differences with diff()"
   ]
  },
  {
   "cell_type": "code",
   "execution_count": 135,
   "id": "13ee13f5",
   "metadata": {},
   "outputs": [
    {
     "data": {
      "text/plain": [
       "country\n",
       "Afghanistan      NaN\n",
       "Albania         54.0\n",
       "Algeria         14.0\n",
       "Andorra        312.0\n",
       "Angola          45.0\n",
       "Name: wine_servings, dtype: float64"
      ]
     },
     "execution_count": 135,
     "metadata": {},
     "output_type": "execute_result"
    }
   ],
   "source": [
    "alcohol.head()"
   ]
  },
  {
   "cell_type": "code",
   "execution_count": 136,
   "id": "59cca8bd",
   "metadata": {},
   "outputs": [
    {
     "data": {
      "text/plain": [
       "country\n",
       "Afghanistan      NaN\n",
       "Albania          NaN\n",
       "Algeria        -40.0\n",
       "Andorra        298.0\n",
       "Angola        -267.0\n",
       "Name: wine_servings, dtype: float64"
      ]
     },
     "execution_count": 136,
     "metadata": {},
     "output_type": "execute_result"
    }
   ],
   "source": [
    "alcohol.diff().head()"
   ]
  },
  {
   "cell_type": "code",
   "execution_count": 137,
   "id": "e597a24a",
   "metadata": {},
   "outputs": [
    {
     "data": {
      "text/plain": [
       "country\n",
       "Afghanistan      NaN\n",
       "Albania          NaN\n",
       "Algeria          NaN\n",
       "Andorra        258.0\n",
       "Angola          31.0\n",
       "Name: wine_servings, dtype: float64"
      ]
     },
     "execution_count": 137,
     "metadata": {},
     "output_type": "execute_result"
    }
   ],
   "source": [
    "alcohol.diff(periods=2).head()"
   ]
  },
  {
   "cell_type": "code",
   "execution_count": 138,
   "id": "b594afe3",
   "metadata": {},
   "outputs": [
    {
     "data": {
      "text/plain": [
       "country\n",
       "Afghanistan      NaN\n",
       "Albania         40.0\n",
       "Algeria       -298.0\n",
       "Andorra        267.0\n",
       "Angola           0.0\n",
       "Name: wine_servings, dtype: float64"
      ]
     },
     "execution_count": 138,
     "metadata": {},
     "output_type": "execute_result"
    }
   ],
   "source": [
    "alcohol.diff(periods=-1).head()"
   ]
  },
  {
   "cell_type": "markdown",
   "id": "5e8ac1f7",
   "metadata": {},
   "source": [
    "### Series Iteration"
   ]
  },
  {
   "cell_type": "code",
   "execution_count": 145,
   "id": "ce6d22a3",
   "metadata": {},
   "outputs": [
    {
     "name": "stdout",
     "output_type": "stream",
     "text": [
      "nan\n",
      "54.0\n",
      "14.0\n",
      "312.0\n",
      "45.0\n",
      "Afghanistan\n",
      "nan\n",
      "Albania\n",
      "54.0\n",
      "Algeria\n",
      "14.0\n",
      "Andorra\n",
      "312.0\n",
      "Angola\n",
      "45.0\n",
      "('Afghanistan', nan)\n",
      "('Albania', 54.0)\n",
      "('Algeria', 14.0)\n",
      "('Andorra', 312.0)\n",
      "('Angola', 45.0)\n"
     ]
    }
   ],
   "source": [
    "for i in alcohol.head():\n",
    "    print(i)\n",
    "for i in alcohol.head().index:\n",
    "    print(i)\n",
    "    print(alcohol[i])\n",
    "for i in alcohol.head().items():  # iteritems() identical with items()\n",
    "    print(i)"
   ]
  },
  {
   "cell_type": "markdown",
   "id": "5ee04d94",
   "metadata": {},
   "source": [
    "### Filtering with filter(), where() and mask()"
   ]
  },
  {
   "cell_type": "code",
   "execution_count": 147,
   "id": "10ea33cf",
   "metadata": {},
   "outputs": [
    {
     "data": {
      "text/plain": [
       "(country\n",
       " Cabo Verde                      16.0\n",
       " St. Vincent & the Grenadines    11.0\n",
       " Vanuatu                         11.0\n",
       " Venezuela                        3.0\n",
       " Vietnam                          1.0\n",
       " Name: wine_servings, dtype: float64,\n",
       " country\n",
       " Afghanistan      NaN\n",
       " Kazakhstan      12.0\n",
       " Kyrgyzstan       6.0\n",
       " Pakistan         NaN\n",
       " Tajikistan       NaN\n",
       " Turkmenistan    32.0\n",
       " Uzbekistan       8.0\n",
       " Name: wine_servings, dtype: float64)"
      ]
     },
     "execution_count": 147,
     "metadata": {},
     "output_type": "execute_result"
    }
   ],
   "source": [
    "alcohol.filter(regex='V'), alcohol.filter(like='stan')"
   ]
  },
  {
   "cell_type": "code",
   "execution_count": 150,
   "id": "c95be9ed",
   "metadata": {},
   "outputs": [
    {
     "data": {
      "text/plain": [
       "(country\n",
       " Andorra     312.0\n",
       " Portugal    339.0\n",
       " Name: wine_servings, dtype: float64,\n",
       " country\n",
       " Andorra     312.0\n",
       " Portugal    339.0\n",
       " Name: wine_servings, dtype: float64)"
      ]
     },
     "execution_count": 150,
     "metadata": {},
     "output_type": "execute_result"
    }
   ],
   "source": [
    "alcohol[alcohol>300], alcohol.loc[alcohol>300]"
   ]
  },
  {
   "cell_type": "code",
   "execution_count": 152,
   "id": "f333b2dd",
   "metadata": {},
   "outputs": [
    {
     "data": {
      "text/plain": [
       "country\n",
       "Afghanistan    too small\n",
       "Albania        too small\n",
       "Algeria        too small\n",
       "Andorra            312.0\n",
       "Angola         too small\n",
       "                 ...    \n",
       "Venezuela      too small\n",
       "Vietnam        too small\n",
       "Yemen          too small\n",
       "Zambia         too small\n",
       "Zimbabwe       too small\n",
       "Name: wine_servings, Length: 193, dtype: object"
      ]
     },
     "execution_count": 152,
     "metadata": {},
     "output_type": "execute_result"
    }
   ],
   "source": [
    "alcohol.where(lambda x: x>200, other='too small') # default for other = NaN "
   ]
  },
  {
   "cell_type": "code",
   "execution_count": 154,
   "id": "f5781832",
   "metadata": {},
   "outputs": [
    {
     "data": {
      "text/plain": [
       "country\n",
       "Afghanistan     NaN\n",
       "Albania        54.0\n",
       "Algeria        14.0\n",
       "Andorra         NaN\n",
       "Angola         45.0\n",
       "               ... \n",
       "Venezuela       3.0\n",
       "Vietnam         1.0\n",
       "Yemen           NaN\n",
       "Zambia          4.0\n",
       "Zimbabwe        4.0\n",
       "Name: wine_servings, Length: 193, dtype: float64"
      ]
     },
     "execution_count": 154,
     "metadata": {},
     "output_type": "execute_result"
    }
   ],
   "source": [
    "alcohol.mask(lambda x: x>200)   # will give NaN inplace of x> 200."
   ]
  },
  {
   "cell_type": "markdown",
   "id": "0c8afd74",
   "metadata": {},
   "source": [
    "### Transforming with update(), apply() and map()"
   ]
  },
  {
   "cell_type": "code",
   "execution_count": 155,
   "id": "2cbb3c37",
   "metadata": {},
   "outputs": [
    {
     "data": {
      "text/plain": [
       "country\n",
       "Afghanistan      NaN\n",
       "Albania         54.0\n",
       "Algeria         14.0\n",
       "Andorra        312.0\n",
       "Angola          45.0\n",
       "Name: wine_servings, dtype: float64"
      ]
     },
     "execution_count": 155,
     "metadata": {},
     "output_type": "execute_result"
    }
   ],
   "source": [
    "alcohol.head()"
   ]
  },
  {
   "cell_type": "code",
   "execution_count": 156,
   "id": "c3942f79",
   "metadata": {},
   "outputs": [],
   "source": [
    "alcohol['Albania'] = 19"
   ]
  },
  {
   "cell_type": "code",
   "execution_count": 157,
   "id": "f03fc98e",
   "metadata": {},
   "outputs": [
    {
     "data": {
      "text/plain": [
       "country\n",
       "Afghanistan      NaN\n",
       "Albania         19.0\n",
       "Algeria         14.0\n",
       "Andorra        312.0\n",
       "Angola          45.0\n",
       "Name: wine_servings, dtype: float64"
      ]
     },
     "execution_count": 157,
     "metadata": {},
     "output_type": "execute_result"
    }
   ],
   "source": [
    "alcohol.head()"
   ]
  },
  {
   "cell_type": "code",
   "execution_count": 158,
   "id": "594f508a",
   "metadata": {},
   "outputs": [],
   "source": [
    "alcohol.update(pd.Series(data=[200,20],index=['Albania','Algeria']))"
   ]
  },
  {
   "cell_type": "code",
   "execution_count": 159,
   "id": "8e19eda7",
   "metadata": {},
   "outputs": [
    {
     "data": {
      "text/plain": [
       "country\n",
       "Afghanistan      NaN\n",
       "Albania        200.0\n",
       "Algeria         20.0\n",
       "Andorra        312.0\n",
       "Angola          45.0\n",
       "Name: wine_servings, dtype: float64"
      ]
     },
     "execution_count": 159,
     "metadata": {},
     "output_type": "execute_result"
    }
   ],
   "source": [
    "alcohol.head()"
   ]
  },
  {
   "cell_type": "code",
   "execution_count": 160,
   "id": "f6640325",
   "metadata": {},
   "outputs": [
    {
     "data": {
      "text/plain": [
       "country\n",
       "Afghanistan        NaN\n",
       "Albania        40000.0\n",
       "Algeria          400.0\n",
       "Andorra        97344.0\n",
       "Angola          2025.0\n",
       "                ...   \n",
       "Venezuela          9.0\n",
       "Vietnam            1.0\n",
       "Yemen              NaN\n",
       "Zambia            16.0\n",
       "Zimbabwe          16.0\n",
       "Name: wine_servings, Length: 193, dtype: float64"
      ]
     },
     "execution_count": 160,
     "metadata": {},
     "output_type": "execute_result"
    }
   ],
   "source": [
    "alcohol.apply(lambda x: x**2)"
   ]
  },
  {
   "cell_type": "code",
   "execution_count": 162,
   "id": "09f7194e",
   "metadata": {},
   "outputs": [
    {
     "data": {
      "text/plain": [
       "country\n",
       "Afghanistan        NaN\n",
       "Albania        40000.0\n",
       "Algeria          400.0\n",
       "Andorra        97344.0\n",
       "Angola          2025.0\n",
       "                ...   \n",
       "Venezuela          9.0\n",
       "Vietnam            1.0\n",
       "Yemen              NaN\n",
       "Zambia            16.0\n",
       "Zimbabwe          16.0\n",
       "Name: wine_servings, Length: 193, dtype: float64"
      ]
     },
     "execution_count": 162,
     "metadata": {},
     "output_type": "execute_result"
    }
   ],
   "source": [
    "alcohol.apply(np.square)"
   ]
  },
  {
   "cell_type": "code",
   "execution_count": 163,
   "id": "ecb0bbb2",
   "metadata": {},
   "outputs": [],
   "source": [
    "def square_with_min(x, min_servings):\n",
    "    if x< min_servings:\n",
    "        return x**2\n",
    "    return x"
   ]
  },
  {
   "cell_type": "code",
   "execution_count": 164,
   "id": "67212e11",
   "metadata": {},
   "outputs": [
    {
     "data": {
      "text/plain": [
       "country\n",
       "Afghanistan       NaN\n",
       "Albania         200.0\n",
       "Algeria         400.0\n",
       "Andorra         312.0\n",
       "Angola         2025.0\n",
       "                ...  \n",
       "Venezuela         9.0\n",
       "Vietnam           1.0\n",
       "Yemen             NaN\n",
       "Zambia           16.0\n",
       "Zimbabwe         16.0\n",
       "Name: wine_servings, Length: 193, dtype: float64"
      ]
     },
     "execution_count": 164,
     "metadata": {},
     "output_type": "execute_result"
    }
   ],
   "source": [
    "alcohol.apply(square_with_min, min_servings=200)"
   ]
  },
  {
   "cell_type": "code",
   "execution_count": 165,
   "id": "a81283ba",
   "metadata": {},
   "outputs": [
    {
     "data": {
      "text/plain": [
       "country\n",
       "Afghanistan       NaN\n",
       "Albania         200.0\n",
       "Algeria         400.0\n",
       "Andorra         312.0\n",
       "Angola         2025.0\n",
       "                ...  \n",
       "Venezuela         9.0\n",
       "Vietnam           1.0\n",
       "Yemen             NaN\n",
       "Zambia           16.0\n",
       "Zimbabwe         16.0\n",
       "Name: wine_servings, Length: 193, dtype: float64"
      ]
     },
     "execution_count": 165,
     "metadata": {},
     "output_type": "execute_result"
    }
   ],
   "source": [
    "alcohol.apply(square_with_min, args=(200,))"
   ]
  },
  {
   "cell_type": "code",
   "execution_count": 170,
   "id": "1408b210",
   "metadata": {},
   "outputs": [
    {
     "data": {
      "text/plain": [
       "country\n",
       "Afghanistan        NaN\n",
       "Albania        40000.0\n",
       "Algeria          400.0\n",
       "Andorra        97344.0\n",
       "Angola          2025.0\n",
       "                ...   \n",
       "Venezuela          9.0\n",
       "Vietnam            1.0\n",
       "Yemen              NaN\n",
       "Zambia            16.0\n",
       "Zimbabwe          16.0\n",
       "Name: wine_servings, Length: 193, dtype: float64"
      ]
     },
     "execution_count": 170,
     "metadata": {},
     "output_type": "execute_result"
    }
   ],
   "source": [
    "alcohol.map(np.square)  # map substitutes series values with others from a function, series or dict"
   ]
  },
  {
   "cell_type": "code",
   "execution_count": 207,
   "id": "f6572740",
   "metadata": {},
   "outputs": [
    {
     "name": "stdout",
     "output_type": "stream",
     "text": [
      "<class 'pandas.core.series.Series'>\n"
     ]
    }
   ],
   "source": [
    "# Challenge:\n",
    "\n",
    "#1 beer servings -\n",
    "beers = pd.read_csv('https://andybek.com/pandas-drinks', usecols=['country','beer_servings'], index_col='country').squeeze()\n",
    "beers.head()\n",
    "print(type(beers))"
   ]
  },
  {
   "cell_type": "code",
   "execution_count": 208,
   "id": "2a2bb301",
   "metadata": {},
   "outputs": [
    {
     "data": {
      "text/plain": [
       "count    178.000000\n",
       "mean     102.870787\n",
       "std      100.645713\n",
       "min        1.000000\n",
       "25%       21.000000\n",
       "50%       60.000000\n",
       "75%      172.500000\n",
       "max      376.000000\n",
       "Name: beer_servings, dtype: float64"
      ]
     },
     "execution_count": 208,
     "metadata": {},
     "output_type": "execute_result"
    }
   ],
   "source": [
    "#2 calculate mean, meadian and stddev. check if distribution is right, left skewed.\n",
    "beers.describe()  # if is righ skewed/positively skewed"
   ]
  },
  {
   "cell_type": "code",
   "execution_count": 210,
   "id": "08c37418",
   "metadata": {},
   "outputs": [
    {
     "data": {
      "text/plain": [
       "high    6\n",
       "low     4\n",
       "Name: beer_servings, dtype: int64"
      ]
     },
     "execution_count": 210,
     "metadata": {},
     "output_type": "execute_result"
    }
   ],
   "source": [
    "#3 slice 10 records. Are they relatively large/small? \n",
    "\n",
    "(beers[:10]-beers.mean()).apply(lambda x: 'low' if x < 0 else 'high').value_counts()"
   ]
  },
  {
   "cell_type": "markdown",
   "id": "2208cfad",
   "metadata": {},
   "source": [
    "### Z-score = (x-mean)/stddev"
   ]
  },
  {
   "cell_type": "code",
   "execution_count": 211,
   "id": "5e903467",
   "metadata": {},
   "outputs": [
    {
     "data": {
      "text/plain": [
       "country\n",
       "Afghanistan               NaN\n",
       "Albania             -0.137818\n",
       "Algeria             -0.773712\n",
       "Andorra              1.412174\n",
       "Angola               1.133970\n",
       "Antigua & Barbuda   -0.902878\n",
       "Argentina            0.895510\n",
       "Armenia             -0.813455\n",
       "Australia            1.571147\n",
       "Austria              1.749992\n",
       "Name: beer_servings, dtype: float64"
      ]
     },
     "execution_count": 211,
     "metadata": {},
     "output_type": "execute_result"
    }
   ],
   "source": [
    "beers[:10].apply(lambda x: (x-beers.mean())/beers.std())"
   ]
  },
  {
   "cell_type": "code",
   "execution_count": 213,
   "id": "f25e89b5",
   "metadata": {},
   "outputs": [],
   "source": [
    "z_scores = ((beers - beers.mean())/beers.std())"
   ]
  },
  {
   "cell_type": "code",
   "execution_count": 214,
   "id": "4eacf87c",
   "metadata": {},
   "outputs": [
    {
     "data": {
      "text/plain": [
       "(2.7137689844109123, -1.012172141315241)"
      ]
     },
     "execution_count": 214,
     "metadata": {},
     "output_type": "execute_result"
    }
   ],
   "source": [
    "z_scores.max(), z_scores.min()"
   ]
  },
  {
   "cell_type": "code",
   "execution_count": null,
   "id": "4954839d",
   "metadata": {},
   "outputs": [],
   "source": []
  }
 ],
 "metadata": {
  "kernelspec": {
   "display_name": "Python 3 (ipykernel)",
   "language": "python",
   "name": "python3"
  },
  "language_info": {
   "codemirror_mode": {
    "name": "ipython",
    "version": 3
   },
   "file_extension": ".py",
   "mimetype": "text/x-python",
   "name": "python",
   "nbconvert_exporter": "python",
   "pygments_lexer": "ipython3",
   "version": "3.9.12"
  }
 },
 "nbformat": 4,
 "nbformat_minor": 5
}
