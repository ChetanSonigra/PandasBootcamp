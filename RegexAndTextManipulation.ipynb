{
 "cells": [
  {
   "cell_type": "markdown",
   "id": "54b056a6",
   "metadata": {},
   "source": [
    "### This notebook covers:\n",
    "* Detailed overview of python string methods\n",
    "* Pandas .str family of methods\n",
    "* Advanced splits and replacements in Pandas\n",
    "* Hands-on Introduction to Regex:\n",
    "    - Character sets, anchors, metasequences, quantifiers and more."
   ]
  },
  {
   "cell_type": "markdown",
   "id": "55e4f275",
   "metadata": {},
   "source": [
    "### Revision:\n",
    "* String methods in python:\n",
    "    - len(s), center(50,'*'), startswith('a'), endswith('a'), in operator, list comprehension\n",
    "    - title(), upper(), lower(), capitalize(), swapcase()\n",
    "    - s.find('substring',11, 20), s.rfind('substring')\n",
    "    - df.col_name.str.method()\n",
    "    - df.col_name.str.strip(), lstrip(), rstrip()\n",
    "    - df.col_name.str.split(' \\s\\t\\n',expand=True, n=3)\n",
    "    - df.col_nane.str.split().str.get(1)\n",
    "    - df.col_name.str.cat('s', sep='_')\n",
    "    - df.col_name.str.slice(4,20,1)\n",
    "    - df.col_name.str.match('ITA')\n",
    "    - df.col_name.str.contains('AB')\n",
    "    - dummies = marathon['Years Ran'].str.get_dummies(sep=':')  - Gives columns of values in a given columns with seperator.\n",
    "    - s.replace(to_replace, replacing_value, case=True)\n",
    "* Regex: https://regex101.com\n",
    "    - Meta Sequences:\n",
    "        - \\d matches [0-9]\n",
    "        - \\s matches [\\r\\t\\n ]\n",
    "        - \\w matches [a-zA-Z0-9]\n",
    "        - . matches every character except \\n\n",
    "        -  \\\\. to match .\n",
    "        - Changing w,s,d to uppercase will match opposites/complement.\n",
    "    - Quantifiers:\n",
    "        - \\+ one or more characters\n",
    "        - ? zero or one character\n",
    "        - {3,4} 3 to 4 characters.\n",
    "        - \\* zero or more characters.\n",
    "    - Groups:\n",
    "        - capture group that matches.\n",
    "        - () = everything\n",
    "        - (m) = all the letters m\n",
    "        - (\\w+er) = all words ending with er.\n",
    "        - (\\w+er) \\1 = \\1 matches another sequence of first capturing gorup.\n",
    "    - Character Sets/classes:\n",
    "        - [Am] = A or m \n",
    "        - [dl]ogs = dogs/logs, [^dl]ogs = except d/l\n",
    "        - [b-i]ogs = b,c,d,e,f,g,h,i\n",
    "        - [a-zA-Z]+ = all words\n",
    "    - Anchors:\n",
    "        - ^ : matches at the beginning\n",
    "        - $ : matches at the end\n",
    "        - \\b : word boundry\n",
    "        - \\B : non-word boundry\n",
    "    - re.findall(pattern, string)\n",
    "    - re.sub(pattern, replaced, string)\n",
    "    - use re.compile() when you are working with more than 100 regexes.\n",
    "* Regex in pandas:\n",
    "    - df[df.col_name.str.contains('Example')]\n",
    "    - df.col_name.str.split(pattern, expand=True)\n",
    "    - df.col_name.str.replace(pattern_to_be_replaced, new_pattern, regex=True)\n",
    "    "
   ]
  },
  {
   "cell_type": "markdown",
   "id": "ff30bb2b",
   "metadata": {},
   "source": [
    "### Dataset: Boston Marathon Runners"
   ]
  },
  {
   "cell_type": "code",
   "execution_count": 1,
   "id": "dc8b270f",
   "metadata": {},
   "outputs": [],
   "source": [
    "import pandas as pd\n",
    "import numpy as np\n",
    "marathon_url = 'https://andybek.com/pandas-marathon'\n",
    "marathon = pd.read_csv(marathon_url)"
   ]
  },
  {
   "cell_type": "code",
   "execution_count": 2,
   "id": "ad2d7d3f",
   "metadata": {},
   "outputs": [
    {
     "data": {
      "text/html": [
       "<div>\n",
       "<style scoped>\n",
       "    .dataframe tbody tr th:only-of-type {\n",
       "        vertical-align: middle;\n",
       "    }\n",
       "\n",
       "    .dataframe tbody tr th {\n",
       "        vertical-align: top;\n",
       "    }\n",
       "\n",
       "    .dataframe thead th {\n",
       "        text-align: right;\n",
       "    }\n",
       "</style>\n",
       "<table border=\"1\" class=\"dataframe\">\n",
       "  <thead>\n",
       "    <tr style=\"text-align: right;\">\n",
       "      <th></th>\n",
       "      <th>Name</th>\n",
       "      <th>Age</th>\n",
       "      <th>M/F</th>\n",
       "      <th>City</th>\n",
       "      <th>State</th>\n",
       "      <th>Country</th>\n",
       "      <th>Official Time</th>\n",
       "      <th>Overall</th>\n",
       "      <th>Gender</th>\n",
       "      <th>Years Ran</th>\n",
       "    </tr>\n",
       "  </thead>\n",
       "  <tbody>\n",
       "    <tr>\n",
       "      <th>0</th>\n",
       "      <td>Kirui, Geoffrey</td>\n",
       "      <td>24</td>\n",
       "      <td>M</td>\n",
       "      <td>Keringet</td>\n",
       "      <td>NaN</td>\n",
       "      <td>KEN</td>\n",
       "      <td>2:09:37</td>\n",
       "      <td>1</td>\n",
       "      <td>1</td>\n",
       "      <td>NaN</td>\n",
       "    </tr>\n",
       "    <tr>\n",
       "      <th>1</th>\n",
       "      <td>Rupp, Galen</td>\n",
       "      <td>30</td>\n",
       "      <td>M</td>\n",
       "      <td>Portland</td>\n",
       "      <td>OR</td>\n",
       "      <td>USA</td>\n",
       "      <td>2:09:58</td>\n",
       "      <td>2</td>\n",
       "      <td>2</td>\n",
       "      <td>NaN</td>\n",
       "    </tr>\n",
       "    <tr>\n",
       "      <th>2</th>\n",
       "      <td>Osako, Suguru</td>\n",
       "      <td>25</td>\n",
       "      <td>M</td>\n",
       "      <td>Machida-City</td>\n",
       "      <td>NaN</td>\n",
       "      <td>JPN</td>\n",
       "      <td>2:10:28</td>\n",
       "      <td>3</td>\n",
       "      <td>3</td>\n",
       "      <td>NaN</td>\n",
       "    </tr>\n",
       "    <tr>\n",
       "      <th>3</th>\n",
       "      <td>Biwott, Shadrack</td>\n",
       "      <td>32</td>\n",
       "      <td>M</td>\n",
       "      <td>Mammoth Lakes</td>\n",
       "      <td>CA</td>\n",
       "      <td>USA</td>\n",
       "      <td>2:12:08</td>\n",
       "      <td>4</td>\n",
       "      <td>4</td>\n",
       "      <td>NaN</td>\n",
       "    </tr>\n",
       "    <tr>\n",
       "      <th>4</th>\n",
       "      <td>Chebet, Wilson</td>\n",
       "      <td>31</td>\n",
       "      <td>M</td>\n",
       "      <td>Marakwet</td>\n",
       "      <td>NaN</td>\n",
       "      <td>KEN</td>\n",
       "      <td>2:12:35</td>\n",
       "      <td>5</td>\n",
       "      <td>5</td>\n",
       "      <td>2015</td>\n",
       "    </tr>\n",
       "    <tr>\n",
       "      <th>...</th>\n",
       "      <td>...</td>\n",
       "      <td>...</td>\n",
       "      <td>...</td>\n",
       "      <td>...</td>\n",
       "      <td>...</td>\n",
       "      <td>...</td>\n",
       "      <td>...</td>\n",
       "      <td>...</td>\n",
       "      <td>...</td>\n",
       "      <td>...</td>\n",
       "    </tr>\n",
       "    <tr>\n",
       "      <th>995</th>\n",
       "      <td>Larosa, Mark</td>\n",
       "      <td>38</td>\n",
       "      <td>M</td>\n",
       "      <td>North Andover</td>\n",
       "      <td>MA</td>\n",
       "      <td>USA</td>\n",
       "      <td>2:56:06</td>\n",
       "      <td>996</td>\n",
       "      <td>940</td>\n",
       "      <td>2015:2016</td>\n",
       "    </tr>\n",
       "    <tr>\n",
       "      <th>996</th>\n",
       "      <td>Williamson, Jerry A</td>\n",
       "      <td>43</td>\n",
       "      <td>M</td>\n",
       "      <td>Raleigh</td>\n",
       "      <td>NC</td>\n",
       "      <td>USA</td>\n",
       "      <td>2:56:06</td>\n",
       "      <td>997</td>\n",
       "      <td>941</td>\n",
       "      <td>2015</td>\n",
       "    </tr>\n",
       "    <tr>\n",
       "      <th>997</th>\n",
       "      <td>Mccue, Daniel T</td>\n",
       "      <td>40</td>\n",
       "      <td>M</td>\n",
       "      <td>Arlington</td>\n",
       "      <td>MA</td>\n",
       "      <td>USA</td>\n",
       "      <td>2:56:06</td>\n",
       "      <td>998</td>\n",
       "      <td>942</td>\n",
       "      <td>NaN</td>\n",
       "    </tr>\n",
       "    <tr>\n",
       "      <th>998</th>\n",
       "      <td>Larosa, John</td>\n",
       "      <td>35</td>\n",
       "      <td>M</td>\n",
       "      <td>Danbury</td>\n",
       "      <td>CT</td>\n",
       "      <td>USA</td>\n",
       "      <td>2:56:07</td>\n",
       "      <td>999</td>\n",
       "      <td>943</td>\n",
       "      <td>NaN</td>\n",
       "    </tr>\n",
       "    <tr>\n",
       "      <th>999</th>\n",
       "      <td>Sanchez, Sam R</td>\n",
       "      <td>35</td>\n",
       "      <td>M</td>\n",
       "      <td>Santa Fe</td>\n",
       "      <td>NM</td>\n",
       "      <td>USA</td>\n",
       "      <td>2:56:08</td>\n",
       "      <td>1000</td>\n",
       "      <td>944</td>\n",
       "      <td>NaN</td>\n",
       "    </tr>\n",
       "  </tbody>\n",
       "</table>\n",
       "<p>1000 rows × 10 columns</p>\n",
       "</div>"
      ],
      "text/plain": [
       "                    Name  Age M/F           City State Country Official Time  \\\n",
       "0       Kirui, Geoffrey    24   M       Keringet   NaN     KEN       2:09:37   \n",
       "1         Rupp, Galen      30   M       Portland    OR     USA       2:09:58   \n",
       "2        Osako, Suguru     25   M   Machida-City   NaN     JPN       2:10:28   \n",
       "3       Biwott, Shadrack   32   M  Mammoth Lakes    CA     USA       2:12:08   \n",
       "4         Chebet, Wilson   31   M       Marakwet   NaN     KEN       2:12:35   \n",
       "..                   ...  ...  ..            ...   ...     ...           ...   \n",
       "995         Larosa, Mark   38   M  North Andover    MA     USA       2:56:06   \n",
       "996  Williamson, Jerry A   43   M        Raleigh    NC     USA       2:56:06   \n",
       "997      Mccue, Daniel T   40   M      Arlington    MA     USA       2:56:06   \n",
       "998         Larosa, John   35   M        Danbury    CT     USA       2:56:07   \n",
       "999       Sanchez, Sam R   35   M       Santa Fe    NM     USA       2:56:08   \n",
       "\n",
       "     Overall  Gender  Years Ran  \n",
       "0          1       1        NaN  \n",
       "1          2       2        NaN  \n",
       "2          3       3        NaN  \n",
       "3          4       4        NaN  \n",
       "4          5       5       2015  \n",
       "..       ...     ...        ...  \n",
       "995      996     940  2015:2016  \n",
       "996      997     941       2015  \n",
       "997      998     942        NaN  \n",
       "998      999     943        NaN  \n",
       "999     1000     944        NaN  \n",
       "\n",
       "[1000 rows x 10 columns]"
      ]
     },
     "execution_count": 2,
     "metadata": {},
     "output_type": "execute_result"
    }
   ],
   "source": [
    "marathon"
   ]
  },
  {
   "cell_type": "code",
   "execution_count": 3,
   "id": "639851f3",
   "metadata": {},
   "outputs": [
    {
     "name": "stdout",
     "output_type": "stream",
     "text": [
      "<class 'pandas.core.frame.DataFrame'>\n",
      "RangeIndex: 1000 entries, 0 to 999\n",
      "Data columns (total 10 columns):\n",
      " #   Column         Non-Null Count  Dtype \n",
      "---  ------         --------------  ----- \n",
      " 0   Name           1000 non-null   object\n",
      " 1   Age            1000 non-null   int64 \n",
      " 2   M/F            1000 non-null   object\n",
      " 3   City           1000 non-null   object\n",
      " 4   State          807 non-null    object\n",
      " 5   Country        1000 non-null   object\n",
      " 6   Official Time  1000 non-null   object\n",
      " 7   Overall        1000 non-null   int64 \n",
      " 8   Gender         1000 non-null   int64 \n",
      " 9   Years Ran      315 non-null    object\n",
      "dtypes: int64(3), object(7)\n",
      "memory usage: 78.2+ KB\n"
     ]
    }
   ],
   "source": [
    "marathon.info()"
   ]
  },
  {
   "cell_type": "markdown",
   "id": "f462d334",
   "metadata": {},
   "source": [
    "### String Methods in Python"
   ]
  },
  {
   "cell_type": "code",
   "execution_count": 4,
   "id": "a26498d9",
   "metadata": {},
   "outputs": [],
   "source": [
    "# len, center, startswith, endswith, in operator, list comprehension"
   ]
  },
  {
   "cell_type": "code",
   "execution_count": 5,
   "id": "e988e610",
   "metadata": {},
   "outputs": [
    {
     "data": {
      "text/plain": [
       "40"
      ]
     },
     "execution_count": 5,
     "metadata": {},
     "output_type": "execute_result"
    }
   ],
   "source": [
    "s = 'Welcome to the text manipulation section'\n",
    "len(s)"
   ]
  },
  {
   "cell_type": "code",
   "execution_count": 6,
   "id": "81bb3f60",
   "metadata": {},
   "outputs": [
    {
     "data": {
      "text/plain": [
       "'******************************Welcome to the text manipulation section******************************'"
      ]
     },
     "execution_count": 6,
     "metadata": {},
     "output_type": "execute_result"
    }
   ],
   "source": [
    "s.center(100, '*')"
   ]
  },
  {
   "cell_type": "code",
   "execution_count": 7,
   "id": "fba7b637",
   "metadata": {},
   "outputs": [
    {
     "data": {
      "text/plain": [
       "'Welcome to the text manipulation section'"
      ]
     },
     "execution_count": 7,
     "metadata": {},
     "output_type": "execute_result"
    }
   ],
   "source": [
    "s.center(30, '*')"
   ]
  },
  {
   "cell_type": "code",
   "execution_count": 8,
   "id": "68ce197b",
   "metadata": {},
   "outputs": [
    {
     "data": {
      "text/plain": [
       "'*****Welcome to the text manipulation section*****'"
      ]
     },
     "execution_count": 8,
     "metadata": {},
     "output_type": "execute_result"
    }
   ],
   "source": [
    "s.center(50, '*')"
   ]
  },
  {
   "cell_type": "code",
   "execution_count": 9,
   "id": "0df6bbe2",
   "metadata": {},
   "outputs": [
    {
     "data": {
      "text/plain": [
       "(True, False)"
      ]
     },
     "execution_count": 9,
     "metadata": {},
     "output_type": "execute_result"
    }
   ],
   "source": [
    "s.startswith('Wel'), s.startswith('Wl')"
   ]
  },
  {
   "cell_type": "code",
   "execution_count": 10,
   "id": "bce8e57e",
   "metadata": {},
   "outputs": [
    {
     "data": {
      "text/plain": [
       "(True, False)"
      ]
     },
     "execution_count": 10,
     "metadata": {},
     "output_type": "execute_result"
    }
   ],
   "source": [
    "s.endswith('ion'), s.endswith('N')"
   ]
  },
  {
   "cell_type": "code",
   "execution_count": 11,
   "id": "037503b9",
   "metadata": {},
   "outputs": [
    {
     "data": {
      "text/plain": [
       "(True, False)"
      ]
     },
     "execution_count": 11,
     "metadata": {},
     "output_type": "execute_result"
    }
   ],
   "source": [
    "'text' in s, 'Text' in s"
   ]
  },
  {
   "cell_type": "code",
   "execution_count": 12,
   "id": "a4b2667d",
   "metadata": {},
   "outputs": [],
   "source": [
    "# text transforms within list comprehension"
   ]
  },
  {
   "cell_type": "code",
   "execution_count": 13,
   "id": "47faf101",
   "metadata": {},
   "outputs": [
    {
     "data": {
      "text/plain": [
       "[6, 5, 6, 5]"
      ]
     },
     "execution_count": 13,
     "metadata": {},
     "output_type": "execute_result"
    }
   ],
   "source": [
    "names = ['Chetan', 'Akash', 'Andrew', 'Brian']\n",
    "[len(name) for name in names]"
   ]
  },
  {
   "cell_type": "code",
   "execution_count": 14,
   "id": "dc08d981",
   "metadata": {},
   "outputs": [
    {
     "data": {
      "text/plain": [
       "[False, True, True, False]"
      ]
     },
     "execution_count": 14,
     "metadata": {},
     "output_type": "execute_result"
    }
   ],
   "source": [
    "[name.startswith('A') for name in names]"
   ]
  },
  {
   "cell_type": "markdown",
   "id": "c1cb4939",
   "metadata": {},
   "source": [
    "### Vectorized String Ooperations in Pandas"
   ]
  },
  {
   "cell_type": "code",
   "execution_count": 15,
   "id": "f0fa1b37",
   "metadata": {},
   "outputs": [
    {
     "data": {
      "text/html": [
       "<div>\n",
       "<style scoped>\n",
       "    .dataframe tbody tr th:only-of-type {\n",
       "        vertical-align: middle;\n",
       "    }\n",
       "\n",
       "    .dataframe tbody tr th {\n",
       "        vertical-align: top;\n",
       "    }\n",
       "\n",
       "    .dataframe thead th {\n",
       "        text-align: right;\n",
       "    }\n",
       "</style>\n",
       "<table border=\"1\" class=\"dataframe\">\n",
       "  <thead>\n",
       "    <tr style=\"text-align: right;\">\n",
       "      <th></th>\n",
       "      <th>Name</th>\n",
       "      <th>Age</th>\n",
       "      <th>M/F</th>\n",
       "      <th>City</th>\n",
       "      <th>State</th>\n",
       "      <th>Country</th>\n",
       "      <th>Official Time</th>\n",
       "      <th>Overall</th>\n",
       "      <th>Gender</th>\n",
       "      <th>Years Ran</th>\n",
       "    </tr>\n",
       "  </thead>\n",
       "  <tbody>\n",
       "    <tr>\n",
       "      <th>0</th>\n",
       "      <td>Kirui, Geoffrey</td>\n",
       "      <td>24</td>\n",
       "      <td>M</td>\n",
       "      <td>Keringet</td>\n",
       "      <td>NaN</td>\n",
       "      <td>KEN</td>\n",
       "      <td>2:09:37</td>\n",
       "      <td>1</td>\n",
       "      <td>1</td>\n",
       "      <td>NaN</td>\n",
       "    </tr>\n",
       "    <tr>\n",
       "      <th>1</th>\n",
       "      <td>Rupp, Galen</td>\n",
       "      <td>30</td>\n",
       "      <td>M</td>\n",
       "      <td>Portland</td>\n",
       "      <td>OR</td>\n",
       "      <td>USA</td>\n",
       "      <td>2:09:58</td>\n",
       "      <td>2</td>\n",
       "      <td>2</td>\n",
       "      <td>NaN</td>\n",
       "    </tr>\n",
       "    <tr>\n",
       "      <th>2</th>\n",
       "      <td>Osako, Suguru</td>\n",
       "      <td>25</td>\n",
       "      <td>M</td>\n",
       "      <td>Machida-City</td>\n",
       "      <td>NaN</td>\n",
       "      <td>JPN</td>\n",
       "      <td>2:10:28</td>\n",
       "      <td>3</td>\n",
       "      <td>3</td>\n",
       "      <td>NaN</td>\n",
       "    </tr>\n",
       "    <tr>\n",
       "      <th>3</th>\n",
       "      <td>Biwott, Shadrack</td>\n",
       "      <td>32</td>\n",
       "      <td>M</td>\n",
       "      <td>Mammoth Lakes</td>\n",
       "      <td>CA</td>\n",
       "      <td>USA</td>\n",
       "      <td>2:12:08</td>\n",
       "      <td>4</td>\n",
       "      <td>4</td>\n",
       "      <td>NaN</td>\n",
       "    </tr>\n",
       "    <tr>\n",
       "      <th>4</th>\n",
       "      <td>Chebet, Wilson</td>\n",
       "      <td>31</td>\n",
       "      <td>M</td>\n",
       "      <td>Marakwet</td>\n",
       "      <td>NaN</td>\n",
       "      <td>KEN</td>\n",
       "      <td>2:12:35</td>\n",
       "      <td>5</td>\n",
       "      <td>5</td>\n",
       "      <td>2015</td>\n",
       "    </tr>\n",
       "  </tbody>\n",
       "</table>\n",
       "</div>"
      ],
      "text/plain": [
       "                Name  Age M/F           City State Country Official Time  \\\n",
       "0   Kirui, Geoffrey    24   M       Keringet   NaN     KEN       2:09:37   \n",
       "1     Rupp, Galen      30   M       Portland    OR     USA       2:09:58   \n",
       "2    Osako, Suguru     25   M   Machida-City   NaN     JPN       2:10:28   \n",
       "3   Biwott, Shadrack   32   M  Mammoth Lakes    CA     USA       2:12:08   \n",
       "4     Chebet, Wilson   31   M       Marakwet   NaN     KEN       2:12:35   \n",
       "\n",
       "   Overall  Gender Years Ran  \n",
       "0        1       1       NaN  \n",
       "1        2       2       NaN  \n",
       "2        3       3       NaN  \n",
       "3        4       4       NaN  \n",
       "4        5       5      2015  "
      ]
     },
     "execution_count": 15,
     "metadata": {},
     "output_type": "execute_result"
    }
   ],
   "source": [
    "marathon.head()"
   ]
  },
  {
   "cell_type": "code",
   "execution_count": 16,
   "id": "e02d21b8",
   "metadata": {},
   "outputs": [
    {
     "data": {
      "text/plain": [
       "0         Kirui, Geoffrey \n",
       "1           Rupp, Galen   \n",
       "2          Osako, Suguru  \n",
       "3         Biwott, Shadrack\n",
       "4           Chebet, Wilson\n",
       "              ...         \n",
       "995           Larosa, Mark\n",
       "996    Williamson, Jerry A\n",
       "997        Mccue, Daniel T\n",
       "998           Larosa, John\n",
       "999         Sanchez, Sam R\n",
       "Name: Name, Length: 1000, dtype: object"
      ]
     },
     "execution_count": 16,
     "metadata": {},
     "output_type": "execute_result"
    }
   ],
   "source": [
    "marathon.Name"
   ]
  },
  {
   "cell_type": "code",
   "execution_count": 17,
   "id": "ef29709c",
   "metadata": {},
   "outputs": [
    {
     "data": {
      "text/plain": [
       "0      17\n",
       "1      14\n",
       "2      15\n",
       "3      16\n",
       "4      14\n",
       "       ..\n",
       "995    12\n",
       "996    19\n",
       "997    15\n",
       "998    12\n",
       "999    14\n",
       "Name: Name, Length: 1000, dtype: int64"
      ]
     },
     "execution_count": 17,
     "metadata": {},
     "output_type": "execute_result"
    }
   ],
   "source": [
    "marathon.Name.str.len()"
   ]
  },
  {
   "cell_type": "code",
   "execution_count": 18,
   "id": "c411f430",
   "metadata": {},
   "outputs": [
    {
     "data": {
      "text/plain": [
       "0      False\n",
       "1      False\n",
       "2      False\n",
       "3      False\n",
       "4      False\n",
       "       ...  \n",
       "995    False\n",
       "996    False\n",
       "997    False\n",
       "998    False\n",
       "999    False\n",
       "Name: Name, Length: 1000, dtype: bool"
      ]
     },
     "execution_count": 18,
     "metadata": {},
     "output_type": "execute_result"
    }
   ],
   "source": [
    "marathon.Name.str.startswith('A')"
   ]
  },
  {
   "cell_type": "markdown",
   "id": "42e59c07",
   "metadata": {},
   "source": [
    "### Case Operations"
   ]
  },
  {
   "cell_type": "code",
   "execution_count": 19,
   "id": "18b04a3d",
   "metadata": {},
   "outputs": [
    {
     "data": {
      "text/plain": [
       "0           Keringet\n",
       "1           Portland\n",
       "2       Machida-City\n",
       "3      Mammoth Lakes\n",
       "4           Marakwet\n",
       "           ...      \n",
       "995    North Andover\n",
       "996          Raleigh\n",
       "997        Arlington\n",
       "998          Danbury\n",
       "999         Santa Fe\n",
       "Name: City, Length: 1000, dtype: object"
      ]
     },
     "execution_count": 19,
     "metadata": {},
     "output_type": "execute_result"
    }
   ],
   "source": [
    "marathon.City"
   ]
  },
  {
   "cell_type": "code",
   "execution_count": 20,
   "id": "cb4495b6",
   "metadata": {},
   "outputs": [
    {
     "data": {
      "text/plain": [
       "0           Keringet\n",
       "1           Portland\n",
       "2       Machida-City\n",
       "3      Mammoth Lakes\n",
       "4           Marakwet\n",
       "           ...      \n",
       "995    North Andover\n",
       "996          Raleigh\n",
       "997        Arlington\n",
       "998          Danbury\n",
       "999         Santa Fe\n",
       "Name: City, Length: 1000, dtype: object"
      ]
     },
     "execution_count": 20,
     "metadata": {},
     "output_type": "execute_result"
    }
   ],
   "source": [
    "marathon.City.str.title()"
   ]
  },
  {
   "cell_type": "code",
   "execution_count": 21,
   "id": "4a1456e8",
   "metadata": {},
   "outputs": [
    {
     "data": {
      "text/plain": [
       "0           KERINGET\n",
       "1           PORTLAND\n",
       "2       MACHIDA-CITY\n",
       "3      MAMMOTH LAKES\n",
       "4           MARAKWET\n",
       "           ...      \n",
       "995    NORTH ANDOVER\n",
       "996          RALEIGH\n",
       "997        ARLINGTON\n",
       "998          DANBURY\n",
       "999         SANTA FE\n",
       "Name: City, Length: 1000, dtype: object"
      ]
     },
     "execution_count": 21,
     "metadata": {},
     "output_type": "execute_result"
    }
   ],
   "source": [
    "marathon.City.str.upper() # swapcase(), lower(), capitalize()"
   ]
  },
  {
   "cell_type": "code",
   "execution_count": 22,
   "id": "64aad95a",
   "metadata": {},
   "outputs": [
    {
     "data": {
      "text/plain": [
       "0           Keringet\n",
       "1           Portland\n",
       "2       Machida-city\n",
       "3      Mammoth lakes\n",
       "4           Marakwet\n",
       "           ...      \n",
       "995    North andover\n",
       "996          Raleigh\n",
       "997        Arlington\n",
       "998          Danbury\n",
       "999         Santa fe\n",
       "Name: City, Length: 1000, dtype: object"
      ]
     },
     "execution_count": 22,
     "metadata": {},
     "output_type": "execute_result"
    }
   ],
   "source": [
    "marathon.City.str.capitalize()"
   ]
  },
  {
   "cell_type": "markdown",
   "id": "674bbee1",
   "metadata": {},
   "source": [
    "### Finding Characters and Words"
   ]
  },
  {
   "cell_type": "code",
   "execution_count": 23,
   "id": "3719a19b",
   "metadata": {},
   "outputs": [
    {
     "data": {
      "text/plain": [
       "'Welcome to the text manipulation section'"
      ]
     },
     "execution_count": 23,
     "metadata": {},
     "output_type": "execute_result"
    }
   ],
   "source": [
    "s"
   ]
  },
  {
   "cell_type": "code",
   "execution_count": 24,
   "id": "219759a6",
   "metadata": {},
   "outputs": [
    {
     "data": {
      "text/plain": [
       "-1"
      ]
     },
     "execution_count": 24,
     "metadata": {},
     "output_type": "execute_result"
    }
   ],
   "source": [
    "s.find(\"k\")"
   ]
  },
  {
   "cell_type": "code",
   "execution_count": 25,
   "id": "d23fc9fa",
   "metadata": {},
   "outputs": [
    {
     "data": {
      "text/plain": [
       "8"
      ]
     },
     "execution_count": 25,
     "metadata": {},
     "output_type": "execute_result"
    }
   ],
   "source": [
    "s.find('t')"
   ]
  },
  {
   "cell_type": "code",
   "execution_count": 26,
   "id": "b690efe9",
   "metadata": {},
   "outputs": [
    {
     "data": {
      "text/plain": [
       "15"
      ]
     },
     "execution_count": 26,
     "metadata": {},
     "output_type": "execute_result"
    }
   ],
   "source": [
    "s.find('text')"
   ]
  },
  {
   "cell_type": "code",
   "execution_count": 27,
   "id": "98ad8cae",
   "metadata": {},
   "outputs": [
    {
     "data": {
      "text/html": [
       "<div>\n",
       "<style scoped>\n",
       "    .dataframe tbody tr th:only-of-type {\n",
       "        vertical-align: middle;\n",
       "    }\n",
       "\n",
       "    .dataframe tbody tr th {\n",
       "        vertical-align: top;\n",
       "    }\n",
       "\n",
       "    .dataframe thead th {\n",
       "        text-align: right;\n",
       "    }\n",
       "</style>\n",
       "<table border=\"1\" class=\"dataframe\">\n",
       "  <thead>\n",
       "    <tr style=\"text-align: right;\">\n",
       "      <th></th>\n",
       "      <th>Name</th>\n",
       "      <th>Age</th>\n",
       "      <th>M/F</th>\n",
       "      <th>City</th>\n",
       "      <th>State</th>\n",
       "      <th>Country</th>\n",
       "      <th>Official Time</th>\n",
       "      <th>Overall</th>\n",
       "      <th>Gender</th>\n",
       "      <th>Years Ran</th>\n",
       "    </tr>\n",
       "  </thead>\n",
       "  <tbody>\n",
       "    <tr>\n",
       "      <th>0</th>\n",
       "      <td>Kirui, Geoffrey</td>\n",
       "      <td>24</td>\n",
       "      <td>M</td>\n",
       "      <td>Keringet</td>\n",
       "      <td>NaN</td>\n",
       "      <td>KEN</td>\n",
       "      <td>2:09:37</td>\n",
       "      <td>1</td>\n",
       "      <td>1</td>\n",
       "      <td>NaN</td>\n",
       "    </tr>\n",
       "    <tr>\n",
       "      <th>1</th>\n",
       "      <td>Rupp, Galen</td>\n",
       "      <td>30</td>\n",
       "      <td>M</td>\n",
       "      <td>Portland</td>\n",
       "      <td>OR</td>\n",
       "      <td>USA</td>\n",
       "      <td>2:09:58</td>\n",
       "      <td>2</td>\n",
       "      <td>2</td>\n",
       "      <td>NaN</td>\n",
       "    </tr>\n",
       "    <tr>\n",
       "      <th>2</th>\n",
       "      <td>Osako, Suguru</td>\n",
       "      <td>25</td>\n",
       "      <td>M</td>\n",
       "      <td>Machida-City</td>\n",
       "      <td>NaN</td>\n",
       "      <td>JPN</td>\n",
       "      <td>2:10:28</td>\n",
       "      <td>3</td>\n",
       "      <td>3</td>\n",
       "      <td>NaN</td>\n",
       "    </tr>\n",
       "    <tr>\n",
       "      <th>3</th>\n",
       "      <td>Biwott, Shadrack</td>\n",
       "      <td>32</td>\n",
       "      <td>M</td>\n",
       "      <td>Mammoth Lakes</td>\n",
       "      <td>CA</td>\n",
       "      <td>USA</td>\n",
       "      <td>2:12:08</td>\n",
       "      <td>4</td>\n",
       "      <td>4</td>\n",
       "      <td>NaN</td>\n",
       "    </tr>\n",
       "    <tr>\n",
       "      <th>4</th>\n",
       "      <td>Chebet, Wilson</td>\n",
       "      <td>31</td>\n",
       "      <td>M</td>\n",
       "      <td>Marakwet</td>\n",
       "      <td>NaN</td>\n",
       "      <td>KEN</td>\n",
       "      <td>2:12:35</td>\n",
       "      <td>5</td>\n",
       "      <td>5</td>\n",
       "      <td>2015</td>\n",
       "    </tr>\n",
       "  </tbody>\n",
       "</table>\n",
       "</div>"
      ],
      "text/plain": [
       "                Name  Age M/F           City State Country Official Time  \\\n",
       "0   Kirui, Geoffrey    24   M       Keringet   NaN     KEN       2:09:37   \n",
       "1     Rupp, Galen      30   M       Portland    OR     USA       2:09:58   \n",
       "2    Osako, Suguru     25   M   Machida-City   NaN     JPN       2:10:28   \n",
       "3   Biwott, Shadrack   32   M  Mammoth Lakes    CA     USA       2:12:08   \n",
       "4     Chebet, Wilson   31   M       Marakwet   NaN     KEN       2:12:35   \n",
       "\n",
       "   Overall  Gender Years Ran  \n",
       "0        1       1       NaN  \n",
       "1        2       2       NaN  \n",
       "2        3       3       NaN  \n",
       "3        4       4       NaN  \n",
       "4        5       5      2015  "
      ]
     },
     "execution_count": 27,
     "metadata": {},
     "output_type": "execute_result"
    }
   ],
   "source": [
    "marathon.head()"
   ]
  },
  {
   "cell_type": "code",
   "execution_count": 28,
   "id": "0465c989",
   "metadata": {},
   "outputs": [
    {
     "data": {
      "text/plain": [
       "-1     998\n",
       " 8       1\n",
       " 12      1\n",
       "Name: Name, dtype: int64"
      ]
     },
     "execution_count": 28,
     "metadata": {},
     "output_type": "execute_result"
    }
   ],
   "source": [
    "marathon.Name.str.find('Andy').value_counts()"
   ]
  },
  {
   "cell_type": "code",
   "execution_count": 29,
   "id": "461673b7",
   "metadata": {},
   "outputs": [
    {
     "data": {
      "text/plain": [
       "-1     988\n",
       " 8       3\n",
       " 10      3\n",
       " 7       2\n",
       " 9       2\n",
       " 12      1\n",
       " 6       1\n",
       "Name: Name, dtype: int64"
      ]
     },
     "execution_count": 29,
     "metadata": {},
     "output_type": "execute_result"
    }
   ],
   "source": [
    "marathon.Name.str.find('James').value_counts()"
   ]
  },
  {
   "cell_type": "code",
   "execution_count": 30,
   "id": "313d0ac2",
   "metadata": {},
   "outputs": [],
   "source": [
    "p = 'pandas numpy numpy pandas'"
   ]
  },
  {
   "cell_type": "code",
   "execution_count": 31,
   "id": "21f60307",
   "metadata": {},
   "outputs": [
    {
     "data": {
      "text/plain": [
       "0"
      ]
     },
     "execution_count": 31,
     "metadata": {},
     "output_type": "execute_result"
    }
   ],
   "source": [
    "p.find('pandas')"
   ]
  },
  {
   "cell_type": "code",
   "execution_count": 32,
   "id": "2111e90f",
   "metadata": {},
   "outputs": [
    {
     "data": {
      "text/plain": [
       "19"
      ]
     },
     "execution_count": 32,
     "metadata": {},
     "output_type": "execute_result"
    }
   ],
   "source": [
    "p.rfind('pandas')"
   ]
  },
  {
   "cell_type": "code",
   "execution_count": 33,
   "id": "02b60767",
   "metadata": {},
   "outputs": [
    {
     "data": {
      "text/plain": [
       "10"
      ]
     },
     "execution_count": 33,
     "metadata": {},
     "output_type": "execute_result"
    }
   ],
   "source": [
    "p.find('p', 4)"
   ]
  },
  {
   "cell_type": "code",
   "execution_count": 34,
   "id": "ea75ba35",
   "metadata": {},
   "outputs": [
    {
     "data": {
      "text/plain": [
       "16"
      ]
     },
     "execution_count": 34,
     "metadata": {},
     "output_type": "execute_result"
    }
   ],
   "source": [
    "p.find('p', 11, 20)"
   ]
  },
  {
   "cell_type": "markdown",
   "id": "57ab7959",
   "metadata": {},
   "source": [
    "### Strips and Whitespaces"
   ]
  },
  {
   "cell_type": "code",
   "execution_count": 35,
   "id": "12c6e091",
   "metadata": {},
   "outputs": [
    {
     "name": "stdout",
     "output_type": "stream",
     "text": [
      "pandas \tnumpy\n"
     ]
    }
   ],
   "source": [
    "print('pandas', '\\tnumpy')"
   ]
  },
  {
   "cell_type": "code",
   "execution_count": 36,
   "id": "12a27a0c",
   "metadata": {},
   "outputs": [
    {
     "name": "stdout",
     "output_type": "stream",
     "text": [
      "pandas \n",
      "numpy\n"
     ]
    }
   ],
   "source": [
    "print('pandas', '\\nnumpy')"
   ]
  },
  {
   "cell_type": "code",
   "execution_count": 37,
   "id": "98d4b781",
   "metadata": {},
   "outputs": [
    {
     "data": {
      "text/plain": [
       "(False, True, True, True)"
      ]
     },
     "execution_count": 37,
     "metadata": {},
     "output_type": "execute_result"
    }
   ],
   "source": [
    "''.isspace(), ' '.isspace(), '\\n'.isspace(), '\\t'.isspace()"
   ]
  },
  {
   "cell_type": "code",
   "execution_count": 38,
   "id": "a096a48f",
   "metadata": {},
   "outputs": [
    {
     "name": "stdout",
     "output_type": "stream",
     "text": [
      "   This is pandas course    \n",
      "\t     \n"
     ]
    }
   ],
   "source": [
    "spaced = '   This is pandas course    \\n\\t     '\n",
    "print(spaced)"
   ]
  },
  {
   "cell_type": "code",
   "execution_count": 39,
   "id": "f7243eb8",
   "metadata": {},
   "outputs": [
    {
     "data": {
      "text/plain": [
       "'This is pandas course    \\n\\t     '"
      ]
     },
     "execution_count": 39,
     "metadata": {},
     "output_type": "execute_result"
    }
   ],
   "source": [
    "spaced.lstrip()"
   ]
  },
  {
   "cell_type": "code",
   "execution_count": 40,
   "id": "94aea0b6",
   "metadata": {},
   "outputs": [
    {
     "data": {
      "text/plain": [
       "'This is pandas course'"
      ]
     },
     "execution_count": 40,
     "metadata": {},
     "output_type": "execute_result"
    }
   ],
   "source": [
    "spaced.strip()"
   ]
  },
  {
   "cell_type": "code",
   "execution_count": 41,
   "id": "5381c4e7",
   "metadata": {},
   "outputs": [
    {
     "data": {
      "text/plain": [
       "' Kirui, Geoffrey '"
      ]
     },
     "execution_count": 41,
     "metadata": {},
     "output_type": "execute_result"
    }
   ],
   "source": [
    "marathon.Name.iloc[0]"
   ]
  },
  {
   "cell_type": "code",
   "execution_count": 42,
   "id": "752de386",
   "metadata": {},
   "outputs": [],
   "source": [
    "marathon.Name = marathon.Name.str.strip()"
   ]
  },
  {
   "cell_type": "markdown",
   "id": "1352f4a8",
   "metadata": {},
   "source": [
    "### String Splitting And Concatenation"
   ]
  },
  {
   "cell_type": "code",
   "execution_count": 43,
   "id": "1c01d7cd",
   "metadata": {},
   "outputs": [],
   "source": [
    "# split(), get(), cat()"
   ]
  },
  {
   "cell_type": "code",
   "execution_count": 44,
   "id": "35c80f34",
   "metadata": {},
   "outputs": [
    {
     "data": {
      "text/plain": [
       "['Welcome', 'to', 'the', 'text', 'manipulation', 'section']"
      ]
     },
     "execution_count": 44,
     "metadata": {},
     "output_type": "execute_result"
    }
   ],
   "source": [
    "s.split()  \n",
    "# split based on any white space while split(' ') only splits based on one white space"
   ]
  },
  {
   "cell_type": "code",
   "execution_count": 45,
   "id": "d71793a8",
   "metadata": {},
   "outputs": [
    {
     "data": {
      "text/plain": [
       "['Welcome ', 'o ', 'he ', 'ex', ' manipula', 'ion sec', 'ion']"
      ]
     },
     "execution_count": 45,
     "metadata": {},
     "output_type": "execute_result"
    }
   ],
   "source": [
    "s.split('t')"
   ]
  },
  {
   "cell_type": "code",
   "execution_count": 46,
   "id": "4b042c4a",
   "metadata": {},
   "outputs": [],
   "source": [
    "# split character is discarded"
   ]
  },
  {
   "cell_type": "code",
   "execution_count": 47,
   "id": "23393706",
   "metadata": {},
   "outputs": [
    {
     "data": {
      "text/html": [
       "<div>\n",
       "<style scoped>\n",
       "    .dataframe tbody tr th:only-of-type {\n",
       "        vertical-align: middle;\n",
       "    }\n",
       "\n",
       "    .dataframe tbody tr th {\n",
       "        vertical-align: top;\n",
       "    }\n",
       "\n",
       "    .dataframe thead th {\n",
       "        text-align: right;\n",
       "    }\n",
       "</style>\n",
       "<table border=\"1\" class=\"dataframe\">\n",
       "  <thead>\n",
       "    <tr style=\"text-align: right;\">\n",
       "      <th></th>\n",
       "      <th>Name</th>\n",
       "      <th>Age</th>\n",
       "      <th>M/F</th>\n",
       "      <th>City</th>\n",
       "      <th>State</th>\n",
       "      <th>Country</th>\n",
       "      <th>Official Time</th>\n",
       "      <th>Overall</th>\n",
       "      <th>Gender</th>\n",
       "      <th>Years Ran</th>\n",
       "    </tr>\n",
       "  </thead>\n",
       "  <tbody>\n",
       "    <tr>\n",
       "      <th>0</th>\n",
       "      <td>Kirui, Geoffrey</td>\n",
       "      <td>24</td>\n",
       "      <td>M</td>\n",
       "      <td>Keringet</td>\n",
       "      <td>NaN</td>\n",
       "      <td>KEN</td>\n",
       "      <td>2:09:37</td>\n",
       "      <td>1</td>\n",
       "      <td>1</td>\n",
       "      <td>NaN</td>\n",
       "    </tr>\n",
       "    <tr>\n",
       "      <th>1</th>\n",
       "      <td>Rupp, Galen</td>\n",
       "      <td>30</td>\n",
       "      <td>M</td>\n",
       "      <td>Portland</td>\n",
       "      <td>OR</td>\n",
       "      <td>USA</td>\n",
       "      <td>2:09:58</td>\n",
       "      <td>2</td>\n",
       "      <td>2</td>\n",
       "      <td>NaN</td>\n",
       "    </tr>\n",
       "    <tr>\n",
       "      <th>2</th>\n",
       "      <td>Osako, Suguru</td>\n",
       "      <td>25</td>\n",
       "      <td>M</td>\n",
       "      <td>Machida-City</td>\n",
       "      <td>NaN</td>\n",
       "      <td>JPN</td>\n",
       "      <td>2:10:28</td>\n",
       "      <td>3</td>\n",
       "      <td>3</td>\n",
       "      <td>NaN</td>\n",
       "    </tr>\n",
       "    <tr>\n",
       "      <th>3</th>\n",
       "      <td>Biwott, Shadrack</td>\n",
       "      <td>32</td>\n",
       "      <td>M</td>\n",
       "      <td>Mammoth Lakes</td>\n",
       "      <td>CA</td>\n",
       "      <td>USA</td>\n",
       "      <td>2:12:08</td>\n",
       "      <td>4</td>\n",
       "      <td>4</td>\n",
       "      <td>NaN</td>\n",
       "    </tr>\n",
       "    <tr>\n",
       "      <th>4</th>\n",
       "      <td>Chebet, Wilson</td>\n",
       "      <td>31</td>\n",
       "      <td>M</td>\n",
       "      <td>Marakwet</td>\n",
       "      <td>NaN</td>\n",
       "      <td>KEN</td>\n",
       "      <td>2:12:35</td>\n",
       "      <td>5</td>\n",
       "      <td>5</td>\n",
       "      <td>2015</td>\n",
       "    </tr>\n",
       "  </tbody>\n",
       "</table>\n",
       "</div>"
      ],
      "text/plain": [
       "               Name  Age M/F           City State Country Official Time  \\\n",
       "0   Kirui, Geoffrey   24   M       Keringet   NaN     KEN       2:09:37   \n",
       "1       Rupp, Galen   30   M       Portland    OR     USA       2:09:58   \n",
       "2     Osako, Suguru   25   M   Machida-City   NaN     JPN       2:10:28   \n",
       "3  Biwott, Shadrack   32   M  Mammoth Lakes    CA     USA       2:12:08   \n",
       "4    Chebet, Wilson   31   M       Marakwet   NaN     KEN       2:12:35   \n",
       "\n",
       "   Overall  Gender Years Ran  \n",
       "0        1       1       NaN  \n",
       "1        2       2       NaN  \n",
       "2        3       3       NaN  \n",
       "3        4       4       NaN  \n",
       "4        5       5      2015  "
      ]
     },
     "execution_count": 47,
     "metadata": {},
     "output_type": "execute_result"
    }
   ],
   "source": [
    "marathon.head()"
   ]
  },
  {
   "cell_type": "code",
   "execution_count": 48,
   "id": "03fccdf3",
   "metadata": {},
   "outputs": [
    {
     "data": {
      "text/plain": [
       "0          [Kirui,  Geoffrey]\n",
       "1              [Rupp,  Galen]\n",
       "2            [Osako,  Suguru]\n",
       "3         [Biwott,  Shadrack]\n",
       "4           [Chebet,  Wilson]\n",
       "                ...          \n",
       "995           [Larosa,  Mark]\n",
       "996    [Williamson,  Jerry A]\n",
       "997        [Mccue,  Daniel T]\n",
       "998           [Larosa,  John]\n",
       "999         [Sanchez,  Sam R]\n",
       "Name: Name, Length: 1000, dtype: object"
      ]
     },
     "execution_count": 48,
     "metadata": {},
     "output_type": "execute_result"
    }
   ],
   "source": [
    "marathon.Name.str.split(',')"
   ]
  },
  {
   "cell_type": "code",
   "execution_count": 49,
   "id": "b59a2789",
   "metadata": {},
   "outputs": [
    {
     "data": {
      "text/plain": [
       "0           Kirui\n",
       "1            Rupp\n",
       "2           Osako\n",
       "3          Biwott\n",
       "4          Chebet\n",
       "          ...    \n",
       "995        Larosa\n",
       "996    Williamson\n",
       "997         Mccue\n",
       "998        Larosa\n",
       "999       Sanchez\n",
       "Name: Name, Length: 1000, dtype: object"
      ]
     },
     "execution_count": 49,
     "metadata": {},
     "output_type": "execute_result"
    }
   ],
   "source": [
    "marathon.Name.str.split(', ').str.get(0)"
   ]
  },
  {
   "cell_type": "code",
   "execution_count": 50,
   "id": "cb6d6c50",
   "metadata": {},
   "outputs": [],
   "source": [
    "marathon['First Name'] = marathon.Name.str.split(', ').str.get(0)\n",
    "marathon['Last Name'] = marathon.Name.str.split(', ').str.get(1)"
   ]
  },
  {
   "cell_type": "code",
   "execution_count": 51,
   "id": "7ec0ae11",
   "metadata": {},
   "outputs": [
    {
     "data": {
      "text/html": [
       "<div>\n",
       "<style scoped>\n",
       "    .dataframe tbody tr th:only-of-type {\n",
       "        vertical-align: middle;\n",
       "    }\n",
       "\n",
       "    .dataframe tbody tr th {\n",
       "        vertical-align: top;\n",
       "    }\n",
       "\n",
       "    .dataframe thead th {\n",
       "        text-align: right;\n",
       "    }\n",
       "</style>\n",
       "<table border=\"1\" class=\"dataframe\">\n",
       "  <thead>\n",
       "    <tr style=\"text-align: right;\">\n",
       "      <th></th>\n",
       "      <th>Name</th>\n",
       "      <th>Age</th>\n",
       "      <th>M/F</th>\n",
       "      <th>City</th>\n",
       "      <th>State</th>\n",
       "      <th>Country</th>\n",
       "      <th>Official Time</th>\n",
       "      <th>Overall</th>\n",
       "      <th>Gender</th>\n",
       "      <th>Years Ran</th>\n",
       "      <th>First Name</th>\n",
       "      <th>Last Name</th>\n",
       "    </tr>\n",
       "  </thead>\n",
       "  <tbody>\n",
       "    <tr>\n",
       "      <th>0</th>\n",
       "      <td>Kirui, Geoffrey</td>\n",
       "      <td>24</td>\n",
       "      <td>M</td>\n",
       "      <td>Keringet</td>\n",
       "      <td>NaN</td>\n",
       "      <td>KEN</td>\n",
       "      <td>2:09:37</td>\n",
       "      <td>1</td>\n",
       "      <td>1</td>\n",
       "      <td>NaN</td>\n",
       "      <td>Kirui</td>\n",
       "      <td>Geoffrey</td>\n",
       "    </tr>\n",
       "    <tr>\n",
       "      <th>1</th>\n",
       "      <td>Rupp, Galen</td>\n",
       "      <td>30</td>\n",
       "      <td>M</td>\n",
       "      <td>Portland</td>\n",
       "      <td>OR</td>\n",
       "      <td>USA</td>\n",
       "      <td>2:09:58</td>\n",
       "      <td>2</td>\n",
       "      <td>2</td>\n",
       "      <td>NaN</td>\n",
       "      <td>Rupp</td>\n",
       "      <td>Galen</td>\n",
       "    </tr>\n",
       "    <tr>\n",
       "      <th>2</th>\n",
       "      <td>Osako, Suguru</td>\n",
       "      <td>25</td>\n",
       "      <td>M</td>\n",
       "      <td>Machida-City</td>\n",
       "      <td>NaN</td>\n",
       "      <td>JPN</td>\n",
       "      <td>2:10:28</td>\n",
       "      <td>3</td>\n",
       "      <td>3</td>\n",
       "      <td>NaN</td>\n",
       "      <td>Osako</td>\n",
       "      <td>Suguru</td>\n",
       "    </tr>\n",
       "    <tr>\n",
       "      <th>3</th>\n",
       "      <td>Biwott, Shadrack</td>\n",
       "      <td>32</td>\n",
       "      <td>M</td>\n",
       "      <td>Mammoth Lakes</td>\n",
       "      <td>CA</td>\n",
       "      <td>USA</td>\n",
       "      <td>2:12:08</td>\n",
       "      <td>4</td>\n",
       "      <td>4</td>\n",
       "      <td>NaN</td>\n",
       "      <td>Biwott</td>\n",
       "      <td>Shadrack</td>\n",
       "    </tr>\n",
       "    <tr>\n",
       "      <th>4</th>\n",
       "      <td>Chebet, Wilson</td>\n",
       "      <td>31</td>\n",
       "      <td>M</td>\n",
       "      <td>Marakwet</td>\n",
       "      <td>NaN</td>\n",
       "      <td>KEN</td>\n",
       "      <td>2:12:35</td>\n",
       "      <td>5</td>\n",
       "      <td>5</td>\n",
       "      <td>2015</td>\n",
       "      <td>Chebet</td>\n",
       "      <td>Wilson</td>\n",
       "    </tr>\n",
       "  </tbody>\n",
       "</table>\n",
       "</div>"
      ],
      "text/plain": [
       "               Name  Age M/F           City State Country Official Time  \\\n",
       "0   Kirui, Geoffrey   24   M       Keringet   NaN     KEN       2:09:37   \n",
       "1       Rupp, Galen   30   M       Portland    OR     USA       2:09:58   \n",
       "2     Osako, Suguru   25   M   Machida-City   NaN     JPN       2:10:28   \n",
       "3  Biwott, Shadrack   32   M  Mammoth Lakes    CA     USA       2:12:08   \n",
       "4    Chebet, Wilson   31   M       Marakwet   NaN     KEN       2:12:35   \n",
       "\n",
       "   Overall  Gender Years Ran First Name Last Name  \n",
       "0        1       1       NaN      Kirui  Geoffrey  \n",
       "1        2       2       NaN       Rupp     Galen  \n",
       "2        3       3       NaN      Osako    Suguru  \n",
       "3        4       4       NaN     Biwott  Shadrack  \n",
       "4        5       5      2015     Chebet    Wilson  "
      ]
     },
     "execution_count": 51,
     "metadata": {},
     "output_type": "execute_result"
    }
   ],
   "source": [
    "marathon.head()"
   ]
  },
  {
   "cell_type": "code",
   "execution_count": 52,
   "id": "6b7c00be",
   "metadata": {},
   "outputs": [
    {
     "data": {
      "text/plain": [
       "0      M_24\n",
       "1      M_30\n",
       "2      M_25\n",
       "3      M_32\n",
       "4      M_31\n",
       "       ... \n",
       "995    M_38\n",
       "996    M_43\n",
       "997    M_40\n",
       "998    M_35\n",
       "999    M_35\n",
       "Name: M/F, Length: 1000, dtype: object"
      ]
     },
     "execution_count": 52,
     "metadata": {},
     "output_type": "execute_result"
    }
   ],
   "source": [
    "marathon['M/F'].str.cat(marathon.Age.astype(str), sep='_')"
   ]
  },
  {
   "cell_type": "markdown",
   "id": "6a142688",
   "metadata": {},
   "source": [
    "### More Split parameters"
   ]
  },
  {
   "cell_type": "code",
   "execution_count": 53,
   "id": "868a8071",
   "metadata": {},
   "outputs": [],
   "source": [
    "marathon.drop(['First Name', 'Last Name'], axis=1, inplace=True)"
   ]
  },
  {
   "cell_type": "code",
   "execution_count": 54,
   "id": "cb13a615",
   "metadata": {},
   "outputs": [
    {
     "data": {
      "text/html": [
       "<div>\n",
       "<style scoped>\n",
       "    .dataframe tbody tr th:only-of-type {\n",
       "        vertical-align: middle;\n",
       "    }\n",
       "\n",
       "    .dataframe tbody tr th {\n",
       "        vertical-align: top;\n",
       "    }\n",
       "\n",
       "    .dataframe thead th {\n",
       "        text-align: right;\n",
       "    }\n",
       "</style>\n",
       "<table border=\"1\" class=\"dataframe\">\n",
       "  <thead>\n",
       "    <tr style=\"text-align: right;\">\n",
       "      <th></th>\n",
       "      <th>Name</th>\n",
       "      <th>Age</th>\n",
       "      <th>M/F</th>\n",
       "      <th>City</th>\n",
       "      <th>State</th>\n",
       "      <th>Country</th>\n",
       "      <th>Official Time</th>\n",
       "      <th>Overall</th>\n",
       "      <th>Gender</th>\n",
       "      <th>Years Ran</th>\n",
       "    </tr>\n",
       "  </thead>\n",
       "  <tbody>\n",
       "    <tr>\n",
       "      <th>0</th>\n",
       "      <td>Kirui, Geoffrey</td>\n",
       "      <td>24</td>\n",
       "      <td>M</td>\n",
       "      <td>Keringet</td>\n",
       "      <td>NaN</td>\n",
       "      <td>KEN</td>\n",
       "      <td>2:09:37</td>\n",
       "      <td>1</td>\n",
       "      <td>1</td>\n",
       "      <td>NaN</td>\n",
       "    </tr>\n",
       "    <tr>\n",
       "      <th>1</th>\n",
       "      <td>Rupp, Galen</td>\n",
       "      <td>30</td>\n",
       "      <td>M</td>\n",
       "      <td>Portland</td>\n",
       "      <td>OR</td>\n",
       "      <td>USA</td>\n",
       "      <td>2:09:58</td>\n",
       "      <td>2</td>\n",
       "      <td>2</td>\n",
       "      <td>NaN</td>\n",
       "    </tr>\n",
       "    <tr>\n",
       "      <th>2</th>\n",
       "      <td>Osako, Suguru</td>\n",
       "      <td>25</td>\n",
       "      <td>M</td>\n",
       "      <td>Machida-City</td>\n",
       "      <td>NaN</td>\n",
       "      <td>JPN</td>\n",
       "      <td>2:10:28</td>\n",
       "      <td>3</td>\n",
       "      <td>3</td>\n",
       "      <td>NaN</td>\n",
       "    </tr>\n",
       "    <tr>\n",
       "      <th>3</th>\n",
       "      <td>Biwott, Shadrack</td>\n",
       "      <td>32</td>\n",
       "      <td>M</td>\n",
       "      <td>Mammoth Lakes</td>\n",
       "      <td>CA</td>\n",
       "      <td>USA</td>\n",
       "      <td>2:12:08</td>\n",
       "      <td>4</td>\n",
       "      <td>4</td>\n",
       "      <td>NaN</td>\n",
       "    </tr>\n",
       "    <tr>\n",
       "      <th>4</th>\n",
       "      <td>Chebet, Wilson</td>\n",
       "      <td>31</td>\n",
       "      <td>M</td>\n",
       "      <td>Marakwet</td>\n",
       "      <td>NaN</td>\n",
       "      <td>KEN</td>\n",
       "      <td>2:12:35</td>\n",
       "      <td>5</td>\n",
       "      <td>5</td>\n",
       "      <td>2015</td>\n",
       "    </tr>\n",
       "  </tbody>\n",
       "</table>\n",
       "</div>"
      ],
      "text/plain": [
       "               Name  Age M/F           City State Country Official Time  \\\n",
       "0   Kirui, Geoffrey   24   M       Keringet   NaN     KEN       2:09:37   \n",
       "1       Rupp, Galen   30   M       Portland    OR     USA       2:09:58   \n",
       "2     Osako, Suguru   25   M   Machida-City   NaN     JPN       2:10:28   \n",
       "3  Biwott, Shadrack   32   M  Mammoth Lakes    CA     USA       2:12:08   \n",
       "4    Chebet, Wilson   31   M       Marakwet   NaN     KEN       2:12:35   \n",
       "\n",
       "   Overall  Gender Years Ran  \n",
       "0        1       1       NaN  \n",
       "1        2       2       NaN  \n",
       "2        3       3       NaN  \n",
       "3        4       4       NaN  \n",
       "4        5       5      2015  "
      ]
     },
     "execution_count": 54,
     "metadata": {},
     "output_type": "execute_result"
    }
   ],
   "source": [
    "marathon.head()"
   ]
  },
  {
   "cell_type": "code",
   "execution_count": 55,
   "id": "b154d7e4",
   "metadata": {},
   "outputs": [
    {
     "data": {
      "text/html": [
       "<div>\n",
       "<style scoped>\n",
       "    .dataframe tbody tr th:only-of-type {\n",
       "        vertical-align: middle;\n",
       "    }\n",
       "\n",
       "    .dataframe tbody tr th {\n",
       "        vertical-align: top;\n",
       "    }\n",
       "\n",
       "    .dataframe thead th {\n",
       "        text-align: right;\n",
       "    }\n",
       "</style>\n",
       "<table border=\"1\" class=\"dataframe\">\n",
       "  <thead>\n",
       "    <tr style=\"text-align: right;\">\n",
       "      <th></th>\n",
       "      <th>0</th>\n",
       "      <th>1</th>\n",
       "    </tr>\n",
       "  </thead>\n",
       "  <tbody>\n",
       "    <tr>\n",
       "      <th>0</th>\n",
       "      <td>Kirui</td>\n",
       "      <td>Geoffrey</td>\n",
       "    </tr>\n",
       "    <tr>\n",
       "      <th>1</th>\n",
       "      <td>Rupp</td>\n",
       "      <td>Galen</td>\n",
       "    </tr>\n",
       "    <tr>\n",
       "      <th>2</th>\n",
       "      <td>Osako</td>\n",
       "      <td>Suguru</td>\n",
       "    </tr>\n",
       "    <tr>\n",
       "      <th>3</th>\n",
       "      <td>Biwott</td>\n",
       "      <td>Shadrack</td>\n",
       "    </tr>\n",
       "    <tr>\n",
       "      <th>4</th>\n",
       "      <td>Chebet</td>\n",
       "      <td>Wilson</td>\n",
       "    </tr>\n",
       "    <tr>\n",
       "      <th>...</th>\n",
       "      <td>...</td>\n",
       "      <td>...</td>\n",
       "    </tr>\n",
       "    <tr>\n",
       "      <th>995</th>\n",
       "      <td>Larosa</td>\n",
       "      <td>Mark</td>\n",
       "    </tr>\n",
       "    <tr>\n",
       "      <th>996</th>\n",
       "      <td>Williamson</td>\n",
       "      <td>Jerry A</td>\n",
       "    </tr>\n",
       "    <tr>\n",
       "      <th>997</th>\n",
       "      <td>Mccue</td>\n",
       "      <td>Daniel T</td>\n",
       "    </tr>\n",
       "    <tr>\n",
       "      <th>998</th>\n",
       "      <td>Larosa</td>\n",
       "      <td>John</td>\n",
       "    </tr>\n",
       "    <tr>\n",
       "      <th>999</th>\n",
       "      <td>Sanchez</td>\n",
       "      <td>Sam R</td>\n",
       "    </tr>\n",
       "  </tbody>\n",
       "</table>\n",
       "<p>1000 rows × 2 columns</p>\n",
       "</div>"
      ],
      "text/plain": [
       "              0         1\n",
       "0         Kirui  Geoffrey\n",
       "1          Rupp     Galen\n",
       "2         Osako    Suguru\n",
       "3        Biwott  Shadrack\n",
       "4        Chebet    Wilson\n",
       "..          ...       ...\n",
       "995      Larosa      Mark\n",
       "996  Williamson   Jerry A\n",
       "997       Mccue  Daniel T\n",
       "998      Larosa      John\n",
       "999     Sanchez     Sam R\n",
       "\n",
       "[1000 rows x 2 columns]"
      ]
     },
     "execution_count": 55,
     "metadata": {},
     "output_type": "execute_result"
    }
   ],
   "source": [
    "marathon.Name.str.split(', ', expand=True)"
   ]
  },
  {
   "cell_type": "code",
   "execution_count": 56,
   "id": "95eb4a92",
   "metadata": {},
   "outputs": [
    {
     "data": {
      "text/html": [
       "<div>\n",
       "<style scoped>\n",
       "    .dataframe tbody tr th:only-of-type {\n",
       "        vertical-align: middle;\n",
       "    }\n",
       "\n",
       "    .dataframe tbody tr th {\n",
       "        vertical-align: top;\n",
       "    }\n",
       "\n",
       "    .dataframe thead th {\n",
       "        text-align: right;\n",
       "    }\n",
       "</style>\n",
       "<table border=\"1\" class=\"dataframe\">\n",
       "  <thead>\n",
       "    <tr style=\"text-align: right;\">\n",
       "      <th></th>\n",
       "      <th>0</th>\n",
       "      <th>1</th>\n",
       "      <th>2</th>\n",
       "      <th>3</th>\n",
       "      <th>4</th>\n",
       "    </tr>\n",
       "  </thead>\n",
       "  <tbody>\n",
       "    <tr>\n",
       "      <th>0</th>\n",
       "      <td>Kirui,</td>\n",
       "      <td>Geoffrey</td>\n",
       "      <td>None</td>\n",
       "      <td>None</td>\n",
       "      <td>None</td>\n",
       "    </tr>\n",
       "    <tr>\n",
       "      <th>1</th>\n",
       "      <td>Rupp,</td>\n",
       "      <td>Galen</td>\n",
       "      <td>None</td>\n",
       "      <td>None</td>\n",
       "      <td>None</td>\n",
       "    </tr>\n",
       "    <tr>\n",
       "      <th>2</th>\n",
       "      <td>Osako,</td>\n",
       "      <td>Suguru</td>\n",
       "      <td>None</td>\n",
       "      <td>None</td>\n",
       "      <td>None</td>\n",
       "    </tr>\n",
       "    <tr>\n",
       "      <th>3</th>\n",
       "      <td>Biwott,</td>\n",
       "      <td>Shadrack</td>\n",
       "      <td>None</td>\n",
       "      <td>None</td>\n",
       "      <td>None</td>\n",
       "    </tr>\n",
       "    <tr>\n",
       "      <th>4</th>\n",
       "      <td>Chebet,</td>\n",
       "      <td>Wilson</td>\n",
       "      <td>None</td>\n",
       "      <td>None</td>\n",
       "      <td>None</td>\n",
       "    </tr>\n",
       "    <tr>\n",
       "      <th>...</th>\n",
       "      <td>...</td>\n",
       "      <td>...</td>\n",
       "      <td>...</td>\n",
       "      <td>...</td>\n",
       "      <td>...</td>\n",
       "    </tr>\n",
       "    <tr>\n",
       "      <th>995</th>\n",
       "      <td>Larosa,</td>\n",
       "      <td>Mark</td>\n",
       "      <td>None</td>\n",
       "      <td>None</td>\n",
       "      <td>None</td>\n",
       "    </tr>\n",
       "    <tr>\n",
       "      <th>996</th>\n",
       "      <td>Williamson,</td>\n",
       "      <td>Jerry</td>\n",
       "      <td>A</td>\n",
       "      <td>None</td>\n",
       "      <td>None</td>\n",
       "    </tr>\n",
       "    <tr>\n",
       "      <th>997</th>\n",
       "      <td>Mccue,</td>\n",
       "      <td>Daniel</td>\n",
       "      <td>T</td>\n",
       "      <td>None</td>\n",
       "      <td>None</td>\n",
       "    </tr>\n",
       "    <tr>\n",
       "      <th>998</th>\n",
       "      <td>Larosa,</td>\n",
       "      <td>John</td>\n",
       "      <td>None</td>\n",
       "      <td>None</td>\n",
       "      <td>None</td>\n",
       "    </tr>\n",
       "    <tr>\n",
       "      <th>999</th>\n",
       "      <td>Sanchez,</td>\n",
       "      <td>Sam</td>\n",
       "      <td>R</td>\n",
       "      <td>None</td>\n",
       "      <td>None</td>\n",
       "    </tr>\n",
       "  </tbody>\n",
       "</table>\n",
       "<p>1000 rows × 5 columns</p>\n",
       "</div>"
      ],
      "text/plain": [
       "               0         1     2     3     4\n",
       "0         Kirui,  Geoffrey  None  None  None\n",
       "1          Rupp,     Galen  None  None  None\n",
       "2         Osako,    Suguru  None  None  None\n",
       "3        Biwott,  Shadrack  None  None  None\n",
       "4        Chebet,    Wilson  None  None  None\n",
       "..           ...       ...   ...   ...   ...\n",
       "995      Larosa,      Mark  None  None  None\n",
       "996  Williamson,     Jerry     A  None  None\n",
       "997       Mccue,    Daniel     T  None  None\n",
       "998      Larosa,      John  None  None  None\n",
       "999     Sanchez,       Sam     R  None  None\n",
       "\n",
       "[1000 rows x 5 columns]"
      ]
     },
     "execution_count": 56,
     "metadata": {},
     "output_type": "execute_result"
    }
   ],
   "source": [
    "marathon.Name.str.split(expand=True)"
   ]
  },
  {
   "cell_type": "code",
   "execution_count": 57,
   "id": "57db9da7",
   "metadata": {},
   "outputs": [
    {
     "data": {
      "text/html": [
       "<div>\n",
       "<style scoped>\n",
       "    .dataframe tbody tr th:only-of-type {\n",
       "        vertical-align: middle;\n",
       "    }\n",
       "\n",
       "    .dataframe tbody tr th {\n",
       "        vertical-align: top;\n",
       "    }\n",
       "\n",
       "    .dataframe thead th {\n",
       "        text-align: right;\n",
       "    }\n",
       "</style>\n",
       "<table border=\"1\" class=\"dataframe\">\n",
       "  <thead>\n",
       "    <tr style=\"text-align: right;\">\n",
       "      <th></th>\n",
       "      <th>Name</th>\n",
       "      <th>Age</th>\n",
       "      <th>M/F</th>\n",
       "      <th>City</th>\n",
       "      <th>State</th>\n",
       "      <th>Country</th>\n",
       "      <th>Official Time</th>\n",
       "      <th>Overall</th>\n",
       "      <th>Gender</th>\n",
       "      <th>Years Ran</th>\n",
       "    </tr>\n",
       "  </thead>\n",
       "  <tbody>\n",
       "    <tr>\n",
       "      <th>203</th>\n",
       "      <td>Cifuentes Fetiva, Miguel Angel Sr.</td>\n",
       "      <td>38</td>\n",
       "      <td>M</td>\n",
       "      <td>Bogota</td>\n",
       "      <td>NaN</td>\n",
       "      <td>COL</td>\n",
       "      <td>2:40:46</td>\n",
       "      <td>204</td>\n",
       "      <td>182</td>\n",
       "      <td>2015</td>\n",
       "    </tr>\n",
       "    <tr>\n",
       "      <th>467</th>\n",
       "      <td>Martinez Solano, Juan Manuel Jr.</td>\n",
       "      <td>28</td>\n",
       "      <td>M</td>\n",
       "      <td>Bogota</td>\n",
       "      <td>NaN</td>\n",
       "      <td>COL</td>\n",
       "      <td>2:47:51</td>\n",
       "      <td>468</td>\n",
       "      <td>435</td>\n",
       "      <td>NaN</td>\n",
       "    </tr>\n",
       "    <tr>\n",
       "      <th>678</th>\n",
       "      <td>Melendez, Carlos Manuel M. Sr.</td>\n",
       "      <td>38</td>\n",
       "      <td>M</td>\n",
       "      <td>Quesada, San Carlos</td>\n",
       "      <td>NaN</td>\n",
       "      <td>CRC</td>\n",
       "      <td>2:51:45</td>\n",
       "      <td>679</td>\n",
       "      <td>639</td>\n",
       "      <td>NaN</td>\n",
       "    </tr>\n",
       "    <tr>\n",
       "      <th>733</th>\n",
       "      <td>Castano Gonzalez, Angel U. Sr.</td>\n",
       "      <td>41</td>\n",
       "      <td>M</td>\n",
       "      <td>Medellin</td>\n",
       "      <td>NaN</td>\n",
       "      <td>COL</td>\n",
       "      <td>2:52:35</td>\n",
       "      <td>734</td>\n",
       "      <td>691</td>\n",
       "      <td>NaN</td>\n",
       "    </tr>\n",
       "  </tbody>\n",
       "</table>\n",
       "</div>"
      ],
      "text/plain": [
       "                                   Name  Age M/F                 City State  \\\n",
       "203  Cifuentes Fetiva, Miguel Angel Sr.   38   M               Bogota   NaN   \n",
       "467    Martinez Solano, Juan Manuel Jr.   28   M               Bogota   NaN   \n",
       "678      Melendez, Carlos Manuel M. Sr.   38   M  Quesada, San Carlos   NaN   \n",
       "733      Castano Gonzalez, Angel U. Sr.   41   M             Medellin   NaN   \n",
       "\n",
       "    Country Official Time  Overall  Gender Years Ran  \n",
       "203     COL       2:40:46      204     182      2015  \n",
       "467     COL       2:47:51      468     435       NaN  \n",
       "678     CRC       2:51:45      679     639       NaN  \n",
       "733     COL       2:52:35      734     691       NaN  "
      ]
     },
     "execution_count": 57,
     "metadata": {},
     "output_type": "execute_result"
    }
   ],
   "source": [
    "marathon[marathon.Name.str.split(expand=True).count(axis=1) ==5]"
   ]
  },
  {
   "cell_type": "code",
   "execution_count": 58,
   "id": "9b7803a2",
   "metadata": {},
   "outputs": [
    {
     "data": {
      "text/html": [
       "<div>\n",
       "<style scoped>\n",
       "    .dataframe tbody tr th:only-of-type {\n",
       "        vertical-align: middle;\n",
       "    }\n",
       "\n",
       "    .dataframe tbody tr th {\n",
       "        vertical-align: top;\n",
       "    }\n",
       "\n",
       "    .dataframe thead th {\n",
       "        text-align: right;\n",
       "    }\n",
       "</style>\n",
       "<table border=\"1\" class=\"dataframe\">\n",
       "  <thead>\n",
       "    <tr style=\"text-align: right;\">\n",
       "      <th></th>\n",
       "      <th>0</th>\n",
       "      <th>1</th>\n",
       "    </tr>\n",
       "  </thead>\n",
       "  <tbody>\n",
       "    <tr>\n",
       "      <th>0</th>\n",
       "      <td>Kirui,</td>\n",
       "      <td>Geoffrey</td>\n",
       "    </tr>\n",
       "    <tr>\n",
       "      <th>1</th>\n",
       "      <td>Rupp,</td>\n",
       "      <td>Galen</td>\n",
       "    </tr>\n",
       "    <tr>\n",
       "      <th>2</th>\n",
       "      <td>Osako,</td>\n",
       "      <td>Suguru</td>\n",
       "    </tr>\n",
       "    <tr>\n",
       "      <th>3</th>\n",
       "      <td>Biwott,</td>\n",
       "      <td>Shadrack</td>\n",
       "    </tr>\n",
       "    <tr>\n",
       "      <th>4</th>\n",
       "      <td>Chebet,</td>\n",
       "      <td>Wilson</td>\n",
       "    </tr>\n",
       "    <tr>\n",
       "      <th>...</th>\n",
       "      <td>...</td>\n",
       "      <td>...</td>\n",
       "    </tr>\n",
       "    <tr>\n",
       "      <th>995</th>\n",
       "      <td>Larosa,</td>\n",
       "      <td>Mark</td>\n",
       "    </tr>\n",
       "    <tr>\n",
       "      <th>996</th>\n",
       "      <td>Williamson,</td>\n",
       "      <td>Jerry A</td>\n",
       "    </tr>\n",
       "    <tr>\n",
       "      <th>997</th>\n",
       "      <td>Mccue,</td>\n",
       "      <td>Daniel T</td>\n",
       "    </tr>\n",
       "    <tr>\n",
       "      <th>998</th>\n",
       "      <td>Larosa,</td>\n",
       "      <td>John</td>\n",
       "    </tr>\n",
       "    <tr>\n",
       "      <th>999</th>\n",
       "      <td>Sanchez,</td>\n",
       "      <td>Sam R</td>\n",
       "    </tr>\n",
       "  </tbody>\n",
       "</table>\n",
       "<p>1000 rows × 2 columns</p>\n",
       "</div>"
      ],
      "text/plain": [
       "               0         1\n",
       "0         Kirui,  Geoffrey\n",
       "1          Rupp,     Galen\n",
       "2         Osako,    Suguru\n",
       "3        Biwott,  Shadrack\n",
       "4        Chebet,    Wilson\n",
       "..           ...       ...\n",
       "995      Larosa,      Mark\n",
       "996  Williamson,   Jerry A\n",
       "997       Mccue,  Daniel T\n",
       "998      Larosa,      John\n",
       "999     Sanchez,     Sam R\n",
       "\n",
       "[1000 rows x 2 columns]"
      ]
     },
     "execution_count": 58,
     "metadata": {},
     "output_type": "execute_result"
    }
   ],
   "source": [
    "marathon.Name.str.split(expand=True, n=1)"
   ]
  },
  {
   "cell_type": "code",
   "execution_count": 59,
   "id": "c117b964",
   "metadata": {},
   "outputs": [],
   "source": [
    "marathon[['First Name', 'Last Name']] = marathon.Name.str.split(', ', expand=True)"
   ]
  },
  {
   "cell_type": "code",
   "execution_count": 60,
   "id": "8985a80b",
   "metadata": {},
   "outputs": [
    {
     "data": {
      "text/html": [
       "<div>\n",
       "<style scoped>\n",
       "    .dataframe tbody tr th:only-of-type {\n",
       "        vertical-align: middle;\n",
       "    }\n",
       "\n",
       "    .dataframe tbody tr th {\n",
       "        vertical-align: top;\n",
       "    }\n",
       "\n",
       "    .dataframe thead th {\n",
       "        text-align: right;\n",
       "    }\n",
       "</style>\n",
       "<table border=\"1\" class=\"dataframe\">\n",
       "  <thead>\n",
       "    <tr style=\"text-align: right;\">\n",
       "      <th></th>\n",
       "      <th>Name</th>\n",
       "      <th>Age</th>\n",
       "      <th>M/F</th>\n",
       "      <th>City</th>\n",
       "      <th>State</th>\n",
       "      <th>Country</th>\n",
       "      <th>Official Time</th>\n",
       "      <th>Overall</th>\n",
       "      <th>Gender</th>\n",
       "      <th>Years Ran</th>\n",
       "      <th>First Name</th>\n",
       "      <th>Last Name</th>\n",
       "    </tr>\n",
       "  </thead>\n",
       "  <tbody>\n",
       "    <tr>\n",
       "      <th>0</th>\n",
       "      <td>Kirui, Geoffrey</td>\n",
       "      <td>24</td>\n",
       "      <td>M</td>\n",
       "      <td>Keringet</td>\n",
       "      <td>NaN</td>\n",
       "      <td>KEN</td>\n",
       "      <td>2:09:37</td>\n",
       "      <td>1</td>\n",
       "      <td>1</td>\n",
       "      <td>NaN</td>\n",
       "      <td>Kirui</td>\n",
       "      <td>Geoffrey</td>\n",
       "    </tr>\n",
       "    <tr>\n",
       "      <th>1</th>\n",
       "      <td>Rupp, Galen</td>\n",
       "      <td>30</td>\n",
       "      <td>M</td>\n",
       "      <td>Portland</td>\n",
       "      <td>OR</td>\n",
       "      <td>USA</td>\n",
       "      <td>2:09:58</td>\n",
       "      <td>2</td>\n",
       "      <td>2</td>\n",
       "      <td>NaN</td>\n",
       "      <td>Rupp</td>\n",
       "      <td>Galen</td>\n",
       "    </tr>\n",
       "    <tr>\n",
       "      <th>2</th>\n",
       "      <td>Osako, Suguru</td>\n",
       "      <td>25</td>\n",
       "      <td>M</td>\n",
       "      <td>Machida-City</td>\n",
       "      <td>NaN</td>\n",
       "      <td>JPN</td>\n",
       "      <td>2:10:28</td>\n",
       "      <td>3</td>\n",
       "      <td>3</td>\n",
       "      <td>NaN</td>\n",
       "      <td>Osako</td>\n",
       "      <td>Suguru</td>\n",
       "    </tr>\n",
       "    <tr>\n",
       "      <th>3</th>\n",
       "      <td>Biwott, Shadrack</td>\n",
       "      <td>32</td>\n",
       "      <td>M</td>\n",
       "      <td>Mammoth Lakes</td>\n",
       "      <td>CA</td>\n",
       "      <td>USA</td>\n",
       "      <td>2:12:08</td>\n",
       "      <td>4</td>\n",
       "      <td>4</td>\n",
       "      <td>NaN</td>\n",
       "      <td>Biwott</td>\n",
       "      <td>Shadrack</td>\n",
       "    </tr>\n",
       "    <tr>\n",
       "      <th>4</th>\n",
       "      <td>Chebet, Wilson</td>\n",
       "      <td>31</td>\n",
       "      <td>M</td>\n",
       "      <td>Marakwet</td>\n",
       "      <td>NaN</td>\n",
       "      <td>KEN</td>\n",
       "      <td>2:12:35</td>\n",
       "      <td>5</td>\n",
       "      <td>5</td>\n",
       "      <td>2015</td>\n",
       "      <td>Chebet</td>\n",
       "      <td>Wilson</td>\n",
       "    </tr>\n",
       "  </tbody>\n",
       "</table>\n",
       "</div>"
      ],
      "text/plain": [
       "               Name  Age M/F           City State Country Official Time  \\\n",
       "0   Kirui, Geoffrey   24   M       Keringet   NaN     KEN       2:09:37   \n",
       "1       Rupp, Galen   30   M       Portland    OR     USA       2:09:58   \n",
       "2     Osako, Suguru   25   M   Machida-City   NaN     JPN       2:10:28   \n",
       "3  Biwott, Shadrack   32   M  Mammoth Lakes    CA     USA       2:12:08   \n",
       "4    Chebet, Wilson   31   M       Marakwet   NaN     KEN       2:12:35   \n",
       "\n",
       "   Overall  Gender Years Ran First Name Last Name  \n",
       "0        1       1       NaN      Kirui  Geoffrey  \n",
       "1        2       2       NaN       Rupp     Galen  \n",
       "2        3       3       NaN      Osako    Suguru  \n",
       "3        4       4       NaN     Biwott  Shadrack  \n",
       "4        5       5      2015     Chebet    Wilson  "
      ]
     },
     "execution_count": 60,
     "metadata": {},
     "output_type": "execute_result"
    }
   ],
   "source": [
    "marathon.head()"
   ]
  },
  {
   "cell_type": "markdown",
   "id": "6c438979",
   "metadata": {},
   "source": [
    "### Challenge 1"
   ]
  },
  {
   "cell_type": "code",
   "execution_count": 85,
   "id": "2f4515db",
   "metadata": {},
   "outputs": [
    {
     "data": {
      "text/plain": [
       "-1    988\n",
       " 0     12\n",
       "Name: Last Name, dtype: int64"
      ]
     },
     "execution_count": 85,
     "metadata": {},
     "output_type": "execute_result"
    }
   ],
   "source": [
    "# 1. How many runners in our dataset have 'James' as Last Name? \n",
    "(marathon['Last Name'] == 'James').sum()\n",
    "marathon['Last Name'].str.find('James').value_counts()"
   ]
  },
  {
   "cell_type": "code",
   "execution_count": 72,
   "id": "813b8deb",
   "metadata": {},
   "outputs": [
    {
     "data": {
      "text/html": [
       "<div>\n",
       "<style scoped>\n",
       "    .dataframe tbody tr th:only-of-type {\n",
       "        vertical-align: middle;\n",
       "    }\n",
       "\n",
       "    .dataframe tbody tr th {\n",
       "        vertical-align: top;\n",
       "    }\n",
       "\n",
       "    .dataframe thead th {\n",
       "        text-align: right;\n",
       "    }\n",
       "</style>\n",
       "<table border=\"1\" class=\"dataframe\">\n",
       "  <thead>\n",
       "    <tr style=\"text-align: right;\">\n",
       "      <th></th>\n",
       "      <th>0</th>\n",
       "      <th>1</th>\n",
       "      <th>2</th>\n",
       "      <th>3</th>\n",
       "    </tr>\n",
       "  </thead>\n",
       "  <tbody>\n",
       "    <tr>\n",
       "      <th>0</th>\n",
       "      <td>Keringet</td>\n",
       "      <td>None</td>\n",
       "      <td>None</td>\n",
       "      <td>None</td>\n",
       "    </tr>\n",
       "    <tr>\n",
       "      <th>1</th>\n",
       "      <td>Portland</td>\n",
       "      <td>None</td>\n",
       "      <td>None</td>\n",
       "      <td>None</td>\n",
       "    </tr>\n",
       "    <tr>\n",
       "      <th>2</th>\n",
       "      <td>Machida</td>\n",
       "      <td>City</td>\n",
       "      <td>None</td>\n",
       "      <td>None</td>\n",
       "    </tr>\n",
       "    <tr>\n",
       "      <th>3</th>\n",
       "      <td>Mammoth Lakes</td>\n",
       "      <td>None</td>\n",
       "      <td>None</td>\n",
       "      <td>None</td>\n",
       "    </tr>\n",
       "    <tr>\n",
       "      <th>4</th>\n",
       "      <td>Marakwet</td>\n",
       "      <td>None</td>\n",
       "      <td>None</td>\n",
       "      <td>None</td>\n",
       "    </tr>\n",
       "    <tr>\n",
       "      <th>...</th>\n",
       "      <td>...</td>\n",
       "      <td>...</td>\n",
       "      <td>...</td>\n",
       "      <td>...</td>\n",
       "    </tr>\n",
       "    <tr>\n",
       "      <th>995</th>\n",
       "      <td>North Andover</td>\n",
       "      <td>None</td>\n",
       "      <td>None</td>\n",
       "      <td>None</td>\n",
       "    </tr>\n",
       "    <tr>\n",
       "      <th>996</th>\n",
       "      <td>Raleigh</td>\n",
       "      <td>None</td>\n",
       "      <td>None</td>\n",
       "      <td>None</td>\n",
       "    </tr>\n",
       "    <tr>\n",
       "      <th>997</th>\n",
       "      <td>Arlington</td>\n",
       "      <td>None</td>\n",
       "      <td>None</td>\n",
       "      <td>None</td>\n",
       "    </tr>\n",
       "    <tr>\n",
       "      <th>998</th>\n",
       "      <td>Danbury</td>\n",
       "      <td>None</td>\n",
       "      <td>None</td>\n",
       "      <td>None</td>\n",
       "    </tr>\n",
       "    <tr>\n",
       "      <th>999</th>\n",
       "      <td>Santa Fe</td>\n",
       "      <td>None</td>\n",
       "      <td>None</td>\n",
       "      <td>None</td>\n",
       "    </tr>\n",
       "  </tbody>\n",
       "</table>\n",
       "<p>1000 rows × 4 columns</p>\n",
       "</div>"
      ],
      "text/plain": [
       "                 0     1     2     3\n",
       "0         Keringet  None  None  None\n",
       "1         Portland  None  None  None\n",
       "2          Machida  City  None  None\n",
       "3    Mammoth Lakes  None  None  None\n",
       "4         Marakwet  None  None  None\n",
       "..             ...   ...   ...   ...\n",
       "995  North Andover  None  None  None\n",
       "996        Raleigh  None  None  None\n",
       "997      Arlington  None  None  None\n",
       "998        Danbury  None  None  None\n",
       "999       Santa Fe  None  None  None\n",
       "\n",
       "[1000 rows x 4 columns]"
      ]
     },
     "execution_count": 72,
     "metadata": {},
     "output_type": "execute_result"
    }
   ],
   "source": [
    "# 2. Split all City names in dataset by '-', \n",
    "# create a df containing each split component\n",
    "marathon.City.str.split('-',expand=True)"
   ]
  },
  {
   "cell_type": "code",
   "execution_count": 86,
   "id": "268a2cb6",
   "metadata": {},
   "outputs": [
    {
     "data": {
      "text/plain": [
       "2                    Machida-City\n",
       "35                 Sao Paulo - Sp\n",
       "188                  Baie-St-Paul\n",
       "201            Houghton-Le-Spring\n",
       "371          Boulogne-Billancourt\n",
       "420                    Mont-Royal\n",
       "585                Gif-Sur-Yvette\n",
       "615        Fossambault-Sur-Le-Lac\n",
       "724         Wiesbaden-Breckenheim\n",
       "727                    Saint-Tite\n",
       "794                   Marica - Rj\n",
       "820    Sainte-Catherine-De-Hatley\n",
       "830                    Pont-Rouge\n",
       "Name: City, dtype: object"
      ]
     },
     "execution_count": 86,
     "metadata": {},
     "output_type": "execute_result"
    }
   ],
   "source": [
    "# 3. How many in the marathon df have more than 1 component?\n",
    "# which city are they? \n",
    "marathon[marathon.City.str.split('-',expand=True).count(axis=1)>1].City"
   ]
  },
  {
   "cell_type": "markdown",
   "id": "53958b5a",
   "metadata": {},
   "source": [
    "### Slicing Substring"
   ]
  },
  {
   "cell_type": "code",
   "execution_count": 87,
   "id": "3ad7d16f",
   "metadata": {},
   "outputs": [
    {
     "data": {
      "text/plain": [
       "'Welcome to the text manipulation section'"
      ]
     },
     "execution_count": 87,
     "metadata": {},
     "output_type": "execute_result"
    }
   ],
   "source": [
    "s"
   ]
  },
  {
   "cell_type": "code",
   "execution_count": 93,
   "id": "59edbb31",
   "metadata": {},
   "outputs": [
    {
     "data": {
      "text/plain": [
       "True"
      ]
     },
     "execution_count": 93,
     "metadata": {},
     "output_type": "execute_result"
    }
   ],
   "source": [
    "s[slice(0, 7, 1)] == s[slice(7)]"
   ]
  },
  {
   "cell_type": "code",
   "execution_count": 94,
   "id": "66951878",
   "metadata": {},
   "outputs": [
    {
     "data": {
      "text/plain": [
       "'Wloe'"
      ]
     },
     "execution_count": 94,
     "metadata": {},
     "output_type": "execute_result"
    }
   ],
   "source": [
    "s[0:7:2]"
   ]
  },
  {
   "cell_type": "code",
   "execution_count": 95,
   "id": "b84408b5",
   "metadata": {},
   "outputs": [
    {
     "data": {
      "text/plain": [
       "0      KE\n",
       "1      US\n",
       "2      JP\n",
       "3      US\n",
       "4      KE\n",
       "       ..\n",
       "995    US\n",
       "996    US\n",
       "997    US\n",
       "998    US\n",
       "999    US\n",
       "Name: Country, Length: 1000, dtype: object"
      ]
     },
     "execution_count": 95,
     "metadata": {},
     "output_type": "execute_result"
    }
   ],
   "source": [
    "marathon.Country.str.slice(0,2,1)"
   ]
  },
  {
   "cell_type": "code",
   "execution_count": 96,
   "id": "95d9a816",
   "metadata": {},
   "outputs": [
    {
     "data": {
      "text/plain": [
       "0      EN\n",
       "1      SA\n",
       "2      PN\n",
       "3      SA\n",
       "4      EN\n",
       "       ..\n",
       "995    SA\n",
       "996    SA\n",
       "997    SA\n",
       "998    SA\n",
       "999    SA\n",
       "Name: Country, Length: 1000, dtype: object"
      ]
     },
     "execution_count": 96,
     "metadata": {},
     "output_type": "execute_result"
    }
   ],
   "source": [
    "marathon.Country.str.slice(-2,None,1)"
   ]
  },
  {
   "cell_type": "markdown",
   "id": "e4be3884",
   "metadata": {},
   "source": [
    "### Masking with String Methods"
   ]
  },
  {
   "cell_type": "code",
   "execution_count": 97,
   "id": "67861c42",
   "metadata": {},
   "outputs": [
    {
     "data": {
      "text/plain": [
       "0      False\n",
       "1      False\n",
       "2      False\n",
       "3      False\n",
       "4      False\n",
       "       ...  \n",
       "995    False\n",
       "996    False\n",
       "997    False\n",
       "998    False\n",
       "999    False\n",
       "Name: Country, Length: 1000, dtype: bool"
      ]
     },
     "execution_count": 97,
     "metadata": {},
     "output_type": "execute_result"
    }
   ],
   "source": [
    "marathon.Country == 'ITA'"
   ]
  },
  {
   "cell_type": "code",
   "execution_count": 98,
   "id": "8ee052c9",
   "metadata": {},
   "outputs": [
    {
     "data": {
      "text/plain": [
       "0      False\n",
       "1      False\n",
       "2      False\n",
       "3      False\n",
       "4      False\n",
       "       ...  \n",
       "995    False\n",
       "996    False\n",
       "997    False\n",
       "998    False\n",
       "999    False\n",
       "Name: Country, Length: 1000, dtype: bool"
      ]
     },
     "execution_count": 98,
     "metadata": {},
     "output_type": "execute_result"
    }
   ],
   "source": [
    "marathon.Country.str.match('ITA')"
   ]
  },
  {
   "cell_type": "code",
   "execution_count": 99,
   "id": "297dc89f",
   "metadata": {},
   "outputs": [
    {
     "data": {
      "text/html": [
       "<div>\n",
       "<style scoped>\n",
       "    .dataframe tbody tr th:only-of-type {\n",
       "        vertical-align: middle;\n",
       "    }\n",
       "\n",
       "    .dataframe tbody tr th {\n",
       "        vertical-align: top;\n",
       "    }\n",
       "\n",
       "    .dataframe thead th {\n",
       "        text-align: right;\n",
       "    }\n",
       "</style>\n",
       "<table border=\"1\" class=\"dataframe\">\n",
       "  <thead>\n",
       "    <tr style=\"text-align: right;\">\n",
       "      <th></th>\n",
       "      <th>Name</th>\n",
       "      <th>Age</th>\n",
       "      <th>M/F</th>\n",
       "      <th>City</th>\n",
       "      <th>State</th>\n",
       "      <th>Country</th>\n",
       "      <th>Official Time</th>\n",
       "      <th>Overall</th>\n",
       "      <th>Gender</th>\n",
       "      <th>Years Ran</th>\n",
       "      <th>First Name</th>\n",
       "      <th>Last Name</th>\n",
       "    </tr>\n",
       "  </thead>\n",
       "  <tbody>\n",
       "    <tr>\n",
       "      <th>56</th>\n",
       "      <td>Boudalia, Said Sr.</td>\n",
       "      <td>48</td>\n",
       "      <td>M</td>\n",
       "      <td>Belluno</td>\n",
       "      <td>NaN</td>\n",
       "      <td>ITA</td>\n",
       "      <td>2:30:11</td>\n",
       "      <td>57</td>\n",
       "      <td>51</td>\n",
       "      <td>2015:2016</td>\n",
       "      <td>Boudalia</td>\n",
       "      <td>Said Sr.</td>\n",
       "    </tr>\n",
       "    <tr>\n",
       "      <th>156</th>\n",
       "      <td>Achmuller, Hermann</td>\n",
       "      <td>46</td>\n",
       "      <td>M</td>\n",
       "      <td>Brixen</td>\n",
       "      <td>NaN</td>\n",
       "      <td>ITA</td>\n",
       "      <td>2:38:40</td>\n",
       "      <td>157</td>\n",
       "      <td>139</td>\n",
       "      <td>NaN</td>\n",
       "      <td>Achmuller</td>\n",
       "      <td>Hermann</td>\n",
       "    </tr>\n",
       "    <tr>\n",
       "      <th>792</th>\n",
       "      <td>Consolandi, Paolo Giorgio</td>\n",
       "      <td>39</td>\n",
       "      <td>M</td>\n",
       "      <td>Pessano Con Bornago (mi)</td>\n",
       "      <td>NaN</td>\n",
       "      <td>ITA</td>\n",
       "      <td>2:53:29</td>\n",
       "      <td>793</td>\n",
       "      <td>747</td>\n",
       "      <td>NaN</td>\n",
       "      <td>Consolandi</td>\n",
       "      <td>Paolo Giorgio</td>\n",
       "    </tr>\n",
       "    <tr>\n",
       "      <th>922</th>\n",
       "      <td>Zompanti, Alessandro</td>\n",
       "      <td>48</td>\n",
       "      <td>M</td>\n",
       "      <td>Fiuggi Fr</td>\n",
       "      <td>NaN</td>\n",
       "      <td>ITA</td>\n",
       "      <td>2:55:12</td>\n",
       "      <td>923</td>\n",
       "      <td>872</td>\n",
       "      <td>NaN</td>\n",
       "      <td>Zompanti</td>\n",
       "      <td>Alessandro</td>\n",
       "    </tr>\n",
       "  </tbody>\n",
       "</table>\n",
       "</div>"
      ],
      "text/plain": [
       "                          Name  Age M/F                      City State  \\\n",
       "56          Boudalia, Said Sr.   48   M                   Belluno   NaN   \n",
       "156         Achmuller, Hermann   46   M                    Brixen   NaN   \n",
       "792  Consolandi, Paolo Giorgio   39   M  Pessano Con Bornago (mi)   NaN   \n",
       "922       Zompanti, Alessandro   48   M                 Fiuggi Fr   NaN   \n",
       "\n",
       "    Country Official Time  Overall  Gender  Years Ran  First Name  \\\n",
       "56      ITA       2:30:11       57      51  2015:2016    Boudalia   \n",
       "156     ITA       2:38:40      157     139        NaN   Achmuller   \n",
       "792     ITA       2:53:29      793     747        NaN  Consolandi   \n",
       "922     ITA       2:55:12      923     872        NaN    Zompanti   \n",
       "\n",
       "         Last Name  \n",
       "56        Said Sr.  \n",
       "156        Hermann  \n",
       "792  Paolo Giorgio  \n",
       "922     Alessandro  "
      ]
     },
     "execution_count": 99,
     "metadata": {},
     "output_type": "execute_result"
    }
   ],
   "source": [
    "marathon.loc[marathon.Country.str.match('ITA')]"
   ]
  },
  {
   "cell_type": "code",
   "execution_count": 104,
   "id": "d867aafc",
   "metadata": {},
   "outputs": [],
   "source": [
    "# HOW ABOUT ALL THE 'will' s? \n",
    "wills = marathon.Name.str.contains('Will')"
   ]
  },
  {
   "cell_type": "code",
   "execution_count": 105,
   "id": "f324721c",
   "metadata": {},
   "outputs": [],
   "source": [
    "forty_five_plus = marathon.Age>=45"
   ]
  },
  {
   "cell_type": "code",
   "execution_count": 106,
   "id": "8b1e17d6",
   "metadata": {},
   "outputs": [
    {
     "data": {
      "text/html": [
       "<div>\n",
       "<style scoped>\n",
       "    .dataframe tbody tr th:only-of-type {\n",
       "        vertical-align: middle;\n",
       "    }\n",
       "\n",
       "    .dataframe tbody tr th {\n",
       "        vertical-align: top;\n",
       "    }\n",
       "\n",
       "    .dataframe thead th {\n",
       "        text-align: right;\n",
       "    }\n",
       "</style>\n",
       "<table border=\"1\" class=\"dataframe\">\n",
       "  <thead>\n",
       "    <tr style=\"text-align: right;\">\n",
       "      <th></th>\n",
       "      <th>Name</th>\n",
       "      <th>Age</th>\n",
       "      <th>M/F</th>\n",
       "      <th>City</th>\n",
       "      <th>State</th>\n",
       "      <th>Country</th>\n",
       "      <th>Official Time</th>\n",
       "      <th>Overall</th>\n",
       "      <th>Gender</th>\n",
       "      <th>Years Ran</th>\n",
       "      <th>First Name</th>\n",
       "      <th>Last Name</th>\n",
       "    </tr>\n",
       "  </thead>\n",
       "  <tbody>\n",
       "    <tr>\n",
       "      <th>93</th>\n",
       "      <td>Vanos, William</td>\n",
       "      <td>45</td>\n",
       "      <td>M</td>\n",
       "      <td>Orlando</td>\n",
       "      <td>FL</td>\n",
       "      <td>USA</td>\n",
       "      <td>2:34:40</td>\n",
       "      <td>94</td>\n",
       "      <td>84</td>\n",
       "      <td>NaN</td>\n",
       "      <td>Vanos</td>\n",
       "      <td>William</td>\n",
       "    </tr>\n",
       "    <tr>\n",
       "      <th>526</th>\n",
       "      <td>Swenson, Will</td>\n",
       "      <td>45</td>\n",
       "      <td>M</td>\n",
       "      <td>Andover</td>\n",
       "      <td>MA</td>\n",
       "      <td>USA</td>\n",
       "      <td>2:49:10</td>\n",
       "      <td>527</td>\n",
       "      <td>490</td>\n",
       "      <td>2015:2016</td>\n",
       "      <td>Swenson</td>\n",
       "      <td>Will</td>\n",
       "    </tr>\n",
       "    <tr>\n",
       "      <th>814</th>\n",
       "      <td>Williamson, David</td>\n",
       "      <td>49</td>\n",
       "      <td>M</td>\n",
       "      <td>Sutton</td>\n",
       "      <td>NaN</td>\n",
       "      <td>GBR</td>\n",
       "      <td>2:53:46</td>\n",
       "      <td>815</td>\n",
       "      <td>768</td>\n",
       "      <td>NaN</td>\n",
       "      <td>Williamson</td>\n",
       "      <td>David</td>\n",
       "    </tr>\n",
       "    <tr>\n",
       "      <th>892</th>\n",
       "      <td>Rivera, Will</td>\n",
       "      <td>46</td>\n",
       "      <td>M</td>\n",
       "      <td>Elizabethtown</td>\n",
       "      <td>KY</td>\n",
       "      <td>USA</td>\n",
       "      <td>2:54:53</td>\n",
       "      <td>893</td>\n",
       "      <td>843</td>\n",
       "      <td>NaN</td>\n",
       "      <td>Rivera</td>\n",
       "      <td>Will</td>\n",
       "    </tr>\n",
       "  </tbody>\n",
       "</table>\n",
       "</div>"
      ],
      "text/plain": [
       "                  Name  Age M/F           City State Country Official Time  \\\n",
       "93      Vanos, William   45   M        Orlando    FL     USA       2:34:40   \n",
       "526      Swenson, Will   45   M        Andover    MA     USA       2:49:10   \n",
       "814  Williamson, David   49   M         Sutton   NaN     GBR       2:53:46   \n",
       "892       Rivera, Will   46   M  Elizabethtown    KY     USA       2:54:53   \n",
       "\n",
       "     Overall  Gender  Years Ran  First Name Last Name  \n",
       "93        94      84        NaN       Vanos   William  \n",
       "526      527     490  2015:2016     Swenson      Will  \n",
       "814      815     768        NaN  Williamson     David  \n",
       "892      893     843        NaN      Rivera      Will  "
      ]
     },
     "execution_count": 106,
     "metadata": {},
     "output_type": "execute_result"
    }
   ],
   "source": [
    "marathon.loc[wills & forty_five_plus]"
   ]
  },
  {
   "cell_type": "code",
   "execution_count": 107,
   "id": "0400a9a6",
   "metadata": {},
   "outputs": [
    {
     "data": {
      "text/plain": [
       "704    59\n",
       "648    57\n",
       "326    56\n",
       "370    56\n",
       "563    55\n",
       "       ..\n",
       "367    44\n",
       "391    44\n",
       "475    44\n",
       "540    44\n",
       "614    44\n",
       "Name: Age, Length: 100, dtype: int64"
      ]
     },
     "execution_count": 107,
     "metadata": {},
     "output_type": "execute_result"
    }
   ],
   "source": [
    "marathon.Age.nlargest(100)"
   ]
  },
  {
   "cell_type": "code",
   "execution_count": 108,
   "id": "d60e1186",
   "metadata": {},
   "outputs": [
    {
     "data": {
      "text/plain": [
       "<AxesSubplot:>"
      ]
     },
     "execution_count": 108,
     "metadata": {},
     "output_type": "execute_result"
    },
    {
     "data": {
      "image/png": "[encoded data removed]",
      "text/plain": [
       "<Figure size 432x288 with 1 Axes>"
      ]
     },
     "metadata": {
      "needs_background": "light"
     },
     "output_type": "display_data"
    }
   ],
   "source": [
    "marathon.Age.hist()"
   ]
  },
  {
   "cell_type": "markdown",
   "id": "ac18a20e",
   "metadata": {},
   "source": [
    "### Parsing indicators with get_dummies()"
   ]
  },
  {
   "cell_type": "code",
   "execution_count": 109,
   "id": "a7c5584d",
   "metadata": {},
   "outputs": [
    {
     "data": {
      "text/html": [
       "<div>\n",
       "<style scoped>\n",
       "    .dataframe tbody tr th:only-of-type {\n",
       "        vertical-align: middle;\n",
       "    }\n",
       "\n",
       "    .dataframe tbody tr th {\n",
       "        vertical-align: top;\n",
       "    }\n",
       "\n",
       "    .dataframe thead th {\n",
       "        text-align: right;\n",
       "    }\n",
       "</style>\n",
       "<table border=\"1\" class=\"dataframe\">\n",
       "  <thead>\n",
       "    <tr style=\"text-align: right;\">\n",
       "      <th></th>\n",
       "      <th>Name</th>\n",
       "      <th>Age</th>\n",
       "      <th>M/F</th>\n",
       "      <th>City</th>\n",
       "      <th>State</th>\n",
       "      <th>Country</th>\n",
       "      <th>Official Time</th>\n",
       "      <th>Overall</th>\n",
       "      <th>Gender</th>\n",
       "      <th>Years Ran</th>\n",
       "      <th>First Name</th>\n",
       "      <th>Last Name</th>\n",
       "    </tr>\n",
       "  </thead>\n",
       "  <tbody>\n",
       "    <tr>\n",
       "      <th>0</th>\n",
       "      <td>Kirui, Geoffrey</td>\n",
       "      <td>24</td>\n",
       "      <td>M</td>\n",
       "      <td>Keringet</td>\n",
       "      <td>NaN</td>\n",
       "      <td>KEN</td>\n",
       "      <td>2:09:37</td>\n",
       "      <td>1</td>\n",
       "      <td>1</td>\n",
       "      <td>NaN</td>\n",
       "      <td>Kirui</td>\n",
       "      <td>Geoffrey</td>\n",
       "    </tr>\n",
       "    <tr>\n",
       "      <th>1</th>\n",
       "      <td>Rupp, Galen</td>\n",
       "      <td>30</td>\n",
       "      <td>M</td>\n",
       "      <td>Portland</td>\n",
       "      <td>OR</td>\n",
       "      <td>USA</td>\n",
       "      <td>2:09:58</td>\n",
       "      <td>2</td>\n",
       "      <td>2</td>\n",
       "      <td>NaN</td>\n",
       "      <td>Rupp</td>\n",
       "      <td>Galen</td>\n",
       "    </tr>\n",
       "    <tr>\n",
       "      <th>2</th>\n",
       "      <td>Osako, Suguru</td>\n",
       "      <td>25</td>\n",
       "      <td>M</td>\n",
       "      <td>Machida-City</td>\n",
       "      <td>NaN</td>\n",
       "      <td>JPN</td>\n",
       "      <td>2:10:28</td>\n",
       "      <td>3</td>\n",
       "      <td>3</td>\n",
       "      <td>NaN</td>\n",
       "      <td>Osako</td>\n",
       "      <td>Suguru</td>\n",
       "    </tr>\n",
       "    <tr>\n",
       "      <th>3</th>\n",
       "      <td>Biwott, Shadrack</td>\n",
       "      <td>32</td>\n",
       "      <td>M</td>\n",
       "      <td>Mammoth Lakes</td>\n",
       "      <td>CA</td>\n",
       "      <td>USA</td>\n",
       "      <td>2:12:08</td>\n",
       "      <td>4</td>\n",
       "      <td>4</td>\n",
       "      <td>NaN</td>\n",
       "      <td>Biwott</td>\n",
       "      <td>Shadrack</td>\n",
       "    </tr>\n",
       "    <tr>\n",
       "      <th>4</th>\n",
       "      <td>Chebet, Wilson</td>\n",
       "      <td>31</td>\n",
       "      <td>M</td>\n",
       "      <td>Marakwet</td>\n",
       "      <td>NaN</td>\n",
       "      <td>KEN</td>\n",
       "      <td>2:12:35</td>\n",
       "      <td>5</td>\n",
       "      <td>5</td>\n",
       "      <td>2015</td>\n",
       "      <td>Chebet</td>\n",
       "      <td>Wilson</td>\n",
       "    </tr>\n",
       "  </tbody>\n",
       "</table>\n",
       "</div>"
      ],
      "text/plain": [
       "               Name  Age M/F           City State Country Official Time  \\\n",
       "0   Kirui, Geoffrey   24   M       Keringet   NaN     KEN       2:09:37   \n",
       "1       Rupp, Galen   30   M       Portland    OR     USA       2:09:58   \n",
       "2     Osako, Suguru   25   M   Machida-City   NaN     JPN       2:10:28   \n",
       "3  Biwott, Shadrack   32   M  Mammoth Lakes    CA     USA       2:12:08   \n",
       "4    Chebet, Wilson   31   M       Marakwet   NaN     KEN       2:12:35   \n",
       "\n",
       "   Overall  Gender Years Ran First Name Last Name  \n",
       "0        1       1       NaN      Kirui  Geoffrey  \n",
       "1        2       2       NaN       Rupp     Galen  \n",
       "2        3       3       NaN      Osako    Suguru  \n",
       "3        4       4       NaN     Biwott  Shadrack  \n",
       "4        5       5      2015     Chebet    Wilson  "
      ]
     },
     "execution_count": 109,
     "metadata": {},
     "output_type": "execute_result"
    }
   ],
   "source": [
    "marathon.head()"
   ]
  },
  {
   "cell_type": "code",
   "execution_count": 110,
   "id": "98af81ec",
   "metadata": {},
   "outputs": [
    {
     "data": {
      "text/html": [
       "<div>\n",
       "<style scoped>\n",
       "    .dataframe tbody tr th:only-of-type {\n",
       "        vertical-align: middle;\n",
       "    }\n",
       "\n",
       "    .dataframe tbody tr th {\n",
       "        vertical-align: top;\n",
       "    }\n",
       "\n",
       "    .dataframe thead th {\n",
       "        text-align: right;\n",
       "    }\n",
       "</style>\n",
       "<table border=\"1\" class=\"dataframe\">\n",
       "  <thead>\n",
       "    <tr style=\"text-align: right;\">\n",
       "      <th></th>\n",
       "      <th>Name</th>\n",
       "      <th>Age</th>\n",
       "      <th>M/F</th>\n",
       "      <th>City</th>\n",
       "      <th>State</th>\n",
       "      <th>Country</th>\n",
       "      <th>Official Time</th>\n",
       "      <th>Overall</th>\n",
       "      <th>Gender</th>\n",
       "      <th>Years Ran</th>\n",
       "      <th>First Name</th>\n",
       "      <th>Last Name</th>\n",
       "    </tr>\n",
       "  </thead>\n",
       "  <tbody>\n",
       "    <tr>\n",
       "      <th>4</th>\n",
       "      <td>Chebet, Wilson</td>\n",
       "      <td>31</td>\n",
       "      <td>M</td>\n",
       "      <td>Marakwet</td>\n",
       "      <td>NaN</td>\n",
       "      <td>KEN</td>\n",
       "      <td>2:12:35</td>\n",
       "      <td>5</td>\n",
       "      <td>5</td>\n",
       "      <td>2015</td>\n",
       "      <td>Chebet</td>\n",
       "      <td>Wilson</td>\n",
       "    </tr>\n",
       "    <tr>\n",
       "      <th>12</th>\n",
       "      <td>Keflezighi, Meb</td>\n",
       "      <td>41</td>\n",
       "      <td>M</td>\n",
       "      <td>San Diego</td>\n",
       "      <td>CA</td>\n",
       "      <td>USA</td>\n",
       "      <td>2:17:00</td>\n",
       "      <td>13</td>\n",
       "      <td>13</td>\n",
       "      <td>2015</td>\n",
       "      <td>Keflezighi</td>\n",
       "      <td>Meb</td>\n",
       "    </tr>\n",
       "    <tr>\n",
       "      <th>13</th>\n",
       "      <td>Nyasango, Cutbert</td>\n",
       "      <td>34</td>\n",
       "      <td>M</td>\n",
       "      <td>Harara</td>\n",
       "      <td>NaN</td>\n",
       "      <td>ZIM</td>\n",
       "      <td>2:17:40</td>\n",
       "      <td>14</td>\n",
       "      <td>14</td>\n",
       "      <td>2016</td>\n",
       "      <td>Nyasango</td>\n",
       "      <td>Cutbert</td>\n",
       "    </tr>\n",
       "    <tr>\n",
       "      <th>14</th>\n",
       "      <td>Korir, Wesley</td>\n",
       "      <td>34</td>\n",
       "      <td>M</td>\n",
       "      <td>Kitale</td>\n",
       "      <td>NaN</td>\n",
       "      <td>KEN</td>\n",
       "      <td>2:18:14</td>\n",
       "      <td>15</td>\n",
       "      <td>15</td>\n",
       "      <td>2015:2016</td>\n",
       "      <td>Korir</td>\n",
       "      <td>Wesley</td>\n",
       "    </tr>\n",
       "    <tr>\n",
       "      <th>29</th>\n",
       "      <td>Maravilla, Jorge</td>\n",
       "      <td>39</td>\n",
       "      <td>M</td>\n",
       "      <td>Mill Valley</td>\n",
       "      <td>CA</td>\n",
       "      <td>USA</td>\n",
       "      <td>2:24:27</td>\n",
       "      <td>30</td>\n",
       "      <td>27</td>\n",
       "      <td>2016</td>\n",
       "      <td>Maravilla</td>\n",
       "      <td>Jorge</td>\n",
       "    </tr>\n",
       "    <tr>\n",
       "      <th>...</th>\n",
       "      <td>...</td>\n",
       "      <td>...</td>\n",
       "      <td>...</td>\n",
       "      <td>...</td>\n",
       "      <td>...</td>\n",
       "      <td>...</td>\n",
       "      <td>...</td>\n",
       "      <td>...</td>\n",
       "      <td>...</td>\n",
       "      <td>...</td>\n",
       "      <td>...</td>\n",
       "      <td>...</td>\n",
       "    </tr>\n",
       "    <tr>\n",
       "      <th>986</th>\n",
       "      <td>Bretz, Virgil</td>\n",
       "      <td>44</td>\n",
       "      <td>M</td>\n",
       "      <td>Mt. Kisco</td>\n",
       "      <td>NY</td>\n",
       "      <td>USA</td>\n",
       "      <td>2:56:02</td>\n",
       "      <td>987</td>\n",
       "      <td>931</td>\n",
       "      <td>2015:2016</td>\n",
       "      <td>Bretz</td>\n",
       "      <td>Virgil</td>\n",
       "    </tr>\n",
       "    <tr>\n",
       "      <th>987</th>\n",
       "      <td>Cucuzzella, Mark</td>\n",
       "      <td>50</td>\n",
       "      <td>M</td>\n",
       "      <td>Shepherdstown</td>\n",
       "      <td>WV</td>\n",
       "      <td>USA</td>\n",
       "      <td>2:56:03</td>\n",
       "      <td>988</td>\n",
       "      <td>932</td>\n",
       "      <td>2016</td>\n",
       "      <td>Cucuzzella</td>\n",
       "      <td>Mark</td>\n",
       "    </tr>\n",
       "    <tr>\n",
       "      <th>988</th>\n",
       "      <td>Carron, John B</td>\n",
       "      <td>46</td>\n",
       "      <td>M</td>\n",
       "      <td>Irvington</td>\n",
       "      <td>NY</td>\n",
       "      <td>USA</td>\n",
       "      <td>2:56:03</td>\n",
       "      <td>989</td>\n",
       "      <td>933</td>\n",
       "      <td>2016</td>\n",
       "      <td>Carron</td>\n",
       "      <td>John B</td>\n",
       "    </tr>\n",
       "    <tr>\n",
       "      <th>995</th>\n",
       "      <td>Larosa, Mark</td>\n",
       "      <td>38</td>\n",
       "      <td>M</td>\n",
       "      <td>North Andover</td>\n",
       "      <td>MA</td>\n",
       "      <td>USA</td>\n",
       "      <td>2:56:06</td>\n",
       "      <td>996</td>\n",
       "      <td>940</td>\n",
       "      <td>2015:2016</td>\n",
       "      <td>Larosa</td>\n",
       "      <td>Mark</td>\n",
       "    </tr>\n",
       "    <tr>\n",
       "      <th>996</th>\n",
       "      <td>Williamson, Jerry A</td>\n",
       "      <td>43</td>\n",
       "      <td>M</td>\n",
       "      <td>Raleigh</td>\n",
       "      <td>NC</td>\n",
       "      <td>USA</td>\n",
       "      <td>2:56:06</td>\n",
       "      <td>997</td>\n",
       "      <td>941</td>\n",
       "      <td>2015</td>\n",
       "      <td>Williamson</td>\n",
       "      <td>Jerry A</td>\n",
       "    </tr>\n",
       "  </tbody>\n",
       "</table>\n",
       "<p>315 rows × 12 columns</p>\n",
       "</div>"
      ],
      "text/plain": [
       "                    Name  Age M/F           City State Country Official Time  \\\n",
       "4         Chebet, Wilson   31   M       Marakwet   NaN     KEN       2:12:35   \n",
       "12       Keflezighi, Meb   41   M      San Diego    CA     USA       2:17:00   \n",
       "13     Nyasango, Cutbert   34   M         Harara   NaN     ZIM       2:17:40   \n",
       "14         Korir, Wesley   34   M         Kitale   NaN     KEN       2:18:14   \n",
       "29      Maravilla, Jorge   39   M    Mill Valley    CA     USA       2:24:27   \n",
       "..                   ...  ...  ..            ...   ...     ...           ...   \n",
       "986        Bretz, Virgil   44   M      Mt. Kisco    NY     USA       2:56:02   \n",
       "987     Cucuzzella, Mark   50   M  Shepherdstown    WV     USA       2:56:03   \n",
       "988       Carron, John B   46   M      Irvington    NY     USA       2:56:03   \n",
       "995         Larosa, Mark   38   M  North Andover    MA     USA       2:56:06   \n",
       "996  Williamson, Jerry A   43   M        Raleigh    NC     USA       2:56:06   \n",
       "\n",
       "     Overall  Gender  Years Ran  First Name Last Name  \n",
       "4          5       5       2015      Chebet    Wilson  \n",
       "12        13      13       2015  Keflezighi       Meb  \n",
       "13        14      14       2016    Nyasango   Cutbert  \n",
       "14        15      15  2015:2016       Korir    Wesley  \n",
       "29        30      27       2016   Maravilla     Jorge  \n",
       "..       ...     ...        ...         ...       ...  \n",
       "986      987     931  2015:2016       Bretz    Virgil  \n",
       "987      988     932       2016  Cucuzzella      Mark  \n",
       "988      989     933       2016      Carron    John B  \n",
       "995      996     940  2015:2016      Larosa      Mark  \n",
       "996      997     941       2015  Williamson   Jerry A  \n",
       "\n",
       "[315 rows x 12 columns]"
      ]
     },
     "execution_count": 110,
     "metadata": {},
     "output_type": "execute_result"
    }
   ],
   "source": [
    "marathon.loc[marathon['Years Ran'].notnull()]"
   ]
  },
  {
   "cell_type": "code",
   "execution_count": 111,
   "id": "5e5fd7e9",
   "metadata": {},
   "outputs": [
    {
     "data": {
      "text/plain": [
       "array([nan, '2015', '2016', '2015:2016'], dtype=object)"
      ]
     },
     "execution_count": 111,
     "metadata": {},
     "output_type": "execute_result"
    }
   ],
   "source": [
    "marathon['Years Ran'].unique()"
   ]
  },
  {
   "cell_type": "code",
   "execution_count": 114,
   "id": "21df6cbf",
   "metadata": {},
   "outputs": [
    {
     "data": {
      "text/html": [
       "<div>\n",
       "<style scoped>\n",
       "    .dataframe tbody tr th:only-of-type {\n",
       "        vertical-align: middle;\n",
       "    }\n",
       "\n",
       "    .dataframe tbody tr th {\n",
       "        vertical-align: top;\n",
       "    }\n",
       "\n",
       "    .dataframe thead th {\n",
       "        text-align: right;\n",
       "    }\n",
       "</style>\n",
       "<table border=\"1\" class=\"dataframe\">\n",
       "  <thead>\n",
       "    <tr style=\"text-align: right;\">\n",
       "      <th></th>\n",
       "      <th>2015</th>\n",
       "      <th>2016</th>\n",
       "    </tr>\n",
       "  </thead>\n",
       "  <tbody>\n",
       "    <tr>\n",
       "      <th>0</th>\n",
       "      <td>0</td>\n",
       "      <td>0</td>\n",
       "    </tr>\n",
       "    <tr>\n",
       "      <th>1</th>\n",
       "      <td>0</td>\n",
       "      <td>0</td>\n",
       "    </tr>\n",
       "    <tr>\n",
       "      <th>2</th>\n",
       "      <td>0</td>\n",
       "      <td>0</td>\n",
       "    </tr>\n",
       "    <tr>\n",
       "      <th>3</th>\n",
       "      <td>0</td>\n",
       "      <td>0</td>\n",
       "    </tr>\n",
       "    <tr>\n",
       "      <th>4</th>\n",
       "      <td>1</td>\n",
       "      <td>0</td>\n",
       "    </tr>\n",
       "  </tbody>\n",
       "</table>\n",
       "</div>"
      ],
      "text/plain": [
       "   2015  2016\n",
       "0     0     0\n",
       "1     0     0\n",
       "2     0     0\n",
       "3     0     0\n",
       "4     1     0"
      ]
     },
     "execution_count": 114,
     "metadata": {},
     "output_type": "execute_result"
    }
   ],
   "source": [
    "dummies = marathon['Years Ran'].str.get_dummies(sep=':')\n",
    "dummies.head()"
   ]
  },
  {
   "cell_type": "code",
   "execution_count": 115,
   "id": "1a79cea1",
   "metadata": {},
   "outputs": [],
   "source": [
    "marathon.insert(marathon.columns.get_loc('Years Ran'),'Ran 2015', dummies['2015'])\n",
    "marathon.insert(marathon.columns.get_loc('Years Ran'),'Ran 2016', dummies['2016'] )"
   ]
  },
  {
   "cell_type": "code",
   "execution_count": 116,
   "id": "204c4855",
   "metadata": {},
   "outputs": [
    {
     "data": {
      "text/html": [
       "<div>\n",
       "<style scoped>\n",
       "    .dataframe tbody tr th:only-of-type {\n",
       "        vertical-align: middle;\n",
       "    }\n",
       "\n",
       "    .dataframe tbody tr th {\n",
       "        vertical-align: top;\n",
       "    }\n",
       "\n",
       "    .dataframe thead th {\n",
       "        text-align: right;\n",
       "    }\n",
       "</style>\n",
       "<table border=\"1\" class=\"dataframe\">\n",
       "  <thead>\n",
       "    <tr style=\"text-align: right;\">\n",
       "      <th></th>\n",
       "      <th>Name</th>\n",
       "      <th>Age</th>\n",
       "      <th>M/F</th>\n",
       "      <th>City</th>\n",
       "      <th>State</th>\n",
       "      <th>Country</th>\n",
       "      <th>Official Time</th>\n",
       "      <th>Overall</th>\n",
       "      <th>Gender</th>\n",
       "      <th>Ran 2015</th>\n",
       "      <th>Ran 2016</th>\n",
       "      <th>Years Ran</th>\n",
       "      <th>First Name</th>\n",
       "      <th>Last Name</th>\n",
       "    </tr>\n",
       "  </thead>\n",
       "  <tbody>\n",
       "    <tr>\n",
       "      <th>0</th>\n",
       "      <td>Kirui, Geoffrey</td>\n",
       "      <td>24</td>\n",
       "      <td>M</td>\n",
       "      <td>Keringet</td>\n",
       "      <td>NaN</td>\n",
       "      <td>KEN</td>\n",
       "      <td>2:09:37</td>\n",
       "      <td>1</td>\n",
       "      <td>1</td>\n",
       "      <td>0</td>\n",
       "      <td>0</td>\n",
       "      <td>NaN</td>\n",
       "      <td>Kirui</td>\n",
       "      <td>Geoffrey</td>\n",
       "    </tr>\n",
       "    <tr>\n",
       "      <th>1</th>\n",
       "      <td>Rupp, Galen</td>\n",
       "      <td>30</td>\n",
       "      <td>M</td>\n",
       "      <td>Portland</td>\n",
       "      <td>OR</td>\n",
       "      <td>USA</td>\n",
       "      <td>2:09:58</td>\n",
       "      <td>2</td>\n",
       "      <td>2</td>\n",
       "      <td>0</td>\n",
       "      <td>0</td>\n",
       "      <td>NaN</td>\n",
       "      <td>Rupp</td>\n",
       "      <td>Galen</td>\n",
       "    </tr>\n",
       "    <tr>\n",
       "      <th>2</th>\n",
       "      <td>Osako, Suguru</td>\n",
       "      <td>25</td>\n",
       "      <td>M</td>\n",
       "      <td>Machida-City</td>\n",
       "      <td>NaN</td>\n",
       "      <td>JPN</td>\n",
       "      <td>2:10:28</td>\n",
       "      <td>3</td>\n",
       "      <td>3</td>\n",
       "      <td>0</td>\n",
       "      <td>0</td>\n",
       "      <td>NaN</td>\n",
       "      <td>Osako</td>\n",
       "      <td>Suguru</td>\n",
       "    </tr>\n",
       "    <tr>\n",
       "      <th>3</th>\n",
       "      <td>Biwott, Shadrack</td>\n",
       "      <td>32</td>\n",
       "      <td>M</td>\n",
       "      <td>Mammoth Lakes</td>\n",
       "      <td>CA</td>\n",
       "      <td>USA</td>\n",
       "      <td>2:12:08</td>\n",
       "      <td>4</td>\n",
       "      <td>4</td>\n",
       "      <td>0</td>\n",
       "      <td>0</td>\n",
       "      <td>NaN</td>\n",
       "      <td>Biwott</td>\n",
       "      <td>Shadrack</td>\n",
       "    </tr>\n",
       "    <tr>\n",
       "      <th>4</th>\n",
       "      <td>Chebet, Wilson</td>\n",
       "      <td>31</td>\n",
       "      <td>M</td>\n",
       "      <td>Marakwet</td>\n",
       "      <td>NaN</td>\n",
       "      <td>KEN</td>\n",
       "      <td>2:12:35</td>\n",
       "      <td>5</td>\n",
       "      <td>5</td>\n",
       "      <td>1</td>\n",
       "      <td>0</td>\n",
       "      <td>2015</td>\n",
       "      <td>Chebet</td>\n",
       "      <td>Wilson</td>\n",
       "    </tr>\n",
       "  </tbody>\n",
       "</table>\n",
       "</div>"
      ],
      "text/plain": [
       "               Name  Age M/F           City State Country Official Time  \\\n",
       "0   Kirui, Geoffrey   24   M       Keringet   NaN     KEN       2:09:37   \n",
       "1       Rupp, Galen   30   M       Portland    OR     USA       2:09:58   \n",
       "2     Osako, Suguru   25   M   Machida-City   NaN     JPN       2:10:28   \n",
       "3  Biwott, Shadrack   32   M  Mammoth Lakes    CA     USA       2:12:08   \n",
       "4    Chebet, Wilson   31   M       Marakwet   NaN     KEN       2:12:35   \n",
       "\n",
       "   Overall  Gender  Ran 2015  Ran 2016 Years Ran First Name Last Name  \n",
       "0        1       1         0         0       NaN      Kirui  Geoffrey  \n",
       "1        2       2         0         0       NaN       Rupp     Galen  \n",
       "2        3       3         0         0       NaN      Osako    Suguru  \n",
       "3        4       4         0         0       NaN     Biwott  Shadrack  \n",
       "4        5       5         1         0      2015     Chebet    Wilson  "
      ]
     },
     "execution_count": 116,
     "metadata": {},
     "output_type": "execute_result"
    }
   ],
   "source": [
    "marathon.head()"
   ]
  },
  {
   "cell_type": "code",
   "execution_count": 117,
   "id": "c97ef832",
   "metadata": {},
   "outputs": [
    {
     "data": {
      "text/html": [
       "<div>\n",
       "<style scoped>\n",
       "    .dataframe tbody tr th:only-of-type {\n",
       "        vertical-align: middle;\n",
       "    }\n",
       "\n",
       "    .dataframe tbody tr th {\n",
       "        vertical-align: top;\n",
       "    }\n",
       "\n",
       "    .dataframe thead th {\n",
       "        text-align: right;\n",
       "    }\n",
       "</style>\n",
       "<table border=\"1\" class=\"dataframe\">\n",
       "  <thead>\n",
       "    <tr style=\"text-align: right;\">\n",
       "      <th></th>\n",
       "      <th>Name</th>\n",
       "      <th>Age</th>\n",
       "      <th>M/F</th>\n",
       "      <th>City</th>\n",
       "      <th>State</th>\n",
       "      <th>Country</th>\n",
       "      <th>Official Time</th>\n",
       "      <th>Overall</th>\n",
       "      <th>Gender</th>\n",
       "      <th>Ran 2015</th>\n",
       "      <th>Ran 2016</th>\n",
       "      <th>Years Ran</th>\n",
       "      <th>First Name</th>\n",
       "      <th>Last Name</th>\n",
       "    </tr>\n",
       "  </thead>\n",
       "  <tbody>\n",
       "    <tr>\n",
       "      <th>0</th>\n",
       "      <td>Kirui, Geoffrey</td>\n",
       "      <td>24</td>\n",
       "      <td>M</td>\n",
       "      <td>Keringet</td>\n",
       "      <td>NaN</td>\n",
       "      <td>KEN</td>\n",
       "      <td>2:09:37</td>\n",
       "      <td>1</td>\n",
       "      <td>1</td>\n",
       "      <td>0</td>\n",
       "      <td>0</td>\n",
       "      <td>NaN</td>\n",
       "      <td>Kirui</td>\n",
       "      <td>Geoffrey</td>\n",
       "    </tr>\n",
       "    <tr>\n",
       "      <th>1</th>\n",
       "      <td>Rupp, Galen</td>\n",
       "      <td>30</td>\n",
       "      <td>M</td>\n",
       "      <td>Portland</td>\n",
       "      <td>OR</td>\n",
       "      <td>USA</td>\n",
       "      <td>2:09:58</td>\n",
       "      <td>2</td>\n",
       "      <td>2</td>\n",
       "      <td>0</td>\n",
       "      <td>0</td>\n",
       "      <td>NaN</td>\n",
       "      <td>Rupp</td>\n",
       "      <td>Galen</td>\n",
       "    </tr>\n",
       "    <tr>\n",
       "      <th>2</th>\n",
       "      <td>Osako, Suguru</td>\n",
       "      <td>25</td>\n",
       "      <td>M</td>\n",
       "      <td>Machida-City</td>\n",
       "      <td>NaN</td>\n",
       "      <td>JPN</td>\n",
       "      <td>2:10:28</td>\n",
       "      <td>3</td>\n",
       "      <td>3</td>\n",
       "      <td>0</td>\n",
       "      <td>0</td>\n",
       "      <td>NaN</td>\n",
       "      <td>Osako</td>\n",
       "      <td>Suguru</td>\n",
       "    </tr>\n",
       "    <tr>\n",
       "      <th>3</th>\n",
       "      <td>Biwott, Shadrack</td>\n",
       "      <td>32</td>\n",
       "      <td>M</td>\n",
       "      <td>Mammoth Lakes</td>\n",
       "      <td>CA</td>\n",
       "      <td>USA</td>\n",
       "      <td>2:12:08</td>\n",
       "      <td>4</td>\n",
       "      <td>4</td>\n",
       "      <td>0</td>\n",
       "      <td>0</td>\n",
       "      <td>NaN</td>\n",
       "      <td>Biwott</td>\n",
       "      <td>Shadrack</td>\n",
       "    </tr>\n",
       "    <tr>\n",
       "      <th>5</th>\n",
       "      <td>Abdirahman, Abdi</td>\n",
       "      <td>40</td>\n",
       "      <td>M</td>\n",
       "      <td>Phoenix</td>\n",
       "      <td>AZ</td>\n",
       "      <td>USA</td>\n",
       "      <td>2:12:45</td>\n",
       "      <td>6</td>\n",
       "      <td>6</td>\n",
       "      <td>0</td>\n",
       "      <td>0</td>\n",
       "      <td>NaN</td>\n",
       "      <td>Abdirahman</td>\n",
       "      <td>Abdi</td>\n",
       "    </tr>\n",
       "    <tr>\n",
       "      <th>...</th>\n",
       "      <td>...</td>\n",
       "      <td>...</td>\n",
       "      <td>...</td>\n",
       "      <td>...</td>\n",
       "      <td>...</td>\n",
       "      <td>...</td>\n",
       "      <td>...</td>\n",
       "      <td>...</td>\n",
       "      <td>...</td>\n",
       "      <td>...</td>\n",
       "      <td>...</td>\n",
       "      <td>...</td>\n",
       "      <td>...</td>\n",
       "      <td>...</td>\n",
       "    </tr>\n",
       "    <tr>\n",
       "      <th>994</th>\n",
       "      <td>Mejia Huerta, Bernardo B.</td>\n",
       "      <td>31</td>\n",
       "      <td>M</td>\n",
       "      <td>Mexico City</td>\n",
       "      <td>NaN</td>\n",
       "      <td>MEX</td>\n",
       "      <td>2:56:05</td>\n",
       "      <td>995</td>\n",
       "      <td>939</td>\n",
       "      <td>0</td>\n",
       "      <td>0</td>\n",
       "      <td>NaN</td>\n",
       "      <td>Mejia Huerta</td>\n",
       "      <td>Bernardo B.</td>\n",
       "    </tr>\n",
       "    <tr>\n",
       "      <th>995</th>\n",
       "      <td>Larosa, Mark</td>\n",
       "      <td>38</td>\n",
       "      <td>M</td>\n",
       "      <td>North Andover</td>\n",
       "      <td>MA</td>\n",
       "      <td>USA</td>\n",
       "      <td>2:56:06</td>\n",
       "      <td>996</td>\n",
       "      <td>940</td>\n",
       "      <td>1</td>\n",
       "      <td>1</td>\n",
       "      <td>2015:2016</td>\n",
       "      <td>Larosa</td>\n",
       "      <td>Mark</td>\n",
       "    </tr>\n",
       "    <tr>\n",
       "      <th>997</th>\n",
       "      <td>Mccue, Daniel T</td>\n",
       "      <td>40</td>\n",
       "      <td>M</td>\n",
       "      <td>Arlington</td>\n",
       "      <td>MA</td>\n",
       "      <td>USA</td>\n",
       "      <td>2:56:06</td>\n",
       "      <td>998</td>\n",
       "      <td>942</td>\n",
       "      <td>0</td>\n",
       "      <td>0</td>\n",
       "      <td>NaN</td>\n",
       "      <td>Mccue</td>\n",
       "      <td>Daniel T</td>\n",
       "    </tr>\n",
       "    <tr>\n",
       "      <th>998</th>\n",
       "      <td>Larosa, John</td>\n",
       "      <td>35</td>\n",
       "      <td>M</td>\n",
       "      <td>Danbury</td>\n",
       "      <td>CT</td>\n",
       "      <td>USA</td>\n",
       "      <td>2:56:07</td>\n",
       "      <td>999</td>\n",
       "      <td>943</td>\n",
       "      <td>0</td>\n",
       "      <td>0</td>\n",
       "      <td>NaN</td>\n",
       "      <td>Larosa</td>\n",
       "      <td>John</td>\n",
       "    </tr>\n",
       "    <tr>\n",
       "      <th>999</th>\n",
       "      <td>Sanchez, Sam R</td>\n",
       "      <td>35</td>\n",
       "      <td>M</td>\n",
       "      <td>Santa Fe</td>\n",
       "      <td>NM</td>\n",
       "      <td>USA</td>\n",
       "      <td>2:56:08</td>\n",
       "      <td>1000</td>\n",
       "      <td>944</td>\n",
       "      <td>0</td>\n",
       "      <td>0</td>\n",
       "      <td>NaN</td>\n",
       "      <td>Sanchez</td>\n",
       "      <td>Sam R</td>\n",
       "    </tr>\n",
       "  </tbody>\n",
       "</table>\n",
       "<p>809 rows × 14 columns</p>\n",
       "</div>"
      ],
      "text/plain": [
       "                          Name  Age M/F           City State Country  \\\n",
       "0              Kirui, Geoffrey   24   M       Keringet   NaN     KEN   \n",
       "1                  Rupp, Galen   30   M       Portland    OR     USA   \n",
       "2                Osako, Suguru   25   M   Machida-City   NaN     JPN   \n",
       "3             Biwott, Shadrack   32   M  Mammoth Lakes    CA     USA   \n",
       "5             Abdirahman, Abdi   40   M        Phoenix    AZ     USA   \n",
       "..                         ...  ...  ..            ...   ...     ...   \n",
       "994  Mejia Huerta, Bernardo B.   31   M    Mexico City   NaN     MEX   \n",
       "995               Larosa, Mark   38   M  North Andover    MA     USA   \n",
       "997            Mccue, Daniel T   40   M      Arlington    MA     USA   \n",
       "998               Larosa, John   35   M        Danbury    CT     USA   \n",
       "999             Sanchez, Sam R   35   M       Santa Fe    NM     USA   \n",
       "\n",
       "    Official Time  Overall  Gender  Ran 2015  Ran 2016  Years Ran  \\\n",
       "0         2:09:37        1       1         0         0        NaN   \n",
       "1         2:09:58        2       2         0         0        NaN   \n",
       "2         2:10:28        3       3         0         0        NaN   \n",
       "3         2:12:08        4       4         0         0        NaN   \n",
       "5         2:12:45        6       6         0         0        NaN   \n",
       "..            ...      ...     ...       ...       ...        ...   \n",
       "994       2:56:05      995     939         0         0        NaN   \n",
       "995       2:56:06      996     940         1         1  2015:2016   \n",
       "997       2:56:06      998     942         0         0        NaN   \n",
       "998       2:56:07      999     943         0         0        NaN   \n",
       "999       2:56:08     1000     944         0         0        NaN   \n",
       "\n",
       "       First Name    Last Name  \n",
       "0           Kirui     Geoffrey  \n",
       "1            Rupp        Galen  \n",
       "2           Osako       Suguru  \n",
       "3          Biwott     Shadrack  \n",
       "5      Abdirahman         Abdi  \n",
       "..            ...          ...  \n",
       "994  Mejia Huerta  Bernardo B.  \n",
       "995        Larosa         Mark  \n",
       "997         Mccue     Daniel T  \n",
       "998        Larosa         John  \n",
       "999       Sanchez        Sam R  \n",
       "\n",
       "[809 rows x 14 columns]"
      ]
     },
     "execution_count": 117,
     "metadata": {},
     "output_type": "execute_result"
    }
   ],
   "source": [
    "# Q. which top runners from 2017 also ran in previous 2 marathons?\n",
    "marathon.loc[marathon['Ran 2015']==1 & (marathon['Ran 2016']==1)]"
   ]
  },
  {
   "cell_type": "code",
   "execution_count": 118,
   "id": "0ea2ea16",
   "metadata": {},
   "outputs": [
    {
     "data": {
      "text/plain": [
       "190"
      ]
     },
     "execution_count": 118,
     "metadata": {},
     "output_type": "execute_result"
    }
   ],
   "source": [
    "# Q. cumbers of top runners from 2017 also ran in 2015\n",
    "marathon['Ran 2015'].sum()"
   ]
  },
  {
   "cell_type": "markdown",
   "id": "94d4c90a",
   "metadata": {},
   "source": [
    "### Text Replacement"
   ]
  },
  {
   "cell_type": "code",
   "execution_count": 119,
   "id": "3cc167f0",
   "metadata": {},
   "outputs": [
    {
     "data": {
      "text/plain": [
       "'Welcome to the text manipulation section'"
      ]
     },
     "execution_count": 119,
     "metadata": {},
     "output_type": "execute_result"
    }
   ],
   "source": [
    "s"
   ]
  },
  {
   "cell_type": "code",
   "execution_count": 120,
   "id": "19f93dd2",
   "metadata": {},
   "outputs": [],
   "source": [
    "s += '. This section is about text.'"
   ]
  },
  {
   "cell_type": "code",
   "execution_count": 121,
   "id": "ef4a277b",
   "metadata": {},
   "outputs": [
    {
     "data": {
      "text/plain": [
       "'Welcome to the text manipulation section. This section is about text.'"
      ]
     },
     "execution_count": 121,
     "metadata": {},
     "output_type": "execute_result"
    }
   ],
   "source": [
    "s"
   ]
  },
  {
   "cell_type": "code",
   "execution_count": 122,
   "id": "69e867ff",
   "metadata": {},
   "outputs": [
    {
     "data": {
      "text/plain": [
       "'Welcome to the replaced manipulation section. This section is about replaced.'"
      ]
     },
     "execution_count": 122,
     "metadata": {},
     "output_type": "execute_result"
    }
   ],
   "source": [
    "s.replace('text', 'replaced')"
   ]
  },
  {
   "cell_type": "code",
   "execution_count": 123,
   "id": "7d5d9bd9",
   "metadata": {},
   "outputs": [
    {
     "data": {
      "text/plain": [
       "'Welcome to the text manipulation section. This section is about text.'"
      ]
     },
     "execution_count": 123,
     "metadata": {},
     "output_type": "execute_result"
    }
   ],
   "source": [
    "s"
   ]
  },
  {
   "cell_type": "code",
   "execution_count": 126,
   "id": "2e5df148",
   "metadata": {},
   "outputs": [
    {
     "data": {
      "text/plain": [
       "Male      944\n",
       "Female     56\n",
       "Name: M/F, dtype: int64"
      ]
     },
     "execution_count": 126,
     "metadata": {},
     "output_type": "execute_result"
    }
   ],
   "source": [
    "marathon['M/F'].str.replace('F','Female').replace('M','Male').value_counts()"
   ]
  },
  {
   "cell_type": "code",
   "execution_count": 127,
   "id": "4a0f8f92",
   "metadata": {},
   "outputs": [],
   "source": [
    "marathon['M/F'] = marathon['M/F'].str.replace('F','Female').replace('M','Male')"
   ]
  },
  {
   "cell_type": "code",
   "execution_count": 128,
   "id": "a7421aa7",
   "metadata": {},
   "outputs": [
    {
     "data": {
      "text/html": [
       "<div>\n",
       "<style scoped>\n",
       "    .dataframe tbody tr th:only-of-type {\n",
       "        vertical-align: middle;\n",
       "    }\n",
       "\n",
       "    .dataframe tbody tr th {\n",
       "        vertical-align: top;\n",
       "    }\n",
       "\n",
       "    .dataframe thead th {\n",
       "        text-align: right;\n",
       "    }\n",
       "</style>\n",
       "<table border=\"1\" class=\"dataframe\">\n",
       "  <thead>\n",
       "    <tr style=\"text-align: right;\">\n",
       "      <th></th>\n",
       "      <th>Name</th>\n",
       "      <th>Age</th>\n",
       "      <th>M/F</th>\n",
       "      <th>City</th>\n",
       "      <th>State</th>\n",
       "      <th>Country</th>\n",
       "      <th>Official Time</th>\n",
       "      <th>Overall</th>\n",
       "      <th>Gender</th>\n",
       "      <th>Ran 2015</th>\n",
       "      <th>Ran 2016</th>\n",
       "      <th>Years Ran</th>\n",
       "      <th>First Name</th>\n",
       "      <th>Last Name</th>\n",
       "    </tr>\n",
       "  </thead>\n",
       "  <tbody>\n",
       "    <tr>\n",
       "      <th>0</th>\n",
       "      <td>Kirui, Geoffrey</td>\n",
       "      <td>24</td>\n",
       "      <td>Male</td>\n",
       "      <td>Keringet</td>\n",
       "      <td>NaN</td>\n",
       "      <td>KEN</td>\n",
       "      <td>2:09:37</td>\n",
       "      <td>1</td>\n",
       "      <td>1</td>\n",
       "      <td>0</td>\n",
       "      <td>0</td>\n",
       "      <td>NaN</td>\n",
       "      <td>Kirui</td>\n",
       "      <td>Geoffrey</td>\n",
       "    </tr>\n",
       "    <tr>\n",
       "      <th>1</th>\n",
       "      <td>Rupp, Galen</td>\n",
       "      <td>30</td>\n",
       "      <td>Male</td>\n",
       "      <td>Portland</td>\n",
       "      <td>OR</td>\n",
       "      <td>USA</td>\n",
       "      <td>2:09:58</td>\n",
       "      <td>2</td>\n",
       "      <td>2</td>\n",
       "      <td>0</td>\n",
       "      <td>0</td>\n",
       "      <td>NaN</td>\n",
       "      <td>Rupp</td>\n",
       "      <td>Galen</td>\n",
       "    </tr>\n",
       "    <tr>\n",
       "      <th>2</th>\n",
       "      <td>Osako, Suguru</td>\n",
       "      <td>25</td>\n",
       "      <td>Male</td>\n",
       "      <td>Machida-City</td>\n",
       "      <td>NaN</td>\n",
       "      <td>JPN</td>\n",
       "      <td>2:10:28</td>\n",
       "      <td>3</td>\n",
       "      <td>3</td>\n",
       "      <td>0</td>\n",
       "      <td>0</td>\n",
       "      <td>NaN</td>\n",
       "      <td>Osako</td>\n",
       "      <td>Suguru</td>\n",
       "    </tr>\n",
       "    <tr>\n",
       "      <th>3</th>\n",
       "      <td>Biwott, Shadrack</td>\n",
       "      <td>32</td>\n",
       "      <td>Male</td>\n",
       "      <td>Mammoth Lakes</td>\n",
       "      <td>CA</td>\n",
       "      <td>USA</td>\n",
       "      <td>2:12:08</td>\n",
       "      <td>4</td>\n",
       "      <td>4</td>\n",
       "      <td>0</td>\n",
       "      <td>0</td>\n",
       "      <td>NaN</td>\n",
       "      <td>Biwott</td>\n",
       "      <td>Shadrack</td>\n",
       "    </tr>\n",
       "    <tr>\n",
       "      <th>4</th>\n",
       "      <td>Chebet, Wilson</td>\n",
       "      <td>31</td>\n",
       "      <td>Male</td>\n",
       "      <td>Marakwet</td>\n",
       "      <td>NaN</td>\n",
       "      <td>KEN</td>\n",
       "      <td>2:12:35</td>\n",
       "      <td>5</td>\n",
       "      <td>5</td>\n",
       "      <td>1</td>\n",
       "      <td>0</td>\n",
       "      <td>2015</td>\n",
       "      <td>Chebet</td>\n",
       "      <td>Wilson</td>\n",
       "    </tr>\n",
       "    <tr>\n",
       "      <th>...</th>\n",
       "      <td>...</td>\n",
       "      <td>...</td>\n",
       "      <td>...</td>\n",
       "      <td>...</td>\n",
       "      <td>...</td>\n",
       "      <td>...</td>\n",
       "      <td>...</td>\n",
       "      <td>...</td>\n",
       "      <td>...</td>\n",
       "      <td>...</td>\n",
       "      <td>...</td>\n",
       "      <td>...</td>\n",
       "      <td>...</td>\n",
       "      <td>...</td>\n",
       "    </tr>\n",
       "    <tr>\n",
       "      <th>995</th>\n",
       "      <td>Larosa, Mark</td>\n",
       "      <td>38</td>\n",
       "      <td>Male</td>\n",
       "      <td>North Andover</td>\n",
       "      <td>MA</td>\n",
       "      <td>USA</td>\n",
       "      <td>2:56:06</td>\n",
       "      <td>996</td>\n",
       "      <td>940</td>\n",
       "      <td>1</td>\n",
       "      <td>1</td>\n",
       "      <td>2015:2016</td>\n",
       "      <td>Larosa</td>\n",
       "      <td>Mark</td>\n",
       "    </tr>\n",
       "    <tr>\n",
       "      <th>996</th>\n",
       "      <td>Williamson, Jerry A</td>\n",
       "      <td>43</td>\n",
       "      <td>Male</td>\n",
       "      <td>Raleigh</td>\n",
       "      <td>NC</td>\n",
       "      <td>USA</td>\n",
       "      <td>2:56:06</td>\n",
       "      <td>997</td>\n",
       "      <td>941</td>\n",
       "      <td>1</td>\n",
       "      <td>0</td>\n",
       "      <td>2015</td>\n",
       "      <td>Williamson</td>\n",
       "      <td>Jerry A</td>\n",
       "    </tr>\n",
       "    <tr>\n",
       "      <th>997</th>\n",
       "      <td>Mccue, Daniel T</td>\n",
       "      <td>40</td>\n",
       "      <td>Male</td>\n",
       "      <td>Arlington</td>\n",
       "      <td>MA</td>\n",
       "      <td>USA</td>\n",
       "      <td>2:56:06</td>\n",
       "      <td>998</td>\n",
       "      <td>942</td>\n",
       "      <td>0</td>\n",
       "      <td>0</td>\n",
       "      <td>NaN</td>\n",
       "      <td>Mccue</td>\n",
       "      <td>Daniel T</td>\n",
       "    </tr>\n",
       "    <tr>\n",
       "      <th>998</th>\n",
       "      <td>Larosa, John</td>\n",
       "      <td>35</td>\n",
       "      <td>Male</td>\n",
       "      <td>Danbury</td>\n",
       "      <td>CT</td>\n",
       "      <td>USA</td>\n",
       "      <td>2:56:07</td>\n",
       "      <td>999</td>\n",
       "      <td>943</td>\n",
       "      <td>0</td>\n",
       "      <td>0</td>\n",
       "      <td>NaN</td>\n",
       "      <td>Larosa</td>\n",
       "      <td>John</td>\n",
       "    </tr>\n",
       "    <tr>\n",
       "      <th>999</th>\n",
       "      <td>Sanchez, Sam R</td>\n",
       "      <td>35</td>\n",
       "      <td>Male</td>\n",
       "      <td>Santa Fe</td>\n",
       "      <td>NM</td>\n",
       "      <td>USA</td>\n",
       "      <td>2:56:08</td>\n",
       "      <td>1000</td>\n",
       "      <td>944</td>\n",
       "      <td>0</td>\n",
       "      <td>0</td>\n",
       "      <td>NaN</td>\n",
       "      <td>Sanchez</td>\n",
       "      <td>Sam R</td>\n",
       "    </tr>\n",
       "  </tbody>\n",
       "</table>\n",
       "<p>1000 rows × 14 columns</p>\n",
       "</div>"
      ],
      "text/plain": [
       "                    Name  Age   M/F           City State Country  \\\n",
       "0        Kirui, Geoffrey   24  Male       Keringet   NaN     KEN   \n",
       "1            Rupp, Galen   30  Male       Portland    OR     USA   \n",
       "2          Osako, Suguru   25  Male   Machida-City   NaN     JPN   \n",
       "3       Biwott, Shadrack   32  Male  Mammoth Lakes    CA     USA   \n",
       "4         Chebet, Wilson   31  Male       Marakwet   NaN     KEN   \n",
       "..                   ...  ...   ...            ...   ...     ...   \n",
       "995         Larosa, Mark   38  Male  North Andover    MA     USA   \n",
       "996  Williamson, Jerry A   43  Male        Raleigh    NC     USA   \n",
       "997      Mccue, Daniel T   40  Male      Arlington    MA     USA   \n",
       "998         Larosa, John   35  Male        Danbury    CT     USA   \n",
       "999       Sanchez, Sam R   35  Male       Santa Fe    NM     USA   \n",
       "\n",
       "    Official Time  Overall  Gender  Ran 2015  Ran 2016  Years Ran  First Name  \\\n",
       "0         2:09:37        1       1         0         0        NaN       Kirui   \n",
       "1         2:09:58        2       2         0         0        NaN        Rupp   \n",
       "2         2:10:28        3       3         0         0        NaN       Osako   \n",
       "3         2:12:08        4       4         0         0        NaN      Biwott   \n",
       "4         2:12:35        5       5         1         0       2015      Chebet   \n",
       "..            ...      ...     ...       ...       ...        ...         ...   \n",
       "995       2:56:06      996     940         1         1  2015:2016      Larosa   \n",
       "996       2:56:06      997     941         1         0       2015  Williamson   \n",
       "997       2:56:06      998     942         0         0        NaN       Mccue   \n",
       "998       2:56:07      999     943         0         0        NaN      Larosa   \n",
       "999       2:56:08     1000     944         0         0        NaN     Sanchez   \n",
       "\n",
       "    Last Name  \n",
       "0    Geoffrey  \n",
       "1       Galen  \n",
       "2      Suguru  \n",
       "3    Shadrack  \n",
       "4      Wilson  \n",
       "..        ...  \n",
       "995      Mark  \n",
       "996   Jerry A  \n",
       "997  Daniel T  \n",
       "998      John  \n",
       "999     Sam R  \n",
       "\n",
       "[1000 rows x 14 columns]"
      ]
     },
     "execution_count": 128,
     "metadata": {},
     "output_type": "execute_result"
    }
   ],
   "source": [
    "marathon"
   ]
  },
  {
   "cell_type": "code",
   "execution_count": 129,
   "id": "e96a6c3b",
   "metadata": {},
   "outputs": [],
   "source": [
    "# case-insensitive replacement"
   ]
  },
  {
   "cell_type": "code",
   "execution_count": 132,
   "id": "386fcce5",
   "metadata": {},
   "outputs": [
    {
     "data": {
      "text/plain": [
       "0                KEN\n",
       "1      United States\n",
       "2                JPN\n",
       "3      United States\n",
       "4                KEN\n",
       "           ...      \n",
       "995    United States\n",
       "996    United States\n",
       "997    United States\n",
       "998    United States\n",
       "999    United States\n",
       "Name: Country, Length: 1000, dtype: object"
      ]
     },
     "execution_count": 132,
     "metadata": {},
     "output_type": "execute_result"
    }
   ],
   "source": [
    "marathon.Country.str.replace('UsA','United States', case=False)"
   ]
  },
  {
   "cell_type": "markdown",
   "id": "24175c72",
   "metadata": {},
   "source": [
    "### Introduction to Regex"
   ]
  },
  {
   "cell_type": "code",
   "execution_count": 137,
   "id": "0662063b",
   "metadata": {},
   "outputs": [],
   "source": [
    "# Playground -  https://regex101.com"
   ]
  },
  {
   "cell_type": "code",
   "execution_count": 139,
   "id": "b4390ed5",
   "metadata": {},
   "outputs": [],
   "source": [
    "#### Meta Sequences:\n",
    "# \\d matches [0-9]\n",
    "# \\s matches [\\r\\t\\n ]\n",
    "# \\w matches [a-zA-Z0-9]\n",
    "# . matches every character except /n\n",
    "#  \\. to match .\n",
    "# Changing w,s,d to uppercase will match opposites/complement.\n",
    "\n",
    "#### Quantifiers:\n",
    "# + one or more characters\n",
    "# ? zero or one character\n",
    "# {3,4} 3 to 4 characters.\n",
    "# * zero or more characters."
   ]
  },
  {
   "cell_type": "markdown",
   "id": "7eead071",
   "metadata": {},
   "source": [
    "### Advanced Concepts:"
   ]
  },
  {
   "cell_type": "code",
   "execution_count": 141,
   "id": "219306e8",
   "metadata": {},
   "outputs": [],
   "source": [
    "# Character sets/classes: [Am] = A or m , \n",
    "# [dl]ogs = dogs/logs, [^dl]ogs = except d/l\n",
    "# [b-i]ogs = b,c,d,e,f,g,h,i\n",
    "# [a-zA-Z]+ = all words"
   ]
  },
  {
   "cell_type": "code",
   "execution_count": 142,
   "id": "926e48dd",
   "metadata": {},
   "outputs": [],
   "source": [
    "# Groups:\n",
    "# capture those matches.\n",
    "# () = everything\n",
    "# (m) = all the letters m\n",
    "# (\\w+er) = all words ending with er.\n",
    "# (\\w+er) \\1 = \\1 matches another sequence of first capturing gorup."
   ]
  },
  {
   "cell_type": "code",
   "execution_count": 176,
   "id": "d581b7ea",
   "metadata": {},
   "outputs": [],
   "source": [
    "# Anchors:\n",
    "# ^ : matches at the beginning\n",
    "# $ : matches at the end\n",
    "# \\b : word boundry\n",
    "# \\B : non-word boundry"
   ]
  },
  {
   "cell_type": "code",
   "execution_count": 144,
   "id": "ce3e05b3",
   "metadata": {},
   "outputs": [],
   "source": [
    "# just search online for common use cases:\n",
    "# password: \n",
    "# ^(?-.*[a-zA-z])(?-.*\\d)[A-Za-z\\d]{10,}$"
   ]
  },
  {
   "cell_type": "markdown",
   "id": "e55efbf4",
   "metadata": {},
   "source": [
    "### Validating Email"
   ]
  },
  {
   "cell_type": "code",
   "execution_count": 145,
   "id": "ee3cd684",
   "metadata": {},
   "outputs": [],
   "source": [
    "import re"
   ]
  },
  {
   "cell_type": "code",
   "execution_count": 161,
   "id": "1056ac0a",
   "metadata": {},
   "outputs": [],
   "source": [
    "pattern = r\"\\w\\S*@.*\\w\""
   ]
  },
  {
   "cell_type": "code",
   "execution_count": 147,
   "id": "1f5947bc",
   "metadata": {},
   "outputs": [
    {
     "data": {
      "text/plain": [
       "['andy@howtopandas.com']"
      ]
     },
     "execution_count": 147,
     "metadata": {},
     "output_type": "execute_result"
    }
   ],
   "source": [
    "re.findall(pattern, ' andy@howtopandas.com')"
   ]
  },
  {
   "cell_type": "code",
   "execution_count": 148,
   "id": "e07eb803",
   "metadata": {},
   "outputs": [
    {
     "data": {
      "text/plain": [
       "[]"
      ]
     },
     "execution_count": 148,
     "metadata": {},
     "output_type": "execute_result"
    }
   ],
   "source": [
    "re.findall(pattern, ' @howtopandas.com')"
   ]
  },
  {
   "cell_type": "code",
   "execution_count": 149,
   "id": "a550f576",
   "metadata": {},
   "outputs": [],
   "source": [
    "# andy@gmail.com => ****@gmail.com"
   ]
  },
  {
   "cell_type": "code",
   "execution_count": 150,
   "id": "6df2c4ac",
   "metadata": {},
   "outputs": [],
   "source": [
    "# 1. start with an actually valid email\n",
    "# 2. capture the domain part of email\n",
    "# 3. Replace everything except the captured group."
   ]
  },
  {
   "cell_type": "code",
   "execution_count": 151,
   "id": "3a615d7a",
   "metadata": {},
   "outputs": [],
   "source": [
    "email = 'andy@howtopanadas.com'"
   ]
  },
  {
   "cell_type": "code",
   "execution_count": 160,
   "id": "6d9912f0",
   "metadata": {},
   "outputs": [],
   "source": [
    "pattern_two = r\"\\w\\S*(@.*\\w)\""
   ]
  },
  {
   "cell_type": "code",
   "execution_count": 155,
   "id": "092fe739",
   "metadata": {},
   "outputs": [
    {
     "data": {
      "text/plain": [
       "'*****@howtopanadas.com'"
      ]
     },
     "execution_count": 155,
     "metadata": {},
     "output_type": "execute_result"
    }
   ],
   "source": [
    "re.sub(pattern, r\"*****\\1\", email) # \\1 means don't replace first group"
   ]
  },
  {
   "cell_type": "code",
   "execution_count": 156,
   "id": "65116037",
   "metadata": {},
   "outputs": [],
   "source": [
    "# emailregex website checkout for use."
   ]
  },
  {
   "cell_type": "code",
   "execution_count": 157,
   "id": "b0c0c88a",
   "metadata": {},
   "outputs": [],
   "source": [
    "robust_pattern = re.compile(r\"(^[a-zA-Z0-9_.+-]+@[a-zA-Z0-9-]+\\.[a-zA-Z0-9-.]+$)\")"
   ]
  },
  {
   "cell_type": "code",
   "execution_count": 158,
   "id": "6e736a13",
   "metadata": {},
   "outputs": [],
   "source": [
    "email2 = 'andy@andy@andy.com'"
   ]
  },
  {
   "cell_type": "code",
   "execution_count": 162,
   "id": "c3c3de9c",
   "metadata": {},
   "outputs": [
    {
     "data": {
      "text/plain": [
       "['andy@andy@andy.com']"
      ]
     },
     "execution_count": 162,
     "metadata": {},
     "output_type": "execute_result"
    }
   ],
   "source": [
    "re.findall(pattern,email2)"
   ]
  },
  {
   "cell_type": "code",
   "execution_count": 163,
   "id": "3623bf62",
   "metadata": {},
   "outputs": [
    {
     "data": {
      "text/plain": [
       "['@andy.com']"
      ]
     },
     "execution_count": 163,
     "metadata": {},
     "output_type": "execute_result"
    }
   ],
   "source": [
    "re.findall(pattern_two, email2)"
   ]
  },
  {
   "cell_type": "code",
   "execution_count": 164,
   "id": "e57e9996",
   "metadata": {},
   "outputs": [
    {
     "data": {
      "text/plain": [
       "[]"
      ]
     },
     "execution_count": 164,
     "metadata": {},
     "output_type": "execute_result"
    }
   ],
   "source": [
    "re.findall(robust_pattern, email2)"
   ]
  },
  {
   "cell_type": "markdown",
   "id": "7724d56b",
   "metadata": {},
   "source": [
    "### What is use of re.compile()"
   ]
  },
  {
   "cell_type": "code",
   "execution_count": 166,
   "id": "bbdcbe57",
   "metadata": {},
   "outputs": [],
   "source": [
    "# re.compile() cached the regex, hence it was faster.\n",
    "# since python 2+, pattern is compiled and cached automatically\n",
    "# for a maximum of 100 regexes, by default.\n",
    "# if you are working with more than 100 regexes, and accessing them frequently,\n",
    "# please compile!"
   ]
  },
  {
   "cell_type": "markdown",
   "id": "7a713c83",
   "metadata": {},
   "source": [
    "### Pandas str contains(), split(), and replace() with Regex"
   ]
  },
  {
   "cell_type": "code",
   "execution_count": 169,
   "id": "0c7c564a",
   "metadata": {},
   "outputs": [
    {
     "data": {
      "text/plain": [
       "93            Vanos, William\n",
       "199        Guzick, William F\n",
       "415          Hartje, William\n",
       "429         Adams, William C\n",
       "456              Cunha, Will\n",
       "526            Swenson, Will\n",
       "571    Gates, William E. Jr.\n",
       "711       Swanson, William G\n",
       "814        Williamson, David\n",
       "835             Vargas, Will\n",
       "892             Rivera, Will\n",
       "897      Feldman, William P.\n",
       "936      Decamps, William M.\n",
       "939        Versen, William R\n",
       "996      Williamson, Jerry A\n",
       "Name: Name, dtype: object"
      ]
     },
     "execution_count": 169,
     "metadata": {},
     "output_type": "execute_result"
    }
   ],
   "source": [
    "marathon.Name[marathon.Name.str.contains('Will')]"
   ]
  },
  {
   "cell_type": "code",
   "execution_count": 171,
   "id": "1832d0a4",
   "metadata": {},
   "outputs": [
    {
     "data": {
      "text/plain": [
       "93            Vanos, William\n",
       "199        Guzick, William F\n",
       "415          Hartje, William\n",
       "429         Adams, William C\n",
       "456              Cunha, Will\n",
       "526            Swenson, Will\n",
       "571    Gates, William E. Jr.\n",
       "711       Swanson, William G\n",
       "814        Williamson, David\n",
       "835             Vargas, Will\n",
       "892             Rivera, Will\n",
       "897      Feldman, William P.\n",
       "936      Decamps, William M.\n",
       "939        Versen, William R\n",
       "996      Williamson, Jerry A\n",
       "Name: Name, dtype: object"
      ]
     },
     "execution_count": 171,
     "metadata": {},
     "output_type": "execute_result"
    }
   ],
   "source": [
    "marathon.Name[marathon.Name.str.contains(r'[wW]ill', regex=True)]"
   ]
  },
  {
   "cell_type": "code",
   "execution_count": 173,
   "id": "5c6aaf8c",
   "metadata": {},
   "outputs": [
    {
     "data": {
      "text/plain": [
       "456      Cunha, Will\n",
       "526    Swenson, Will\n",
       "835     Vargas, Will\n",
       "892     Rivera, Will\n",
       "Name: Name, dtype: object"
      ]
     },
     "execution_count": 173,
     "metadata": {},
     "output_type": "execute_result"
    }
   ],
   "source": [
    "# isolate first name will\n",
    "marathon.Name[marathon.Name.str.contains(r',\\s[wW]ill$', regex=True)]"
   ]
  },
  {
   "cell_type": "code",
   "execution_count": 175,
   "id": "b960eccf",
   "metadata": {},
   "outputs": [
    {
     "data": {
      "text/plain": [
       "456      Cunha, Will\n",
       "526    Swenson, Will\n",
       "835     Vargas, Will\n",
       "892     Rivera, Will\n",
       "Name: Name, dtype: object"
      ]
     },
     "execution_count": 175,
     "metadata": {},
     "output_type": "execute_result"
    }
   ],
   "source": [
    "marathon.Name[marathon.Name.str.contains(r',\\s[wW]ill\\b', regex=True)] # \\b boundry anchor"
   ]
  },
  {
   "cell_type": "code",
   "execution_count": 177,
   "id": "4d35efdd",
   "metadata": {},
   "outputs": [],
   "source": [
    "# split()"
   ]
  },
  {
   "cell_type": "code",
   "execution_count": 178,
   "id": "16517904",
   "metadata": {},
   "outputs": [
    {
     "data": {
      "text/html": [
       "<div>\n",
       "<style scoped>\n",
       "    .dataframe tbody tr th:only-of-type {\n",
       "        vertical-align: middle;\n",
       "    }\n",
       "\n",
       "    .dataframe tbody tr th {\n",
       "        vertical-align: top;\n",
       "    }\n",
       "\n",
       "    .dataframe thead th {\n",
       "        text-align: right;\n",
       "    }\n",
       "</style>\n",
       "<table border=\"1\" class=\"dataframe\">\n",
       "  <thead>\n",
       "    <tr style=\"text-align: right;\">\n",
       "      <th></th>\n",
       "      <th>0</th>\n",
       "      <th>1</th>\n",
       "      <th>2</th>\n",
       "      <th>3</th>\n",
       "      <th>4</th>\n",
       "    </tr>\n",
       "  </thead>\n",
       "  <tbody>\n",
       "    <tr>\n",
       "      <th>0</th>\n",
       "      <td>Kirui,</td>\n",
       "      <td>Geoffrey</td>\n",
       "      <td>None</td>\n",
       "      <td>None</td>\n",
       "      <td>None</td>\n",
       "    </tr>\n",
       "    <tr>\n",
       "      <th>1</th>\n",
       "      <td>Rupp,</td>\n",
       "      <td>Galen</td>\n",
       "      <td>None</td>\n",
       "      <td>None</td>\n",
       "      <td>None</td>\n",
       "    </tr>\n",
       "    <tr>\n",
       "      <th>2</th>\n",
       "      <td>Osako,</td>\n",
       "      <td>Suguru</td>\n",
       "      <td>None</td>\n",
       "      <td>None</td>\n",
       "      <td>None</td>\n",
       "    </tr>\n",
       "    <tr>\n",
       "      <th>3</th>\n",
       "      <td>Biwott,</td>\n",
       "      <td>Shadrack</td>\n",
       "      <td>None</td>\n",
       "      <td>None</td>\n",
       "      <td>None</td>\n",
       "    </tr>\n",
       "    <tr>\n",
       "      <th>4</th>\n",
       "      <td>Chebet,</td>\n",
       "      <td>Wilson</td>\n",
       "      <td>None</td>\n",
       "      <td>None</td>\n",
       "      <td>None</td>\n",
       "    </tr>\n",
       "    <tr>\n",
       "      <th>...</th>\n",
       "      <td>...</td>\n",
       "      <td>...</td>\n",
       "      <td>...</td>\n",
       "      <td>...</td>\n",
       "      <td>...</td>\n",
       "    </tr>\n",
       "    <tr>\n",
       "      <th>995</th>\n",
       "      <td>Larosa,</td>\n",
       "      <td>Mark</td>\n",
       "      <td>None</td>\n",
       "      <td>None</td>\n",
       "      <td>None</td>\n",
       "    </tr>\n",
       "    <tr>\n",
       "      <th>996</th>\n",
       "      <td>Williamson,</td>\n",
       "      <td>Jerry</td>\n",
       "      <td>A</td>\n",
       "      <td>None</td>\n",
       "      <td>None</td>\n",
       "    </tr>\n",
       "    <tr>\n",
       "      <th>997</th>\n",
       "      <td>Mccue,</td>\n",
       "      <td>Daniel</td>\n",
       "      <td>T</td>\n",
       "      <td>None</td>\n",
       "      <td>None</td>\n",
       "    </tr>\n",
       "    <tr>\n",
       "      <th>998</th>\n",
       "      <td>Larosa,</td>\n",
       "      <td>John</td>\n",
       "      <td>None</td>\n",
       "      <td>None</td>\n",
       "      <td>None</td>\n",
       "    </tr>\n",
       "    <tr>\n",
       "      <th>999</th>\n",
       "      <td>Sanchez,</td>\n",
       "      <td>Sam</td>\n",
       "      <td>R</td>\n",
       "      <td>None</td>\n",
       "      <td>None</td>\n",
       "    </tr>\n",
       "  </tbody>\n",
       "</table>\n",
       "<p>1000 rows × 5 columns</p>\n",
       "</div>"
      ],
      "text/plain": [
       "               0         1     2     3     4\n",
       "0         Kirui,  Geoffrey  None  None  None\n",
       "1          Rupp,     Galen  None  None  None\n",
       "2         Osako,    Suguru  None  None  None\n",
       "3        Biwott,  Shadrack  None  None  None\n",
       "4        Chebet,    Wilson  None  None  None\n",
       "..           ...       ...   ...   ...   ...\n",
       "995      Larosa,      Mark  None  None  None\n",
       "996  Williamson,     Jerry     A  None  None\n",
       "997       Mccue,    Daniel     T  None  None\n",
       "998      Larosa,      John  None  None  None\n",
       "999     Sanchez,       Sam     R  None  None\n",
       "\n",
       "[1000 rows x 5 columns]"
      ]
     },
     "execution_count": 178,
     "metadata": {},
     "output_type": "execute_result"
    }
   ],
   "source": [
    "marathon.Name.str.split(expand=True)"
   ]
  },
  {
   "cell_type": "code",
   "execution_count": 179,
   "id": "e983b1c3",
   "metadata": {},
   "outputs": [
    {
     "data": {
      "text/html": [
       "<div>\n",
       "<style scoped>\n",
       "    .dataframe tbody tr th:only-of-type {\n",
       "        vertical-align: middle;\n",
       "    }\n",
       "\n",
       "    .dataframe tbody tr th {\n",
       "        vertical-align: top;\n",
       "    }\n",
       "\n",
       "    .dataframe thead th {\n",
       "        text-align: right;\n",
       "    }\n",
       "</style>\n",
       "<table border=\"1\" class=\"dataframe\">\n",
       "  <thead>\n",
       "    <tr style=\"text-align: right;\">\n",
       "      <th></th>\n",
       "      <th>0</th>\n",
       "      <th>1</th>\n",
       "      <th>2</th>\n",
       "      <th>3</th>\n",
       "      <th>4</th>\n",
       "    </tr>\n",
       "  </thead>\n",
       "  <tbody>\n",
       "    <tr>\n",
       "      <th>0</th>\n",
       "      <td>Kirui,</td>\n",
       "      <td>Geoffrey</td>\n",
       "      <td>None</td>\n",
       "      <td>None</td>\n",
       "      <td>None</td>\n",
       "    </tr>\n",
       "    <tr>\n",
       "      <th>1</th>\n",
       "      <td>Rupp,</td>\n",
       "      <td>Galen</td>\n",
       "      <td>None</td>\n",
       "      <td>None</td>\n",
       "      <td>None</td>\n",
       "    </tr>\n",
       "    <tr>\n",
       "      <th>2</th>\n",
       "      <td>Osako,</td>\n",
       "      <td>Suguru</td>\n",
       "      <td>None</td>\n",
       "      <td>None</td>\n",
       "      <td>None</td>\n",
       "    </tr>\n",
       "    <tr>\n",
       "      <th>3</th>\n",
       "      <td>Biwott,</td>\n",
       "      <td>Shadrack</td>\n",
       "      <td>None</td>\n",
       "      <td>None</td>\n",
       "      <td>None</td>\n",
       "    </tr>\n",
       "    <tr>\n",
       "      <th>4</th>\n",
       "      <td>Chebet,</td>\n",
       "      <td>Wilson</td>\n",
       "      <td>None</td>\n",
       "      <td>None</td>\n",
       "      <td>None</td>\n",
       "    </tr>\n",
       "    <tr>\n",
       "      <th>...</th>\n",
       "      <td>...</td>\n",
       "      <td>...</td>\n",
       "      <td>...</td>\n",
       "      <td>...</td>\n",
       "      <td>...</td>\n",
       "    </tr>\n",
       "    <tr>\n",
       "      <th>995</th>\n",
       "      <td>Larosa,</td>\n",
       "      <td>Mark</td>\n",
       "      <td>None</td>\n",
       "      <td>None</td>\n",
       "      <td>None</td>\n",
       "    </tr>\n",
       "    <tr>\n",
       "      <th>996</th>\n",
       "      <td>Williamson,</td>\n",
       "      <td>Jerry</td>\n",
       "      <td>A</td>\n",
       "      <td>None</td>\n",
       "      <td>None</td>\n",
       "    </tr>\n",
       "    <tr>\n",
       "      <th>997</th>\n",
       "      <td>Mccue,</td>\n",
       "      <td>Daniel</td>\n",
       "      <td>T</td>\n",
       "      <td>None</td>\n",
       "      <td>None</td>\n",
       "    </tr>\n",
       "    <tr>\n",
       "      <th>998</th>\n",
       "      <td>Larosa,</td>\n",
       "      <td>John</td>\n",
       "      <td>None</td>\n",
       "      <td>None</td>\n",
       "      <td>None</td>\n",
       "    </tr>\n",
       "    <tr>\n",
       "      <th>999</th>\n",
       "      <td>Sanchez,</td>\n",
       "      <td>Sam</td>\n",
       "      <td>R</td>\n",
       "      <td>None</td>\n",
       "      <td>None</td>\n",
       "    </tr>\n",
       "  </tbody>\n",
       "</table>\n",
       "<p>1000 rows × 5 columns</p>\n",
       "</div>"
      ],
      "text/plain": [
       "               0         1     2     3     4\n",
       "0         Kirui,  Geoffrey  None  None  None\n",
       "1          Rupp,     Galen  None  None  None\n",
       "2         Osako,    Suguru  None  None  None\n",
       "3        Biwott,  Shadrack  None  None  None\n",
       "4        Chebet,    Wilson  None  None  None\n",
       "..           ...       ...   ...   ...   ...\n",
       "995      Larosa,      Mark  None  None  None\n",
       "996  Williamson,     Jerry     A  None  None\n",
       "997       Mccue,    Daniel     T  None  None\n",
       "998      Larosa,      John  None  None  None\n",
       "999     Sanchez,       Sam     R  None  None\n",
       "\n",
       "[1000 rows x 5 columns]"
      ]
     },
     "execution_count": 179,
     "metadata": {},
     "output_type": "execute_result"
    }
   ],
   "source": [
    "marathon.Name.str.split(r'\\s', expand=True)"
   ]
  },
  {
   "cell_type": "code",
   "execution_count": 180,
   "id": "9503c0f7",
   "metadata": {},
   "outputs": [],
   "source": [
    "# replace()"
   ]
  },
  {
   "cell_type": "code",
   "execution_count": 204,
   "id": "4505e2ca",
   "metadata": {},
   "outputs": [
    {
     "data": {
      "text/plain": [
       "0      2:09:37\n",
       "1      2:09:58\n",
       "2      2:10:28\n",
       "3      2:12:08\n",
       "4      2:12:35\n",
       "        ...   \n",
       "995    2:56:06\n",
       "996    2:56:06\n",
       "997    2:56:06\n",
       "998    2:56:07\n",
       "999    2:56:08\n",
       "Name: Official Time, Length: 1000, dtype: object"
      ]
     },
     "execution_count": 204,
     "metadata": {},
     "output_type": "execute_result"
    }
   ],
   "source": [
    "marathon['Official Time']"
   ]
  },
  {
   "cell_type": "code",
   "execution_count": 182,
   "id": "96a14d2b",
   "metadata": {},
   "outputs": [],
   "source": [
    "# 2:09:16 -> 2 hours 9 mins 16 seconds"
   ]
  },
  {
   "cell_type": "code",
   "execution_count": 205,
   "id": "f0fd7315",
   "metadata": {},
   "outputs": [
    {
     "data": {
      "text/plain": [
       "0      2 hours, 09 minutes 37 seconds\n",
       "1      2 hours, 09 minutes 58 seconds\n",
       "2      2 hours, 10 minutes 28 seconds\n",
       "3      2 hours, 12 minutes 08 seconds\n",
       "4      2 hours, 12 minutes 35 seconds\n",
       "                    ...              \n",
       "995    2 hours, 56 minutes 06 seconds\n",
       "996    2 hours, 56 minutes 06 seconds\n",
       "997    2 hours, 56 minutes 06 seconds\n",
       "998    2 hours, 56 minutes 07 seconds\n",
       "999    2 hours, 56 minutes 08 seconds\n",
       "Name: Official Time, Length: 1000, dtype: object"
      ]
     },
     "execution_count": 205,
     "metadata": {},
     "output_type": "execute_result"
    }
   ],
   "source": [
    "marathon['Official Time'].str.replace(r\"(\\d+):(\\d+):(\\d+)\", r\"\\1 hours, \\2 minutes \\3 seconds\", regex=True)"
   ]
  },
  {
   "cell_type": "markdown",
   "id": "8b835974",
   "metadata": {},
   "source": [
    "### Challenge 2"
   ]
  },
  {
   "cell_type": "code",
   "execution_count": 223,
   "id": "4283656a",
   "metadata": {},
   "outputs": [
    {
     "data": {
      "text/html": [
       "<div>\n",
       "<style scoped>\n",
       "    .dataframe tbody tr th:only-of-type {\n",
       "        vertical-align: middle;\n",
       "    }\n",
       "\n",
       "    .dataframe tbody tr th {\n",
       "        vertical-align: top;\n",
       "    }\n",
       "\n",
       "    .dataframe thead th {\n",
       "        text-align: right;\n",
       "    }\n",
       "</style>\n",
       "<table border=\"1\" class=\"dataframe\">\n",
       "  <thead>\n",
       "    <tr style=\"text-align: right;\">\n",
       "      <th></th>\n",
       "      <th>hours</th>\n",
       "      <th>minutes</th>\n",
       "      <th>seconds</th>\n",
       "    </tr>\n",
       "  </thead>\n",
       "  <tbody>\n",
       "    <tr>\n",
       "      <th>0</th>\n",
       "      <td>2</td>\n",
       "      <td>09</td>\n",
       "      <td>37</td>\n",
       "    </tr>\n",
       "    <tr>\n",
       "      <th>1</th>\n",
       "      <td>2</td>\n",
       "      <td>09</td>\n",
       "      <td>58</td>\n",
       "    </tr>\n",
       "    <tr>\n",
       "      <th>2</th>\n",
       "      <td>2</td>\n",
       "      <td>10</td>\n",
       "      <td>28</td>\n",
       "    </tr>\n",
       "    <tr>\n",
       "      <th>3</th>\n",
       "      <td>2</td>\n",
       "      <td>12</td>\n",
       "      <td>08</td>\n",
       "    </tr>\n",
       "    <tr>\n",
       "      <th>4</th>\n",
       "      <td>2</td>\n",
       "      <td>12</td>\n",
       "      <td>35</td>\n",
       "    </tr>\n",
       "    <tr>\n",
       "      <th>...</th>\n",
       "      <td>...</td>\n",
       "      <td>...</td>\n",
       "      <td>...</td>\n",
       "    </tr>\n",
       "    <tr>\n",
       "      <th>995</th>\n",
       "      <td>2</td>\n",
       "      <td>56</td>\n",
       "      <td>06</td>\n",
       "    </tr>\n",
       "    <tr>\n",
       "      <th>996</th>\n",
       "      <td>2</td>\n",
       "      <td>56</td>\n",
       "      <td>06</td>\n",
       "    </tr>\n",
       "    <tr>\n",
       "      <th>997</th>\n",
       "      <td>2</td>\n",
       "      <td>56</td>\n",
       "      <td>06</td>\n",
       "    </tr>\n",
       "    <tr>\n",
       "      <th>998</th>\n",
       "      <td>2</td>\n",
       "      <td>56</td>\n",
       "      <td>07</td>\n",
       "    </tr>\n",
       "    <tr>\n",
       "      <th>999</th>\n",
       "      <td>2</td>\n",
       "      <td>56</td>\n",
       "      <td>08</td>\n",
       "    </tr>\n",
       "  </tbody>\n",
       "</table>\n",
       "<p>1000 rows × 3 columns</p>\n",
       "</div>"
      ],
      "text/plain": [
       "    hours minutes seconds\n",
       "0       2      09      37\n",
       "1       2      09      58\n",
       "2       2      10      28\n",
       "3       2      12      08\n",
       "4       2      12      35\n",
       "..    ...     ...     ...\n",
       "995     2      56      06\n",
       "996     2      56      06\n",
       "997     2      56      06\n",
       "998     2      56      07\n",
       "999     2      56      08\n",
       "\n",
       "[1000 rows x 3 columns]"
      ]
     },
     "execution_count": 223,
     "metadata": {},
     "output_type": "execute_result"
    }
   ],
   "source": [
    "# 1. Split teh official time into three seperate columns; one each for hours, minutes and seconds. \n",
    "# Store this df in final_times.\n",
    "final_times = pd.DataFrame({'hours':marathon['Official Time'].str.replace(r\"(\\d+):(\\d+):(\\d+)\", r\"\\1\", regex=True),\n",
    "                           'minutes': marathon['Official Time'].str.replace(r\"(\\d+):(\\d+):(\\d+)\", r\"\\2\", regex=True),\n",
    "                           'seconds': marathon['Official Time'].str.replace(r\"(\\d+):(\\d+):(\\d+)\", r\"\\3\", regex=True)})\n",
    "final_times\n",
    "final_times = marathon['Official Time'].str.split(':',expand=True)\n",
    "final_times.columns = ['hours', 'minutes', 'seconds']\n",
    "final_times"
   ]
  },
  {
   "cell_type": "code",
   "execution_count": 224,
   "id": "95e43230",
   "metadata": {},
   "outputs": [
    {
     "data": {
      "text/html": [
       "<div>\n",
       "<style scoped>\n",
       "    .dataframe tbody tr th:only-of-type {\n",
       "        vertical-align: middle;\n",
       "    }\n",
       "\n",
       "    .dataframe tbody tr th {\n",
       "        vertical-align: top;\n",
       "    }\n",
       "\n",
       "    .dataframe thead th {\n",
       "        text-align: right;\n",
       "    }\n",
       "</style>\n",
       "<table border=\"1\" class=\"dataframe\">\n",
       "  <thead>\n",
       "    <tr style=\"text-align: right;\">\n",
       "      <th></th>\n",
       "      <th>Name</th>\n",
       "      <th>Age</th>\n",
       "      <th>M/F</th>\n",
       "      <th>City</th>\n",
       "      <th>State</th>\n",
       "      <th>Country</th>\n",
       "      <th>Official Time</th>\n",
       "      <th>Overall</th>\n",
       "      <th>Gender</th>\n",
       "      <th>Ran 2015</th>\n",
       "      <th>Ran 2016</th>\n",
       "      <th>Years Ran</th>\n",
       "      <th>First Name</th>\n",
       "      <th>Last Name</th>\n",
       "      <th>total_time</th>\n",
       "    </tr>\n",
       "  </thead>\n",
       "  <tbody>\n",
       "    <tr>\n",
       "      <th>0</th>\n",
       "      <td>Kirui, Geoffrey</td>\n",
       "      <td>24</td>\n",
       "      <td>Male</td>\n",
       "      <td>Keringet</td>\n",
       "      <td>NaN</td>\n",
       "      <td>KEN</td>\n",
       "      <td>2:09:37</td>\n",
       "      <td>1</td>\n",
       "      <td>1</td>\n",
       "      <td>0</td>\n",
       "      <td>0</td>\n",
       "      <td>NaN</td>\n",
       "      <td>Kirui</td>\n",
       "      <td>Geoffrey</td>\n",
       "      <td>7777</td>\n",
       "    </tr>\n",
       "    <tr>\n",
       "      <th>1</th>\n",
       "      <td>Rupp, Galen</td>\n",
       "      <td>30</td>\n",
       "      <td>Male</td>\n",
       "      <td>Portland</td>\n",
       "      <td>OR</td>\n",
       "      <td>USA</td>\n",
       "      <td>2:09:58</td>\n",
       "      <td>2</td>\n",
       "      <td>2</td>\n",
       "      <td>0</td>\n",
       "      <td>0</td>\n",
       "      <td>NaN</td>\n",
       "      <td>Rupp</td>\n",
       "      <td>Galen</td>\n",
       "      <td>7798</td>\n",
       "    </tr>\n",
       "    <tr>\n",
       "      <th>2</th>\n",
       "      <td>Osako, Suguru</td>\n",
       "      <td>25</td>\n",
       "      <td>Male</td>\n",
       "      <td>Machida-City</td>\n",
       "      <td>NaN</td>\n",
       "      <td>JPN</td>\n",
       "      <td>2:10:28</td>\n",
       "      <td>3</td>\n",
       "      <td>3</td>\n",
       "      <td>0</td>\n",
       "      <td>0</td>\n",
       "      <td>NaN</td>\n",
       "      <td>Osako</td>\n",
       "      <td>Suguru</td>\n",
       "      <td>7828</td>\n",
       "    </tr>\n",
       "    <tr>\n",
       "      <th>3</th>\n",
       "      <td>Biwott, Shadrack</td>\n",
       "      <td>32</td>\n",
       "      <td>Male</td>\n",
       "      <td>Mammoth Lakes</td>\n",
       "      <td>CA</td>\n",
       "      <td>USA</td>\n",
       "      <td>2:12:08</td>\n",
       "      <td>4</td>\n",
       "      <td>4</td>\n",
       "      <td>0</td>\n",
       "      <td>0</td>\n",
       "      <td>NaN</td>\n",
       "      <td>Biwott</td>\n",
       "      <td>Shadrack</td>\n",
       "      <td>7928</td>\n",
       "    </tr>\n",
       "    <tr>\n",
       "      <th>4</th>\n",
       "      <td>Chebet, Wilson</td>\n",
       "      <td>31</td>\n",
       "      <td>Male</td>\n",
       "      <td>Marakwet</td>\n",
       "      <td>NaN</td>\n",
       "      <td>KEN</td>\n",
       "      <td>2:12:35</td>\n",
       "      <td>5</td>\n",
       "      <td>5</td>\n",
       "      <td>1</td>\n",
       "      <td>0</td>\n",
       "      <td>2015</td>\n",
       "      <td>Chebet</td>\n",
       "      <td>Wilson</td>\n",
       "      <td>7955</td>\n",
       "    </tr>\n",
       "  </tbody>\n",
       "</table>\n",
       "</div>"
      ],
      "text/plain": [
       "               Name  Age   M/F           City State Country Official Time  \\\n",
       "0   Kirui, Geoffrey   24  Male       Keringet   NaN     KEN       2:09:37   \n",
       "1       Rupp, Galen   30  Male       Portland    OR     USA       2:09:58   \n",
       "2     Osako, Suguru   25  Male   Machida-City   NaN     JPN       2:10:28   \n",
       "3  Biwott, Shadrack   32  Male  Mammoth Lakes    CA     USA       2:12:08   \n",
       "4    Chebet, Wilson   31  Male       Marakwet   NaN     KEN       2:12:35   \n",
       "\n",
       "   Overall  Gender  Ran 2015  Ran 2016 Years Ran First Name Last Name  \\\n",
       "0        1       1         0         0       NaN      Kirui  Geoffrey   \n",
       "1        2       2         0         0       NaN       Rupp     Galen   \n",
       "2        3       3         0         0       NaN      Osako    Suguru   \n",
       "3        4       4         0         0       NaN     Biwott  Shadrack   \n",
       "4        5       5         1         0      2015     Chebet    Wilson   \n",
       "\n",
       "   total_time  \n",
       "0        7777  \n",
       "1        7798  \n",
       "2        7828  \n",
       "3        7928  \n",
       "4        7955  "
      ]
     },
     "execution_count": 224,
     "metadata": {},
     "output_type": "execute_result"
    }
   ],
   "source": [
    "# 2. in final_times df, create a new column called total that contains the total time in seconds.\n",
    "# Add total column to marathon df.\n",
    "# for eg. a run time of 2:09:37 would be shown on the total column as 7777.\n",
    "final_times = final_times.astype(int)\n",
    "\n",
    "final_times['total'] = final_times.hours*3600 + final_times.minutes*60 + final_times.seconds\n",
    "final_times\n",
    "marathon['total_time'] = final_times['total']\n",
    "marathon.head()"
   ]
  },
  {
   "cell_type": "code",
   "execution_count": 225,
   "id": "9385c569",
   "metadata": {},
   "outputs": [
    {
     "name": "stdout",
     "output_type": "stream",
     "text": [
      "10043.12048192771\n",
      "9985.35\n"
     ]
    }
   ],
   "source": [
    "# 3. Do the runners in marathon df who also ran in 2016 have a higher/lower average time?\n",
    "print(marathon[marathon['Ran 2016']==1].total_time.mean()) # higher\n",
    "print(marathon.total_time.mean())"
   ]
  },
  {
   "cell_type": "code",
   "execution_count": null,
   "id": "35ce3cfd",
   "metadata": {},
   "outputs": [],
   "source": []
  }
 ],
 "metadata": {
  "kernelspec": {
   "display_name": "Python 3 (ipykernel)",
   "language": "python",
   "name": "python3"
  },
  "language_info": {
   "codemirror_mode": {
    "name": "ipython",
    "version": 3
   },
   "file_extension": ".py",
   "mimetype": "text/x-python",
   "name": "python",
   "nbconvert_exporter": "python",
   "pygments_lexer": "ipython3",
   "version": "3.9.12"
  }
 },
 "nbformat": 4,
 "nbformat_minor": 5
}
