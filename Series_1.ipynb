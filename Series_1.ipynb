{
 "cells": [
  {
   "cell_type": "markdown",
   "id": "de1d7961",
   "metadata": {},
   "source": [
    "### This notebook covers:\n",
    "1. Introduction to pandas first data structure: Series\n",
    "2. Attributes and Methods (focus: selecting from series)"
   ]
  },
  {
   "cell_type": "markdown",
   "id": "835c54d6",
   "metadata": {},
   "source": [
    "### Revision:\n",
    "* Series: \n",
    "    - 1D labeled array of any data type, \n",
    "    - mixed data types allowed, \n",
    "    - dtype('O') = object for hetrogeneous data type in numpy\n",
    "    - s = pd.Series(data=list_of_values, index=list_of_Index(optional), dtype='string/float')\n",
    "* Attributes:\n",
    "    - s.dtype, s.name, s.size, s.shape, s.ndim\n",
    "* Index and RangeIndex\n",
    "*  Accessing elements: \n",
    "    - head(n), tail(n)\n",
    "    - By Index: s[3], s[5:], s[-7:]\n",
    "    - By Label: s['A'], s['A': 'F'], s.A, s.H\n",
    "    - By loc: s.loc['A'], s.loc['A':'D'], s.loc[['A', 'C', 'F']]\n",
    "    - By iloc: s.iloc[3], s.iloc[3:8], s.iloc[[2,5,6]]\n",
    "    - By masking: s.loc[[True if i%2==0 else False for i in range(s.size)]]\n",
    "    - Using callables with loc/iloc: any function which returns list of indexes/labels or boolean mask\n",
    "    - get method: returns default value if label/index doesn't exist. s.get('f',default='Value does not exist')"
   ]
  },
  {
   "cell_type": "code",
   "execution_count": 2,
   "id": "ed2a7248",
   "metadata": {},
   "outputs": [],
   "source": [
    "# Series are - \n",
    "# one dimensional labeled arrays of any data type\n",
    "# Sequence of values with associated labels"
   ]
  },
  {
   "cell_type": "code",
   "execution_count": 1,
   "id": "76edaacb",
   "metadata": {},
   "outputs": [],
   "source": [
    "import pandas as pd"
   ]
  },
  {
   "cell_type": "code",
   "execution_count": 2,
   "id": "a9763535",
   "metadata": {},
   "outputs": [
    {
     "data": {
      "text/plain": [
       "0    Chetan\n",
       "1      John\n",
       "2       Mak\n",
       "dtype: object"
      ]
     },
     "execution_count": 2,
     "metadata": {},
     "output_type": "execute_result"
    }
   ],
   "source": [
    "students = ['Chetan','John','Mak']\n",
    "pd.Series(data=students)   # parameter = data, argument = students"
   ]
  },
  {
   "cell_type": "code",
   "execution_count": 4,
   "id": "931d04bb",
   "metadata": {},
   "outputs": [
    {
     "name": "stdout",
     "output_type": "stream",
     "text": [
      "0    18\n",
      "1    25\n",
      "2    33\n",
      "dtype: int64 RangeIndex(start=0, stop=3, step=1) <class 'pandas.core.indexes.range.RangeIndex'>\n",
      "None int64 1 3 (3,)\n"
     ]
    }
   ],
   "source": [
    "ages = [18,25,33]\n",
    "s = pd.Series(ages)\n",
    "print(s, s.index, type(s.index))\n",
    "print(s.name, s.dtype, s.ndim, s.size, s.shape)"
   ]
  },
  {
   "cell_type": "code",
   "execution_count": 7,
   "id": "438ede5b",
   "metadata": {},
   "outputs": [
    {
     "data": {
      "text/plain": [
       "0    167.3\n",
       "1    172.6\n",
       "2    170.0\n",
       "dtype: float64"
      ]
     },
     "execution_count": 7,
     "metadata": {},
     "output_type": "execute_result"
    }
   ],
   "source": [
    "heights = [167.3, 172.6, 170]\n",
    "pd.Series(heights)"
   ]
  },
  {
   "cell_type": "code",
   "execution_count": 10,
   "id": "21579894",
   "metadata": {},
   "outputs": [
    {
     "data": {
      "text/plain": [
       "0            True\n",
       "1           Hello\n",
       "2    {1: 'value'}\n",
       "dtype: object"
      ]
     },
     "execution_count": 10,
     "metadata": {},
     "output_type": "execute_result"
    }
   ],
   "source": [
    "mixed = [True,'Hello',{1: 'value'}]\n",
    "pd.Series(mixed)                       # mixed data types are allowed in series"
   ]
  },
  {
   "cell_type": "code",
   "execution_count": 13,
   "id": "600ffbb2",
   "metadata": {},
   "outputs": [
    {
     "name": "stdout",
     "output_type": "stream",
     "text": [
      "0             Zero to one\n",
      "1    Fooled by randomness\n",
      "2                 Sapiens\n",
      "dtype: object\n"
     ]
    }
   ],
   "source": [
    "list_of_books = ['Zero to one', 'Fooled by randomness', 'Sapiens']\n",
    "list_a = pd.Series(list_of_books)\n",
    "print(list_a)"
   ]
  },
  {
   "cell_type": "code",
   "execution_count": 19,
   "id": "bcd0e51e",
   "metadata": {},
   "outputs": [
    {
     "name": "stdout",
     "output_type": "stream",
     "text": [
      "0             Zero to one\n",
      "1    Fooled by randomness\n",
      "2                 Sapiens\n",
      "dtype: object\n",
      "True\n"
     ]
    }
   ],
   "source": [
    "dict_of_books = {0:'Zero to one',1:'Fooled by randomness', 2: 'Sapiens'}\n",
    "list_b = pd.Series(dict_of_books)\n",
    "print(list_b)\n",
    "print(list_a.equals(list_b))"
   ]
  },
  {
   "cell_type": "code",
   "execution_count": 20,
   "id": "a6da0fe6",
   "metadata": {},
   "outputs": [
    {
     "name": "stdout",
     "output_type": "stream",
     "text": [
      "0    45\n",
      "dtype: int64\n"
     ]
    },
    {
     "data": {
      "text/plain": [
       "0    example\n",
       "dtype: object"
      ]
     },
     "execution_count": 20,
     "metadata": {},
     "output_type": "execute_result"
    }
   ],
   "source": [
    "print(pd.Series(45))\n",
    "pd.Series('example') # pandas is not critically dependent on labels or implied labels to be provided as inputs."
   ]
  },
  {
   "cell_type": "code",
   "execution_count": 25,
   "id": "c8953f43",
   "metadata": {},
   "outputs": [
    {
     "name": "stdout",
     "output_type": "stream",
     "text": [
      "0    18.0\n",
      "1    25.0\n",
      "2    33.0\n",
      "dtype: float64\n"
     ]
    },
    {
     "data": {
      "text/plain": [
       "dtype('O')"
      ]
     },
     "execution_count": 25,
     "metadata": {},
     "output_type": "execute_result"
    }
   ],
   "source": [
    "# dtype attribute\n",
    "print(pd.Series(data=ages, dtype='float'))\n",
    "pd.Series('hello').dtype"
   ]
  },
  {
   "cell_type": "code",
   "execution_count": 26,
   "id": "5a287297",
   "metadata": {},
   "outputs": [],
   "source": [
    "# dtype('o')\n",
    "# numpy expects homogeneous data type - float\n",
    "# strings are variable length - heterogeneous\n",
    "# numpy stores object reference/pointer to object in memory."
   ]
  },
  {
   "cell_type": "markdown",
   "id": "74df4022",
   "metadata": {},
   "source": [
    "#### Index and RangeIndex"
   ]
  },
  {
   "cell_type": "code",
   "execution_count": 29,
   "id": "5a911658",
   "metadata": {},
   "outputs": [],
   "source": [
    "list_a = pd.Series(data=list_of_books, index=['book1','book2','book3'], dtype='string')"
   ]
  },
  {
   "cell_type": "code",
   "execution_count": 30,
   "id": "0dfa1b6c",
   "metadata": {},
   "outputs": [
    {
     "data": {
      "text/plain": [
       "Index(['book1', 'book2', 'book3'], dtype='object')"
      ]
     },
     "execution_count": 30,
     "metadata": {},
     "output_type": "execute_result"
    }
   ],
   "source": [
    "list_a.index"
   ]
  },
  {
   "cell_type": "code",
   "execution_count": 31,
   "id": "67750aac",
   "metadata": {},
   "outputs": [
    {
     "data": {
      "text/plain": [
       "RangeIndex(start=0, stop=3, step=1)"
      ]
     },
     "execution_count": 31,
     "metadata": {},
     "output_type": "execute_result"
    }
   ],
   "source": [
    "list_b = pd.Series(data=list_of_books, dtype='string')\n",
    "list_b.index"
   ]
  },
  {
   "cell_type": "code",
   "execution_count": 32,
   "id": "e96d7f61",
   "metadata": {},
   "outputs": [
    {
     "data": {
      "text/plain": [
       "[10, 9, 8, 7, 6, 5, 4, 3, 2, 1, 0, -1, -2, -3, -4, -5, -6, -7, -8, -9]"
      ]
     },
     "execution_count": 32,
     "metadata": {},
     "output_type": "execute_result"
    }
   ],
   "source": [
    "list(pd.RangeIndex(start=10,stop=-10,step=-1))"
   ]
  },
  {
   "cell_type": "code",
   "execution_count": 36,
   "id": "fcc6f5f7",
   "metadata": {},
   "outputs": [
    {
     "data": {
      "text/plain": [
       "4             Zero to one\n",
       "5    Fooled by randomness\n",
       "6                 Sapiens\n",
       "dtype: string"
      ]
     },
     "execution_count": 36,
     "metadata": {},
     "output_type": "execute_result"
    }
   ],
   "source": [
    "list_a = pd.Series(data=list_of_books, index=list(pd.RangeIndex(start=4,stop=7,step=1)), dtype='string')\n",
    "list_a"
   ]
  },
  {
   "cell_type": "code",
   "execution_count": 40,
   "id": "b46fcedf",
   "metadata": {},
   "outputs": [
    {
     "name": "stdout",
     "output_type": "stream",
     "text": [
      "3\n",
      "string\n",
      "None\n",
      "My Books\n"
     ]
    },
    {
     "data": {
      "text/plain": [
       "False"
      ]
     },
     "execution_count": 40,
     "metadata": {},
     "output_type": "execute_result"
    }
   ],
   "source": [
    "print(list_a.size)\n",
    "print(list_a.dtype)\n",
    "print(list_a.name)\n",
    "list_a.name = 'My Books'\n",
    "print(list_a.name)\n",
    "list_a.equals(list_b)"
   ]
  },
  {
   "cell_type": "code",
   "execution_count": 43,
   "id": "5caf26bc",
   "metadata": {},
   "outputs": [
    {
     "name": "stdout",
     "output_type": "stream",
     "text": [
      "Hritik     45\n",
      "Sushant    35\n",
      "Ritesh     40\n",
      "Salman     50\n",
      "Name: actors, dtype: int64\n",
      "Hritik     45\n",
      "Sushant    35\n",
      "Ritesh     40\n",
      "Salman     50\n",
      "dtype: int64\n"
     ]
    }
   ],
   "source": [
    "# Challenge 1:\n",
    "actor_names = ['Hritik', 'Sushant', 'Ritesh','Salman']\n",
    "actor_ages = [45,35, 40, 50]\n",
    "actor_series= pd.Series(data=actor_ages, index=actor_names,name='actors')\n",
    "print(actor_series)\n",
    "actors = pd.Series({x:y for x,y in zip(actor_names,actor_ages)})\n",
    "print(actors)"
   ]
  },
  {
   "cell_type": "markdown",
   "id": "4dd4a9db",
   "metadata": {},
   "source": [
    "#### head() and tail() methods"
   ]
  },
  {
   "cell_type": "code",
   "execution_count": 45,
   "id": "b5f9ae0e",
   "metadata": {},
   "outputs": [
    {
     "name": "stdout",
     "output_type": "stream",
     "text": [
      "0      0\n",
      "1      1\n",
      "2      2\n",
      "3      3\n",
      "4      4\n",
      "5      5\n",
      "6      6\n",
      "7      7\n",
      "8      8\n",
      "9      9\n",
      "10    10\n",
      "11    11\n",
      "12    12\n",
      "13    13\n",
      "14    14\n",
      "15    15\n",
      "16    16\n",
      "17    17\n",
      "18    18\n",
      "19    19\n",
      "20    20\n",
      "21    21\n",
      "22    22\n",
      "23    23\n",
      "24    24\n",
      "25    25\n",
      "26    26\n",
      "27    27\n",
      "28    28\n",
      "29    29\n",
      "30    30\n",
      "31    31\n",
      "32    32\n",
      "33    33\n",
      "34    34\n",
      "35    35\n",
      "36    36\n",
      "37    37\n",
      "38    38\n",
      "39    39\n",
      "40    40\n",
      "41    41\n",
      "42    42\n",
      "43    43\n",
      "44    44\n",
      "45    45\n",
      "46    46\n",
      "47    47\n",
      "48    48\n",
      "49    49\n",
      "dtype: int64\n",
      "50\n",
      "45    45\n",
      "46    46\n",
      "47    47\n",
      "48    48\n",
      "49    49\n",
      "dtype: int64\n",
      "0    0\n",
      "1    1\n",
      "2    2\n",
      "3    3\n",
      "4    4\n",
      "dtype: int64\n"
     ]
    }
   ],
   "source": [
    "int_series = pd.Series(range(50))\n",
    "print(int_series)\n",
    "print(int_series.size)\n",
    "print(int_series.tail(5))   # gives last 5 rows by default\n",
    "print(int_series.head(5))   # gives first 5 rows by default"
   ]
  },
  {
   "cell_type": "markdown",
   "id": "a6f90845",
   "metadata": {},
   "source": [
    "#### Accessing elements by index position"
   ]
  },
  {
   "cell_type": "code",
   "execution_count": 55,
   "id": "58dc199a",
   "metadata": {},
   "outputs": [
    {
     "data": {
      "text/plain": [
       "26"
      ]
     },
     "execution_count": 55,
     "metadata": {},
     "output_type": "execute_result"
    }
   ],
   "source": [
    "from string import ascii_lowercase, ascii_uppercase\n",
    "letters = list(ascii_lowercase)\n",
    "alphabet = pd.Series(letters)\n",
    "alphabet.size"
   ]
  },
  {
   "cell_type": "code",
   "execution_count": 49,
   "id": "cceb2ef3",
   "metadata": {},
   "outputs": [
    {
     "data": {
      "text/plain": [
       "0    a\n",
       "1    b\n",
       "2    c\n",
       "3    d\n",
       "4    e\n",
       "dtype: object"
      ]
     },
     "execution_count": 49,
     "metadata": {},
     "output_type": "execute_result"
    }
   ],
   "source": [
    "alphabet.head()"
   ]
  },
  {
   "cell_type": "code",
   "execution_count": 66,
   "id": "09b660e1",
   "metadata": {},
   "outputs": [
    {
     "data": {
      "text/plain": [
       "('b', 'e')"
      ]
     },
     "execution_count": 66,
     "metadata": {},
     "output_type": "execute_result"
    }
   ],
   "source": [
    "alphabet[1], alphabet[4]"
   ]
  },
  {
   "cell_type": "code",
   "execution_count": 60,
   "id": "061a167b",
   "metadata": {},
   "outputs": [
    {
     "name": "stdout",
     "output_type": "stream",
     "text": [
      "k\n",
      "0    a\n",
      "1    b\n",
      "2    c\n",
      "dtype: object\n",
      "5    f\n",
      "6    g\n",
      "7    h\n",
      "8    i\n",
      "9    j\n",
      "dtype: object\n",
      "20    u\n",
      "21    v\n",
      "22    w\n",
      "23    x\n",
      "24    y\n",
      "25    z\n",
      "dtype: object\n"
     ]
    }
   ],
   "source": [
    "# find 11th letter\n",
    "print(alphabet[10])\n",
    "# find first 3 letters\n",
    "print(alphabet[:3])\n",
    "# get 6-10th letters\n",
    "print(alphabet[5:10])\n",
    "# what are the last 6 letters\n",
    "print(alphabet[-6:])"
   ]
  },
  {
   "cell_type": "markdown",
   "id": "f12dcf17",
   "metadata": {},
   "source": [
    "#### Accessing element by label"
   ]
  },
  {
   "cell_type": "code",
   "execution_count": 56,
   "id": "b314255a",
   "metadata": {},
   "outputs": [],
   "source": [
    "labeled_alphabet = pd.Series(data=list(ascii_lowercase),index=list(ascii_uppercase))"
   ]
  },
  {
   "cell_type": "code",
   "execution_count": 68,
   "id": "a3abce0d",
   "metadata": {},
   "outputs": [
    {
     "data": {
      "text/plain": [
       "('a', 'a')"
      ]
     },
     "execution_count": 68,
     "metadata": {},
     "output_type": "execute_result"
    }
   ],
   "source": [
    "labeled_alphabet['A'], labeled_alphabet.A  # slicing not possible with dot notation"
   ]
  },
  {
   "cell_type": "code",
   "execution_count": 61,
   "id": "eada669d",
   "metadata": {},
   "outputs": [
    {
     "name": "stdout",
     "output_type": "stream",
     "text": [
      "k\n",
      "A    a\n",
      "B    b\n",
      "C    c\n",
      "dtype: object\n",
      "F    f\n",
      "G    g\n",
      "H    h\n",
      "I    i\n",
      "J    j\n",
      "dtype: object\n",
      "U    u\n",
      "V    v\n",
      "W    w\n",
      "X    x\n",
      "Y    y\n",
      "Z    z\n",
      "dtype: object\n"
     ]
    }
   ],
   "source": [
    "# find 11th letter\n",
    "print(labeled_alphabet['K'])\n",
    "# find first 3 letters\n",
    "print(labeled_alphabet[:'C'])\n",
    "# get 6-10th letters\n",
    "print(labeled_alphabet['F':'J'])\n",
    "# what are the last 6 letters\n",
    "print(labeled_alphabet['U':])"
   ]
  },
  {
   "cell_type": "markdown",
   "id": "cbfefe83",
   "metadata": {},
   "source": [
    "#### add_prefix() and add_suffix()"
   ]
  },
  {
   "cell_type": "code",
   "execution_count": 63,
   "id": "05bf9a32",
   "metadata": {},
   "outputs": [
    {
     "data": {
      "text/plain": [
       "label_0     a\n",
       "label_1     b\n",
       "label_2     c\n",
       "label_3     d\n",
       "label_4     e\n",
       "label_5     f\n",
       "label_6     g\n",
       "label_7     h\n",
       "label_8     i\n",
       "label_9     j\n",
       "label_10    k\n",
       "label_11    l\n",
       "label_12    m\n",
       "label_13    n\n",
       "label_14    o\n",
       "label_15    p\n",
       "label_16    q\n",
       "label_17    r\n",
       "label_18    s\n",
       "label_19    t\n",
       "label_20    u\n",
       "label_21    v\n",
       "label_22    w\n",
       "label_23    x\n",
       "label_24    y\n",
       "label_25    z\n",
       "dtype: object"
      ]
     },
     "execution_count": 63,
     "metadata": {},
     "output_type": "execute_result"
    }
   ],
   "source": [
    "alphabet.add_prefix('label_')    # not changing original alphabet"
   ]
  },
  {
   "cell_type": "code",
   "execution_count": 64,
   "id": "74c02129",
   "metadata": {},
   "outputs": [
    {
     "data": {
      "text/plain": [
       "0_label     a\n",
       "1_label     b\n",
       "2_label     c\n",
       "3_label     d\n",
       "4_label     e\n",
       "5_label     f\n",
       "6_label     g\n",
       "7_label     h\n",
       "8_label     i\n",
       "9_label     j\n",
       "10_label    k\n",
       "11_label    l\n",
       "12_label    m\n",
       "13_label    n\n",
       "14_label    o\n",
       "15_label    p\n",
       "16_label    q\n",
       "17_label    r\n",
       "18_label    s\n",
       "19_label    t\n",
       "20_label    u\n",
       "21_label    v\n",
       "22_label    w\n",
       "23_label    x\n",
       "24_label    y\n",
       "25_label    z\n",
       "dtype: object"
      ]
     },
     "execution_count": 64,
     "metadata": {},
     "output_type": "execute_result"
    }
   ],
   "source": [
    "alphabet.add_suffix('_label')"
   ]
  },
  {
   "cell_type": "markdown",
   "id": "96df82c6",
   "metadata": {},
   "source": [
    "#### loc"
   ]
  },
  {
   "cell_type": "code",
   "execution_count": 69,
   "id": "2610336f",
   "metadata": {},
   "outputs": [
    {
     "data": {
      "text/plain": [
       "A    a\n",
       "B    b\n",
       "C    c\n",
       "dtype: object"
      ]
     },
     "execution_count": 69,
     "metadata": {},
     "output_type": "execute_result"
    }
   ],
   "source": [
    "labeled_alphabet['A':'C']"
   ]
  },
  {
   "cell_type": "code",
   "execution_count": 71,
   "id": "b97373f0",
   "metadata": {},
   "outputs": [
    {
     "data": {
      "text/plain": [
       "A    a\n",
       "B    b\n",
       "C    c\n",
       "dtype: object"
      ]
     },
     "execution_count": 71,
     "metadata": {},
     "output_type": "execute_result"
    }
   ],
   "source": [
    "labeled_alphabet.loc['A':'C']     # loc is a bit faster than normal slicing"
   ]
  },
  {
   "cell_type": "markdown",
   "id": "0e7a75fa",
   "metadata": {},
   "source": [
    "#### Masks:"
   ]
  },
  {
   "cell_type": "code",
   "execution_count": 73,
   "id": "05a962d4",
   "metadata": {},
   "outputs": [
    {
     "data": {
      "text/plain": [
       "A    a\n",
       "B    b\n",
       "dtype: object"
      ]
     },
     "execution_count": 73,
     "metadata": {},
     "output_type": "execute_result"
    }
   ],
   "source": [
    "labeled_alphabet[:3].loc[[True,True,False]]"
   ]
  },
  {
   "cell_type": "code",
   "execution_count": 76,
   "id": "23fe5e4f",
   "metadata": {},
   "outputs": [
    {
     "data": {
      "text/plain": [
       "0     a\n",
       "4     e\n",
       "8     i\n",
       "14    o\n",
       "20    u\n",
       "dtype: object"
      ]
     },
     "execution_count": 76,
     "metadata": {},
     "output_type": "execute_result"
    }
   ],
   "source": [
    "alpha_mask = []\n",
    "for i in range(26):\n",
    "    if alphabet[i] in 'aeiou':\n",
    "        alpha_mask.append(True)\n",
    "    else:\n",
    "        alpha_mask.append(False)\n",
    "\n",
    "alphabet.loc[alpha_mask]"
   ]
  },
  {
   "cell_type": "code",
   "execution_count": 77,
   "id": "1556ddd3",
   "metadata": {},
   "outputs": [
    {
     "data": {
      "text/plain": [
       "0     a\n",
       "4     e\n",
       "8     i\n",
       "14    o\n",
       "20    u\n",
       "dtype: object"
      ]
     },
     "execution_count": 77,
     "metadata": {},
     "output_type": "execute_result"
    }
   ],
   "source": [
    "alphabet.loc[[True if alphabet[i] in 'aieou' else False for i in range(26)]]"
   ]
  },
  {
   "cell_type": "markdown",
   "id": "4c1548fc",
   "metadata": {},
   "source": [
    "#### iloc:"
   ]
  },
  {
   "cell_type": "code",
   "execution_count": 78,
   "id": "fe93d17e",
   "metadata": {},
   "outputs": [],
   "source": [
    "# loc = indexing by labels\n",
    "# iloc = indexing by position"
   ]
  },
  {
   "cell_type": "code",
   "execution_count": 80,
   "id": "b9f0fa28",
   "metadata": {},
   "outputs": [
    {
     "name": "stdout",
     "output_type": "stream",
     "text": [
      "a\n",
      "1    b\n",
      "2    c\n",
      "dtype: object\n",
      "1     b\n",
      "10    k\n",
      "2     c\n",
      "dtype: object\n"
     ]
    }
   ],
   "source": [
    "print(alphabet.iloc[0])\n",
    "print(alphabet.iloc[1:3])\n",
    "print(alphabet.iloc[[1,10,2]])"
   ]
  },
  {
   "cell_type": "markdown",
   "id": "d3c4709b",
   "metadata": {},
   "source": [
    "#### Using callables with loc and iloc"
   ]
  },
  {
   "cell_type": "code",
   "execution_count": 81,
   "id": "2454b1e1",
   "metadata": {},
   "outputs": [],
   "source": [
    "# A single argument function that returns indexing output"
   ]
  },
  {
   "cell_type": "code",
   "execution_count": 84,
   "id": "65cb6e00",
   "metadata": {},
   "outputs": [
    {
     "data": {
      "text/plain": [
       "A    a\n",
       "C    c\n",
       "dtype: object"
      ]
     },
     "execution_count": 84,
     "metadata": {},
     "output_type": "execute_result"
    }
   ],
   "source": [
    "labeled_alphabet.loc[lambda x: ['A','C']]"
   ]
  },
  {
   "cell_type": "code",
   "execution_count": 89,
   "id": "bc629ebf",
   "metadata": {},
   "outputs": [],
   "source": [
    "def every_fifth(x):\n",
    "    return [True  if (n+1)%5==0 else False for n in range(x.size)]"
   ]
  },
  {
   "cell_type": "code",
   "execution_count": 90,
   "id": "5b7c6b48",
   "metadata": {},
   "outputs": [
    {
     "data": {
      "text/plain": [
       "4     e\n",
       "9     j\n",
       "14    o\n",
       "19    t\n",
       "24    y\n",
       "dtype: object"
      ]
     },
     "execution_count": 90,
     "metadata": {},
     "output_type": "execute_result"
    }
   ],
   "source": [
    "alphabet.iloc[every_fifth]"
   ]
  },
  {
   "cell_type": "markdown",
   "id": "685741b2",
   "metadata": {},
   "source": [
    "#### get() method"
   ]
  },
  {
   "cell_type": "code",
   "execution_count": 96,
   "id": "94055612",
   "metadata": {},
   "outputs": [],
   "source": [
    "# gives default value if index/label doesn't exist"
   ]
  },
  {
   "cell_type": "code",
   "execution_count": 98,
   "id": "c04b16e0",
   "metadata": {},
   "outputs": [
    {
     "name": "stdout",
     "output_type": "stream",
     "text": [
      "a\n",
      "None\n",
      "Provided label does not exist.\n",
      "e\n"
     ]
    }
   ],
   "source": [
    "print(labeled_alphabet.get('A', default = None))\n",
    "print(labeled_alphabet.get('SS'))\n",
    "print(labeled_alphabet.get('SS', default = 'Provided label does not exist.'))\n",
    "print(labeled_alphabet.get(4))"
   ]
  },
  {
   "cell_type": "code",
   "execution_count": 101,
   "id": "71bdfaad",
   "metadata": {},
   "outputs": [
    {
     "name": "stdout",
     "output_type": "stream",
     "text": [
      "97    9409\n",
      "98    9604\n",
      "99    9801\n",
      "dtype: int64\n",
      "97    9409\n",
      "98    9604\n",
      "99    9801\n",
      "dtype: int64\n",
      "True\n"
     ]
    },
    {
     "data": {
      "text/plain": [
       "97    True\n",
       "98    True\n",
       "99    True\n",
       "dtype: bool"
      ]
     },
     "execution_count": 101,
     "metadata": {},
     "output_type": "execute_result"
    }
   ],
   "source": [
    "# Challange:\n",
    "\n",
    "squares = pd.Series([i**2 for i in range(100)])\n",
    "print(squares[-3:])\n",
    "print(squares.tail(3))\n",
    "print(squares.tail(3).equals(squares[-3:]))\n",
    "squares.tail(3)==squares[-3:]"
   ]
  },
  {
   "cell_type": "code",
   "execution_count": null,
   "id": "eb56b886",
   "metadata": {},
   "outputs": [],
   "source": []
  }
 ],
 "metadata": {
  "kernelspec": {
   "display_name": "Python 3 (ipykernel)",
   "language": "python",
   "name": "python3"
  },
  "language_info": {
   "codemirror_mode": {
    "name": "ipython",
    "version": 3
   },
   "file_extension": ".py",
   "mimetype": "text/x-python",
   "name": "python",
   "nbconvert_exporter": "python",
   "pygments_lexer": "ipython3",
   "version": "3.9.12"
  }
 },
 "nbformat": 4,
 "nbformat_minor": 5
}
